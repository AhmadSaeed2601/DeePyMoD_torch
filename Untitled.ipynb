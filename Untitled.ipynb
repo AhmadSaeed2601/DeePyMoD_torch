{
 "cells": [
  {
   "cell_type": "code",
   "execution_count": 1,
   "metadata": {},
   "outputs": [],
   "source": [
    "from utilities import *"
   ]
  },
  {
   "cell_type": "code",
   "execution_count": 2,
   "metadata": {},
   "outputs": [],
   "source": [
    "def library_matrix_mat(u, v, latex=False):\n",
    "    '''\n",
    "    Implements the matrix multiplication for strings and flattens it, mimicing how the library is made.\n",
    "    Set latex=True to obtain latex forms.\n",
    "    '''\n",
    "    comp_list=[]\n",
    "    for u_element in u:\n",
    "        for v_element in v:\n",
    "            if ((u_element == '1') and ('v_element' == '1')):\n",
    "                result = '1'\n",
    "            elif u_element == '1':\n",
    "                result = v_element\n",
    "            elif v_element == '1':\n",
    "                 result = u_element\n",
    "            else:\n",
    "                result = u_element + v_element\n",
    "            comp_list.append(result)\n",
    "    if latex is True:\n",
    "        comp_list = list(map(lambda x: '$'+x+'$', comp_list))\n",
    "    return comp_list\n"
   ]
  },
  {
   "cell_type": "code",
   "execution_count": 3,
   "metadata": {},
   "outputs": [],
   "source": [
    "u = ['1', 'u']\n",
    "v = ['1','v']\n",
    "du = ['1','u_{x}', \"u_{xx}\",  'v_{x}', \"v_{xx}\", \"u_{x} v_{x}\", \"u_{x} v_{xx}\", \"u_{xx} v_{x}\", \"u_{xx} v_{xx}\"]\n",
    "\n",
    "coeffs_list = library_matrix_mat(library_matrix_mat(u,v),du)"
   ]
  },
  {
   "cell_type": "code",
   "execution_count": 7,
   "metadata": {},
   "outputs": [
    {
     "data": {
      "text/plain": [
       "['1',\n",
       " 'u_{x}',\n",
       " 'u_{xx}',\n",
       " 'v_{x}',\n",
       " 'v_{xx}',\n",
       " 'u_{x} v_{x}',\n",
       " 'u_{x} v_{xx}',\n",
       " 'u_{xx} v_{x}',\n",
       " 'u_{xx} v_{xx}',\n",
       " 'v',\n",
       " 'vu_{x}',\n",
       " 'vu_{xx}',\n",
       " 'vv_{x}',\n",
       " 'vv_{xx}',\n",
       " 'vu_{x} v_{x}',\n",
       " 'vu_{x} v_{xx}',\n",
       " 'vu_{xx} v_{x}',\n",
       " 'vu_{xx} v_{xx}',\n",
       " 'u',\n",
       " 'uu_{x}',\n",
       " 'uu_{xx}',\n",
       " 'uv_{x}',\n",
       " 'uv_{xx}',\n",
       " 'uu_{x} v_{x}',\n",
       " 'uu_{x} v_{xx}',\n",
       " 'uu_{xx} v_{x}',\n",
       " 'uu_{xx} v_{xx}',\n",
       " 'uv',\n",
       " 'uvu_{x}',\n",
       " 'uvu_{xx}',\n",
       " 'uvv_{x}',\n",
       " 'uvv_{xx}',\n",
       " 'uvu_{x} v_{x}',\n",
       " 'uvu_{x} v_{xx}',\n",
       " 'uvu_{xx} v_{x}',\n",
       " 'uvu_{xx} v_{xx}']"
      ]
     },
     "execution_count": 7,
     "metadata": {},
     "output_type": "execute_result"
    }
   ],
   "source": [
    "coeffs_list"
   ]
  },
  {
   "cell_type": "code",
   "execution_count": 4,
   "metadata": {},
   "outputs": [],
   "source": [
    "u = ['1', 'u']\n",
    "du = ['1','u_{x}', \"u_{xx}\", \"u_{xxx}\",\"u_{xxxx}\"]\n",
    "\n",
    "coeffs_list = library_matrix_mat(u,du)"
   ]
  },
  {
   "cell_type": "code",
   "execution_count": 5,
   "metadata": {},
   "outputs": [
    {
     "data": {
      "text/plain": [
       "['1',\n",
       " 'u_{x}',\n",
       " 'u_{xx}',\n",
       " 'u_{xxx}',\n",
       " 'u_{xxxx}',\n",
       " 'u',\n",
       " 'uu_{x}',\n",
       " 'uu_{xx}',\n",
       " 'uu_{xxx}',\n",
       " 'uu_{xxxx}']"
      ]
     },
     "execution_count": 5,
     "metadata": {},
     "output_type": "execute_result"
    }
   ],
   "source": [
    "coeffs_list"
   ]
  },
  {
   "cell_type": "code",
   "execution_count": null,
   "metadata": {},
   "outputs": [],
   "source": []
  }
 ],
 "metadata": {
  "kernelspec": {
   "display_name": "Python 3",
   "language": "python",
   "name": "python3"
  },
  "language_info": {
   "codemirror_mode": {
    "name": "ipython",
    "version": 3
   },
   "file_extension": ".py",
   "mimetype": "text/x-python",
   "name": "python",
   "nbconvert_exporter": "python",
   "pygments_lexer": "ipython3",
   "version": "3.6.8"
  }
 },
 "nbformat": 4,
 "nbformat_minor": 2
}
