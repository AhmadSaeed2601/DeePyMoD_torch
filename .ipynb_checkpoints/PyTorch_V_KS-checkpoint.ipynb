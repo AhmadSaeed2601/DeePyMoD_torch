{
 "cells": [
  {
   "cell_type": "code",
   "execution_count": 52,
   "metadata": {},
   "outputs": [
    {
     "name": "stdout",
     "output_type": "stream",
     "text": [
      "The autoreload extension is already loaded. To reload it, use:\n",
      "  %reload_ext autoreload\n"
     ]
    }
   ],
   "source": [
    "import sys\n",
    "sys.path.append('src/')\n",
    "import numpy as np\n",
    "import torch, torch.nn\n",
    "from library_function import library_1D\n",
    "from neural_net import LinNetwork\n",
    "from DeepMod import *\n",
    "import matplotlib.pyplot as plt\n",
    "plt.style.use('seaborn-notebook')\n",
    "import torch.nn as nn\n",
    "from torch.autograd import grad\n",
    "from scipy.io import loadmat\n",
    "from scipy.optimize import curve_fit\n",
    "\n",
    "%load_ext autoreload\n",
    "%autoreload 2"
   ]
  },
  {
   "cell_type": "markdown",
   "metadata": {},
   "source": [
    "# Preparing data"
   ]
  },
  {
   "cell_type": "code",
   "execution_count": 53,
   "metadata": {},
   "outputs": [],
   "source": [
    "data = loadmat('data/Diffusion_reaction_c.mat')\n",
    "usol = np.real(data['Expression1'])\n",
    "usol= usol.reshape((401,501,3))\n",
    "\n",
    "x_v= usol[:,:,0]\n",
    "t_v = usol[:,:,1]\n",
    "y_v = usol[:,:,2]"
   ]
  },
  {
   "cell_type": "markdown",
   "metadata": {},
   "source": [
    "Next we plot the dataset for three different time-points"
   ]
  },
  {
   "cell_type": "markdown",
   "metadata": {},
   "source": [
    "We flatten it to give it the right dimensions for feeding it to the network:"
   ]
  },
  {
   "cell_type": "code",
   "execution_count": 54,
   "metadata": {},
   "outputs": [],
   "source": [
    "X = np.float32(np.transpose((t_v.flatten(),x_v.flatten())))\n",
    "y = np.float32(y_v.reshape((y_v.size, 1)))"
   ]
  },
  {
   "cell_type": "code",
   "execution_count": 55,
   "metadata": {},
   "outputs": [
    {
     "data": {
      "text/plain": [
       "<matplotlib.contour.QuadContourSet at 0x13292f5710>"
      ]
     },
     "execution_count": 55,
     "metadata": {},
     "output_type": "execute_result"
    },
    {
     "data": {
      "image/png": "[encoded data removed]",
      "text/plain": [
       "<Figure size 720x720 with 1 Axes>"
      ]
     },
     "metadata": {
      "needs_background": "light"
     },
     "output_type": "display_data"
    }
   ],
   "source": [
    "fig = plt.subplots(figsize=(10, 10))\n",
    "\n",
    "plt.contourf(x_v, t_v, y_v, cmap='coolwarm')\n"
   ]
  },
  {
   "cell_type": "code",
   "execution_count": null,
   "metadata": {},
   "outputs": [],
   "source": []
  },
  {
   "cell_type": "code",
   "execution_count": 56,
   "metadata": {},
   "outputs": [
    {
     "data": {
      "text/plain": [
       "torch.Size([1000, 2])"
      ]
     },
     "execution_count": 56,
     "metadata": {},
     "output_type": "execute_result"
    }
   ],
   "source": [
    "X_train.shape"
   ]
  },
  {
   "cell_type": "code",
   "execution_count": 57,
   "metadata": {},
   "outputs": [],
   "source": [
    "number_of_samples = 1000\n",
    "\n",
    "idx = np.random.permutation(y_train.shape[0])\n",
    "X_train = torch.tensor(X[idx, :][:number_of_samples], dtype=torch.float32, requires_grad=True)\n",
    "y_train = torch.tensor(y[idx, :][:number_of_samples], dtype=torch.float32)"
   ]
  },
  {
   "cell_type": "code",
   "execution_count": 58,
   "metadata": {},
   "outputs": [],
   "source": [
    "rand_idx= np.where(np.logical_or(X_train[:,1]== X_train[:,1].min(),X_train[:,1]== X_train[:,1].max()))[0]"
   ]
  },
  {
   "cell_type": "code",
   "execution_count": 59,
   "metadata": {},
   "outputs": [
    {
     "data": {
      "text/plain": [
       "array([[ 3.78350585e-44],\n",
       "       [ 3.64337601e-44],\n",
       "       [ 3.50324616e-44],\n",
       "       [ 3.36311631e-44],\n",
       "       [ 3.36311631e-44],\n",
       "       [ 0.00000000e+00],\n",
       "       [ 0.00000000e+00],\n",
       "       [ 0.00000000e+00],\n",
       "       [ 0.00000000e+00],\n",
       "       [-1.23259516e-32],\n",
       "       [ 3.94430453e-31],\n",
       "       [-1.57772181e-30],\n",
       "       [-1.26217745e-29],\n",
       "       [ 0.00000000e+00],\n",
       "       [ 2.01948392e-28],\n",
       "       [ 4.03896783e-28],\n",
       "       [ 8.07793567e-28],\n",
       "       [ 3.23117427e-27],\n",
       "       [ 6.46234854e-27],\n",
       "       [ 6.46234854e-27],\n",
       "       [ 0.00000000e+00],\n",
       "       [ 0.00000000e+00],\n",
       "       [ 1.03397577e-25],\n",
       "       [ 0.00000000e+00],\n",
       "       [ 0.00000000e+00],\n",
       "       [ 0.00000000e+00],\n",
       "       [ 0.00000000e+00],\n",
       "       [ 0.00000000e+00],\n",
       "       [ 0.00000000e+00],\n",
       "       [-3.30872245e-24],\n",
       "       [-9.92616735e-24],\n",
       "       [-1.32348898e-23],\n",
       "       [-1.98523347e-23],\n",
       "       [-2.64697796e-23],\n",
       "       [-2.64697796e-23],\n",
       "       [-2.64697796e-23],\n",
       "       [-5.29395592e-23],\n",
       "       [-7.94093388e-23],\n",
       "       [-1.05879118e-22],\n",
       "       [-1.58818678e-22],\n",
       "       [-1.05879118e-22],\n",
       "       [-2.11758237e-22],\n",
       "       [-1.05879118e-22],\n",
       "       [ 0.00000000e+00],\n",
       "       [ 0.00000000e+00],\n",
       "       [ 0.00000000e+00],\n",
       "       [ 0.00000000e+00],\n",
       "       [ 0.00000000e+00],\n",
       "       [ 0.00000000e+00],\n",
       "       [ 0.00000000e+00],\n",
       "       [ 0.00000000e+00],\n",
       "       [ 0.00000000e+00],\n",
       "       [ 8.47032947e-22],\n",
       "       [ 0.00000000e+00],\n",
       "       [ 8.47032947e-22],\n",
       "       [ 0.00000000e+00],\n",
       "       [ 0.00000000e+00],\n",
       "       [ 0.00000000e+00],\n",
       "       [ 0.00000000e+00],\n",
       "       [-1.69406589e-21],\n",
       "       [ 1.69406589e-21],\n",
       "       [ 0.00000000e+00],\n",
       "       [ 0.00000000e+00],\n",
       "       [ 0.00000000e+00],\n",
       "       [-3.38813179e-21],\n",
       "       [ 0.00000000e+00],\n",
       "       [ 0.00000000e+00],\n",
       "       [ 0.00000000e+00],\n",
       "       [ 0.00000000e+00],\n",
       "       [ 0.00000000e+00],\n",
       "       [ 6.77626358e-21],\n",
       "       [ 0.00000000e+00],\n",
       "       [ 0.00000000e+00],\n",
       "       [ 0.00000000e+00],\n",
       "       [-6.77626358e-21],\n",
       "       [ 0.00000000e+00],\n",
       "       [ 0.00000000e+00],\n",
       "       [ 0.00000000e+00],\n",
       "       [ 0.00000000e+00],\n",
       "       [-1.35525272e-20],\n",
       "       [ 0.00000000e+00],\n",
       "       [ 1.35525272e-20],\n",
       "       [ 0.00000000e+00],\n",
       "       [-1.35525272e-20],\n",
       "       [-1.35525272e-20],\n",
       "       [-2.71050543e-20],\n",
       "       [ 0.00000000e+00],\n",
       "       [ 0.00000000e+00],\n",
       "       [ 0.00000000e+00],\n",
       "       [ 0.00000000e+00],\n",
       "       [ 0.00000000e+00],\n",
       "       [ 0.00000000e+00],\n",
       "       [ 0.00000000e+00],\n",
       "       [ 0.00000000e+00],\n",
       "       [ 0.00000000e+00],\n",
       "       [ 0.00000000e+00],\n",
       "       [ 0.00000000e+00],\n",
       "       [-2.71050543e-20],\n",
       "       [ 0.00000000e+00],\n",
       "       [ 0.00000000e+00],\n",
       "       [ 0.00000000e+00],\n",
       "       [ 0.00000000e+00],\n",
       "       [ 0.00000000e+00],\n",
       "       [ 0.00000000e+00],\n",
       "       [ 0.00000000e+00],\n",
       "       [ 0.00000000e+00],\n",
       "       [ 0.00000000e+00],\n",
       "       [-5.42101086e-20],\n",
       "       [ 0.00000000e+00],\n",
       "       [ 0.00000000e+00],\n",
       "       [-5.42101086e-20],\n",
       "       [ 0.00000000e+00],\n",
       "       [ 0.00000000e+00],\n",
       "       [ 0.00000000e+00],\n",
       "       [-5.42101086e-20],\n",
       "       [ 0.00000000e+00],\n",
       "       [ 0.00000000e+00],\n",
       "       [ 0.00000000e+00],\n",
       "       [ 0.00000000e+00],\n",
       "       [ 0.00000000e+00],\n",
       "       [ 0.00000000e+00],\n",
       "       [ 0.00000000e+00],\n",
       "       [ 0.00000000e+00],\n",
       "       [ 0.00000000e+00],\n",
       "       [ 0.00000000e+00],\n",
       "       [ 0.00000000e+00],\n",
       "       [ 0.00000000e+00],\n",
       "       [ 0.00000000e+00],\n",
       "       [ 0.00000000e+00],\n",
       "       [ 0.00000000e+00],\n",
       "       [ 0.00000000e+00],\n",
       "       [ 0.00000000e+00],\n",
       "       [ 1.08420217e-19],\n",
       "       [ 0.00000000e+00],\n",
       "       [ 0.00000000e+00],\n",
       "       [ 0.00000000e+00],\n",
       "       [ 0.00000000e+00],\n",
       "       [ 0.00000000e+00],\n",
       "       [ 0.00000000e+00],\n",
       "       [ 0.00000000e+00],\n",
       "       [ 0.00000000e+00],\n",
       "       [ 0.00000000e+00],\n",
       "       [ 0.00000000e+00],\n",
       "       [ 0.00000000e+00],\n",
       "       [-1.08420217e-19],\n",
       "       [ 0.00000000e+00],\n",
       "       [ 0.00000000e+00],\n",
       "       [-1.08420217e-19],\n",
       "       [ 0.00000000e+00],\n",
       "       [ 2.16840434e-19],\n",
       "       [ 1.08420217e-19],\n",
       "       [ 0.00000000e+00],\n",
       "       [ 1.08420217e-19],\n",
       "       [ 1.08420217e-19],\n",
       "       [ 1.08420217e-19],\n",
       "       [ 0.00000000e+00],\n",
       "       [ 0.00000000e+00],\n",
       "       [ 0.00000000e+00],\n",
       "       [ 0.00000000e+00],\n",
       "       [ 0.00000000e+00],\n",
       "       [ 0.00000000e+00],\n",
       "       [ 0.00000000e+00],\n",
       "       [ 0.00000000e+00],\n",
       "       [ 0.00000000e+00],\n",
       "       [ 0.00000000e+00],\n",
       "       [ 0.00000000e+00],\n",
       "       [ 0.00000000e+00],\n",
       "       [ 0.00000000e+00],\n",
       "       [ 0.00000000e+00],\n",
       "       [ 0.00000000e+00],\n",
       "       [ 0.00000000e+00],\n",
       "       [ 0.00000000e+00],\n",
       "       [ 0.00000000e+00],\n",
       "       [ 0.00000000e+00],\n",
       "       [ 0.00000000e+00],\n",
       "       [ 0.00000000e+00],\n",
       "       [ 0.00000000e+00],\n",
       "       [ 0.00000000e+00],\n",
       "       [ 0.00000000e+00],\n",
       "       [-2.16840434e-19],\n",
       "       [ 0.00000000e+00],\n",
       "       [ 0.00000000e+00],\n",
       "       [ 0.00000000e+00],\n",
       "       [ 0.00000000e+00],\n",
       "       [ 0.00000000e+00],\n",
       "       [ 2.16840434e-19],\n",
       "       [ 0.00000000e+00],\n",
       "       [ 0.00000000e+00],\n",
       "       [ 0.00000000e+00],\n",
       "       [ 0.00000000e+00],\n",
       "       [-2.16840434e-19],\n",
       "       [ 0.00000000e+00],\n",
       "       [ 0.00000000e+00],\n",
       "       [-2.16840434e-19],\n",
       "       [ 0.00000000e+00],\n",
       "       [ 0.00000000e+00],\n",
       "       [ 0.00000000e+00],\n",
       "       [ 0.00000000e+00],\n",
       "       [ 0.00000000e+00],\n",
       "       [ 0.00000000e+00],\n",
       "       [ 2.16840434e-19],\n",
       "       [ 2.16840434e-19],\n",
       "       [ 0.00000000e+00],\n",
       "       [ 0.00000000e+00],\n",
       "       [ 0.00000000e+00],\n",
       "       [ 0.00000000e+00],\n",
       "       [ 0.00000000e+00],\n",
       "       [ 0.00000000e+00],\n",
       "       [ 0.00000000e+00],\n",
       "       [-2.16840434e-19],\n",
       "       [ 0.00000000e+00],\n",
       "       [ 0.00000000e+00],\n",
       "       [ 2.16840434e-19],\n",
       "       [-2.16840434e-19],\n",
       "       [ 0.00000000e+00],\n",
       "       [ 0.00000000e+00],\n",
       "       [ 0.00000000e+00],\n",
       "       [-2.16840434e-19],\n",
       "       [ 0.00000000e+00],\n",
       "       [ 0.00000000e+00],\n",
       "       [ 0.00000000e+00],\n",
       "       [ 0.00000000e+00],\n",
       "       [ 0.00000000e+00],\n",
       "       [ 2.16840434e-19],\n",
       "       [ 0.00000000e+00],\n",
       "       [ 0.00000000e+00],\n",
       "       [-2.16840434e-19],\n",
       "       [ 0.00000000e+00],\n",
       "       [ 0.00000000e+00],\n",
       "       [ 0.00000000e+00],\n",
       "       [ 0.00000000e+00],\n",
       "       [-2.16840434e-19],\n",
       "       [ 0.00000000e+00],\n",
       "       [-2.16840434e-19],\n",
       "       [ 2.16840434e-19],\n",
       "       [ 0.00000000e+00],\n",
       "       [ 0.00000000e+00],\n",
       "       [ 0.00000000e+00],\n",
       "       [ 0.00000000e+00],\n",
       "       [ 0.00000000e+00],\n",
       "       [ 0.00000000e+00],\n",
       "       [ 0.00000000e+00],\n",
       "       [ 0.00000000e+00],\n",
       "       [ 0.00000000e+00],\n",
       "       [ 0.00000000e+00],\n",
       "       [-2.16840434e-19],\n",
       "       [ 0.00000000e+00],\n",
       "       [ 0.00000000e+00],\n",
       "       [ 0.00000000e+00],\n",
       "       [ 0.00000000e+00],\n",
       "       [ 0.00000000e+00],\n",
       "       [ 0.00000000e+00],\n",
       "       [ 0.00000000e+00],\n",
       "       [ 0.00000000e+00],\n",
       "       [ 0.00000000e+00],\n",
       "       [ 0.00000000e+00],\n",
       "       [ 0.00000000e+00],\n",
       "       [ 0.00000000e+00],\n",
       "       [ 0.00000000e+00],\n",
       "       [ 0.00000000e+00],\n",
       "       [ 0.00000000e+00],\n",
       "       [ 0.00000000e+00],\n",
       "       [ 0.00000000e+00],\n",
       "       [ 0.00000000e+00],\n",
       "       [ 0.00000000e+00],\n",
       "       [ 0.00000000e+00],\n",
       "       [ 0.00000000e+00],\n",
       "       [ 0.00000000e+00],\n",
       "       [ 0.00000000e+00],\n",
       "       [ 0.00000000e+00],\n",
       "       [ 0.00000000e+00],\n",
       "       [ 0.00000000e+00],\n",
       "       [ 0.00000000e+00],\n",
       "       [ 0.00000000e+00],\n",
       "       [ 0.00000000e+00],\n",
       "       [ 0.00000000e+00],\n",
       "       [ 0.00000000e+00],\n",
       "       [ 0.00000000e+00],\n",
       "       [ 0.00000000e+00],\n",
       "       [ 0.00000000e+00],\n",
       "       [ 0.00000000e+00],\n",
       "       [ 0.00000000e+00],\n",
       "       [ 0.00000000e+00],\n",
       "       [ 0.00000000e+00],\n",
       "       [ 0.00000000e+00],\n",
       "       [ 0.00000000e+00],\n",
       "       [ 0.00000000e+00],\n",
       "       [ 0.00000000e+00],\n",
       "       [ 0.00000000e+00],\n",
       "       [ 0.00000000e+00],\n",
       "       [ 0.00000000e+00],\n",
       "       [ 0.00000000e+00],\n",
       "       [ 0.00000000e+00],\n",
       "       [ 0.00000000e+00],\n",
       "       [ 0.00000000e+00],\n",
       "       [ 0.00000000e+00],\n",
       "       [ 0.00000000e+00],\n",
       "       [ 0.00000000e+00],\n",
       "       [ 0.00000000e+00],\n",
       "       [ 0.00000000e+00],\n",
       "       [ 0.00000000e+00],\n",
       "       [ 0.00000000e+00],\n",
       "       [ 0.00000000e+00],\n",
       "       [ 0.00000000e+00],\n",
       "       [ 0.00000000e+00],\n",
       "       [ 0.00000000e+00],\n",
       "       [ 0.00000000e+00],\n",
       "       [ 0.00000000e+00],\n",
       "       [ 0.00000000e+00],\n",
       "       [ 0.00000000e+00],\n",
       "       [ 0.00000000e+00],\n",
       "       [ 0.00000000e+00],\n",
       "       [ 0.00000000e+00],\n",
       "       [ 0.00000000e+00],\n",
       "       [ 0.00000000e+00],\n",
       "       [ 0.00000000e+00],\n",
       "       [ 0.00000000e+00],\n",
       "       [ 0.00000000e+00],\n",
       "       [ 0.00000000e+00],\n",
       "       [ 0.00000000e+00],\n",
       "       [ 0.00000000e+00],\n",
       "       [ 0.00000000e+00],\n",
       "       [ 0.00000000e+00],\n",
       "       [ 0.00000000e+00],\n",
       "       [ 0.00000000e+00],\n",
       "       [ 0.00000000e+00],\n",
       "       [ 0.00000000e+00],\n",
       "       [ 0.00000000e+00],\n",
       "       [ 0.00000000e+00],\n",
       "       [ 0.00000000e+00],\n",
       "       [ 0.00000000e+00],\n",
       "       [ 0.00000000e+00],\n",
       "       [ 0.00000000e+00],\n",
       "       [ 0.00000000e+00],\n",
       "       [ 0.00000000e+00],\n",
       "       [ 0.00000000e+00],\n",
       "       [ 0.00000000e+00],\n",
       "       [ 0.00000000e+00],\n",
       "       [ 0.00000000e+00],\n",
       "       [ 0.00000000e+00],\n",
       "       [ 0.00000000e+00],\n",
       "       [ 0.00000000e+00],\n",
       "       [ 0.00000000e+00],\n",
       "       [ 0.00000000e+00],\n",
       "       [ 0.00000000e+00],\n",
       "       [ 0.00000000e+00],\n",
       "       [ 0.00000000e+00],\n",
       "       [ 0.00000000e+00],\n",
       "       [ 0.00000000e+00],\n",
       "       [ 0.00000000e+00],\n",
       "       [ 0.00000000e+00],\n",
       "       [ 0.00000000e+00],\n",
       "       [ 0.00000000e+00],\n",
       "       [ 0.00000000e+00],\n",
       "       [ 0.00000000e+00],\n",
       "       [ 0.00000000e+00],\n",
       "       [ 0.00000000e+00],\n",
       "       [ 0.00000000e+00],\n",
       "       [ 0.00000000e+00],\n",
       "       [ 0.00000000e+00],\n",
       "       [ 0.00000000e+00],\n",
       "       [ 0.00000000e+00],\n",
       "       [ 0.00000000e+00],\n",
       "       [ 0.00000000e+00],\n",
       "       [ 0.00000000e+00],\n",
       "       [ 0.00000000e+00],\n",
       "       [ 0.00000000e+00],\n",
       "       [ 0.00000000e+00],\n",
       "       [ 0.00000000e+00],\n",
       "       [ 0.00000000e+00],\n",
       "       [ 0.00000000e+00],\n",
       "       [ 0.00000000e+00],\n",
       "       [ 0.00000000e+00],\n",
       "       [ 0.00000000e+00],\n",
       "       [ 0.00000000e+00],\n",
       "       [ 0.00000000e+00],\n",
       "       [ 0.00000000e+00],\n",
       "       [ 0.00000000e+00],\n",
       "       [ 0.00000000e+00],\n",
       "       [ 0.00000000e+00],\n",
       "       [ 0.00000000e+00],\n",
       "       [ 0.00000000e+00],\n",
       "       [ 0.00000000e+00],\n",
       "       [ 0.00000000e+00],\n",
       "       [ 0.00000000e+00],\n",
       "       [ 0.00000000e+00],\n",
       "       [ 0.00000000e+00],\n",
       "       [ 0.00000000e+00],\n",
       "       [ 0.00000000e+00],\n",
       "       [ 0.00000000e+00],\n",
       "       [ 0.00000000e+00],\n",
       "       [ 0.00000000e+00],\n",
       "       [ 0.00000000e+00],\n",
       "       [ 0.00000000e+00],\n",
       "       [ 0.00000000e+00],\n",
       "       [ 0.00000000e+00],\n",
       "       [ 0.00000000e+00],\n",
       "       [ 0.00000000e+00],\n",
       "       [ 0.00000000e+00],\n",
       "       [ 0.00000000e+00],\n",
       "       [ 0.00000000e+00],\n",
       "       [ 0.00000000e+00],\n",
       "       [ 0.00000000e+00],\n",
       "       [ 0.00000000e+00],\n",
       "       [ 0.00000000e+00],\n",
       "       [ 0.00000000e+00],\n",
       "       [ 0.00000000e+00],\n",
       "       [ 0.00000000e+00],\n",
       "       [ 0.00000000e+00],\n",
       "       [ 0.00000000e+00],\n",
       "       [ 0.00000000e+00],\n",
       "       [ 0.00000000e+00],\n",
       "       [ 0.00000000e+00],\n",
       "       [ 0.00000000e+00],\n",
       "       [ 0.00000000e+00],\n",
       "       [ 0.00000000e+00],\n",
       "       [ 0.00000000e+00],\n",
       "       [ 0.00000000e+00],\n",
       "       [ 0.00000000e+00],\n",
       "       [ 0.00000000e+00],\n",
       "       [ 0.00000000e+00],\n",
       "       [ 0.00000000e+00],\n",
       "       [ 0.00000000e+00],\n",
       "       [ 0.00000000e+00],\n",
       "       [ 0.00000000e+00],\n",
       "       [ 0.00000000e+00],\n",
       "       [ 0.00000000e+00],\n",
       "       [ 0.00000000e+00],\n",
       "       [ 0.00000000e+00],\n",
       "       [ 0.00000000e+00],\n",
       "       [ 0.00000000e+00],\n",
       "       [ 0.00000000e+00],\n",
       "       [ 0.00000000e+00],\n",
       "       [ 0.00000000e+00],\n",
       "       [ 0.00000000e+00],\n",
       "       [ 0.00000000e+00],\n",
       "       [ 0.00000000e+00],\n",
       "       [ 0.00000000e+00],\n",
       "       [ 0.00000000e+00],\n",
       "       [ 0.00000000e+00],\n",
       "       [ 0.00000000e+00],\n",
       "       [ 0.00000000e+00],\n",
       "       [ 0.00000000e+00],\n",
       "       [ 0.00000000e+00],\n",
       "       [ 0.00000000e+00],\n",
       "       [ 0.00000000e+00],\n",
       "       [ 0.00000000e+00],\n",
       "       [ 0.00000000e+00],\n",
       "       [ 0.00000000e+00],\n",
       "       [ 0.00000000e+00],\n",
       "       [ 0.00000000e+00],\n",
       "       [ 0.00000000e+00],\n",
       "       [ 0.00000000e+00],\n",
       "       [ 0.00000000e+00],\n",
       "       [ 0.00000000e+00],\n",
       "       [ 0.00000000e+00],\n",
       "       [ 0.00000000e+00],\n",
       "       [ 0.00000000e+00],\n",
       "       [ 0.00000000e+00],\n",
       "       [ 0.00000000e+00],\n",
       "       [ 0.00000000e+00],\n",
       "       [ 0.00000000e+00],\n",
       "       [ 0.00000000e+00],\n",
       "       [ 0.00000000e+00],\n",
       "       [ 0.00000000e+00],\n",
       "       [ 0.00000000e+00],\n",
       "       [ 0.00000000e+00],\n",
       "       [ 0.00000000e+00],\n",
       "       [ 0.00000000e+00],\n",
       "       [ 0.00000000e+00],\n",
       "       [ 0.00000000e+00],\n",
       "       [ 0.00000000e+00],\n",
       "       [ 0.00000000e+00],\n",
       "       [ 0.00000000e+00],\n",
       "       [ 0.00000000e+00],\n",
       "       [ 0.00000000e+00],\n",
       "       [ 0.00000000e+00],\n",
       "       [ 0.00000000e+00],\n",
       "       [ 0.00000000e+00],\n",
       "       [ 0.00000000e+00],\n",
       "       [ 0.00000000e+00],\n",
       "       [ 0.00000000e+00],\n",
       "       [ 0.00000000e+00],\n",
       "       [ 0.00000000e+00],\n",
       "       [ 0.00000000e+00],\n",
       "       [ 0.00000000e+00],\n",
       "       [ 0.00000000e+00],\n",
       "       [ 0.00000000e+00],\n",
       "       [ 0.00000000e+00],\n",
       "       [ 0.00000000e+00],\n",
       "       [ 0.00000000e+00],\n",
       "       [ 0.00000000e+00],\n",
       "       [ 0.00000000e+00],\n",
       "       [ 0.00000000e+00],\n",
       "       [ 0.00000000e+00],\n",
       "       [ 0.00000000e+00],\n",
       "       [ 0.00000000e+00],\n",
       "       [ 0.00000000e+00],\n",
       "       [ 0.00000000e+00],\n",
       "       [ 0.00000000e+00],\n",
       "       [ 0.00000000e+00],\n",
       "       [ 4.22450849e-39],\n",
       "       [ 2.54428664e-35],\n",
       "       [ 2.79257726e-32],\n",
       "       [ 4.12222697e-30],\n",
       "       [ 4.44134949e-28],\n",
       "       [ 7.47114016e-26],\n",
       "       [-7.85915062e-24],\n",
       "       [ 4.91239431e-20],\n",
       "       [ 2.29724145e-18],\n",
       "       [ 3.29139566e-17],\n",
       "       [ 9.30474586e-16],\n",
       "       [ 4.31058751e-15],\n",
       "       [ 1.92643160e-14],\n",
       "       [ 6.76416727e-14],\n",
       "       [ 1.93593852e-13],\n",
       "       [ 5.70293812e-13],\n",
       "       [ 1.40174385e-12],\n",
       "       [ 3.55039977e-12],\n",
       "       [ 7.37366765e-12],\n",
       "       [ 1.63915444e-11],\n",
       "       [ 3.15753812e-11],\n",
       "       [ 6.32277841e-11],\n",
       "       [ 1.14994833e-10],\n",
       "       [ 2.10946274e-10],\n",
       "       [ 3.64560215e-10],\n",
       "       [ 6.60304478e-10],\n",
       "       [ 1.17401311e-09],\n",
       "       [ 1.89694527e-09],\n",
       "       [ 2.95018943e-09],\n",
       "       [ 4.64708227e-09],\n",
       "       [ 6.98085856e-09],\n",
       "       [ 1.00348796e-08],\n",
       "       [ 1.45286130e-08],\n",
       "       [ 2.05814654e-08],\n",
       "       [ 2.81996098e-08],\n",
       "       [ 3.84702865e-08],\n",
       "       [ 5.19622354e-08],\n",
       "       [ 6.86910582e-08],\n",
       "       [ 8.99900030e-08],\n",
       "       [ 1.17791309e-07],\n",
       "       [ 1.52247267e-07],\n",
       "       [ 1.93497968e-07],\n",
       "       [ 2.41889325e-07],\n",
       "       [ 3.01301242e-07],\n",
       "       [ 3.73331488e-07],\n",
       "       [ 4.58206017e-07],\n",
       "       [ 5.56150837e-07],\n",
       "       [ 6.68759128e-07],\n",
       "       [ 8.01197132e-07],\n",
       "       [ 9.54450229e-07],\n",
       "       [ 1.12909947e-06],\n",
       "       [ 1.32572666e-06],\n",
       "       [ 1.54808708e-06],\n",
       "       [ 1.80014615e-06],\n",
       "       [ 2.08302686e-06],\n",
       "       [ 2.39785209e-06],\n",
       "       [ 2.74603440e-06],\n",
       "       [ 3.13186024e-06],\n",
       "       [ 3.55785096e-06],\n",
       "       [ 4.02579963e-06],\n",
       "       [ 4.53749863e-06],\n",
       "       [ 5.09474012e-06],\n",
       "       [ 5.69931717e-06],\n",
       "       [ 6.35309198e-06],\n",
       "       [ 7.05826096e-06],\n",
       "       [ 7.81699691e-06],\n",
       "       [ 8.63146124e-06],\n",
       "       [ 9.50381309e-06],\n",
       "       [ 1.04362152e-05],\n",
       "       [ 1.14308277e-05],\n",
       "       [ 1.24873486e-05],\n",
       "       [ 1.36049293e-05],\n",
       "       [ 1.47860083e-05],\n",
       "       [ 1.60330401e-05],\n",
       "       [ 1.73484787e-05],\n",
       "       [ 1.87347778e-05],\n",
       "       [ 2.01941402e-05],\n",
       "       [ 2.17213292e-05],\n",
       "       [ 2.33151022e-05],\n",
       "       [ 2.49778332e-05],\n",
       "       [ 2.67118903e-05],\n",
       "       [ 2.85196456e-05],\n",
       "       [ 3.04034711e-05],\n",
       "       [ 3.23636632e-05],\n",
       "       [ 3.43891115e-05],\n",
       "       [ 3.64792359e-05],\n",
       "       [ 3.86357970e-05],\n",
       "       [ 4.08605410e-05],\n",
       "       [ 4.31552289e-05],\n",
       "       [ 4.55216068e-05],\n",
       "       [ 4.79614318e-05],\n",
       "       [ 5.04764539e-05],\n",
       "       [ 5.30684301e-05],\n",
       "       [ 5.57328385e-05],\n",
       "       [ 5.84550180e-05],\n",
       "       [ 6.12354343e-05],\n",
       "       [ 6.40753933e-05],\n",
       "       [ 6.69761721e-05],\n",
       "       [ 6.99390584e-05],\n",
       "       [ 7.29653475e-05],\n",
       "       [ 7.60563344e-05],\n",
       "       [ 7.92132996e-05],\n",
       "       [ 8.24375384e-05],\n",
       "       [ 8.57200139e-05],\n",
       "       [ 8.90504016e-05],\n",
       "       [ 9.24289998e-05],\n",
       "       [ 9.58561213e-05],\n",
       "       [ 9.93320646e-05],\n",
       "       [ 1.02857150e-04],\n",
       "       [ 1.06431682e-04],\n",
       "       [ 1.10055960e-04],\n",
       "       [ 1.13730304e-04],\n",
       "       [ 1.17454649e-04],\n",
       "       [ 1.21220095e-04],\n",
       "       [ 1.25022198e-04],\n",
       "       [ 1.28860280e-04],\n",
       "       [ 1.32733650e-04],\n",
       "       [ 1.36641640e-04],\n",
       "       [ 1.40583565e-04],\n",
       "       [ 1.44558740e-04],\n",
       "       [ 1.48566498e-04],\n",
       "       [ 1.52606153e-04],\n",
       "       [ 1.56676571e-04],\n",
       "       [ 1.60773954e-04],\n",
       "       [ 1.64896395e-04],\n",
       "       [ 1.69042512e-04],\n",
       "       [ 1.73210909e-04],\n",
       "       [ 1.77400143e-04],\n",
       "       [ 1.81608848e-04],\n",
       "       [ 1.85835612e-04],\n",
       "       [ 1.90079008e-04],\n",
       "       [ 1.94337656e-04],\n",
       "       [ 1.98610142e-04],\n",
       "       [ 2.02895069e-04],\n",
       "       [ 2.07191028e-04],\n",
       "       [ 2.11496619e-04],\n",
       "       [ 2.15810549e-04],\n",
       "       [ 2.20134272e-04],\n",
       "       [ 2.24467411e-04],\n",
       "       [ 2.28808363e-04],\n",
       "       [ 2.33155515e-04],\n",
       "       [ 2.37507222e-04],\n",
       "       [ 2.41861897e-04],\n",
       "       [ 2.46217911e-04],\n",
       "       [ 2.50573619e-04],\n",
       "       [ 2.54927465e-04],\n",
       "       [ 2.59277760e-04],\n",
       "       [ 2.63622933e-04],\n",
       "       [ 2.67961383e-04],\n",
       "       [ 2.72291421e-04],\n",
       "       [ 2.76611507e-04],\n",
       "       [ 2.80925131e-04],\n",
       "       [ 2.85235961e-04],\n",
       "       [ 2.89542426e-04],\n",
       "       [ 2.93842866e-04],\n",
       "       [ 2.98135652e-04],\n",
       "       [ 3.02419241e-04],\n",
       "       [ 3.06691945e-04],\n",
       "       [ 3.10952222e-04],\n",
       "       [ 3.15198384e-04],\n",
       "       [ 3.19428858e-04],\n",
       "       [ 3.23642045e-04],\n",
       "       [ 3.27836315e-04],\n",
       "       [ 3.32010037e-04],\n",
       "       [ 3.36161640e-04],\n",
       "       [ 3.40293220e-04],\n",
       "       [ 3.44412460e-04],\n",
       "       [ 3.48518370e-04],\n",
       "       [ 3.52609612e-04],\n",
       "       [ 3.56684788e-04],\n",
       "       [ 3.60742473e-04],\n",
       "       [ 3.64781328e-04],\n",
       "       [ 3.68799927e-04],\n",
       "       [ 3.72796931e-04],\n",
       "       [ 3.76770884e-04],\n",
       "       [ 3.80720478e-04],\n",
       "       [ 3.84644256e-04],\n",
       "       [ 3.88540881e-04],\n",
       "       [ 3.92408954e-04],\n",
       "       [ 3.96248972e-04],\n",
       "       [ 4.00070829e-04],\n",
       "       [ 4.03875398e-04],\n",
       "       [ 4.07661631e-04],\n",
       "       [ 4.11428569e-04],\n",
       "       [ 4.15175251e-04],\n",
       "       [ 4.18900629e-04],\n",
       "       [ 4.22603771e-04],\n",
       "       [ 4.26283688e-04],\n",
       "       [ 4.29939362e-04],\n",
       "       [ 4.33569832e-04],\n",
       "       [ 4.37174109e-04],\n",
       "       [ 4.40751202e-04],\n",
       "       [ 4.44300123e-04],\n",
       "       [ 4.47819883e-04],\n",
       "       [ 4.51309519e-04],\n",
       "       [ 4.54768015e-04],\n",
       "       [ 4.58194409e-04],\n",
       "       [ 4.61587682e-04],\n",
       "       [ 4.64946876e-04],\n",
       "       [ 4.68271028e-04],\n",
       "       [ 4.71563515e-04],\n",
       "       [ 4.74835077e-04],\n",
       "       [ 4.78085451e-04],\n",
       "       [ 4.81313939e-04],\n",
       "       [ 4.84519696e-04],\n",
       "       [ 4.87701996e-04],\n",
       "       [ 4.90860082e-04],\n",
       "       [ 4.93993110e-04],\n",
       "       [ 4.97100409e-04],\n",
       "       [ 5.00181108e-04],\n",
       "       [ 5.03234449e-04],\n",
       "       [ 5.06259734e-04],\n",
       "       [ 5.09256090e-04],\n",
       "       [ 5.12222818e-04],\n",
       "       [ 5.15159103e-04],\n",
       "       [ 5.18064189e-04],\n",
       "       [ 5.20937319e-04],\n",
       "       [ 5.23777737e-04],\n",
       "       [ 5.26584568e-04],\n",
       "       [ 5.29357174e-04],\n",
       "       [ 5.32094680e-04],\n",
       "       [ 5.34802733e-04],\n",
       "       [ 5.37488260e-04],\n",
       "       [ 5.40150795e-04],\n",
       "       [ 5.42789930e-04],\n",
       "       [ 5.45405259e-04],\n",
       "       [ 5.47996257e-04],\n",
       "       [ 5.50562574e-04],\n",
       "       [ 5.53103746e-04],\n",
       "       [ 5.55619365e-04],\n",
       "       [ 5.58108906e-04],\n",
       "       [ 5.60572022e-04],\n",
       "       [ 5.63008245e-04],\n",
       "       [ 5.65417169e-04],\n",
       "       [ 5.67798270e-04],\n",
       "       [ 5.70151198e-04],\n",
       "       [ 5.72475488e-04],\n",
       "       [ 5.74770675e-04],\n",
       "       [ 5.77036350e-04],\n",
       "       [ 5.79272106e-04],\n",
       "       [ 5.81477478e-04],\n",
       "       [ 5.83652174e-04],\n",
       "       [ 5.85801434e-04],\n",
       "       [ 5.87927876e-04],\n",
       "       [ 5.90031501e-04],\n",
       "       [ 5.92112017e-04],\n",
       "       [ 5.94169425e-04],\n",
       "       [ 5.96203434e-04],\n",
       "       [ 5.98213985e-04],\n",
       "       [ 6.00200961e-04],\n",
       "       [ 6.02164131e-04],\n",
       "       [ 6.04103436e-04],\n",
       "       [ 6.06018701e-04],\n",
       "       [ 6.07909809e-04],\n",
       "       [ 6.09776529e-04],\n",
       "       [ 6.11618860e-04],\n",
       "       [ 6.13436510e-04],\n",
       "       [ 6.15229481e-04],\n",
       "       [ 6.16997539e-04],\n",
       "       [ 6.18740509e-04],\n",
       "       [ 6.20458391e-04],\n",
       "       [ 6.22150896e-04],\n",
       "       [ 6.23818312e-04],\n",
       "       [ 6.25463726e-04],\n",
       "       [ 6.27087837e-04],\n",
       "       [ 6.28690817e-04],\n",
       "       [ 6.30272611e-04],\n",
       "       [ 6.31833333e-04],\n",
       "       [ 6.33373042e-04],\n",
       "       [ 6.34891796e-04],\n",
       "       [ 6.36389595e-04],\n",
       "       [ 6.37866615e-04],\n",
       "       [ 6.39322796e-04],\n",
       "       [ 6.40758313e-04],\n",
       "       [ 6.42173109e-04],\n",
       "       [ 6.43567299e-04],\n",
       "       [ 6.44940941e-04],\n",
       "       [ 6.46294153e-04],\n",
       "       [ 6.47626875e-04],\n",
       "       [ 6.48939225e-04],\n",
       "       [ 6.50231319e-04],\n",
       "       [ 6.51503098e-04],\n",
       "       [ 6.52754679e-04],\n",
       "       [ 6.53986179e-04],\n",
       "       [ 6.55197597e-04],\n",
       "       [ 6.56388933e-04],\n",
       "       [ 6.57560362e-04],\n",
       "       [ 6.58711884e-04],\n",
       "       [ 6.59843558e-04],\n",
       "       [ 6.60955498e-04],\n",
       "       [ 6.62047649e-04],\n",
       "       [ 6.63120183e-04],\n",
       "       [ 6.64173102e-04],\n",
       "       [ 6.65206520e-04],\n",
       "       [ 6.66221778e-04],\n",
       "       [ 6.67219458e-04],\n",
       "       [ 6.68199733e-04],\n",
       "       [ 6.69162720e-04],\n",
       "       [ 6.70108479e-04],\n",
       "       [ 6.71037182e-04],\n",
       "       [ 6.71948888e-04],\n",
       "       [ 6.72843715e-04],\n",
       "       [ 6.73721835e-04],\n",
       "       [ 6.74583309e-04],\n",
       "       [ 6.75428251e-04],\n",
       "       [ 6.76256837e-04],\n",
       "       [ 6.77069125e-04],\n",
       "       [ 6.77865231e-04],\n",
       "       [ 6.78645330e-04],\n",
       "       [ 6.79409422e-04],\n",
       "       [ 6.80157740e-04],\n",
       "       [ 6.80890342e-04],\n",
       "       [ 6.81607344e-04],\n",
       "       [ 6.82308862e-04],\n",
       "       [ 6.82995014e-04],\n",
       "       [ 6.83665916e-04],\n",
       "       [ 6.84321625e-04],\n",
       "       [ 6.84962375e-04],\n",
       "       [ 6.85588224e-04],\n",
       "       [ 6.86199288e-04],\n",
       "       [ 6.86795625e-04],\n",
       "       [ 6.87377469e-04],\n",
       "       [ 6.87944819e-04],\n",
       "       [ 6.88497850e-04],\n",
       "       [ 6.89036679e-04],\n",
       "       [ 6.89561246e-04],\n",
       "       [ 6.90071669e-04],\n",
       "       [ 6.90568122e-04],\n",
       "       [ 6.91050722e-04],\n",
       "       [ 6.91519585e-04],\n",
       "       [ 6.91974943e-04],\n",
       "       [ 6.92416856e-04],\n",
       "       [ 6.92845555e-04],\n",
       "       [ 6.93261158e-04],\n",
       "       [ 6.93663838e-04],\n",
       "       [ 6.94053655e-04],\n",
       "       [ 6.94430899e-04],\n",
       "       [ 6.94795628e-04],\n",
       "       [ 6.95148017e-04],\n",
       "       [ 6.95488241e-04],\n",
       "       [ 6.95816416e-04],\n",
       "       [ 6.96132716e-04],\n",
       "       [ 6.96437259e-04],\n",
       "       [ 6.96730276e-04],\n",
       "       [ 6.97011827e-04],\n",
       "       [ 6.97282085e-04],\n",
       "       [ 6.97541283e-04],\n",
       "       [ 6.97789423e-04],\n",
       "       [ 6.98026794e-04],\n",
       "       [ 6.98253512e-04],\n",
       "       [ 6.98469696e-04],\n",
       "       [ 6.98675460e-04],\n",
       "       [ 6.98871037e-04],\n",
       "       [ 6.99056603e-04],\n",
       "       [ 6.99232216e-04],\n",
       "       [ 6.99398050e-04],\n",
       "       [ 6.99553580e-04],\n",
       "       [ 6.99697994e-04],\n",
       "       [ 6.99831406e-04],\n",
       "       [ 6.99953991e-04],\n",
       "       [ 7.00065924e-04],\n",
       "       [ 7.00167380e-04],\n",
       "       [ 7.00258475e-04],\n",
       "       [ 7.00339442e-04],\n",
       "       [ 7.00410339e-04],\n",
       "       [ 7.00471341e-04],\n",
       "       [ 7.00522680e-04],\n",
       "       [ 7.00564415e-04],\n",
       "       [ 7.00596778e-04],\n",
       "       [ 7.00619945e-04],\n",
       "       [ 7.00634031e-04],\n",
       "       [ 7.00639153e-04],\n",
       "       [ 7.00635544e-04],\n",
       "       [ 7.00623379e-04],\n",
       "       [ 7.00602715e-04],\n",
       "       [ 7.00573786e-04],\n",
       "       [ 7.00536708e-04],\n",
       "       [ 7.00491713e-04],\n",
       "       [ 7.00438861e-04],\n",
       "       [ 7.00378383e-04],\n",
       "       [ 7.00310455e-04],\n",
       "       [ 7.00235134e-04],\n",
       "       [ 7.00152712e-04],\n",
       "       [ 7.00063189e-04],\n",
       "       [ 6.99966855e-04],\n",
       "       [ 6.99863827e-04],\n",
       "       [ 6.99754281e-04],\n",
       "       [ 6.99637516e-04],\n",
       "       [ 6.99511962e-04],\n",
       "       [ 6.99377561e-04],\n",
       "       [ 6.99234486e-04],\n",
       "       [ 6.99082913e-04],\n",
       "       [ 6.98922959e-04],\n",
       "       [ 6.98754739e-04],\n",
       "       [ 6.98578428e-04],\n",
       "       [ 6.98394142e-04],\n",
       "       [ 6.98201999e-04],\n",
       "       [ 6.98002172e-04],\n",
       "       [ 6.97794778e-04],\n",
       "       [ 6.97579933e-04],\n",
       "       [ 6.97357813e-04],\n",
       "       [ 6.97128533e-04],\n",
       "       [ 6.96892268e-04],\n",
       "       [ 6.96649135e-04],\n",
       "       [ 6.96399249e-04],\n",
       "       [ 6.96142786e-04],\n",
       "       [ 6.95879804e-04],\n",
       "       [ 6.95610535e-04],\n",
       "       [ 6.95335097e-04],\n",
       "       [ 6.95053604e-04],\n",
       "       [ 6.94766175e-04],\n",
       "       [ 6.94472983e-04],\n",
       "       [ 6.94174145e-04],\n",
       "       [ 6.93869835e-04],\n",
       "       [ 6.93560112e-04],\n",
       "       [ 6.93245209e-04],\n",
       "       [ 6.92925241e-04],\n",
       "       [ 6.92600268e-04],\n",
       "       [ 6.92270522e-04],\n",
       "       [ 6.91936060e-04],\n",
       "       [ 6.91597059e-04],\n",
       "       [ 6.91253692e-04],\n",
       "       [ 6.90906076e-04],\n",
       "       [ 6.90554327e-04],\n",
       "       [ 6.90198562e-04],\n",
       "       [ 6.89838955e-04],\n",
       "       [ 6.89475681e-04],\n",
       "       [ 6.89108798e-04],\n",
       "       [ 6.88738481e-04],\n",
       "       [ 6.88364846e-04],\n",
       "       [ 6.87988068e-04],\n",
       "       [ 6.87608263e-04],\n",
       "       [ 6.87225489e-04],\n",
       "       [ 6.86837710e-04],\n",
       "       [ 6.86444284e-04],\n",
       "       [ 6.86045270e-04],\n",
       "       [ 6.85640844e-04],\n",
       "       [ 6.85231062e-04],\n",
       "       [ 6.84816099e-04],\n",
       "       [ 6.84396131e-04],\n",
       "       [ 6.83971157e-04],\n",
       "       [ 6.83541410e-04],\n",
       "       [ 6.83106948e-04],\n",
       "       [ 6.82667946e-04],\n",
       "       [ 6.82224520e-04],\n",
       "       [ 6.81776786e-04],\n",
       "       [ 6.81324862e-04],\n",
       "       [ 6.80868863e-04],\n",
       "       [ 6.80408906e-04],\n",
       "       [ 6.79945166e-04],\n",
       "       [ 6.79477758e-04],\n",
       "       [ 6.79006742e-04],\n",
       "       [ 6.78532349e-04],\n",
       "       [ 6.78054581e-04],\n",
       "       [ 6.77573669e-04],\n",
       "       [ 6.77089731e-04],\n",
       "       [ 6.76602824e-04],\n",
       "       [ 6.76113064e-04],\n",
       "       [ 6.75620686e-04],\n",
       "       [ 6.75125746e-04],\n",
       "       [ 6.74628362e-04],\n",
       "       [ 6.74128649e-04],\n",
       "       [ 6.73626782e-04],\n",
       "       [ 6.73122879e-04],\n",
       "       [ 6.72616996e-04],\n",
       "       [ 6.72109367e-04],\n",
       "       [ 6.71599992e-04],\n",
       "       [ 6.71087531e-04],\n",
       "       [ 6.70571229e-04],\n",
       "       [ 6.70051144e-04],\n",
       "       [ 6.69527333e-04],\n",
       "       [ 6.68999855e-04],\n",
       "       [ 6.68468885e-04],\n",
       "       [ 6.67934422e-04],\n",
       "       [ 6.67396642e-04],\n",
       "       [ 6.66855543e-04],\n",
       "       [ 6.66311244e-04],\n",
       "       [ 6.65763800e-04],\n",
       "       [ 6.65213389e-04],\n",
       "       [ 6.64660009e-04],\n",
       "       [ 6.64103776e-04],\n",
       "       [ 6.63544808e-04],\n",
       "       [ 6.62983162e-04],\n",
       "       [ 6.62418897e-04],\n",
       "       [ 6.61852129e-04],\n",
       "       [ 6.61282917e-04],\n",
       "       [ 6.60711376e-04],\n",
       "       [ 6.60137623e-04],\n",
       "       [ 6.59561716e-04],\n",
       "       [ 6.58983714e-04],\n",
       "       [ 6.58403675e-04],\n",
       "       [ 6.57821773e-04],\n",
       "       [ 6.57238066e-04],\n",
       "       [ 6.56652614e-04],\n",
       "       [ 6.56065531e-04],\n",
       "       [ 6.55476877e-04],\n",
       "       [ 6.54886768e-04],\n",
       "       [ 6.54295203e-04],\n",
       "       [ 6.53702416e-04]], dtype=float32)"
      ]
     },
     "execution_count": 59,
     "metadata": {},
     "output_type": "execute_result"
    }
   ],
   "source": [
    "y[rand_idx]"
   ]
  },
  {
   "cell_type": "markdown",
   "metadata": {},
   "source": [
    "# Building network"
   ]
  },
  {
   "cell_type": "code",
   "execution_count": 38,
   "metadata": {},
   "outputs": [],
   "source": [
    "optim_config ={'lambda':1e-5,'max_iteration':20000}\n",
    "lib_config={'poly_order':1, 'diff_order':2, 'total_terms':6}\n",
    "network_config={'input_dim':2, 'hidden_dim':20, 'layers':8, 'output_dim':2}"
   ]
  },
  {
   "cell_type": "markdown",
   "metadata": {},
   "source": [
    "# MSE Run"
   ]
  },
  {
   "cell_type": "code",
   "execution_count": 41,
   "metadata": {},
   "outputs": [],
   "source": [
    "init_coeff = torch.tensor([0.2,-0.4,0.1,0.1,0.2,0.01], dtype=torch.float32, requires_grad=True)"
   ]
  },
  {
   "cell_type": "code",
   "execution_count": 43,
   "metadata": {},
   "outputs": [
    {
     "name": "stdout",
     "output_type": "stream",
     "text": [
      "Epoch | Total loss | MSE | PI | L1 \n",
      "0 1.4E-01 5.5E-02 9.0E-02 1.7E-06\n",
      "[ 0.2  -0.4   0.1   0.1   0.2   0.01]\n",
      "1000 1.2E-04 9.6E-05 2.6E-05 1.3E-06\n",
      "[ 0.11 -0.46  0.04  0.01  0.14 -0.04]\n",
      "2000 2.5E-05 1.6E-05 7.8E-06 1.3E-06\n",
      "[ 0.09 -0.38  0.04 -0.01  0.22 -0.02]\n",
      "3000 1.1E-05 9.7E-06 5.3E-07 1.2E-06\n",
      "[ 0.08 -0.31  0.01 -0.02  0.28 -0.01]\n",
      "4000 1.1E-05 9.4E-06 2.5E-07 1.1E-06\n",
      "[ 0.08 -0.29 -0.   -0.02  0.29 -0.  ]\n",
      "5000 1.1E-05 9.3E-06 2.4E-07 1.1E-06\n",
      "[ 0.08 -0.28 -0.   -0.02  0.28  0.  ]\n",
      "6000 1.1E-05 9.3E-06 2.4E-07 1.1E-06\n",
      "[ 0.08 -0.27 -0.   -0.02  0.27 -0.  ]\n"
     ]
    },
    {
     "ename": "KeyboardInterrupt",
     "evalue": "",
     "output_type": "error",
     "traceback": [
      "\u001b[0;31m---------------------------------------------------------------------------\u001b[0m",
      "\u001b[0;31mKeyboardInterrupt\u001b[0m                         Traceback (most recent call last)",
      "\u001b[0;32m<ipython-input-43-a419813e4280>\u001b[0m in \u001b[0;36m<module>\u001b[0;34m\u001b[0m\n\u001b[0;32m----> 1\u001b[0;31m \u001b[0mprediction\u001b[0m\u001b[0;34m,\u001b[0m \u001b[0mnetwork\u001b[0m\u001b[0;34m,\u001b[0m \u001b[0my_t\u001b[0m\u001b[0;34m,\u001b[0m\u001b[0mtheta\u001b[0m  \u001b[0;34m=\u001b[0m \u001b[0mDeepMod\u001b[0m\u001b[0;34m(\u001b[0m\u001b[0mX_train\u001b[0m\u001b[0;34m,\u001b[0m \u001b[0my_train\u001b[0m\u001b[0;34m,\u001b[0m \u001b[0mnetwork_config\u001b[0m\u001b[0;34m,\u001b[0m \u001b[0mlibrary_1D\u001b[0m\u001b[0;34m,\u001b[0m \u001b[0mlib_config\u001b[0m\u001b[0;34m,\u001b[0m \u001b[0moptim_config\u001b[0m\u001b[0;34m,\u001b[0m\u001b[0minit_coeff\u001b[0m\u001b[0;34m)\u001b[0m\u001b[0;34m\u001b[0m\u001b[0;34m\u001b[0m\u001b[0m\n\u001b[0m",
      "\u001b[0;32m~/Documents/GitHub/DeepMoD_Torch/src/DeepMod.py\u001b[0m in \u001b[0;36mDeepMod\u001b[0;34m(data, target, network_config, library_type, library_config, optim_config, init_coef)\u001b[0m\n\u001b[1;32m     14\u001b[0m \u001b[0;34m\u001b[0m\u001b[0m\n\u001b[1;32m     15\u001b[0m     \u001b[0;31m# Training of the network\u001b[0m\u001b[0;34m\u001b[0m\u001b[0;34m\u001b[0m\u001b[0;34m\u001b[0m\u001b[0m\n\u001b[0;32m---> 16\u001b[0;31m     \u001b[0my_t\u001b[0m\u001b[0;34m,\u001b[0m\u001b[0mtheta\u001b[0m\u001b[0;34m,\u001b[0m \u001b[0mweight_vector\u001b[0m \u001b[0;34m=\u001b[0m \u001b[0mTraining\u001b[0m\u001b[0;34m(\u001b[0m\u001b[0mdata\u001b[0m\u001b[0;34m,\u001b[0m \u001b[0mtarget\u001b[0m\u001b[0;34m,\u001b[0m \u001b[0moptim_config\u001b[0m\u001b[0;34m,\u001b[0m \u001b[0mlibrary_type\u001b[0m\u001b[0;34m,\u001b[0m \u001b[0mlibrary_config\u001b[0m\u001b[0;34m,\u001b[0m \u001b[0mnetwork\u001b[0m\u001b[0;34m,\u001b[0m \u001b[0mnetwork_config\u001b[0m\u001b[0;34m,\u001b[0m \u001b[0minit_coef\u001b[0m\u001b[0;34m)\u001b[0m\u001b[0;34m\u001b[0m\u001b[0;34m\u001b[0m\u001b[0m\n\u001b[0m\u001b[1;32m     17\u001b[0m \u001b[0;34m\u001b[0m\u001b[0m\n\u001b[1;32m     18\u001b[0m     \u001b[0;31m# Scaling\u001b[0m\u001b[0;34m\u001b[0m\u001b[0;34m\u001b[0m\u001b[0;34m\u001b[0m\u001b[0m\n",
      "\u001b[0;32m~/Documents/GitHub/DeepMoD_Torch/src/neural_net.py\u001b[0m in \u001b[0;36mTraining\u001b[0;34m(data, target, optim_config, library_type, library_config, network, network_config, init_coef)\u001b[0m\n\u001b[1;32m     51\u001b[0m         \u001b[0;31m# Optimizwe step\u001b[0m\u001b[0;34m\u001b[0m\u001b[0;34m\u001b[0m\u001b[0;34m\u001b[0m\u001b[0m\n\u001b[1;32m     52\u001b[0m         \u001b[0moptimizer\u001b[0m\u001b[0;34m.\u001b[0m\u001b[0mzero_grad\u001b[0m\u001b[0;34m(\u001b[0m\u001b[0;34m)\u001b[0m\u001b[0;34m\u001b[0m\u001b[0;34m\u001b[0m\u001b[0m\n\u001b[0;32m---> 53\u001b[0;31m         \u001b[0mloss\u001b[0m\u001b[0;34m.\u001b[0m\u001b[0mbackward\u001b[0m\u001b[0;34m(\u001b[0m\u001b[0;34m)\u001b[0m\u001b[0;34m\u001b[0m\u001b[0;34m\u001b[0m\u001b[0m\n\u001b[0m\u001b[1;32m     54\u001b[0m         \u001b[0moptimizer\u001b[0m\u001b[0;34m.\u001b[0m\u001b[0mstep\u001b[0m\u001b[0;34m(\u001b[0m\u001b[0;34m)\u001b[0m\u001b[0;34m\u001b[0m\u001b[0;34m\u001b[0m\u001b[0m\n\u001b[1;32m     55\u001b[0m \u001b[0;34m\u001b[0m\u001b[0m\n",
      "\u001b[0;32m~/anaconda3/lib/python3.6/site-packages/torch/tensor.py\u001b[0m in \u001b[0;36mbackward\u001b[0;34m(self, gradient, retain_graph, create_graph)\u001b[0m\n\u001b[1;32m    100\u001b[0m                 \u001b[0mproducts\u001b[0m\u001b[0;34m.\u001b[0m \u001b[0mDefaults\u001b[0m \u001b[0mto\u001b[0m\u001b[0;31m \u001b[0m\u001b[0;31m`\u001b[0m\u001b[0;31m`\u001b[0m\u001b[0;32mFalse\u001b[0m\u001b[0;31m`\u001b[0m\u001b[0;31m`\u001b[0m\u001b[0;34m.\u001b[0m\u001b[0;34m\u001b[0m\u001b[0;34m\u001b[0m\u001b[0m\n\u001b[1;32m    101\u001b[0m         \"\"\"\n\u001b[0;32m--> 102\u001b[0;31m         \u001b[0mtorch\u001b[0m\u001b[0;34m.\u001b[0m\u001b[0mautograd\u001b[0m\u001b[0;34m.\u001b[0m\u001b[0mbackward\u001b[0m\u001b[0;34m(\u001b[0m\u001b[0mself\u001b[0m\u001b[0;34m,\u001b[0m \u001b[0mgradient\u001b[0m\u001b[0;34m,\u001b[0m \u001b[0mretain_graph\u001b[0m\u001b[0;34m,\u001b[0m \u001b[0mcreate_graph\u001b[0m\u001b[0;34m)\u001b[0m\u001b[0;34m\u001b[0m\u001b[0;34m\u001b[0m\u001b[0m\n\u001b[0m\u001b[1;32m    103\u001b[0m \u001b[0;34m\u001b[0m\u001b[0m\n\u001b[1;32m    104\u001b[0m     \u001b[0;32mdef\u001b[0m \u001b[0mregister_hook\u001b[0m\u001b[0;34m(\u001b[0m\u001b[0mself\u001b[0m\u001b[0;34m,\u001b[0m \u001b[0mhook\u001b[0m\u001b[0;34m)\u001b[0m\u001b[0;34m:\u001b[0m\u001b[0;34m\u001b[0m\u001b[0;34m\u001b[0m\u001b[0m\n",
      "\u001b[0;32m~/anaconda3/lib/python3.6/site-packages/torch/autograd/__init__.py\u001b[0m in \u001b[0;36mbackward\u001b[0;34m(tensors, grad_tensors, retain_graph, create_graph, grad_variables)\u001b[0m\n\u001b[1;32m     88\u001b[0m     Variable._execution_engine.run_backward(\n\u001b[1;32m     89\u001b[0m         \u001b[0mtensors\u001b[0m\u001b[0;34m,\u001b[0m \u001b[0mgrad_tensors\u001b[0m\u001b[0;34m,\u001b[0m \u001b[0mretain_graph\u001b[0m\u001b[0;34m,\u001b[0m \u001b[0mcreate_graph\u001b[0m\u001b[0;34m,\u001b[0m\u001b[0;34m\u001b[0m\u001b[0;34m\u001b[0m\u001b[0m\n\u001b[0;32m---> 90\u001b[0;31m         allow_unreachable=True)  # allow_unreachable flag\n\u001b[0m\u001b[1;32m     91\u001b[0m \u001b[0;34m\u001b[0m\u001b[0m\n\u001b[1;32m     92\u001b[0m \u001b[0;34m\u001b[0m\u001b[0m\n",
      "\u001b[0;31mKeyboardInterrupt\u001b[0m: "
     ]
    }
   ],
   "source": [
    "prediction, network, y_t,theta  = DeepMod(X_train, y_train, network_config, library_1D, lib_config, optim_config,init_coeff)\n"
   ]
  },
  {
   "cell_type": "code",
   "execution_count": 72,
   "metadata": {},
   "outputs": [],
   "source": [
    "xlist=np.squeeze(X_train.detach().numpy()[:,0])\n",
    "tlist= np.squeeze(X_train.detach().numpy()[:,1])\n",
    "ylist= np.squeeze(prediction.detach().numpy()[:,0])"
   ]
  },
  {
   "cell_type": "code",
   "execution_count": 73,
   "metadata": {},
   "outputs": [
    {
     "data": {
      "text/plain": [
       "<matplotlib.tri.tricontour.TriContourSet at 0x121cd4f60>"
      ]
     },
     "execution_count": 73,
     "metadata": {},
     "output_type": "execute_result"
    },
    {
     "data": {
      "image/png": "[encoded data removed]",
      "text/plain": [
       "<Figure size 576x396 with 2 Axes>"
      ]
     },
     "metadata": {
      "needs_background": "light"
     },
     "output_type": "display_data"
    }
   ],
   "source": [
    "f, ax = plt.subplots(1,2)\n",
    "ax[0].contourf(x_grid,t_grid,uu,cmap='cool')\n",
    "ax[1].tricontourf(xlist,tlist,ylist, 20) # choose 20 contour levels, just to show how good its interpolation is"
   ]
  },
  {
   "cell_type": "markdown",
   "metadata": {},
   "source": [
    "# Least square fit "
   ]
  },
  {
   "cell_type": "code",
   "execution_count": 10,
   "metadata": {},
   "outputs": [
    {
     "data": {
      "text/plain": [
       "<matplotlib.collections.PathCollection at 0x132a981048>"
      ]
     },
     "execution_count": 10,
     "metadata": {},
     "output_type": "execute_result"
    },
    {
     "data": {
      "image/png": "[encoded data removed]",
      "text/plain": [
       "<Figure size 432x288 with 1 Axes>"
      ]
     },
     "metadata": {
      "needs_background": "light"
     },
     "output_type": "display_data"
    }
   ],
   "source": [
    "plt.plot(X,np.gradient(y[:,0])/0.001,'r--')\n",
    "plt.scatter(X_train.detach().numpy()[:,0], y_t.detach().numpy()[:,0])"
   ]
  },
  {
   "cell_type": "code",
   "execution_count": 46,
   "metadata": {},
   "outputs": [],
   "source": [
    "def func(X, a, b, c, d):\n",
    "    x1,x2 = X\n",
    "    return a + b*x1 + c*x2 + d*x1*x2 \n",
    "\n",
    "def func_new(X, a, b, c, d, e, f):\n",
    "    x1,x2,x4,x5 = X\n",
    "    return a + b*x1 + c*x2 + d*x1*x2 + e*x4 + f*x5\n",
    "\n",
    "def func_simple(X, a, b, c):\n",
    "    x1,x2 = X\n",
    "    return a + b*x1 + c*x2"
   ]
  },
  {
   "cell_type": "code",
   "execution_count": 48,
   "metadata": {},
   "outputs": [],
   "source": [
    "theta1 = np.squeeze(prediction[:,0].detach().numpy())\n",
    "theta2 = np.squeeze(prediction[:,1].detach().numpy())\n",
    "theta4 = np.squeeze(theta[:,4].detach().numpy())\n",
    "theta5 = np.squeeze(theta[:,5].detach().numpy())"
   ]
  },
  {
   "cell_type": "code",
   "execution_count": 52,
   "metadata": {},
   "outputs": [
    {
     "data": {
      "text/plain": [
       "torch.Size([1000])"
      ]
     },
     "execution_count": 52,
     "metadata": {},
     "output_type": "execute_result"
    }
   ],
   "source": [
    "prediction[:,0].shape"
   ]
  },
  {
   "cell_type": "code",
   "execution_count": null,
   "metadata": {},
   "outputs": [],
   "source": [
    "x1 = np.squeeze(prediction[:,0].detach().numpy())\n",
    "x2 = np.squeeze(prediction[:,1].detach().numpy())\n",
    "z1 = y_t.detach().numpy()[:,0]\n",
    "z2 = y_t.detach().numpy()[:,1]"
   ]
  },
  {
   "cell_type": "code",
   "execution_count": 53,
   "metadata": {},
   "outputs": [
    {
     "ename": "AttributeError",
     "evalue": "'tuple' object has no attribute 'shape'",
     "output_type": "error",
     "traceback": [
      "\u001b[0;31m---------------------------------------------------------------------------\u001b[0m",
      "\u001b[0;31mAttributeError\u001b[0m                            Traceback (most recent call last)",
      "\u001b[0;32m<ipython-input-53-c411e252b332>\u001b[0m in \u001b[0;36m<module>\u001b[0;34m\u001b[0m\n\u001b[0;32m----> 1\u001b[0;31m \u001b[0;34m(\u001b[0m\u001b[0mtheta1\u001b[0m\u001b[0;34m,\u001b[0m\u001b[0mtheta2\u001b[0m\u001b[0;34m,\u001b[0m \u001b[0mtheta4\u001b[0m\u001b[0;34m,\u001b[0m \u001b[0mtheta5\u001b[0m\u001b[0;34m)\u001b[0m\u001b[0;34m.\u001b[0m\u001b[0mshape\u001b[0m\u001b[0;34m\u001b[0m\u001b[0;34m\u001b[0m\u001b[0m\n\u001b[0m",
      "\u001b[0;31mAttributeError\u001b[0m: 'tuple' object has no attribute 'shape'"
     ]
    }
   ],
   "source": []
  },
  {
   "cell_type": "code",
   "execution_count": 54,
   "metadata": {},
   "outputs": [],
   "source": [
    "# initial guesses for a,b,c:\n",
    "p0 = 0., 0., 0., 0., 0., 0.\n",
    "w1 = curve_fit(func_new, (theta1,theta2, theta4, theta5), z1, p0)[0]\n",
    "w2 = curve_fit(func_new, (theta1,theta2, theta4, theta5), z2, p0)[0]"
   ]
  },
  {
   "cell_type": "code",
   "execution_count": 13,
   "metadata": {},
   "outputs": [],
   "source": [
    "z1_ref = np.gradient(np.squeeze(prediction[:,0].detach().numpy()),np.squeeze(X_train.detach().numpy()))\n",
    "z2_ref = np.gradient(np.squeeze(prediction[:,1].detach().numpy()),np.squeeze(X_train.detach().numpy()))"
   ]
  },
  {
   "cell_type": "code",
   "execution_count": 15,
   "metadata": {},
   "outputs": [],
   "source": [
    "x1 = y[:,0]\n",
    "x2 = y[:,1]\n",
    "z1 = np.gradient(y[:,0],np.squeeze(X))\n",
    "z2 = np.gradient(y[:,1],np.squeeze(X))"
   ]
  },
  {
   "cell_type": "code",
   "execution_count": 55,
   "metadata": {},
   "outputs": [],
   "source": [
    "init_coeff=torch.tensor(np.transpose(np.array((w1,w2))), dtype=torch.float32, requires_grad=True)"
   ]
  },
  {
   "cell_type": "code",
   "execution_count": 56,
   "metadata": {},
   "outputs": [
    {
     "name": "stdout",
     "output_type": "stream",
     "text": [
      "tensor([[ 0.1871, -0.4730],\n",
      "        [-0.5034,  0.6698],\n",
      "        [-0.3493,  0.4551],\n",
      "        [ 0.3650, -0.4874],\n",
      "        [-0.0250,  0.0320],\n",
      "        [ 0.0603, -0.0732]], requires_grad=True)\n"
     ]
    }
   ],
   "source": [
    "print(init_coeff)"
   ]
  },
  {
   "cell_type": "code",
   "execution_count": 33,
   "metadata": {},
   "outputs": [
    {
     "data": {
      "text/plain": [
       "<matplotlib.collections.PathCollection at 0x132b318208>"
      ]
     },
     "execution_count": 33,
     "metadata": {},
     "output_type": "execute_result"
    },
    {
     "data": {
      "image/png": "[encoded data removed]",
      "text/plain": [
       "<Figure size 432x288 with 1 Axes>"
      ]
     },
     "metadata": {
      "needs_background": "light"
     },
     "output_type": "display_data"
    }
   ],
   "source": [
    "plt.scatter(X_train.detach().numpy(),w2[0]+w2[1]*x1+w2[2]*x2+w2[3]*x1*x2)\n",
    "plt.scatter(X_train.detach().numpy(),x1-0.25*x2)"
   ]
  },
  {
   "cell_type": "code",
   "execution_count": 578,
   "metadata": {},
   "outputs": [
    {
     "data": {
      "text/plain": [
       "<matplotlib.collections.PathCollection at 0x1c2f40f048>"
      ]
     },
     "execution_count": 578,
     "metadata": {},
     "output_type": "execute_result"
    },
    {
     "data": {
      "image/png": "[encoded data removed]",
      "text/plain": [
       "<Figure size 576x396 with 1 Axes>"
      ]
     },
     "metadata": {
      "needs_background": "light"
     },
     "output_type": "display_data"
    }
   ],
   "source": [
    "plt.scatter(x1,z2)\n",
    "plt.scatter(x1,w2[0]+w2[1]*x1+w2[2]*x2+w2[3]*x1*x2)\n",
    "plt.scatter(x1,x1-0.25*x2)"
   ]
  },
  {
   "cell_type": "code",
   "execution_count": 74,
   "metadata": {},
   "outputs": [
    {
     "name": "stdout",
     "output_type": "stream",
     "text": [
      "Epoch | Total loss | MSE | PI | L1 \n",
      "0 2.9E+01 6.2E-04 2.9E+01 2.0E-07\n",
      "[ 0.2  0.  -0.   0.   0.  -0.   0.  -0.   0.   0. ]\n",
      "1000 2.9E+01 6.2E-04 2.9E+01 2.0E-07\n",
      "[ 0.16  0.    0.    0.    0.   -0.04  0.    0.    0.    0.  ]\n",
      "2000 2.9E+01 6.2E-04 2.9E+01 2.0E-07\n",
      "[ 0.15  0.    0.    0.    0.   -0.05  0.    0.    0.    0.  ]\n",
      "3000 7.5E+02 6.2E-04 7.5E+02 2.0E-07\n",
      "[ 0.15 -0.    0.    0.   -0.   -0.05 -0.    0.    0.   -0.  ]\n",
      "4000 2.9E+01 6.2E-04 2.9E+01 2.0E-07\n",
      "[ 0.15  0.    0.    0.    0.   -0.05  0.    0.    0.    0.  ]\n",
      "5000 2.9E+01 6.2E-04 2.9E+01 2.0E-07\n",
      "[ 0.15 -0.    0.    0.   -0.   -0.05 -0.    0.    0.   -0.  ]\n",
      "6000 2.9E+01 6.2E-04 2.9E+01 2.0E-07\n",
      "[ 0.15  0.   -0.   -0.    0.   -0.05  0.   -0.   -0.    0.  ]\n",
      "7000 1.2E+03 6.2E-04 1.2E+03 2.0E-07\n",
      "[ 0.15 -0.    0.    0.   -0.   -0.05 -0.    0.    0.   -0.  ]\n"
     ]
    },
    {
     "ename": "KeyboardInterrupt",
     "evalue": "",
     "output_type": "error",
     "traceback": [
      "\u001b[0;31m---------------------------------------------------------------------------\u001b[0m",
      "\u001b[0;31mKeyboardInterrupt\u001b[0m                         Traceback (most recent call last)",
      "\u001b[0;32m<ipython-input-74-353953f1ea7b>\u001b[0m in \u001b[0;36m<module>\u001b[0;34m\u001b[0m\n\u001b[0;32m----> 1\u001b[0;31m \u001b[0my_t\u001b[0m\u001b[0;34m,\u001b[0m\u001b[0mtheta\u001b[0m\u001b[0;34m,\u001b[0m \u001b[0mweight_vector\u001b[0m \u001b[0;34m=\u001b[0m \u001b[0mDeepMod_pretrained_nomse\u001b[0m\u001b[0;34m(\u001b[0m\u001b[0mX_train\u001b[0m\u001b[0;34m,\u001b[0m \u001b[0my_train\u001b[0m\u001b[0;34m,\u001b[0m \u001b[0mnetwork_config\u001b[0m\u001b[0;34m,\u001b[0m \u001b[0mlibrary_1D\u001b[0m\u001b[0;34m,\u001b[0m \u001b[0mlib_config\u001b[0m\u001b[0;34m,\u001b[0m \u001b[0moptim_config\u001b[0m\u001b[0;34m,\u001b[0m\u001b[0mnetwork\u001b[0m\u001b[0;34m,\u001b[0m\u001b[0minit_coeff\u001b[0m\u001b[0;34m)\u001b[0m\u001b[0;34m\u001b[0m\u001b[0;34m\u001b[0m\u001b[0m\n\u001b[0m",
      "\u001b[0;32m~/Documents/GitHub/DeepMoD_Torch/src/DeepMod.py\u001b[0m in \u001b[0;36mDeepMod_pretrained_nomse\u001b[0;34m(data, target, network_config, library_type, library_config, optim_config, network, init_coeff)\u001b[0m\n\u001b[1;32m     44\u001b[0m \u001b[0;34m\u001b[0m\u001b[0m\n\u001b[1;32m     45\u001b[0m     \u001b[0;31m# Training of the network\u001b[0m\u001b[0;34m\u001b[0m\u001b[0;34m\u001b[0m\u001b[0;34m\u001b[0m\u001b[0m\n\u001b[0;32m---> 46\u001b[0;31m     \u001b[0my_t\u001b[0m\u001b[0;34m,\u001b[0m\u001b[0mtheta\u001b[0m\u001b[0;34m,\u001b[0m \u001b[0mweight_vector\u001b[0m \u001b[0;34m=\u001b[0m \u001b[0mTraining_PI\u001b[0m\u001b[0;34m(\u001b[0m\u001b[0mdata\u001b[0m\u001b[0;34m,\u001b[0m \u001b[0mtarget\u001b[0m\u001b[0;34m,\u001b[0m \u001b[0moptim_config\u001b[0m\u001b[0;34m,\u001b[0m \u001b[0mlibrary_type\u001b[0m\u001b[0;34m,\u001b[0m \u001b[0mlibrary_config\u001b[0m\u001b[0;34m,\u001b[0m \u001b[0mnetwork\u001b[0m\u001b[0;34m,\u001b[0m \u001b[0mnetwork_config\u001b[0m\u001b[0;34m,\u001b[0m\u001b[0minit_coeff\u001b[0m\u001b[0;34m)\u001b[0m\u001b[0;34m\u001b[0m\u001b[0;34m\u001b[0m\u001b[0m\n\u001b[0m\u001b[1;32m     47\u001b[0m \u001b[0;34m\u001b[0m\u001b[0m\n\u001b[1;32m     48\u001b[0m \u001b[0;34m\u001b[0m\u001b[0m\n",
      "\u001b[0;32m~/Documents/GitHub/DeepMoD_Torch/src/neural_net.py\u001b[0m in \u001b[0;36mTraining_PI\u001b[0;34m(data, target, optim_config, library_type, library_config, network, network_config, init_coeff)\u001b[0m\n\u001b[1;32m    159\u001b[0m         \u001b[0;31m# Optimizwe step\u001b[0m\u001b[0;34m\u001b[0m\u001b[0;34m\u001b[0m\u001b[0;34m\u001b[0m\u001b[0m\n\u001b[1;32m    160\u001b[0m         \u001b[0moptimizer\u001b[0m\u001b[0;34m.\u001b[0m\u001b[0mzero_grad\u001b[0m\u001b[0;34m(\u001b[0m\u001b[0;34m)\u001b[0m\u001b[0;34m\u001b[0m\u001b[0;34m\u001b[0m\u001b[0m\n\u001b[0;32m--> 161\u001b[0;31m         \u001b[0mloss\u001b[0m\u001b[0;34m.\u001b[0m\u001b[0mbackward\u001b[0m\u001b[0;34m(\u001b[0m\u001b[0;34m)\u001b[0m\u001b[0;34m\u001b[0m\u001b[0;34m\u001b[0m\u001b[0m\n\u001b[0m\u001b[1;32m    162\u001b[0m         \u001b[0moptimizer\u001b[0m\u001b[0;34m.\u001b[0m\u001b[0mstep\u001b[0m\u001b[0;34m(\u001b[0m\u001b[0;34m)\u001b[0m\u001b[0;34m\u001b[0m\u001b[0;34m\u001b[0m\u001b[0m\n\u001b[1;32m    163\u001b[0m \u001b[0;34m\u001b[0m\u001b[0m\n",
      "\u001b[0;32m~/anaconda3/lib/python3.6/site-packages/torch/tensor.py\u001b[0m in \u001b[0;36mbackward\u001b[0;34m(self, gradient, retain_graph, create_graph)\u001b[0m\n\u001b[1;32m    100\u001b[0m                 \u001b[0mproducts\u001b[0m\u001b[0;34m.\u001b[0m \u001b[0mDefaults\u001b[0m \u001b[0mto\u001b[0m\u001b[0;31m \u001b[0m\u001b[0;31m`\u001b[0m\u001b[0;31m`\u001b[0m\u001b[0;32mFalse\u001b[0m\u001b[0;31m`\u001b[0m\u001b[0;31m`\u001b[0m\u001b[0;34m.\u001b[0m\u001b[0;34m\u001b[0m\u001b[0;34m\u001b[0m\u001b[0m\n\u001b[1;32m    101\u001b[0m         \"\"\"\n\u001b[0;32m--> 102\u001b[0;31m         \u001b[0mtorch\u001b[0m\u001b[0;34m.\u001b[0m\u001b[0mautograd\u001b[0m\u001b[0;34m.\u001b[0m\u001b[0mbackward\u001b[0m\u001b[0;34m(\u001b[0m\u001b[0mself\u001b[0m\u001b[0;34m,\u001b[0m \u001b[0mgradient\u001b[0m\u001b[0;34m,\u001b[0m \u001b[0mretain_graph\u001b[0m\u001b[0;34m,\u001b[0m \u001b[0mcreate_graph\u001b[0m\u001b[0;34m)\u001b[0m\u001b[0;34m\u001b[0m\u001b[0;34m\u001b[0m\u001b[0m\n\u001b[0m\u001b[1;32m    103\u001b[0m \u001b[0;34m\u001b[0m\u001b[0m\n\u001b[1;32m    104\u001b[0m     \u001b[0;32mdef\u001b[0m \u001b[0mregister_hook\u001b[0m\u001b[0;34m(\u001b[0m\u001b[0mself\u001b[0m\u001b[0;34m,\u001b[0m \u001b[0mhook\u001b[0m\u001b[0;34m)\u001b[0m\u001b[0;34m:\u001b[0m\u001b[0;34m\u001b[0m\u001b[0;34m\u001b[0m\u001b[0m\n",
      "\u001b[0;32m~/anaconda3/lib/python3.6/site-packages/torch/autograd/__init__.py\u001b[0m in \u001b[0;36mbackward\u001b[0;34m(tensors, grad_tensors, retain_graph, create_graph, grad_variables)\u001b[0m\n\u001b[1;32m     88\u001b[0m     Variable._execution_engine.run_backward(\n\u001b[1;32m     89\u001b[0m         \u001b[0mtensors\u001b[0m\u001b[0;34m,\u001b[0m \u001b[0mgrad_tensors\u001b[0m\u001b[0;34m,\u001b[0m \u001b[0mretain_graph\u001b[0m\u001b[0;34m,\u001b[0m \u001b[0mcreate_graph\u001b[0m\u001b[0;34m,\u001b[0m\u001b[0;34m\u001b[0m\u001b[0;34m\u001b[0m\u001b[0m\n\u001b[0;32m---> 90\u001b[0;31m         allow_unreachable=True)  # allow_unreachable flag\n\u001b[0m\u001b[1;32m     91\u001b[0m \u001b[0;34m\u001b[0m\u001b[0m\n\u001b[1;32m     92\u001b[0m \u001b[0;34m\u001b[0m\u001b[0m\n",
      "\u001b[0;31mKeyboardInterrupt\u001b[0m: "
     ]
    }
   ],
   "source": [
    "y_t,theta, weight_vector = DeepMod_pretrained_nomse(X_train, y_train, network_config, library_1D, lib_config, optim_config,network,init_coeff)"
   ]
  },
  {
   "cell_type": "code",
   "execution_count": 62,
   "metadata": {},
   "outputs": [
    {
     "name": "stdout",
     "output_type": "stream",
     "text": [
      "Epoch | Total loss | MSE | PI | L1 \n",
      "0 2.8E+01 1.0E-03 2.8E+01 2.0E-07\n",
      "[ 0.2  0.   0.  -0.  -0.  -0.   0.   0.  -0.  -0. ]\n",
      "1000 3.5E+00 9.5E-01 2.6E+00 1.1E-06\n",
      "[-0.32  0.14 -0.    0.    0.01 -0.52  0.14 -0.    0.    0.01]\n",
      "2000 1.7E+00 8.7E-01 7.9E-01 9.1E-07\n",
      "[-0.2   0.14 -0.    0.    0.01 -0.4   0.14 -0.    0.    0.01]\n",
      "3000 1.2E+00 8.5E-01 3.4E-01 7.8E-07\n",
      "[-0.13  0.15 -0.    0.    0.01 -0.33  0.15 -0.    0.    0.01]\n",
      "4000 1.0E+00 8.4E-01 1.7E-01 6.9E-07\n",
      "[-0.08  0.16 -0.    0.    0.01 -0.28  0.16 -0.    0.    0.01]\n"
     ]
    },
    {
     "ename": "KeyboardInterrupt",
     "evalue": "",
     "output_type": "error",
     "traceback": [
      "\u001b[0;31m---------------------------------------------------------------------------\u001b[0m",
      "\u001b[0;31mKeyboardInterrupt\u001b[0m                         Traceback (most recent call last)",
      "\u001b[0;32m<ipython-input-62-f98773f155b2>\u001b[0m in \u001b[0;36m<module>\u001b[0;34m\u001b[0m\n\u001b[0;32m----> 1\u001b[0;31m \u001b[0my_t\u001b[0m\u001b[0;34m,\u001b[0m\u001b[0mtheta\u001b[0m\u001b[0;34m,\u001b[0m \u001b[0mweight_vector\u001b[0m \u001b[0;34m=\u001b[0m \u001b[0mDeepMod_single\u001b[0m\u001b[0;34m(\u001b[0m\u001b[0mX_train\u001b[0m\u001b[0;34m,\u001b[0m \u001b[0my_train\u001b[0m\u001b[0;34m,\u001b[0m \u001b[0mnetwork_config\u001b[0m\u001b[0;34m,\u001b[0m \u001b[0mlibrary_1D\u001b[0m\u001b[0;34m,\u001b[0m \u001b[0mlib_config\u001b[0m\u001b[0;34m,\u001b[0m \u001b[0moptim_config\u001b[0m\u001b[0;34m,\u001b[0m\u001b[0mnetwork\u001b[0m\u001b[0;34m,\u001b[0m\u001b[0minit_coeff\u001b[0m\u001b[0;34m)\u001b[0m\u001b[0;34m\u001b[0m\u001b[0;34m\u001b[0m\u001b[0m\n\u001b[0m",
      "\u001b[0;32m~/Documents/GitHub/DeepMoD_Torch/src/DeepMod.py\u001b[0m in \u001b[0;36mDeepMod_single\u001b[0;34m(data, target, network_config, library_type, library_config, optim_config, network, init_coeff)\u001b[0m\n\u001b[1;32m     54\u001b[0m \u001b[0;34m\u001b[0m\u001b[0m\n\u001b[1;32m     55\u001b[0m     \u001b[0;31m# Training of the network\u001b[0m\u001b[0;34m\u001b[0m\u001b[0;34m\u001b[0m\u001b[0;34m\u001b[0m\u001b[0m\n\u001b[0;32m---> 56\u001b[0;31m     \u001b[0my_t\u001b[0m\u001b[0;34m,\u001b[0m\u001b[0mtheta\u001b[0m\u001b[0;34m,\u001b[0m \u001b[0mweight_vector\u001b[0m \u001b[0;34m=\u001b[0m \u001b[0mTraining\u001b[0m\u001b[0;34m(\u001b[0m\u001b[0mdata\u001b[0m\u001b[0;34m,\u001b[0m \u001b[0mtarget\u001b[0m\u001b[0;34m,\u001b[0m \u001b[0moptim_config\u001b[0m\u001b[0;34m,\u001b[0m \u001b[0mlibrary_type\u001b[0m\u001b[0;34m,\u001b[0m \u001b[0mlibrary_config\u001b[0m\u001b[0;34m,\u001b[0m \u001b[0mnetwork\u001b[0m\u001b[0;34m,\u001b[0m \u001b[0mnetwork_config\u001b[0m\u001b[0;34m,\u001b[0m\u001b[0minit_coeff\u001b[0m\u001b[0;34m)\u001b[0m\u001b[0;34m\u001b[0m\u001b[0;34m\u001b[0m\u001b[0m\n\u001b[0m\u001b[1;32m     57\u001b[0m \u001b[0;34m\u001b[0m\u001b[0m\n\u001b[1;32m     58\u001b[0m \u001b[0;34m\u001b[0m\u001b[0m\n",
      "\u001b[0;32m~/Documents/GitHub/DeepMoD_Torch/src/neural_net.py\u001b[0m in \u001b[0;36mTraining\u001b[0;34m(data, target, optim_config, library_type, library_config, network, network_config, init_coef)\u001b[0m\n\u001b[1;32m     51\u001b[0m         \u001b[0;31m# Optimizwe step\u001b[0m\u001b[0;34m\u001b[0m\u001b[0;34m\u001b[0m\u001b[0;34m\u001b[0m\u001b[0m\n\u001b[1;32m     52\u001b[0m         \u001b[0moptimizer\u001b[0m\u001b[0;34m.\u001b[0m\u001b[0mzero_grad\u001b[0m\u001b[0;34m(\u001b[0m\u001b[0;34m)\u001b[0m\u001b[0;34m\u001b[0m\u001b[0;34m\u001b[0m\u001b[0m\n\u001b[0;32m---> 53\u001b[0;31m         \u001b[0mloss\u001b[0m\u001b[0;34m.\u001b[0m\u001b[0mbackward\u001b[0m\u001b[0;34m(\u001b[0m\u001b[0;34m)\u001b[0m\u001b[0;34m\u001b[0m\u001b[0;34m\u001b[0m\u001b[0m\n\u001b[0m\u001b[1;32m     54\u001b[0m         \u001b[0moptimizer\u001b[0m\u001b[0;34m.\u001b[0m\u001b[0mstep\u001b[0m\u001b[0;34m(\u001b[0m\u001b[0;34m)\u001b[0m\u001b[0;34m\u001b[0m\u001b[0;34m\u001b[0m\u001b[0m\n\u001b[1;32m     55\u001b[0m \u001b[0;34m\u001b[0m\u001b[0m\n",
      "\u001b[0;32m~/anaconda3/lib/python3.6/site-packages/torch/tensor.py\u001b[0m in \u001b[0;36mbackward\u001b[0;34m(self, gradient, retain_graph, create_graph)\u001b[0m\n\u001b[1;32m    100\u001b[0m                 \u001b[0mproducts\u001b[0m\u001b[0;34m.\u001b[0m \u001b[0mDefaults\u001b[0m \u001b[0mto\u001b[0m\u001b[0;31m \u001b[0m\u001b[0;31m`\u001b[0m\u001b[0;31m`\u001b[0m\u001b[0;32mFalse\u001b[0m\u001b[0;31m`\u001b[0m\u001b[0;31m`\u001b[0m\u001b[0;34m.\u001b[0m\u001b[0;34m\u001b[0m\u001b[0;34m\u001b[0m\u001b[0m\n\u001b[1;32m    101\u001b[0m         \"\"\"\n\u001b[0;32m--> 102\u001b[0;31m         \u001b[0mtorch\u001b[0m\u001b[0;34m.\u001b[0m\u001b[0mautograd\u001b[0m\u001b[0;34m.\u001b[0m\u001b[0mbackward\u001b[0m\u001b[0;34m(\u001b[0m\u001b[0mself\u001b[0m\u001b[0;34m,\u001b[0m \u001b[0mgradient\u001b[0m\u001b[0;34m,\u001b[0m \u001b[0mretain_graph\u001b[0m\u001b[0;34m,\u001b[0m \u001b[0mcreate_graph\u001b[0m\u001b[0;34m)\u001b[0m\u001b[0;34m\u001b[0m\u001b[0;34m\u001b[0m\u001b[0m\n\u001b[0m\u001b[1;32m    103\u001b[0m \u001b[0;34m\u001b[0m\u001b[0m\n\u001b[1;32m    104\u001b[0m     \u001b[0;32mdef\u001b[0m \u001b[0mregister_hook\u001b[0m\u001b[0;34m(\u001b[0m\u001b[0mself\u001b[0m\u001b[0;34m,\u001b[0m \u001b[0mhook\u001b[0m\u001b[0;34m)\u001b[0m\u001b[0;34m:\u001b[0m\u001b[0;34m\u001b[0m\u001b[0;34m\u001b[0m\u001b[0m\n",
      "\u001b[0;32m~/anaconda3/lib/python3.6/site-packages/torch/autograd/__init__.py\u001b[0m in \u001b[0;36mbackward\u001b[0;34m(tensors, grad_tensors, retain_graph, create_graph, grad_variables)\u001b[0m\n\u001b[1;32m     88\u001b[0m     Variable._execution_engine.run_backward(\n\u001b[1;32m     89\u001b[0m         \u001b[0mtensors\u001b[0m\u001b[0;34m,\u001b[0m \u001b[0mgrad_tensors\u001b[0m\u001b[0;34m,\u001b[0m \u001b[0mretain_graph\u001b[0m\u001b[0;34m,\u001b[0m \u001b[0mcreate_graph\u001b[0m\u001b[0;34m,\u001b[0m\u001b[0;34m\u001b[0m\u001b[0;34m\u001b[0m\u001b[0m\n\u001b[0;32m---> 90\u001b[0;31m         allow_unreachable=True)  # allow_unreachable flag\n\u001b[0m\u001b[1;32m     91\u001b[0m \u001b[0;34m\u001b[0m\u001b[0m\n\u001b[1;32m     92\u001b[0m \u001b[0;34m\u001b[0m\u001b[0m\n",
      "\u001b[0;31mKeyboardInterrupt\u001b[0m: "
     ]
    }
   ],
   "source": [
    "y_t,theta, weight_vector = DeepMod_single(X_train, y_train, network_config, library_1D, lib_config, optim_config,network,init_coeff)"
   ]
  },
  {
   "cell_type": "code",
   "execution_count": 347,
   "metadata": {},
   "outputs": [
    {
     "data": {
      "image/png": "[encoded data removed]",
      "text/plain": [
       "<Figure size 576x396 with 1 Axes>"
      ]
     },
     "metadata": {
      "needs_background": "light"
     },
     "output_type": "display_data"
    }
   ],
   "source": [
    "plt.scatter(X[:,0],y[:,0])\n",
    "plt.scatter(X[:,0],y[:,1])\n",
    "plt.scatter(X_train.detach().numpy(),prediction.detach().numpy()[:,0])\n",
    "plt.scatter(X_train.detach().numpy(),prediction.detach().numpy()[:,1])\n",
    "plt.show()"
   ]
  },
  {
   "cell_type": "code",
   "execution_count": 211,
   "metadata": {},
   "outputs": [],
   "source": [
    "from scipy.optimize import curve_fit"
   ]
  },
  {
   "cell_type": "code",
   "execution_count": 207,
   "metadata": {},
   "outputs": [],
   "source": [
    "def func(X, a, b, c, d):\n",
    "    x1,x2 = X\n",
    "    return a + b*x1 + c*x2 + d*x1*x2"
   ]
  },
  {
   "cell_type": "code",
   "execution_count": 234,
   "metadata": {},
   "outputs": [],
   "source": [
    "x1 = y[:,0]\n",
    "x2 = y[:,1]\n",
    "z1 = np.gradient(y[:,0],np.squeeze(X))\n",
    "z2 = np.gradient(y[:,1],np.squeeze(X))"
   ]
  },
  {
   "cell_type": "code",
   "execution_count": 235,
   "metadata": {},
   "outputs": [
    {
     "data": {
      "text/plain": [
       "array([ 1.61212549e-04, -2.50109150e-01,  9.99827395e-01,  1.10820518e-04])"
      ]
     },
     "execution_count": 235,
     "metadata": {},
     "output_type": "execute_result"
    }
   ],
   "source": [
    "# initial guesses for a,b,c:\n",
    "p0 = 0., 0., 0., 0.0\n",
    "curve_fit(func, (x1,x2), z1, p0)[0]"
   ]
  },
  {
   "cell_type": "code",
   "execution_count": 108,
   "metadata": {},
   "outputs": [
    {
     "name": "stdout",
     "output_type": "stream",
     "text": [
      "Epoch | Total loss | MSE | PI | L1 \n",
      "0 2.4E+00 9.0E-01 1.5E+00 1.0E-06\n",
      "[[1. 1.]\n",
      " [1. 1.]\n",
      " [1. 1.]\n",
      " [1. 1.]]\n"
     ]
    },
    {
     "ename": "KeyboardInterrupt",
     "evalue": "",
     "output_type": "error",
     "traceback": [
      "\u001b[0;31m---------------------------------------------------------------------------\u001b[0m",
      "\u001b[0;31mKeyboardInterrupt\u001b[0m                         Traceback (most recent call last)",
      "\u001b[0;32m<ipython-input-108-b6d44968c981>\u001b[0m in \u001b[0;36m<module>\u001b[0;34m\u001b[0m\n\u001b[0;32m----> 1\u001b[0;31m \u001b[0msparse_weight_vector\u001b[0m\u001b[0;34m,\u001b[0m \u001b[0msparsity_pattern\u001b[0m\u001b[0;34m,\u001b[0m \u001b[0mprediction\u001b[0m\u001b[0;34m,\u001b[0m \u001b[0mnetwork\u001b[0m \u001b[0;34m=\u001b[0m \u001b[0mDeepMod\u001b[0m\u001b[0;34m(\u001b[0m\u001b[0mX_train\u001b[0m\u001b[0;34m,\u001b[0m \u001b[0my_train\u001b[0m\u001b[0;34m,\u001b[0m\u001b[0mnetwork_config\u001b[0m\u001b[0;34m,\u001b[0m \u001b[0mlib_config\u001b[0m\u001b[0;34m,\u001b[0m \u001b[0moptim_config\u001b[0m\u001b[0;34m)\u001b[0m\u001b[0;34m\u001b[0m\u001b[0;34m\u001b[0m\u001b[0m\n\u001b[0m",
      "\u001b[0;32m~/Documents/GitHub/DeepMoD_Torch/src/DeepMod.py\u001b[0m in \u001b[0;36mDeepMod\u001b[0;34m(data, target, network_config, library_config, optim_config)\u001b[0m\n\u001b[1;32m     13\u001b[0m \u001b[0;34m\u001b[0m\u001b[0m\n\u001b[1;32m     14\u001b[0m     \u001b[0;31m# Training of the network\u001b[0m\u001b[0;34m\u001b[0m\u001b[0;34m\u001b[0m\u001b[0;34m\u001b[0m\u001b[0m\n\u001b[0;32m---> 15\u001b[0;31m     \u001b[0my_t\u001b[0m\u001b[0;34m,\u001b[0m\u001b[0mtheta\u001b[0m\u001b[0;34m,\u001b[0m \u001b[0mweight_vector\u001b[0m \u001b[0;34m=\u001b[0m \u001b[0mTraining\u001b[0m\u001b[0;34m(\u001b[0m\u001b[0mdata\u001b[0m\u001b[0;34m,\u001b[0m \u001b[0mtarget\u001b[0m\u001b[0;34m,\u001b[0m \u001b[0moptim_config\u001b[0m\u001b[0;34m,\u001b[0m \u001b[0mlibrary_config\u001b[0m\u001b[0;34m,\u001b[0m \u001b[0mnetwork\u001b[0m\u001b[0;34m,\u001b[0m \u001b[0mnetwork_config\u001b[0m\u001b[0;34m)\u001b[0m\u001b[0;34m\u001b[0m\u001b[0;34m\u001b[0m\u001b[0m\n\u001b[0m\u001b[1;32m     16\u001b[0m \u001b[0;34m\u001b[0m\u001b[0m\n\u001b[1;32m     17\u001b[0m     \u001b[0;31m# Scaling\u001b[0m\u001b[0;34m\u001b[0m\u001b[0;34m\u001b[0m\u001b[0;34m\u001b[0m\u001b[0m\n",
      "\u001b[0;32m~/Documents/GitHub/DeepMoD_Torch/src/neural_net.py\u001b[0m in \u001b[0;36mTraining\u001b[0;34m(data, target, optim_config, library_config, network, network_config)\u001b[0m\n\u001b[1;32m     50\u001b[0m         \u001b[0;31m# Optimizwe step\u001b[0m\u001b[0;34m\u001b[0m\u001b[0;34m\u001b[0m\u001b[0;34m\u001b[0m\u001b[0m\n\u001b[1;32m     51\u001b[0m         \u001b[0moptimizer\u001b[0m\u001b[0;34m.\u001b[0m\u001b[0mzero_grad\u001b[0m\u001b[0;34m(\u001b[0m\u001b[0;34m)\u001b[0m\u001b[0;34m\u001b[0m\u001b[0;34m\u001b[0m\u001b[0m\n\u001b[0;32m---> 52\u001b[0;31m         \u001b[0mloss\u001b[0m\u001b[0;34m.\u001b[0m\u001b[0mbackward\u001b[0m\u001b[0;34m(\u001b[0m\u001b[0;34m)\u001b[0m\u001b[0;34m\u001b[0m\u001b[0;34m\u001b[0m\u001b[0m\n\u001b[0m\u001b[1;32m     53\u001b[0m         \u001b[0moptimizer\u001b[0m\u001b[0;34m.\u001b[0m\u001b[0mstep\u001b[0m\u001b[0;34m(\u001b[0m\u001b[0;34m)\u001b[0m\u001b[0;34m\u001b[0m\u001b[0;34m\u001b[0m\u001b[0m\n\u001b[1;32m     54\u001b[0m \u001b[0;34m\u001b[0m\u001b[0m\n",
      "\u001b[0;32m~/anaconda3/lib/python3.6/site-packages/torch/tensor.py\u001b[0m in \u001b[0;36mbackward\u001b[0;34m(self, gradient, retain_graph, create_graph)\u001b[0m\n\u001b[1;32m    100\u001b[0m                 \u001b[0mproducts\u001b[0m\u001b[0;34m.\u001b[0m \u001b[0mDefaults\u001b[0m \u001b[0mto\u001b[0m\u001b[0;31m \u001b[0m\u001b[0;31m`\u001b[0m\u001b[0;31m`\u001b[0m\u001b[0;32mFalse\u001b[0m\u001b[0;31m`\u001b[0m\u001b[0;31m`\u001b[0m\u001b[0;34m.\u001b[0m\u001b[0;34m\u001b[0m\u001b[0;34m\u001b[0m\u001b[0m\n\u001b[1;32m    101\u001b[0m         \"\"\"\n\u001b[0;32m--> 102\u001b[0;31m         \u001b[0mtorch\u001b[0m\u001b[0;34m.\u001b[0m\u001b[0mautograd\u001b[0m\u001b[0;34m.\u001b[0m\u001b[0mbackward\u001b[0m\u001b[0;34m(\u001b[0m\u001b[0mself\u001b[0m\u001b[0;34m,\u001b[0m \u001b[0mgradient\u001b[0m\u001b[0;34m,\u001b[0m \u001b[0mretain_graph\u001b[0m\u001b[0;34m,\u001b[0m \u001b[0mcreate_graph\u001b[0m\u001b[0;34m)\u001b[0m\u001b[0;34m\u001b[0m\u001b[0;34m\u001b[0m\u001b[0m\n\u001b[0m\u001b[1;32m    103\u001b[0m \u001b[0;34m\u001b[0m\u001b[0m\n\u001b[1;32m    104\u001b[0m     \u001b[0;32mdef\u001b[0m \u001b[0mregister_hook\u001b[0m\u001b[0;34m(\u001b[0m\u001b[0mself\u001b[0m\u001b[0;34m,\u001b[0m \u001b[0mhook\u001b[0m\u001b[0;34m)\u001b[0m\u001b[0;34m:\u001b[0m\u001b[0;34m\u001b[0m\u001b[0;34m\u001b[0m\u001b[0m\n",
      "\u001b[0;32m~/anaconda3/lib/python3.6/site-packages/torch/autograd/__init__.py\u001b[0m in \u001b[0;36mbackward\u001b[0;34m(tensors, grad_tensors, retain_graph, create_graph, grad_variables)\u001b[0m\n\u001b[1;32m     88\u001b[0m     Variable._execution_engine.run_backward(\n\u001b[1;32m     89\u001b[0m         \u001b[0mtensors\u001b[0m\u001b[0;34m,\u001b[0m \u001b[0mgrad_tensors\u001b[0m\u001b[0;34m,\u001b[0m \u001b[0mretain_graph\u001b[0m\u001b[0;34m,\u001b[0m \u001b[0mcreate_graph\u001b[0m\u001b[0;34m,\u001b[0m\u001b[0;34m\u001b[0m\u001b[0;34m\u001b[0m\u001b[0m\n\u001b[0;32m---> 90\u001b[0;31m         allow_unreachable=True)  # allow_unreachable flag\n\u001b[0m\u001b[1;32m     91\u001b[0m \u001b[0;34m\u001b[0m\u001b[0m\n\u001b[1;32m     92\u001b[0m \u001b[0;34m\u001b[0m\u001b[0m\n",
      "\u001b[0;31mKeyboardInterrupt\u001b[0m: "
     ]
    }
   ],
   "source": [
    "sparse_weight_vector, sparsity_pattern, prediction, network = DeepMod(X_train, y_train,network_config, lib_config, optim_config)"
   ]
  },
  {
   "cell_type": "code",
   "execution_count": 202,
   "metadata": {},
   "outputs": [],
   "source": [
    "testlib = np.array([y[:,0],y[:,1],y[:,0]*y[:,1]])"
   ]
  },
  {
   "cell_type": "code",
   "execution_count": 187,
   "metadata": {},
   "outputs": [
    {
     "data": {
      "text/plain": [
       "(1900, 1)"
      ]
     },
     "execution_count": 187,
     "metadata": {},
     "output_type": "execute_result"
    }
   ],
   "source": [
    "X.shape"
   ]
  },
  {
   "cell_type": "code",
   "execution_count": 188,
   "metadata": {},
   "outputs": [],
   "source": [
    "def reg_m(y, x):\n",
    "    ones = np.ones(len(x[0]))\n",
    "    X = sm.add_constant(np.column_stack((x[0], ones)))\n",
    "    for ele in x[1:]:\n",
    "        X = sm.add_constant(np.column_stack((ele, X)))\n",
    "    results = sm.OLS(y, X).fit()\n",
    "    return results"
   ]
  },
  {
   "cell_type": "code",
   "execution_count": 205,
   "metadata": {},
   "outputs": [
    {
     "name": "stdout",
     "output_type": "stream",
     "text": [
      "                            OLS Regression Results                            \n",
      "==============================================================================\n",
      "Dep. Variable:                      y   R-squared:                       1.000\n",
      "Model:                            OLS   Adj. R-squared:                  1.000\n",
      "Method:                 Least Squares   F-statistic:                 2.376e+11\n",
      "Date:                Sun, 09 Jun 2019   Prob (F-statistic):               0.00\n",
      "Time:                        16:00:25   Log-Likelihood:                 32269.\n",
      "No. Observations:                1900   AIC:                        -6.453e+04\n",
      "Df Residuals:                    1896   BIC:                        -6.451e+04\n",
      "Df Model:                           3                                         \n",
      "Covariance Type:            nonrobust                                         \n",
      "==============================================================================\n",
      "                 coef    std err          t      P>|t|      [0.025      0.975]\n",
      "------------------------------------------------------------------------------\n",
      "x1           1.11e-07   3.02e-08      3.672      0.000    5.17e-08     1.7e-07\n",
      "x2             0.0010   4.96e-08   2.01e+04      0.000       0.001       0.001\n",
      "x3            -0.0003   3.66e-08  -6831.393      0.000      -0.000      -0.000\n",
      "const       1.608e-07   5.51e-08      2.921      0.004    5.29e-08    2.69e-07\n",
      "==============================================================================\n",
      "Omnibus:                     5701.078   Durbin-Watson:                   1.013\n",
      "Prob(Omnibus):                  0.000   Jarque-Bera (JB):        259038047.981\n",
      "Skew:                         -41.970   Prob(JB):                         0.00\n",
      "Kurtosis:                    1809.935   Cond. No.                         708.\n",
      "==============================================================================\n",
      "\n",
      "Warnings:\n",
      "[1] Standard Errors assume that the covariance matrix of the errors is correctly specified.\n"
     ]
    }
   ],
   "source": [
    "print(reg_m(np.gradient(y[:,0]), x).summary())"
   ]
  },
  {
   "cell_type": "code",
   "execution_count": 78,
   "metadata": {},
   "outputs": [
    {
     "data": {
      "text/plain": [
       "<matplotlib.collections.PathCollection at 0xb24adaba8>"
      ]
     },
     "execution_count": 78,
     "metadata": {},
     "output_type": "execute_result"
    },
    {
     "data": {
      "image/png": "[encoded data removed]",
      "text/plain": [
       "<Figure size 432x288 with 1 Axes>"
      ]
     },
     "metadata": {
      "needs_background": "light"
     },
     "output_type": "display_data"
    }
   ],
   "source": [
    "plt.scatter(X_train.detach().numpy(),prediction.detach().numpy()[:,0])\n",
    "plt.scatter(X_train.detach().numpy(),prediction.detach().numpy()[:,1])"
   ]
  },
  {
   "cell_type": "code",
   "execution_count": null,
   "metadata": {},
   "outputs": [],
   "source": [
    "prediction = network(torch.tensor(X, dtype=torch.float32))"
   ]
  },
  {
   "cell_type": "code",
   "execution_count": 15,
   "metadata": {},
   "outputs": [],
   "source": [
    "prediction = prediction.detach().numpy()"
   ]
  },
  {
   "cell_type": "code",
   "execution_count": 64,
   "metadata": {},
   "outputs": [],
   "source": [
    "x, y = np.meshgrid(X[:,0], X[:,1])"
   ]
  },
  {
   "cell_type": "code",
   "execution_count": 145,
   "metadata": {},
   "outputs": [],
   "source": [
    "mask = torch.tensor((0,1,3))"
   ]
  },
  {
   "cell_type": "code",
   "execution_count": 157,
   "metadata": {},
   "outputs": [
    {
     "data": {
      "text/plain": [
       "tensor([0, 1, 3])"
      ]
     },
     "execution_count": 157,
     "metadata": {},
     "output_type": "execute_result"
    }
   ],
   "source": [
    "mask"
   ]
  },
  {
   "cell_type": "code",
   "execution_count": 158,
   "metadata": {},
   "outputs": [],
   "source": [
    "sparse_coefs = torch.tensor((0.1,0.2,0.4)).reshape(-1,1)"
   ]
  },
  {
   "cell_type": "code",
   "execution_count": 159,
   "metadata": {},
   "outputs": [
    {
     "data": {
      "text/plain": [
       "tensor([[0.1000],\n",
       "        [0.2000],\n",
       "        [0.4000]])"
      ]
     },
     "execution_count": 159,
     "metadata": {},
     "output_type": "execute_result"
    }
   ],
   "source": [
    "sparse_coefs"
   ]
  },
  {
   "cell_type": "code",
   "execution_count": 291,
   "metadata": {},
   "outputs": [],
   "source": [
    "dummy = torch.ones((5,3,1))\n",
    "dummy2 = torch.ones((5,1,4))"
   ]
  },
  {
   "cell_type": "code",
   "execution_count": 292,
   "metadata": {},
   "outputs": [
    {
     "data": {
      "text/plain": [
       "torch.Size([5, 3, 4])"
      ]
     },
     "execution_count": 292,
     "metadata": {},
     "output_type": "execute_result"
    }
   ],
   "source": [
    "(dummy @ dummy2).shape"
   ]
  },
  {
   "cell_type": "code",
   "execution_count": 293,
   "metadata": {},
   "outputs": [
    {
     "data": {
      "text/plain": [
       "torch.Size([5, 3, 1])"
      ]
     },
     "execution_count": 293,
     "metadata": {},
     "output_type": "execute_result"
    }
   ],
   "source": [
    "dummy.shape"
   ]
  },
  {
   "cell_type": "code",
   "execution_count": 294,
   "metadata": {},
   "outputs": [
    {
     "data": {
      "text/plain": [
       "torch.Size([5, 3, 1])"
      ]
     },
     "execution_count": 294,
     "metadata": {},
     "output_type": "execute_result"
    }
   ],
   "source": [
    "dummy.reshape(-1,3,1).shape"
   ]
  },
  {
   "cell_type": "code",
   "execution_count": 164,
   "metadata": {},
   "outputs": [],
   "source": [
    "dummy = dummy.reshape(2,2)"
   ]
  },
  {
   "cell_type": "code",
   "execution_count": 128,
   "metadata": {},
   "outputs": [
    {
     "ename": "TypeError",
     "evalue": "'Tensor' object is not callable",
     "output_type": "error",
     "traceback": [
      "\u001b[0;31m---------------------------------------------------------------------------\u001b[0m",
      "\u001b[0;31mTypeError\u001b[0m                                 Traceback (most recent call last)",
      "\u001b[0;32m<ipython-input-128-05a08feb86bd>\u001b[0m in \u001b[0;36m<module>\u001b[0;34m\u001b[0m\n\u001b[0;32m----> 1\u001b[0;31m \u001b[0mtorch\u001b[0m\u001b[0;34m.\u001b[0m\u001b[0mwhere\u001b[0m\u001b[0;34m(\u001b[0m\u001b[0mcoefs\u001b[0m\u001b[0;34m(\u001b[0m\u001b[0mmask\u001b[0m\u001b[0;34m)\u001b[0m\u001b[0;34m,\u001b[0m\u001b[0mcoefs\u001b[0m\u001b[0;34m,\u001b[0m\u001b[0mdummy\u001b[0m\u001b[0;34m)\u001b[0m\u001b[0;34m\u001b[0m\u001b[0;34m\u001b[0m\u001b[0m\n\u001b[0m",
      "\u001b[0;31mTypeError\u001b[0m: 'Tensor' object is not callable"
     ]
    }
   ],
   "source": [
    "torch.where(coefs(mask),coefs,dummy)"
   ]
  },
  {
   "cell_type": "code",
   "execution_count": 45,
   "metadata": {},
   "outputs": [],
   "source": [
    "x = np.linspace(0, 1, 100)\n",
    "X, Y = np.meshgrid(x, x)\n",
    "Z = np.sin(X)*np.sin(Y)\n"
   ]
  },
  {
   "cell_type": "code",
   "execution_count": 30,
   "metadata": {},
   "outputs": [],
   "source": [
    "b = torch.ones((10, 2), dtype=torch.float32, requires_grad=True)"
   ]
  },
  {
   "cell_type": "code",
   "execution_count": 31,
   "metadata": {},
   "outputs": [],
   "source": [
    "a = torch.tensor(np.ones((2,10)), dtype=torch.float32)"
   ]
  },
  {
   "cell_type": "code",
   "execution_count": 13,
   "metadata": {},
   "outputs": [],
   "source": [
    "test=torch.tensor([[0.3073, 0.4409],\n",
    "        [0.0212, 0.6602]])"
   ]
  },
  {
   "cell_type": "code",
   "execution_count": 17,
   "metadata": {},
   "outputs": [
    {
     "data": {
      "text/plain": [
       "tensor([[0.3073, 0.4409],\n",
       "        [0.0000, 0.6602]])"
      ]
     },
     "execution_count": 17,
     "metadata": {},
     "output_type": "execute_result"
    }
   ],
   "source": [
    "torch.where(test>torch.tensor(0.3),test, torch.zeros_like(test))"
   ]
  },
  {
   "cell_type": "raw",
   "metadata": {},
   "source": [
    "test2=torch.reshape(test, (1,4))"
   ]
  },
  {
   "cell_type": "code",
   "execution_count": 83,
   "metadata": {},
   "outputs": [
    {
     "data": {
      "text/plain": [
       "tensor([[0.3073],\n",
       "        [0.4409],\n",
       "        [0.0212],\n",
       "        [0.6602]])"
      ]
     },
     "execution_count": 83,
     "metadata": {},
     "output_type": "execute_result"
    }
   ],
   "source": [
    "test2[0,:].reshape(-1,1)"
   ]
  },
  {
   "cell_type": "code",
   "execution_count": 47,
   "metadata": {},
   "outputs": [],
   "source": [
    "mask=torch.nonzero(test2[0,:])"
   ]
  },
  {
   "cell_type": "code",
   "execution_count": 39,
   "metadata": {},
   "outputs": [
    {
     "ename": "RuntimeError",
     "evalue": "shape '[1, 4]' is invalid for input of size 8",
     "output_type": "error",
     "traceback": [
      "\u001b[0;31m---------------------------------------------------------------------------\u001b[0m",
      "\u001b[0;31mRuntimeError\u001b[0m                              Traceback (most recent call last)",
      "\u001b[0;32m<ipython-input-39-d2039f70455e>\u001b[0m in \u001b[0;36m<module>\u001b[0;34m\u001b[0m\n\u001b[0;32m----> 1\u001b[0;31m \u001b[0mmask\u001b[0m\u001b[0;34m=\u001b[0m\u001b[0mtorch\u001b[0m\u001b[0;34m.\u001b[0m\u001b[0mreshape\u001b[0m\u001b[0;34m(\u001b[0m\u001b[0mtorch\u001b[0m\u001b[0;34m.\u001b[0m\u001b[0mnonzero\u001b[0m\u001b[0;34m(\u001b[0m\u001b[0mtest2\u001b[0m\u001b[0;34m)\u001b[0m\u001b[0;34m,\u001b[0m \u001b[0;34m(\u001b[0m\u001b[0;36m1\u001b[0m\u001b[0;34m,\u001b[0m\u001b[0;36m4\u001b[0m\u001b[0;34m)\u001b[0m\u001b[0;34m)\u001b[0m\u001b[0;34m\u001b[0m\u001b[0;34m\u001b[0m\u001b[0m\n\u001b[0m",
      "\u001b[0;31mRuntimeError\u001b[0m: shape '[1, 4]' is invalid for input of size 8"
     ]
    }
   ],
   "source": [
    "mask=torch.reshape(torch.nonzero(test2), (1,4))"
   ]
  },
  {
   "cell_type": "code",
   "execution_count": 48,
   "metadata": {},
   "outputs": [
    {
     "data": {
      "text/plain": [
       "tensor([[0],\n",
       "        [1],\n",
       "        [2],\n",
       "        [3]])"
      ]
     },
     "execution_count": 48,
     "metadata": {},
     "output_type": "execute_result"
    }
   ],
   "source": [
    "mask"
   ]
  },
  {
   "cell_type": "code",
   "execution_count": 54,
   "metadata": {},
   "outputs": [
    {
     "ename": "RuntimeError",
     "evalue": "index 1 is out of bounds for dim with size 1",
     "output_type": "error",
     "traceback": [
      "\u001b[0;31m---------------------------------------------------------------------------\u001b[0m",
      "\u001b[0;31mRuntimeError\u001b[0m                              Traceback (most recent call last)",
      "\u001b[0;32m<ipython-input-54-e2c1496ec290>\u001b[0m in \u001b[0;36m<module>\u001b[0;34m\u001b[0m\n\u001b[0;32m----> 1\u001b[0;31m \u001b[0mtest2\u001b[0m\u001b[0;34m[\u001b[0m\u001b[0mmask\u001b[0m\u001b[0;34m[\u001b[0m\u001b[0;36m1\u001b[0m\u001b[0;34m]\u001b[0m\u001b[0;34m]\u001b[0m\u001b[0;34m\u001b[0m\u001b[0;34m\u001b[0m\u001b[0m\n\u001b[0m",
      "\u001b[0;31mRuntimeError\u001b[0m: index 1 is out of bounds for dim with size 1"
     ]
    }
   ],
   "source": [
    "test2[mask[1]]"
   ]
  },
  {
   "cell_type": "code",
   "execution_count": 49,
   "metadata": {},
   "outputs": [
    {
     "data": {
      "text/plain": [
       "10"
      ]
     },
     "execution_count": 49,
     "metadata": {},
     "output_type": "execute_result"
    }
   ],
   "source": [
    "a.shape[1]"
   ]
  },
  {
   "cell_type": "code",
   "execution_count": null,
   "metadata": {},
   "outputs": [],
   "source": []
  }
 ],
 "metadata": {
  "kernelspec": {
   "display_name": "Python 3",
   "language": "python",
   "name": "python3"
  },
  "language_info": {
   "codemirror_mode": {
    "name": "ipython",
    "version": 3
   },
   "file_extension": ".py",
   "mimetype": "text/x-python",
   "name": "python",
   "nbconvert_exporter": "python",
   "pygments_lexer": "ipython3",
   "version": "3.6.8"
  }
 },
 "nbformat": 4,
 "nbformat_minor": 2
}
