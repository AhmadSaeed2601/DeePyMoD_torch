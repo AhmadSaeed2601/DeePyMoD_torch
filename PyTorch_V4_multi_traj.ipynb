{
 "cells": [
  {
   "cell_type": "code",
   "execution_count": 3,
   "metadata": {},
   "outputs": [],
   "source": [
    "import sys\n",
    "sys.path.append('src/')\n",
    "import numpy as np\n",
    "import torch, torch.nn\n",
    "from library_function import library_1D\n",
    "from neural_net import LinNetwork\n",
    "from DeepMod import DeepMod\n",
    "import matplotlib.pyplot as plt\n",
    "plt.style.use('seaborn-notebook')\n",
    "import torch.nn as nn\n",
    "from torch.autograd import grad\n",
    "from scipy.io import loadmat\n",
    "\n",
    "%load_ext autoreload\n",
    "%autoreload 2"
   ]
  },
  {
   "cell_type": "markdown",
   "metadata": {},
   "source": [
    "# Preparing data"
   ]
  },
  {
   "cell_type": "code",
   "execution_count": 44,
   "metadata": {},
   "outputs": [],
   "source": [
    "rawdata = loadmat('data/kinetics_new.mat')\n",
    "rawdata2 = loadmat('data/kinetics_new2.mat')\n",
    "raw = np.real(rawdata['Expression1'])\n",
    "raw= raw.reshape((1901,3))\n",
    "rawb= raw.reshape((1901,3))\n",
    "t = raw[:-1,0].reshape(-1,1)\n",
    "X1= raw[:-1,1]\n",
    "X2 = raw[:-1,2]\n",
    "X1b= rawb[:-1,1]\n",
    "X2b = rawb[:-1,2]"
   ]
  },
  {
   "cell_type": "code",
   "execution_count": 23,
   "metadata": {},
   "outputs": [],
   "source": [
    "n=[]\n",
    "for k in range(0,10):\n",
    "    n.extend(k*np.ones(190))\n",
    "n = np.asarray(n).reshape(-1,1)"
   ]
  },
  {
   "cell_type": "code",
   "execution_count": 24,
   "metadata": {},
   "outputs": [],
   "source": [
    "X = np.transpose((t, n)).reshape(-1,2)"
   ]
  },
  {
   "cell_type": "code",
   "execution_count": 25,
   "metadata": {},
   "outputs": [],
   "source": [
    "y= np.vstack((X1,X2))\n",
    "y = np.transpose(y)"
   ]
  },
  {
   "cell_type": "code",
   "execution_count": 26,
   "metadata": {},
   "outputs": [],
   "source": [
    "number_of_samples = 1000"
   ]
  },
  {
   "cell_type": "code",
   "execution_count": 27,
   "metadata": {},
   "outputs": [],
   "source": [
    "idx = np.random.permutation(y.shape[0])"
   ]
  },
  {
   "cell_type": "code",
   "execution_count": 28,
   "metadata": {},
   "outputs": [],
   "source": [
    "X_train = torch.tensor(X[idx, :][:number_of_samples], dtype=torch.float32, requires_grad=True)"
   ]
  },
  {
   "cell_type": "code",
   "execution_count": 29,
   "metadata": {},
   "outputs": [],
   "source": [
    "y_train = torch.tensor(y[idx, :][:number_of_samples], dtype=torch.float32)"
   ]
  },
  {
   "cell_type": "code",
   "execution_count": 30,
   "metadata": {},
   "outputs": [
    {
     "data": {
      "text/plain": [
       "torch.Size([1000, 2])"
      ]
     },
     "execution_count": 30,
     "metadata": {},
     "output_type": "execute_result"
    }
   ],
   "source": [
    "X_train.shape"
   ]
  },
  {
   "cell_type": "markdown",
   "metadata": {},
   "source": [
    "# Building network"
   ]
  },
  {
   "cell_type": "code",
   "execution_count": 38,
   "metadata": {},
   "outputs": [],
   "source": [
    "optim_config ={'lambda':1e-6,'max_iteration':50000}\n",
    "lib_config={'poly_order':1, 'diff_order':2, 'total_terms':4}\n",
    "network_config={'input_dim':2, 'hidden_dim':20, 'layers':5, 'output_dim':2}"
   ]
  },
  {
   "cell_type": "code",
   "execution_count": 40,
   "metadata": {},
   "outputs": [
    {
     "name": "stdout",
     "output_type": "stream",
     "text": [
      "Epoch | Total loss | MSE | PI | L1 \n",
      "0 1.8E+00 1.2E+00 5.8E-01 1.0E-06\n",
      "[[1. 1.]\n",
      " [1. 1.]\n",
      " [1. 1.]\n",
      " [1. 1.]]\n",
      "1000 2.8E-02 2.8E-02 5.2E-04 8.7E-07\n",
      "[[0.82 0.85]\n",
      " [0.66 0.74]\n",
      " [0.98 1.  ]\n",
      " [0.93 0.98]]\n",
      "2000 1.9E-02 1.8E-02 1.4E-03 7.1E-07\n",
      "[[0.68 0.74]\n",
      " [0.42 0.56]\n",
      " [0.86 0.89]\n",
      " [0.73 0.82]]\n",
      "3000 8.6E-03 8.6E-03 5.2E-05 5.1E-07\n",
      "[[0.51 0.58]\n",
      " [0.13 0.32]\n",
      " [0.69 0.75]\n",
      " [0.46 0.62]]\n",
      "4000 2.7E-03 2.6E-03 2.4E-05 3.3E-07\n",
      "[[ 0.35  0.41]\n",
      " [-0.13  0.06]\n",
      " [ 0.51  0.6 ]\n",
      " [ 0.2   0.41]]\n",
      "5000 6.0E-04 5.7E-04 2.4E-05 2.6E-07\n",
      "[[ 0.25  0.28]\n",
      " [-0.27 -0.12]\n",
      " [ 0.38  0.48]\n",
      " [ 0.02  0.26]]\n",
      "6000 1.4E-04 1.3E-04 5.0E-06 2.5E-07\n",
      "[[ 0.2   0.22]\n",
      " [-0.35 -0.21]\n",
      " [ 0.29  0.42]\n",
      " [-0.12  0.18]]\n",
      "7000 8.5E-05 8.3E-05 1.5E-06 2.5E-07\n",
      "[[ 0.18  0.21]\n",
      " [-0.36 -0.24]\n",
      " [ 0.23  0.41]\n",
      " [-0.19  0.16]]\n",
      "8000 7.0E-05 6.9E-05 1.1E-06 2.5E-07\n",
      "[[ 0.19  0.2 ]\n",
      " [-0.33 -0.25]\n",
      " [ 0.18  0.42]\n",
      " [-0.23  0.16]]\n",
      "9000 5.8E-05 5.7E-05 9.8E-07 2.5E-07\n",
      "[[ 0.2   0.2 ]\n",
      " [-0.3  -0.26]\n",
      " [ 0.13  0.43]\n",
      " [-0.27  0.17]]\n",
      "10000 4.8E-05 4.7E-05 8.6E-07 2.5E-07\n",
      "[[ 0.21  0.2 ]\n",
      " [-0.27 -0.28]\n",
      " [ 0.08  0.46]\n",
      " [-0.3   0.18]]\n",
      "11000 4.2E-05 4.0E-05 1.4E-06 2.5E-07\n",
      "[[ 0.22  0.2 ]\n",
      " [-0.25 -0.29]\n",
      " [ 0.04  0.47]\n",
      " [-0.33  0.19]]\n",
      "12000 3.3E-05 3.2E-05 7.3E-07 2.5E-07\n",
      "[[ 0.22  0.19]\n",
      " [-0.23 -0.3 ]\n",
      " [-0.    0.49]\n",
      " [-0.35  0.2 ]]\n",
      "13000 3.5E-05 3.3E-05 2.3E-06 2.6E-07\n",
      "[[ 0.23  0.19]\n",
      " [-0.2  -0.31]\n",
      " [-0.04  0.51]\n",
      " [-0.37  0.21]]\n",
      "14000 2.3E-05 2.2E-05 6.7E-07 2.7E-07\n",
      "[[ 0.24  0.19]\n",
      " [-0.19 -0.31]\n",
      " [-0.07  0.52]\n",
      " [-0.39  0.22]]\n",
      "15000 1.9E-05 1.8E-05 7.0E-07 2.7E-07\n",
      "[[ 0.25  0.19]\n",
      " [-0.17 -0.32]\n",
      " [-0.11  0.53]\n",
      " [-0.41  0.22]]\n",
      "16000 1.6E-05 1.5E-05 6.6E-07 2.8E-07\n",
      "[[ 0.25  0.19]\n",
      " [-0.15 -0.33]\n",
      " [-0.13  0.54]\n",
      " [-0.43  0.23]]\n",
      "17000 1.4E-05 1.3E-05 7.5E-07 2.9E-07\n",
      "[[ 0.26  0.19]\n",
      " [-0.14 -0.33]\n",
      " [-0.16  0.55]\n",
      " [-0.44  0.23]]\n",
      "18000 1.1E-05 1.0E-05 6.4E-07 2.9E-07\n",
      "[[ 0.26  0.18]\n",
      " [-0.13 -0.34]\n",
      " [-0.18  0.56]\n",
      " [-0.46  0.24]]\n",
      "19000 9.8E-06 8.8E-06 6.4E-07 3.0E-07\n",
      "[[ 0.26  0.18]\n",
      " [-0.11 -0.34]\n",
      " [-0.2   0.57]\n",
      " [-0.47  0.24]]\n",
      "20000 8.3E-06 7.4E-06 6.0E-07 3.0E-07\n",
      "[[ 0.27  0.18]\n",
      " [-0.1  -0.34]\n",
      " [-0.22  0.57]\n",
      " [-0.48  0.24]]\n",
      "21000 1.4E-05 1.1E-05 2.9E-06 3.1E-07\n",
      "[[ 0.27  0.18]\n",
      " [-0.09 -0.35]\n",
      " [-0.24  0.58]\n",
      " [-0.49  0.25]]\n",
      "22000 6.9E-06 5.6E-06 1.0E-06 3.1E-07\n",
      "[[ 0.27  0.18]\n",
      " [-0.09 -0.35]\n",
      " [-0.26  0.59]\n",
      " [-0.5   0.25]]\n",
      "23000 8.4E-06 5.6E-06 2.5E-06 3.1E-07\n",
      "[[ 0.27  0.18]\n",
      " [-0.08 -0.35]\n",
      " [-0.27  0.59]\n",
      " [-0.5   0.25]]\n",
      "24000 6.2E-06 5.2E-06 7.0E-07 3.2E-07\n",
      "[[ 0.28  0.18]\n",
      " [-0.07 -0.36]\n",
      " [-0.28  0.59]\n",
      " [-0.51  0.25]]\n",
      "25000 3.9E-05 1.5E-05 2.4E-05 3.2E-07\n",
      "[[ 0.28  0.18]\n",
      " [-0.06 -0.36]\n",
      " [-0.29  0.6 ]\n",
      " [-0.52  0.25]]\n",
      "26000 3.7E-06 3.0E-06 4.2E-07 3.2E-07\n",
      "[[ 0.28  0.18]\n",
      " [-0.06 -0.36]\n",
      " [-0.3   0.6 ]\n",
      " [-0.52  0.26]]\n",
      "27000 3.7E-06 2.7E-06 6.5E-07 3.2E-07\n",
      "[[ 0.28  0.18]\n",
      " [-0.05 -0.36]\n",
      " [-0.31  0.6 ]\n",
      " [-0.53  0.26]]\n",
      "28000 3.5E-06 2.4E-06 6.9E-07 3.2E-07\n",
      "[[ 0.28  0.18]\n",
      " [-0.05 -0.36]\n",
      " [-0.32  0.61]\n",
      " [-0.53  0.26]]\n",
      "29000 6.5E-06 5.2E-06 9.9E-07 3.3E-07\n",
      "[[ 0.28  0.18]\n",
      " [-0.04 -0.36]\n",
      " [-0.33  0.61]\n",
      " [-0.54  0.26]]\n",
      "30000 2.5E-06 1.9E-06 3.4E-07 3.3E-07\n",
      "[[ 0.28  0.18]\n",
      " [-0.04 -0.37]\n",
      " [-0.34  0.61]\n",
      " [-0.54  0.26]]\n",
      "31000 2.8E-06 2.1E-06 3.9E-07 3.3E-07\n",
      "[[ 0.28  0.18]\n",
      " [-0.04 -0.37]\n",
      " [-0.34  0.62]\n",
      " [-0.54  0.26]]\n",
      "32000 2.2E-06 1.6E-06 3.7E-07 3.3E-07\n",
      "[[ 0.28  0.18]\n",
      " [-0.03 -0.37]\n",
      " [-0.35  0.62]\n",
      " [-0.54  0.26]]\n",
      "33000 2.0E-06 1.4E-06 2.7E-07 3.3E-07\n",
      "[[ 0.28  0.18]\n",
      " [-0.03 -0.37]\n",
      " [-0.36  0.62]\n",
      " [-0.55  0.26]]\n",
      "34000 1.8E-06 1.3E-06 2.4E-07 3.3E-07\n",
      "[[ 0.28  0.18]\n",
      " [-0.03 -0.37]\n",
      " [-0.36  0.62]\n",
      " [-0.55  0.26]]\n",
      "35000 2.3E-06 1.3E-06 6.8E-07 3.3E-07\n",
      "[[ 0.28  0.18]\n",
      " [-0.03 -0.37]\n",
      " [-0.37  0.62]\n",
      " [-0.55  0.26]]\n",
      "36000 1.6E-06 1.1E-06 2.1E-07 3.3E-07\n",
      "[[ 0.28  0.18]\n",
      " [-0.02 -0.37]\n",
      " [-0.37  0.62]\n",
      " [-0.55  0.26]]\n",
      "37000 1.7E-06 1.0E-06 2.8E-07 3.3E-07\n",
      "[[ 0.28  0.18]\n",
      " [-0.02 -0.37]\n",
      " [-0.37  0.63]\n",
      " [-0.55  0.26]]\n",
      "38000 2.3E-05 5.9E-06 1.6E-05 3.3E-07\n",
      "[[ 0.28  0.18]\n",
      " [-0.02 -0.37]\n",
      " [-0.38  0.63]\n",
      " [-0.55  0.26]]\n",
      "39000 1.4E-06 9.0E-07 1.7E-07 3.3E-07\n",
      "[[ 0.28  0.18]\n",
      " [-0.02 -0.37]\n",
      " [-0.38  0.63]\n",
      " [-0.55  0.26]]\n",
      "40000 2.5E-05 7.0E-06 1.8E-05 3.3E-07\n",
      "[[ 0.28  0.18]\n",
      " [-0.01 -0.37]\n",
      " [-0.39  0.63]\n",
      " [-0.55  0.26]]\n",
      "41000 3.2E-06 1.3E-06 1.5E-06 3.4E-07\n",
      "[[ 0.28  0.18]\n",
      " [-0.01 -0.37]\n",
      " [-0.39  0.63]\n",
      " [-0.55  0.26]]\n",
      "42000 6.8E-06 2.1E-06 4.3E-06 3.4E-07\n",
      "[[ 0.28  0.18]\n",
      " [-0.01 -0.37]\n",
      " [-0.39  0.63]\n",
      " [-0.55  0.26]]\n",
      "43000 1.2E-06 7.7E-07 1.4E-07 3.4E-07\n",
      "[[ 0.28  0.18]\n",
      " [-0.01 -0.38]\n",
      " [-0.39  0.63]\n",
      " [-0.55  0.26]]\n",
      "44000 7.4E-06 5.7E-06 1.4E-06 3.4E-07\n",
      "[[ 0.28  0.18]\n",
      " [-0.01 -0.38]\n",
      " [-0.4   0.63]\n",
      " [-0.55  0.26]]\n",
      "45000 1.2E-06 7.1E-07 1.2E-07 3.4E-07\n",
      "[[ 0.28  0.18]\n",
      " [-0.01 -0.38]\n",
      " [-0.4   0.63]\n",
      " [-0.55  0.26]]\n",
      "46000 1.5E-06 9.8E-07 1.6E-07 3.4E-07\n",
      "[[ 0.28  0.18]\n",
      " [-0.01 -0.38]\n",
      " [-0.4   0.63]\n",
      " [-0.55  0.26]]\n",
      "47000 1.5E-06 8.1E-07 4.0E-07 3.4E-07\n",
      "[[ 0.28  0.18]\n",
      " [-0.   -0.38]\n",
      " [-0.4   0.63]\n",
      " [-0.55  0.26]]\n",
      "48000 2.6E-06 1.1E-06 1.1E-06 3.4E-07\n",
      "[[ 0.28  0.18]\n",
      " [-0.   -0.38]\n",
      " [-0.41  0.64]\n",
      " [-0.55  0.26]]\n",
      "49000 1.1E-06 6.2E-07 9.2E-08 3.4E-07\n",
      "[[ 0.28  0.18]\n",
      " [-0.   -0.38]\n",
      " [-0.41  0.64]\n",
      " [-0.55  0.26]]\n",
      "tensor([[ 0.7648,  0.7007],\n",
      "        [-0.0055, -1.9454],\n",
      "        [-0.6242,  1.3233],\n",
      "        [-1.0880,  0.6947]], grad_fn=<MulBackward0>)\n",
      "std tensor([0.8024, 1.4560], grad_fn=<StdBackward1>)\n",
      "sparsity tensor([[ 0.0000,  0.0000],\n",
      "        [ 0.0000, -1.9454],\n",
      "        [ 0.0000,  0.0000],\n",
      "        [-1.0880,  0.0000]], grad_fn=<SWhereBackward>)\n",
      "sparsity mask tensor([3, 6])\n",
      "sparsity weight vector tensor([[ 0.2749],\n",
      "        [ 0.1847],\n",
      "        [-0.0015],\n",
      "        [-0.3780],\n",
      "        [-0.4096],\n",
      "        [ 0.6368],\n",
      "        [-0.5528],\n",
      "        [ 0.2588]], requires_grad=True)\n",
      "sparsity weight vector tensor([[-0.3780],\n",
      "        [-0.5528]], grad_fn=<IndexBackward>)\n",
      "tensor([3, 6])\n",
      "Epoch | Total loss | MSE | PI \n",
      "0 2.6E-01f 6.1E-07 2.6E-01\n",
      "[[-0.38 -0.55]]\n",
      "1000 6.2E-04f 6.2E-04 6.3E-06\n",
      "[[-0.31 -0.53]]\n"
     ]
    },
    {
     "ename": "KeyboardInterrupt",
     "evalue": "",
     "output_type": "error",
     "traceback": [
      "\u001b[0;31m---------------------------------------------------------------------------\u001b[0m",
      "\u001b[0;31mKeyboardInterrupt\u001b[0m                         Traceback (most recent call last)",
      "\u001b[0;32m<ipython-input-40-b6d44968c981>\u001b[0m in \u001b[0;36m<module>\u001b[0;34m\u001b[0m\n\u001b[0;32m----> 1\u001b[0;31m \u001b[0msparse_weight_vector\u001b[0m\u001b[0;34m,\u001b[0m \u001b[0msparsity_pattern\u001b[0m\u001b[0;34m,\u001b[0m \u001b[0mprediction\u001b[0m\u001b[0;34m,\u001b[0m \u001b[0mnetwork\u001b[0m \u001b[0;34m=\u001b[0m \u001b[0mDeepMod\u001b[0m\u001b[0;34m(\u001b[0m\u001b[0mX_train\u001b[0m\u001b[0;34m,\u001b[0m \u001b[0my_train\u001b[0m\u001b[0;34m,\u001b[0m\u001b[0mnetwork_config\u001b[0m\u001b[0;34m,\u001b[0m \u001b[0mlib_config\u001b[0m\u001b[0;34m,\u001b[0m \u001b[0moptim_config\u001b[0m\u001b[0;34m)\u001b[0m\u001b[0;34m\u001b[0m\u001b[0;34m\u001b[0m\u001b[0m\n\u001b[0m",
      "\u001b[0;32m~/Documents/GitHub/DeepMoD_Torch/src/DeepMod.py\u001b[0m in \u001b[0;36mDeepMod\u001b[0;34m(data, target, network_config, library_config, optim_config)\u001b[0m\n\u001b[1;32m     23\u001b[0m \u001b[0;34m\u001b[0m\u001b[0m\n\u001b[1;32m     24\u001b[0m     \u001b[0;31m# Final Training without L1 and with the sparsity pattern\u001b[0m\u001b[0;34m\u001b[0m\u001b[0;34m\u001b[0m\u001b[0;34m\u001b[0m\u001b[0m\n\u001b[0;32m---> 25\u001b[0;31m     \u001b[0msparse_weight_vector\u001b[0m\u001b[0;34m,\u001b[0m \u001b[0mprediction\u001b[0m \u001b[0;34m=\u001b[0m \u001b[0mFinal_Training\u001b[0m\u001b[0;34m(\u001b[0m\u001b[0mdata\u001b[0m\u001b[0;34m,\u001b[0m \u001b[0mtarget\u001b[0m\u001b[0;34m,\u001b[0m \u001b[0moptim_config\u001b[0m\u001b[0;34m,\u001b[0m \u001b[0mlibrary_config\u001b[0m\u001b[0;34m,\u001b[0m \u001b[0mnetwork\u001b[0m\u001b[0;34m,\u001b[0m \u001b[0mnetwork_config\u001b[0m\u001b[0;34m,\u001b[0m \u001b[0msparse_weight_vector\u001b[0m\u001b[0;34m,\u001b[0m \u001b[0msparsity_mask\u001b[0m\u001b[0;34m)\u001b[0m\u001b[0;34m\u001b[0m\u001b[0;34m\u001b[0m\u001b[0m\n\u001b[0m\u001b[1;32m     26\u001b[0m \u001b[0;34m\u001b[0m\u001b[0m\n\u001b[1;32m     27\u001b[0m     \u001b[0;32mreturn\u001b[0m \u001b[0msparse_weight_vector\u001b[0m\u001b[0;34m,\u001b[0m \u001b[0msparsity_mask\u001b[0m\u001b[0;34m,\u001b[0m \u001b[0mprediction\u001b[0m\u001b[0;34m,\u001b[0m \u001b[0mnetwork\u001b[0m\u001b[0;34m\u001b[0m\u001b[0;34m\u001b[0m\u001b[0m\n",
      "\u001b[0;32m~/Documents/GitHub/DeepMoD_Torch/src/neural_net.py\u001b[0m in \u001b[0;36mFinal_Training\u001b[0;34m(data, target, optim_config, library_config, network, network_config, sparse_weight_vector, sparsity_mask)\u001b[0m\n\u001b[1;32m     89\u001b[0m         \u001b[0;31m# Optimizwe step\u001b[0m\u001b[0;34m\u001b[0m\u001b[0;34m\u001b[0m\u001b[0;34m\u001b[0m\u001b[0m\n\u001b[1;32m     90\u001b[0m         \u001b[0moptimizer\u001b[0m\u001b[0;34m.\u001b[0m\u001b[0mzero_grad\u001b[0m\u001b[0;34m(\u001b[0m\u001b[0;34m)\u001b[0m\u001b[0;34m\u001b[0m\u001b[0;34m\u001b[0m\u001b[0m\n\u001b[0;32m---> 91\u001b[0;31m         \u001b[0mloss\u001b[0m\u001b[0;34m.\u001b[0m\u001b[0mbackward\u001b[0m\u001b[0;34m(\u001b[0m\u001b[0;34m)\u001b[0m\u001b[0;34m\u001b[0m\u001b[0;34m\u001b[0m\u001b[0m\n\u001b[0m\u001b[1;32m     92\u001b[0m         \u001b[0moptimizer\u001b[0m\u001b[0;34m.\u001b[0m\u001b[0mstep\u001b[0m\u001b[0;34m(\u001b[0m\u001b[0;34m)\u001b[0m\u001b[0;34m\u001b[0m\u001b[0;34m\u001b[0m\u001b[0m\n\u001b[1;32m     93\u001b[0m \u001b[0;34m\u001b[0m\u001b[0m\n",
      "\u001b[0;32m~/anaconda3/lib/python3.6/site-packages/torch/tensor.py\u001b[0m in \u001b[0;36mbackward\u001b[0;34m(self, gradient, retain_graph, create_graph)\u001b[0m\n\u001b[1;32m    100\u001b[0m                 \u001b[0mproducts\u001b[0m\u001b[0;34m.\u001b[0m \u001b[0mDefaults\u001b[0m \u001b[0mto\u001b[0m\u001b[0;31m \u001b[0m\u001b[0;31m`\u001b[0m\u001b[0;31m`\u001b[0m\u001b[0;32mFalse\u001b[0m\u001b[0;31m`\u001b[0m\u001b[0;31m`\u001b[0m\u001b[0;34m.\u001b[0m\u001b[0;34m\u001b[0m\u001b[0;34m\u001b[0m\u001b[0m\n\u001b[1;32m    101\u001b[0m         \"\"\"\n\u001b[0;32m--> 102\u001b[0;31m         \u001b[0mtorch\u001b[0m\u001b[0;34m.\u001b[0m\u001b[0mautograd\u001b[0m\u001b[0;34m.\u001b[0m\u001b[0mbackward\u001b[0m\u001b[0;34m(\u001b[0m\u001b[0mself\u001b[0m\u001b[0;34m,\u001b[0m \u001b[0mgradient\u001b[0m\u001b[0;34m,\u001b[0m \u001b[0mretain_graph\u001b[0m\u001b[0;34m,\u001b[0m \u001b[0mcreate_graph\u001b[0m\u001b[0;34m)\u001b[0m\u001b[0;34m\u001b[0m\u001b[0;34m\u001b[0m\u001b[0m\n\u001b[0m\u001b[1;32m    103\u001b[0m \u001b[0;34m\u001b[0m\u001b[0m\n\u001b[1;32m    104\u001b[0m     \u001b[0;32mdef\u001b[0m \u001b[0mregister_hook\u001b[0m\u001b[0;34m(\u001b[0m\u001b[0mself\u001b[0m\u001b[0;34m,\u001b[0m \u001b[0mhook\u001b[0m\u001b[0;34m)\u001b[0m\u001b[0;34m:\u001b[0m\u001b[0;34m\u001b[0m\u001b[0;34m\u001b[0m\u001b[0m\n",
      "\u001b[0;32m~/anaconda3/lib/python3.6/site-packages/torch/autograd/__init__.py\u001b[0m in \u001b[0;36mbackward\u001b[0;34m(tensors, grad_tensors, retain_graph, create_graph, grad_variables)\u001b[0m\n\u001b[1;32m     88\u001b[0m     Variable._execution_engine.run_backward(\n\u001b[1;32m     89\u001b[0m         \u001b[0mtensors\u001b[0m\u001b[0;34m,\u001b[0m \u001b[0mgrad_tensors\u001b[0m\u001b[0;34m,\u001b[0m \u001b[0mretain_graph\u001b[0m\u001b[0;34m,\u001b[0m \u001b[0mcreate_graph\u001b[0m\u001b[0;34m,\u001b[0m\u001b[0;34m\u001b[0m\u001b[0;34m\u001b[0m\u001b[0m\n\u001b[0;32m---> 90\u001b[0;31m         allow_unreachable=True)  # allow_unreachable flag\n\u001b[0m\u001b[1;32m     91\u001b[0m \u001b[0;34m\u001b[0m\u001b[0m\n\u001b[1;32m     92\u001b[0m \u001b[0;34m\u001b[0m\u001b[0m\n",
      "\u001b[0;31mKeyboardInterrupt\u001b[0m: "
     ]
    }
   ],
   "source": [
    "sparse_weight_vector, sparsity_pattern, prediction, network = DeepMod(X_train, y_train,network_config, lib_config, optim_config)"
   ]
  },
  {
   "cell_type": "code",
   "execution_count": null,
   "metadata": {},
   "outputs": [],
   "source": [
    "prediction = network(torch.tensor(X, dtype=torch.float32))"
   ]
  },
  {
   "cell_type": "code",
   "execution_count": 15,
   "metadata": {},
   "outputs": [],
   "source": [
    "prediction = prediction.detach().numpy()"
   ]
  },
  {
   "cell_type": "code",
   "execution_count": 64,
   "metadata": {},
   "outputs": [],
   "source": [
    "x, y = np.meshgrid(X[:,0], X[:,1])"
   ]
  },
  {
   "cell_type": "code",
   "execution_count": 145,
   "metadata": {},
   "outputs": [],
   "source": [
    "mask = torch.tensor((0,1,3))"
   ]
  },
  {
   "cell_type": "code",
   "execution_count": 157,
   "metadata": {},
   "outputs": [
    {
     "data": {
      "text/plain": [
       "tensor([0, 1, 3])"
      ]
     },
     "execution_count": 157,
     "metadata": {},
     "output_type": "execute_result"
    }
   ],
   "source": [
    "mask"
   ]
  },
  {
   "cell_type": "code",
   "execution_count": 158,
   "metadata": {},
   "outputs": [],
   "source": [
    "sparse_coefs = torch.tensor((0.1,0.2,0.4)).reshape(-1,1)"
   ]
  },
  {
   "cell_type": "code",
   "execution_count": 159,
   "metadata": {},
   "outputs": [
    {
     "data": {
      "text/plain": [
       "tensor([[0.1000],\n",
       "        [0.2000],\n",
       "        [0.4000]])"
      ]
     },
     "execution_count": 159,
     "metadata": {},
     "output_type": "execute_result"
    }
   ],
   "source": [
    "sparse_coefs"
   ]
  },
  {
   "cell_type": "code",
   "execution_count": 291,
   "metadata": {},
   "outputs": [],
   "source": [
    "dummy = torch.ones((5,3,1))\n",
    "dummy2 = torch.ones((5,1,4))"
   ]
  },
  {
   "cell_type": "code",
   "execution_count": 292,
   "metadata": {},
   "outputs": [
    {
     "data": {
      "text/plain": [
       "torch.Size([5, 3, 4])"
      ]
     },
     "execution_count": 292,
     "metadata": {},
     "output_type": "execute_result"
    }
   ],
   "source": [
    "(dummy @ dummy2).shape"
   ]
  },
  {
   "cell_type": "code",
   "execution_count": 293,
   "metadata": {},
   "outputs": [
    {
     "data": {
      "text/plain": [
       "torch.Size([5, 3, 1])"
      ]
     },
     "execution_count": 293,
     "metadata": {},
     "output_type": "execute_result"
    }
   ],
   "source": [
    "dummy.shape"
   ]
  },
  {
   "cell_type": "code",
   "execution_count": 294,
   "metadata": {},
   "outputs": [
    {
     "data": {
      "text/plain": [
       "torch.Size([5, 3, 1])"
      ]
     },
     "execution_count": 294,
     "metadata": {},
     "output_type": "execute_result"
    }
   ],
   "source": [
    "dummy.reshape(-1,3,1).shape"
   ]
  },
  {
   "cell_type": "code",
   "execution_count": 164,
   "metadata": {},
   "outputs": [],
   "source": [
    "dummy = dummy.reshape(2,2)"
   ]
  },
  {
   "cell_type": "code",
   "execution_count": 128,
   "metadata": {},
   "outputs": [
    {
     "ename": "TypeError",
     "evalue": "'Tensor' object is not callable",
     "output_type": "error",
     "traceback": [
      "\u001b[0;31m---------------------------------------------------------------------------\u001b[0m",
      "\u001b[0;31mTypeError\u001b[0m                                 Traceback (most recent call last)",
      "\u001b[0;32m<ipython-input-128-05a08feb86bd>\u001b[0m in \u001b[0;36m<module>\u001b[0;34m\u001b[0m\n\u001b[0;32m----> 1\u001b[0;31m \u001b[0mtorch\u001b[0m\u001b[0;34m.\u001b[0m\u001b[0mwhere\u001b[0m\u001b[0;34m(\u001b[0m\u001b[0mcoefs\u001b[0m\u001b[0;34m(\u001b[0m\u001b[0mmask\u001b[0m\u001b[0;34m)\u001b[0m\u001b[0;34m,\u001b[0m\u001b[0mcoefs\u001b[0m\u001b[0;34m,\u001b[0m\u001b[0mdummy\u001b[0m\u001b[0;34m)\u001b[0m\u001b[0;34m\u001b[0m\u001b[0;34m\u001b[0m\u001b[0m\n\u001b[0m",
      "\u001b[0;31mTypeError\u001b[0m: 'Tensor' object is not callable"
     ]
    }
   ],
   "source": [
    "torch.where(coefs(mask),coefs,dummy)"
   ]
  },
  {
   "cell_type": "code",
   "execution_count": 45,
   "metadata": {},
   "outputs": [],
   "source": [
    "x = np.linspace(0, 1, 100)\n",
    "X, Y = np.meshgrid(x, x)\n",
    "Z = np.sin(X)*np.sin(Y)\n"
   ]
  },
  {
   "cell_type": "code",
   "execution_count": 30,
   "metadata": {},
   "outputs": [],
   "source": [
    "b = torch.ones((10, 2), dtype=torch.float32, requires_grad=True)"
   ]
  },
  {
   "cell_type": "code",
   "execution_count": 31,
   "metadata": {},
   "outputs": [],
   "source": [
    "a = torch.tensor(np.ones((2,10)), dtype=torch.float32)"
   ]
  },
  {
   "cell_type": "code",
   "execution_count": 13,
   "metadata": {},
   "outputs": [],
   "source": [
    "test=torch.tensor([[0.3073, 0.4409],\n",
    "        [0.0212, 0.6602]])"
   ]
  },
  {
   "cell_type": "code",
   "execution_count": 17,
   "metadata": {},
   "outputs": [
    {
     "data": {
      "text/plain": [
       "tensor([[0.3073, 0.4409],\n",
       "        [0.0000, 0.6602]])"
      ]
     },
     "execution_count": 17,
     "metadata": {},
     "output_type": "execute_result"
    }
   ],
   "source": [
    "torch.where(test>torch.tensor(0.3),test, torch.zeros_like(test))"
   ]
  },
  {
   "cell_type": "raw",
   "metadata": {},
   "source": [
    "test2=torch.reshape(test, (1,4))"
   ]
  },
  {
   "cell_type": "code",
   "execution_count": 83,
   "metadata": {},
   "outputs": [
    {
     "data": {
      "text/plain": [
       "tensor([[0.3073],\n",
       "        [0.4409],\n",
       "        [0.0212],\n",
       "        [0.6602]])"
      ]
     },
     "execution_count": 83,
     "metadata": {},
     "output_type": "execute_result"
    }
   ],
   "source": [
    "test2[0,:].reshape(-1,1)"
   ]
  },
  {
   "cell_type": "code",
   "execution_count": 47,
   "metadata": {},
   "outputs": [],
   "source": [
    "mask=torch.nonzero(test2[0,:])"
   ]
  },
  {
   "cell_type": "code",
   "execution_count": 39,
   "metadata": {},
   "outputs": [
    {
     "ename": "RuntimeError",
     "evalue": "shape '[1, 4]' is invalid for input of size 8",
     "output_type": "error",
     "traceback": [
      "\u001b[0;31m---------------------------------------------------------------------------\u001b[0m",
      "\u001b[0;31mRuntimeError\u001b[0m                              Traceback (most recent call last)",
      "\u001b[0;32m<ipython-input-39-d2039f70455e>\u001b[0m in \u001b[0;36m<module>\u001b[0;34m\u001b[0m\n\u001b[0;32m----> 1\u001b[0;31m \u001b[0mmask\u001b[0m\u001b[0;34m=\u001b[0m\u001b[0mtorch\u001b[0m\u001b[0;34m.\u001b[0m\u001b[0mreshape\u001b[0m\u001b[0;34m(\u001b[0m\u001b[0mtorch\u001b[0m\u001b[0;34m.\u001b[0m\u001b[0mnonzero\u001b[0m\u001b[0;34m(\u001b[0m\u001b[0mtest2\u001b[0m\u001b[0;34m)\u001b[0m\u001b[0;34m,\u001b[0m \u001b[0;34m(\u001b[0m\u001b[0;36m1\u001b[0m\u001b[0;34m,\u001b[0m\u001b[0;36m4\u001b[0m\u001b[0;34m)\u001b[0m\u001b[0;34m)\u001b[0m\u001b[0;34m\u001b[0m\u001b[0;34m\u001b[0m\u001b[0m\n\u001b[0m",
      "\u001b[0;31mRuntimeError\u001b[0m: shape '[1, 4]' is invalid for input of size 8"
     ]
    }
   ],
   "source": [
    "mask=torch.reshape(torch.nonzero(test2), (1,4))"
   ]
  },
  {
   "cell_type": "code",
   "execution_count": 48,
   "metadata": {},
   "outputs": [
    {
     "data": {
      "text/plain": [
       "tensor([[0],\n",
       "        [1],\n",
       "        [2],\n",
       "        [3]])"
      ]
     },
     "execution_count": 48,
     "metadata": {},
     "output_type": "execute_result"
    }
   ],
   "source": [
    "mask"
   ]
  },
  {
   "cell_type": "code",
   "execution_count": 54,
   "metadata": {},
   "outputs": [
    {
     "ename": "RuntimeError",
     "evalue": "index 1 is out of bounds for dim with size 1",
     "output_type": "error",
     "traceback": [
      "\u001b[0;31m---------------------------------------------------------------------------\u001b[0m",
      "\u001b[0;31mRuntimeError\u001b[0m                              Traceback (most recent call last)",
      "\u001b[0;32m<ipython-input-54-e2c1496ec290>\u001b[0m in \u001b[0;36m<module>\u001b[0;34m\u001b[0m\n\u001b[0;32m----> 1\u001b[0;31m \u001b[0mtest2\u001b[0m\u001b[0;34m[\u001b[0m\u001b[0mmask\u001b[0m\u001b[0;34m[\u001b[0m\u001b[0;36m1\u001b[0m\u001b[0;34m]\u001b[0m\u001b[0;34m]\u001b[0m\u001b[0;34m\u001b[0m\u001b[0;34m\u001b[0m\u001b[0m\n\u001b[0m",
      "\u001b[0;31mRuntimeError\u001b[0m: index 1 is out of bounds for dim with size 1"
     ]
    }
   ],
   "source": [
    "test2[mask[1]]"
   ]
  },
  {
   "cell_type": "code",
   "execution_count": 49,
   "metadata": {},
   "outputs": [
    {
     "data": {
      "text/plain": [
       "10"
      ]
     },
     "execution_count": 49,
     "metadata": {},
     "output_type": "execute_result"
    }
   ],
   "source": [
    "a.shape[1]"
   ]
  },
  {
   "cell_type": "code",
   "execution_count": null,
   "metadata": {},
   "outputs": [],
   "source": []
  }
 ],
 "metadata": {
  "kernelspec": {
   "display_name": "Python 3",
   "language": "python",
   "name": "python3"
  },
  "language_info": {
   "codemirror_mode": {
    "name": "ipython",
    "version": 3
   },
   "file_extension": ".py",
   "mimetype": "text/x-python",
   "name": "python",
   "nbconvert_exporter": "python",
   "pygments_lexer": "ipython3",
   "version": "3.6.8"
  }
 },
 "nbformat": 4,
 "nbformat_minor": 2
}
