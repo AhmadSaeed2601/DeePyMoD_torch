{
 "cells": [
  {
   "cell_type": "markdown",
   "metadata": {},
   "source": [
    "# Example Burgers' equation with sequential training "
   ]
  },
  {
   "cell_type": "markdown",
   "metadata": {},
   "source": [
    "In this notebook we provide a simple example of the DeepMoD algorithm by applying it on the Burgers' equation. \n",
    "\n",
    "We start by importing the required libraries and setting the plotting style:"
   ]
  },
  {
   "cell_type": "code",
   "execution_count": 1,
   "metadata": {},
   "outputs": [],
   "source": [
    "import numpy as np\n",
    "import torch\n",
    "from deepymod_torch.library_function import library_1D_in\n",
    "from deepymod_torch.DeepMod import DeepMoD\n",
    "from deepymod_torch.neural_net import *\n",
    "\n",
    "import matplotlib.pyplot as plt\n",
    "plt.style.use('seaborn-notebook')\n",
    "\n",
    "np.random.seed(40)\n",
    "%load_ext autoreload\n",
    "%autoreload 2"
   ]
  },
  {
   "cell_type": "markdown",
   "metadata": {},
   "source": [
    "Next, we prepare the dataset."
   ]
  },
  {
   "cell_type": "code",
   "execution_count": 2,
   "metadata": {},
   "outputs": [
    {
     "name": "stdout",
     "output_type": "stream",
     "text": [
      "Shape of grid: (256, 101)\n"
     ]
    }
   ],
   "source": [
    "data = np.load('../data/processed/burgers.npy', allow_pickle=True).item()\n",
    "print('Shape of grid:', data['x'].shape)"
   ]
  },
  {
   "cell_type": "markdown",
   "metadata": {},
   "source": [
    "Let's plot it to get an idea of the data:"
   ]
  },
  {
   "cell_type": "code",
   "execution_count": 3,
   "metadata": {},
   "outputs": [
    {
     "name": "stdout",
     "output_type": "stream",
     "text": [
      "(25856, 2) (25856, 1)\n"
     ]
    }
   ],
   "source": [
    "X = np.transpose((data['t'].flatten(), data['x'].flatten()))\n",
    "y = np.real(data['u']).reshape((data['u'].size, 1))\n",
    "\n",
    "print(X.shape, y.shape)"
   ]
  },
  {
   "cell_type": "markdown",
   "metadata": {},
   "source": [
    "As we can see, $X$ has 2 dimensions, $\\{x, t\\}$, while $y$ has only one, $\\{u\\}$. Always explicity set the shape (i.e. $N\\times 1$, not $N$) or you'll get errors. This dataset is noiseless, so let's add $5\\%$ noise:"
   ]
  },
  {
   "cell_type": "code",
   "execution_count": 4,
   "metadata": {},
   "outputs": [],
   "source": [
    "noise_level = 0.05\n",
    "y_noisy = y + noise_level * np.std(y) * np.random.randn(y.size, 1)"
   ]
  },
  {
   "cell_type": "markdown",
   "metadata": {},
   "source": [
    "The dataset is also much larger than needed, so let's hussle it and pick out a 1000 samples:"
   ]
  },
  {
   "cell_type": "code",
   "execution_count": 5,
   "metadata": {},
   "outputs": [],
   "source": [
    "number_of_samples = 1000\n",
    "\n",
    "idx = np.random.permutation(y.size)\n",
    "X_train = torch.tensor(X[idx, :][:number_of_samples], dtype=torch.float32, requires_grad=True)\n",
    "y_train = torch.tensor(y_noisy[idx, :][:number_of_samples], dtype=torch.float32)"
   ]
  },
  {
   "cell_type": "code",
   "execution_count": 6,
   "metadata": {},
   "outputs": [
    {
     "name": "stdout",
     "output_type": "stream",
     "text": [
      "torch.Size([1000, 2]) torch.Size([1000, 1])\n"
     ]
    }
   ],
   "source": [
    "print(X_train.shape, y_train.shape)"
   ]
  },
  {
   "cell_type": "markdown",
   "metadata": {},
   "source": [
    "We now have a dataset which we can use. Let's plot, for a final time, the original dataset, the noisy set and the samples points:"
   ]
  },
  {
   "cell_type": "code",
   "execution_count": 7,
   "metadata": {},
   "outputs": [
    {
     "data": {
      "image/png": "[encoded data removed]",
      "text/plain": [
       "<Figure size 1080x288 with 4 Axes>"
      ]
     },
     "metadata": {
      "needs_background": "light"
     },
     "output_type": "display_data"
    }
   ],
   "source": [
    "fig, axes = plt.subplots(ncols=3, figsize=(15, 4))\n",
    "\n",
    "im0 = axes[0].contourf(data['x'], data['t'], np.real(data['u']), cmap='coolwarm')\n",
    "axes[0].set_xlabel('x')\n",
    "axes[0].set_ylabel('t')\n",
    "axes[0].set_title('Ground truth')\n",
    "\n",
    "im1 = axes[1].contourf(data['x'], data['t'], y_noisy.reshape(data['x'].shape), cmap='coolwarm')\n",
    "axes[1].set_xlabel('x')\n",
    "axes[1].set_title('Noisy')\n",
    "\n",
    "sampled = np.array([y_noisy[index, 0] if index in idx[:number_of_samples] else np.nan for index in np.arange(data['x'].size)])\n",
    "sampled = np.rot90(sampled.reshape(data['x'].shape)) #array needs to be rotated because of imshow\n",
    "\n",
    "im2 = axes[2].imshow(sampled, aspect='auto', cmap='coolwarm')\n",
    "axes[2].set_xlabel('x')\n",
    "axes[2].set_title('Sampled')\n",
    "\n",
    "fig.colorbar(im1, ax=axes.ravel().tolist())\n",
    "\n",
    "plt.show()"
   ]
  },
  {
   "cell_type": "markdown",
   "metadata": {},
   "source": [
    "## Configure the neural network"
   ]
  },
  {
   "cell_type": "markdown",
   "metadata": {},
   "source": [
    "We now setup the options for DeepMoD. There's as few dictionaries to fill, starting with the 'optim config', which sets the maximal number of iterations and the amplitude of the $L_1$ penalty"
   ]
  },
  {
   "cell_type": "code",
   "execution_count": 8,
   "metadata": {},
   "outputs": [],
   "source": [
    "optim_config = {'lambda': 10**-5, 'max_iterations': 5000, 'type': 'mse'}"
   ]
  },
  {
   "cell_type": "markdown",
   "metadata": {},
   "source": [
    "Next we choose the size of the neural network "
   ]
  },
  {
   "cell_type": "code",
   "execution_count": 9,
   "metadata": {},
   "outputs": [],
   "source": [
    "network_config = {'input_dim': 2, 'hidden_dim': 20, 'layers': 5, 'output_dim': 1}"
   ]
  },
  {
   "cell_type": "markdown",
   "metadata": {},
   "source": [
    "DeepMoD accepts any arbitrary library function and any options for it can be given through *the library_config*. The library function for the burgers case accepts a maximum order for the polynomial and derivative terms."
   ]
  },
  {
   "cell_type": "code",
   "execution_count": 10,
   "metadata": {},
   "outputs": [],
   "source": [
    "library_config = {'type': library_1D_in, 'poly_order': 1, 'diff_order': 2}"
   ]
  },
  {
   "cell_type": "markdown",
   "metadata": {},
   "source": [
    "## Run DeepMoD "
   ]
  },
  {
   "cell_type": "code",
   "execution_count": 11,
   "metadata": {},
   "outputs": [],
   "source": [
    "network, coeff_vector_list, sparsity_mask_list = deepmod_init(network_config, library_config)"
   ]
  },
  {
   "cell_type": "code",
   "execution_count": 12,
   "metadata": {},
   "outputs": [
    {
     "name": "stdout",
     "output_type": "stream",
     "text": [
      "Epoch | Total loss | MSE\n",
      "0 8.1E-02 8.1E-02\n",
      "500 2.0E-04 2.0E-04\n",
      "1000 1.2E-04 1.2E-04\n",
      "1500 2.4E-04 2.4E-04\n",
      "2000 9.6E-05 9.6E-05\n",
      "2500 9.2E-05 9.2E-05\n",
      "3000 9.1E-05 9.1E-05\n",
      "3500 8.9E-05 8.9E-05\n",
      "4000 9.1E-05 9.1E-05\n",
      "4500 8.6E-05 8.6E-05\n"
     ]
    }
   ],
   "source": [
    "train(X_train, y_train, network, coeff_vector_list, sparsity_mask_list, library_config, optim_config)"
   ]
  },
  {
   "cell_type": "code",
   "execution_count": 13,
   "metadata": {},
   "outputs": [],
   "source": [
    "X_all = torch.tensor(X, dtype=torch.float32, requires_grad=True) \n",
    "prediction = network(X_train)"
   ]
  },
  {
   "cell_type": "code",
   "execution_count": 14,
   "metadata": {},
   "outputs": [],
   "source": [
    "time_deriv_list, theta = library_1D_in(X_train, prediction, library_config)"
   ]
  },
  {
   "cell_type": "code",
   "execution_count": 15,
   "metadata": {},
   "outputs": [],
   "source": [
    "y_reg = time_deriv_list[0].detach().numpy()\n",
    "x_reg = theta.detach().numpy()"
   ]
  },
  {
   "cell_type": "code",
   "execution_count": 27,
   "metadata": {},
   "outputs": [],
   "source": [
    "vec =np.linalg.lstsq(x_reg,y_reg,rcond=None)[0]"
   ]
  },
  {
   "cell_type": "code",
   "execution_count": 28,
   "metadata": {},
   "outputs": [
    {
     "data": {
      "text/plain": [
       "[tensor([[ 0.4960],\n",
       "         [-0.5241],\n",
       "         [ 1.1092],\n",
       "         [ 0.1104],\n",
       "         [-1.0365],\n",
       "         [ 0.0700]], requires_grad=True)]"
      ]
     },
     "execution_count": 28,
     "metadata": {},
     "output_type": "execute_result"
    }
   ],
   "source": [
    "coeff_vector_list"
   ]
  },
  {
   "cell_type": "code",
   "execution_count": 29,
   "metadata": {},
   "outputs": [],
   "source": [
    "coeff_vector = [torch.tensor(vec, dtype=torch.float32, requires_grad=True)] "
   ]
  },
  {
   "cell_type": "code",
   "execution_count": 30,
   "metadata": {},
   "outputs": [],
   "source": [
    "X_all = torch.tensor(X, dtype=torch.float32, requires_grad=True) \n",
    "prediction_full = network(X_all)"
   ]
  },
  {
   "cell_type": "code",
   "execution_count": 31,
   "metadata": {},
   "outputs": [
    {
     "data": {
      "text/plain": [
       "<matplotlib.image.AxesImage at 0x7fdf3c272c18>"
      ]
     },
     "execution_count": 31,
     "metadata": {},
     "output_type": "execute_result"
    },
    {
     "data": {
      "image/png": "[encoded data removed]",
      "text/plain": [
       "<Figure size 432x288 with 1 Axes>"
      ]
     },
     "metadata": {
      "needs_background": "light"
     },
     "output_type": "display_data"
    }
   ],
   "source": [
    "plt.imshow(prediction_full.detach().numpy().reshape(256, 101), aspect='auto', cmap='coolwarm')"
   ]
  },
  {
   "cell_type": "code",
   "execution_count": 32,
   "metadata": {},
   "outputs": [],
   "source": [
    "optim_config = {'lambda': 10**-5, 'max_iterations': 5000, 'type': 'full'}"
   ]
  },
  {
   "cell_type": "code",
   "execution_count": 33,
   "metadata": {},
   "outputs": [
    {
     "name": "stdout",
     "output_type": "stream",
     "text": [
      "Epoch | Total loss | MSE | PI | L1 \n",
      "0 1.6E-04 8.6E-05 5.9E-05 1.5E-05\n",
      "tensor([[-0.0012],\n",
      "        [-0.0501],\n",
      "        [ 0.0905],\n",
      "        [-0.0075],\n",
      "        [-0.8547],\n",
      "        [-0.0346]], requires_grad=True)\n",
      "500 1.2E-04 8.9E-05 2.1E-05 1.4E-05\n",
      "tensor([[ 6.9129e-04],\n",
      "        [-4.6320e-02],\n",
      "        [ 8.5887e-02],\n",
      "        [-7.8437e-03],\n",
      "        [-8.6706e-01],\n",
      "        [-8.1126e-03]], requires_grad=True)\n",
      "1000 1.1E-04 8.5E-05 1.5E-05 1.4E-05\n",
      "tensor([[ 5.1399e-04],\n",
      "        [-3.6325e-02],\n",
      "        [ 8.9087e-02],\n",
      "        [-5.7571e-03],\n",
      "        [-8.9774e-01],\n",
      "        [-5.3617e-03]], requires_grad=True)\n",
      "1500 1.1E-04 8.3E-05 1.1E-05 1.4E-05\n",
      "tensor([[ 3.4401e-04],\n",
      "        [-2.9638e-02],\n",
      "        [ 9.1461e-02],\n",
      "        [-3.8415e-03],\n",
      "        [-9.1906e-01],\n",
      "        [-3.0842e-03]], requires_grad=True)\n",
      "2000 1.1E-04 9.1E-05 8.3E-06 1.3E-05\n",
      "tensor([[ 1.9258e-04],\n",
      "        [-2.2033e-02],\n",
      "        [ 9.2921e-02],\n",
      "        [-1.5382e-03],\n",
      "        [-9.4045e-01],\n",
      "        [-8.0379e-04]], requires_grad=True)\n",
      "2500 3.4E-04 3.1E-04 1.5E-05 1.3E-05\n",
      "tensor([[-2.1267e-04],\n",
      "        [-1.9275e-02],\n",
      "        [ 9.5849e-02],\n",
      "        [-9.2584e-04],\n",
      "        [-9.5082e-01],\n",
      "        [ 1.2797e-04]], requires_grad=True)\n",
      "3000 9.9E-05 8.1E-05 4.6E-06 1.3E-05\n",
      "tensor([[ 4.7970e-06],\n",
      "        [-1.5331e-02],\n",
      "        [ 9.7389e-02],\n",
      "        [-2.8382e-04],\n",
      "        [-9.6007e-01],\n",
      "        [ 2.0031e-04]], requires_grad=True)\n",
      "3500 9.8E-05 8.0E-05 3.7E-06 1.3E-05\n",
      "tensor([[ 3.7129e-05],\n",
      "        [-1.2632e-02],\n",
      "        [ 9.8063e-02],\n",
      "        [-1.6319e-04],\n",
      "        [-9.6720e-01],\n",
      "        [ 1.7772e-04]], requires_grad=True)\n",
      "4000 9.6E-05 8.0E-05 3.0E-06 1.3E-05\n",
      "tensor([[ 4.1839e-05],\n",
      "        [-1.0262e-02],\n",
      "        [ 9.8473e-02],\n",
      "        [-1.6227e-04],\n",
      "        [-9.7332e-01],\n",
      "        [ 7.4856e-05]], requires_grad=True)\n",
      "4500 9.6E-05 8.0E-05 2.6E-06 1.3E-05\n",
      "tensor([[-3.4473e-05],\n",
      "        [-8.3318e-03],\n",
      "        [ 9.7402e-02],\n",
      "        [-2.2215e-04],\n",
      "        [-9.7855e-01],\n",
      "        [ 2.6822e-04]], requires_grad=True)\n"
     ]
    }
   ],
   "source": [
    "time_deriv_list, theta, coeff_vector_list = train(X_train, y_train, network, coeff_vector, sparsity_mask_list, library_config, optim_config)"
   ]
  },
  {
   "cell_type": "code",
   "execution_count": 34,
   "metadata": {},
   "outputs": [
    {
     "name": "stdout",
     "output_type": "stream",
     "text": [
      "Final result:\n",
      "(tensor([[ 0.0994],\n",
      "        [-1.0001]], requires_grad=True),) (tensor([2, 5]),)\n"
     ]
    }
   ],
   "source": [
    "print('Final result:')\n",
    "print(sparse_coeff_vector, sparsity_mask)"
   ]
  }
 ],
 "metadata": {
  "kernelspec": {
   "display_name": "Python 3",
   "language": "python",
   "name": "python3"
  },
  "language_info": {
   "codemirror_mode": {
    "name": "ipython",
    "version": 3
   },
   "file_extension": ".py",
   "mimetype": "text/x-python",
   "name": "python",
   "nbconvert_exporter": "python",
   "pygments_lexer": "ipython3",
   "version": "3.6.8"
  }
 },
 "nbformat": 4,
 "nbformat_minor": 2
}
