{
 "cells": [
  {
   "cell_type": "code",
   "execution_count": 14,
   "metadata": {},
   "outputs": [],
   "source": [
    "from itertools import permutations, combinations, product"
   ]
  },
  {
   "cell_type": "code",
   "execution_count": 9,
   "metadata": {},
   "outputs": [],
   "source": [
    "poly_list = ['u', 'v']"
   ]
  },
  {
   "cell_type": "code",
   "execution_count": 10,
   "metadata": {},
   "outputs": [
    {
     "name": "stdout",
     "output_type": "stream",
     "text": [
      "('u', 'v')\n",
      "('v', 'u')\n"
     ]
    },
    {
     "data": {
      "text/plain": [
       "[None, None]"
      ]
     },
     "execution_count": 10,
     "metadata": {},
     "output_type": "execute_result"
    }
   ],
   "source": [
    "[print(element) for element in permutations(poly_list, 2)]"
   ]
  },
  {
   "cell_type": "code",
   "execution_count": 11,
   "metadata": {},
   "outputs": [
    {
     "name": "stdout",
     "output_type": "stream",
     "text": [
      "('u', 'v')\n"
     ]
    },
    {
     "data": {
      "text/plain": [
       "[None]"
      ]
     },
     "execution_count": 11,
     "metadata": {},
     "output_type": "execute_result"
    }
   ],
   "source": [
    "[print(element) for element in combinations(poly_list, 2)]"
   ]
  },
  {
   "cell_type": "code",
   "execution_count": null,
   "metadata": {},
   "outputs": [],
   "source": [
    "def library_matrix_mat(u, v, latex=False):\n",
    "    '''\n",
    "    Implements the matrix multiplication for strings and flattens it,\n",
    "    mimicking how the library is made.\n",
    "    Set latex=True to obtain latex forms.\n",
    "    '''\n",
    "    comp_list = []\n",
    "    for u_element in u:\n",
    "        for v_element in v:\n",
    "            if ((u_element == '1') and ('v_element' == '1')):\n",
    "                result = '1'\n",
    "            elif u_element == '1':\n",
    "                result = v_element\n",
    "            elif v_element == '1':\n",
    "                result = u_element\n",
    "            else:\n",
    "                result = u_element + v_element\n",
    "            comp_list.append(result)\n",
    "    if latex is True:\n",
    "        comp_list = list(map(lambda x: '$'+x+'$', comp_list))\n",
    "    return comp_list"
   ]
  },
  {
   "cell_type": "code",
   "execution_count": 18,
   "metadata": {},
   "outputs": [],
   "source": [
    "poly_list = ['', 'u', 'u^2']\n",
    "deriv_list = ['', 'u_x', 'u_xx']"
   ]
  },
  {
   "cell_type": "code",
   "execution_count": 19,
   "metadata": {},
   "outputs": [
    {
     "name": "stdout",
     "output_type": "stream",
     "text": [
      "['', 'u_x', 'u_xx', 'u', 'uu_x', 'uu_xx', 'u^2', 'u^2u_x', 'u^2u_xx']\n"
     ]
    }
   ],
   "source": [
    "print([element[0] + element[1] for element in product(poly_list, deriv_list)])"
   ]
  },
  {
   "cell_type": "code",
   "execution_count": 20,
   "metadata": {},
   "outputs": [],
   "source": [
    "def string_matmul(list_1, list_2):\n",
    "    prod = [element[0] + element[1] for element in product(list_1, list_2)]\n",
    "    return prod"
   ]
  },
  {
   "cell_type": "code",
   "execution_count": 21,
   "metadata": {},
   "outputs": [
    {
     "data": {
      "text/plain": [
       "['', 'u_x', 'u_xx', 'u', 'uu_x', 'uu_xx', 'u^2', 'u^2u_x', 'u^2u_xx']"
      ]
     },
     "execution_count": 21,
     "metadata": {},
     "output_type": "execute_result"
    }
   ],
   "source": [
    "string_matmul(poly_list, deriv_list)"
   ]
  },
  {
   "cell_type": "code",
   "execution_count": 57,
   "metadata": {},
   "outputs": [],
   "source": [
    "poly_list = [['', 'u', 'u^2'], ['', 'v', 'v^2']]\n",
    "deriv_list = [['', 'u_x', 'u_xx'], ['', 'v_x', 'v_xx']]"
   ]
  },
  {
   "cell_type": "code",
   "execution_count": 58,
   "metadata": {},
   "outputs": [
    {
     "data": {
      "text/plain": [
       "[['', 'v', 'v^2', 'u', 'uv', 'uv^2', 'u^2', 'u^2v', 'u^2v^2']]"
      ]
     },
     "execution_count": 58,
     "metadata": {},
     "output_type": "execute_result"
    }
   ],
   "source": [
    "theta_uv = [string_matmul(u, v) for u, v in combinations(poly_list, 2)]\n",
    "theta_uv"
   ]
  },
  {
   "cell_type": "code",
   "execution_count": 59,
   "metadata": {},
   "outputs": [
    {
     "data": {
      "text/plain": [
       "[['v_x', 'v_xx', 'u_x', 'u_xv_x', 'u_xv_xx', 'u_xx', 'u_xxv_x', 'u_xxv_xx']]"
      ]
     },
     "execution_count": 59,
     "metadata": {},
     "output_type": "execute_result"
    }
   ],
   "source": [
    "theta_dudv = [string_matmul(du, dv)[1:] for du, dv in combinations(deriv_list, 2)]\n",
    "theta_dudv"
   ]
  },
  {
   "cell_type": "code",
   "execution_count": 60,
   "metadata": {},
   "outputs": [
    {
     "data": {
      "text/plain": [
       "[['uu_x', 'uu_xx', 'u^2u_x', 'u^2u_xx'],\n",
       " ['uv_x', 'uv_xx', 'u^2v_x', 'u^2v_xx'],\n",
       " ['vu_x', 'vu_xx', 'v^2u_x', 'v^2u_xx'],\n",
       " ['vv_x', 'vv_xx', 'v^2v_x', 'v^2v_xx']]"
      ]
     },
     "execution_count": 60,
     "metadata": {},
     "output_type": "execute_result"
    }
   ],
   "source": [
    "theta_udv = [string_matmul(u[1:], dv[1:]) for u, dv in product(poly_list, deriv_list)]\n",
    "theta_udv"
   ]
  },
  {
   "cell_type": "code",
   "execution_count": 61,
   "metadata": {},
   "outputs": [],
   "source": [
    "theta = theta_uv\n",
    "theta.extend(theta_dudv)\n",
    "theta.extend(theta_udv)\n",
    "theta = [element for theta_specific in theta for element in theta_specific]"
   ]
  },
  {
   "cell_type": "code",
   "execution_count": 62,
   "metadata": {},
   "outputs": [
    {
     "data": {
      "text/plain": [
       "['',\n",
       " 'v',\n",
       " 'v^2',\n",
       " 'u',\n",
       " 'uv',\n",
       " 'uv^2',\n",
       " 'u^2',\n",
       " 'u^2v',\n",
       " 'u^2v^2',\n",
       " 'v_x',\n",
       " 'v_xx',\n",
       " 'u_x',\n",
       " 'u_xv_x',\n",
       " 'u_xv_xx',\n",
       " 'u_xx',\n",
       " 'u_xxv_x',\n",
       " 'u_xxv_xx',\n",
       " 'uu_x',\n",
       " 'uu_xx',\n",
       " 'u^2u_x',\n",
       " 'u^2u_xx',\n",
       " 'uv_x',\n",
       " 'uv_xx',\n",
       " 'u^2v_x',\n",
       " 'u^2v_xx',\n",
       " 'vu_x',\n",
       " 'vu_xx',\n",
       " 'v^2u_x',\n",
       " 'v^2u_xx',\n",
       " 'vv_x',\n",
       " 'vv_xx',\n",
       " 'v^2v_x',\n",
       " 'v^2v_xx']"
      ]
     },
     "execution_count": 62,
     "metadata": {},
     "output_type": "execute_result"
    }
   ],
   "source": [
    "theta"
   ]
  },
  {
   "cell_type": "code",
   "execution_count": 63,
   "metadata": {},
   "outputs": [
    {
     "data": {
      "text/plain": [
       "33"
      ]
     },
     "execution_count": 63,
     "metadata": {},
     "output_type": "execute_result"
    }
   ],
   "source": [
    "len(theta)"
   ]
  },
  {
   "cell_type": "code",
   "execution_count": 71,
   "metadata": {},
   "outputs": [
    {
     "data": {
      "text/plain": [
       "1"
      ]
     },
     "execution_count": 71,
     "metadata": {},
     "output_type": "execute_result"
    }
   ],
   "source": [
    "theta.index('v')"
   ]
  },
  {
   "cell_type": "code",
   "execution_count": 65,
   "metadata": {},
   "outputs": [
    {
     "data": {
      "text/plain": [
       "14"
      ]
     },
     "execution_count": 65,
     "metadata": {},
     "output_type": "execute_result"
    }
   ],
   "source": [
    "theta.index('u_xx')"
   ]
  },
  {
   "cell_type": "code",
   "execution_count": 66,
   "metadata": {},
   "outputs": [
    {
     "data": {
      "text/plain": [
       "29"
      ]
     },
     "execution_count": 66,
     "metadata": {},
     "output_type": "execute_result"
    }
   ],
   "source": [
    "theta.index('vv_x')"
   ]
  },
  {
   "cell_type": "code",
   "execution_count": 67,
   "metadata": {},
   "outputs": [
    {
     "data": {
      "text/plain": [
       "10"
      ]
     },
     "execution_count": 67,
     "metadata": {},
     "output_type": "execute_result"
    }
   ],
   "source": [
    "theta.index('v_xx')"
   ]
  },
  {
   "cell_type": "code",
   "execution_count": 75,
   "metadata": {},
   "outputs": [],
   "source": [
    "def string_matmul(list_1, list_2):\n",
    "    prod = [element[0] + element[1] for element in product(list_1, list_2)]\n",
    "    return prod"
   ]
  },
  {
   "cell_type": "code",
   "execution_count": 90,
   "metadata": {},
   "outputs": [],
   "source": [
    "def terms_definition(poly_list, deriv_list):\n",
    "    theta_uv = [string_matmul(u, v) for u, v in combinations(poly_list, 2)]\n",
    "    theta_dudv = [string_matmul(du, dv)[1:] for du, dv in combinations(deriv_list, 2)]\n",
    "    theta_udv = [string_matmul(u[1:], dv[1:]) for u, dv in product(poly_list, deriv_list)]\n",
    "    theta = [element for theta_specific in (theta_uv + theta_dudv + theta_udv) for element in theta_specific]\n",
    "    \n",
    "    return theta"
   ]
  },
  {
   "cell_type": "code",
   "execution_count": 94,
   "metadata": {},
   "outputs": [],
   "source": [
    "terms = terms_definition(poly_list, deriv_list)"
   ]
  },
  {
   "cell_type": "code",
   "execution_count": 100,
   "metadata": {},
   "outputs": [
    {
     "data": {
      "text/plain": [
       "['',\n",
       " 'v',\n",
       " 'v^2',\n",
       " 'u',\n",
       " 'uv',\n",
       " 'uv^2',\n",
       " 'u^2',\n",
       " 'u^2v',\n",
       " 'u^2v^2',\n",
       " 'v_x',\n",
       " 'v_xx',\n",
       " 'u_x',\n",
       " 'u_xv_x',\n",
       " 'u_xv_xx',\n",
       " 'u_xx',\n",
       " 'u_xxv_x',\n",
       " 'u_xxv_xx',\n",
       " 'uu_x',\n",
       " 'uu_xx',\n",
       " 'u^2u_x',\n",
       " 'u^2u_xx',\n",
       " 'uv_x',\n",
       " 'uv_xx',\n",
       " 'u^2v_x',\n",
       " 'u^2v_xx',\n",
       " 'vu_x',\n",
       " 'vu_xx',\n",
       " 'v^2u_x',\n",
       " 'v^2u_xx',\n",
       " 'vv_x',\n",
       " 'vv_xx',\n",
       " 'v^2v_x',\n",
       " 'v^2v_xx']"
      ]
     },
     "execution_count": 100,
     "metadata": {},
     "output_type": "execute_result"
    }
   ],
   "source": [
    "terms"
   ]
  },
  {
   "cell_type": "code",
   "execution_count": null,
   "metadata": {},
   "outputs": [],
   "source": []
  }
 ],
 "metadata": {
  "kernelspec": {
   "display_name": "Python 3",
   "language": "python",
   "name": "python3"
  },
  "language_info": {
   "codemirror_mode": {
    "name": "ipython",
    "version": 3
   },
   "file_extension": ".py",
   "mimetype": "text/x-python",
   "name": "python",
   "nbconvert_exporter": "python",
   "pygments_lexer": "ipython3",
   "version": "3.6.8"
  }
 },
 "nbformat": 4,
 "nbformat_minor": 2
}
