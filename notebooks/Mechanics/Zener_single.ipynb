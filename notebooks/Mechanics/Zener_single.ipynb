{
 "cells": [
  {
   "cell_type": "code",
   "execution_count": 3,
   "metadata": {},
   "outputs": [
    {
     "name": "stdout",
     "output_type": "stream",
     "text": [
      "The autoreload extension is already loaded. To reload it, use:\n",
      "  %reload_ext autoreload\n"
     ]
    }
   ],
   "source": [
    "import numpy as np\n",
    "import matplotlib.pyplot as plt\n",
    "from VE_DataGen_Functions import *\n",
    "from deepymod_torch.library_function import *\n",
    "from deepymod_torch.DeepMod import DeepMoD\n",
    "from deepymod_torch.neural_net import *\n",
    "from deepymod_torch.sparsity import *\n",
    "\n",
    "torch.set_default_tensor_type('torch.cuda.FloatTensor')\n",
    "\n",
    "np.random.seed(40)\n",
    "%load_ext autoreload\n",
    "%autoreload 2"
   ]
  },
  {
   "cell_type": "markdown",
   "metadata": {},
   "source": [
    "# Creating data"
   ]
  },
  {
   "cell_type": "code",
   "execution_count": 3,
   "metadata": {},
   "outputs": [],
   "source": [
    "data = loadmat('Decay_single.mat')"
   ]
  },
  {
   "cell_type": "code",
   "execution_count": 4,
   "metadata": {},
   "outputs": [
    {
     "data": {
      "text/plain": [
       "(7488, 1)"
      ]
     },
     "execution_count": 4,
     "metadata": {},
     "output_type": "execute_result"
    }
   ],
   "source": [
    "usol = np.real(data['Expression1'])\n",
    "usol.shape"
   ]
  },
  {
   "cell_type": "code",
   "execution_count": 5,
   "metadata": {},
   "outputs": [],
   "source": [
    "usol= usol.reshape((2496,3))"
   ]
  },
  {
   "cell_type": "code",
   "execution_count": 24,
   "metadata": {},
   "outputs": [],
   "source": [
    "t_v = np.float32(np.expand_dims(usol[:,0],axis=1))\n",
    "y_stress = 5*np.float32(np.expand_dims(usol[:,2],axis=1))\n",
    "y_strain = 5*np.float32(np.expand_dims(usol[:,1],axis=1))"
   ]
  },
  {
   "cell_type": "code",
   "execution_count": 25,
   "metadata": {},
   "outputs": [
    {
     "data": {
      "text/plain": [
       "[<matplotlib.lines.Line2D at 0x7fe89c4b82b0>]"
      ]
     },
     "execution_count": 25,
     "metadata": {},
     "output_type": "execute_result"
    },
    {
     "data": {
      "image/png": "[encoded data removed]",
      "text/plain": [
       "<Figure size 432x288 with 1 Axes>"
      ]
     },
     "metadata": {},
     "output_type": "display_data"
    }
   ],
   "source": [
    "plt.plot(y_stress,'--')"
   ]
  },
  {
   "cell_type": "code",
   "execution_count": 26,
   "metadata": {},
   "outputs": [
    {
     "data": {
      "text/plain": [
       "[<matplotlib.lines.Line2D at 0x7fe89c413160>]"
      ]
     },
     "execution_count": 26,
     "metadata": {},
     "output_type": "execute_result"
    },
    {
     "data": {
      "image/png": "[encoded data removed]",
      "text/plain": [
       "<Figure size 432x288 with 1 Axes>"
      ]
     },
     "metadata": {},
     "output_type": "display_data"
    }
   ],
   "source": [
    "plt.plot(y_strain)"
   ]
  },
  {
   "cell_type": "markdown",
   "metadata": {},
   "source": [
    "# DeepMoD"
   ]
  },
  {
   "cell_type": "code",
   "execution_count": 27,
   "metadata": {},
   "outputs": [],
   "source": [
    "np.random.seed(42)  # setting seed for randomisation\n",
    "noise_level = 0.0"
   ]
  },
  {
   "cell_type": "code",
   "execution_count": 29,
   "metadata": {},
   "outputs": [],
   "source": [
    "number_of_samples = 2000\n",
    "\n",
    "idx = np.random.permutation(y_strain.size)\n",
    "X_train = torch.tensor(t_v[idx, :][:number_of_samples], dtype=torch.float32, requires_grad=True)\n",
    "y_train = torch.tensor(y_strain[idx, :][:number_of_samples], dtype=torch.float32)"
   ]
  },
  {
   "cell_type": "code",
   "execution_count": 30,
   "metadata": {},
   "outputs": [
    {
     "data": {
      "text/plain": [
       "torch.Size([2000, 1])"
      ]
     },
     "execution_count": 30,
     "metadata": {},
     "output_type": "execute_result"
    }
   ],
   "source": [
    "X_train.shape"
   ]
  },
  {
   "cell_type": "code",
   "execution_count": 31,
   "metadata": {},
   "outputs": [
    {
     "data": {
      "text/plain": [
       "torch.Size([2000, 1])"
      ]
     },
     "execution_count": 31,
     "metadata": {},
     "output_type": "execute_result"
    }
   ],
   "source": [
    "y_train.shape"
   ]
  },
  {
   "cell_type": "code",
   "execution_count": 48,
   "metadata": {},
   "outputs": [],
   "source": [
    "optim_config = {'lambda': 10**-5, 'max_iterations': 50001}"
   ]
  },
  {
   "cell_type": "code",
   "execution_count": 33,
   "metadata": {},
   "outputs": [],
   "source": [
    "network_config = {'input_dim': 1, 'hidden_dim': 40, 'layers': 6, 'output_dim': y_train.shape[1]}"
   ]
  },
  {
   "cell_type": "code",
   "execution_count": 34,
   "metadata": {},
   "outputs": [],
   "source": [
    "library_config = {'type': mech_library_group}"
   ]
  },
  {
   "cell_type": "code",
   "execution_count": 35,
   "metadata": {},
   "outputs": [
    {
     "name": "stdout",
     "output_type": "stream",
     "text": [
      "1\n"
     ]
    }
   ],
   "source": [
    "network, coeff_vector_list, sparsity_mask_list = deepmod_init(network_config, library_config)"
   ]
  },
  {
   "cell_type": "code",
   "execution_count": 39,
   "metadata": {},
   "outputs": [
    {
     "name": "stdout",
     "output_type": "stream",
     "text": [
      "Epoch | Total loss | MSE | PI | L1 \n",
      "0 5.7E-04 5.7E-04\n",
      "5000 4.9E-05 4.9E-05\n",
      "10000 2.9E-04 2.9E-04\n"
     ]
    }
   ],
   "source": [
    "train_group_mse(X_train, y_train, network, coeff_vector_list, sparsity_mask_list, library_config, optim_config)"
   ]
  },
  {
   "cell_type": "code",
   "execution_count": 49,
   "metadata": {},
   "outputs": [
    {
     "name": "stdout",
     "output_type": "stream",
     "text": [
      "Epoch | Total loss | MSE | PI | L1 \n",
      "0 4.1E-04 2.2E-04 1.2E-04 3.3E-05 3.3E-05\n",
      "tensor([[ 1.3274],\n",
      "        [ 1.7946],\n",
      "        [-0.1608],\n",
      "        [-0.2444],\n",
      "        [ 0.3317],\n",
      "        [ 0.2548],\n",
      "        [-0.2459]], requires_grad=True)\n",
      "5000 2.4E-04 1.3E-04 3.8E-05 3.4E-05 3.4E-05\n",
      "tensor([[1.5087],\n",
      "        [1.5952],\n",
      "        [0.3343],\n",
      "        [0.0058],\n",
      "        [0.4063],\n",
      "        [0.3151],\n",
      "        [0.0261]], requires_grad=True)\n",
      "10000 8.1E-05 7.9E-06 6.8E-06 3.3E-05 3.3E-05\n",
      "tensor([[1.6408],\n",
      "        [1.4568],\n",
      "        [0.2200],\n",
      "        [0.0225],\n",
      "        [0.4398],\n",
      "        [0.1989],\n",
      "        [0.0343]], requires_grad=True)\n",
      "15000 1.1E-04 2.1E-05 2.2E-05 3.2E-05 3.2E-05\n",
      "tensor([[1.7558],\n",
      "        [1.3468],\n",
      "        [0.0441],\n",
      "        [0.0455],\n",
      "        [0.4639],\n",
      "        [0.0629],\n",
      "        [0.0182]], requires_grad=True)\n",
      "20000 8.7E-05 1.3E-05 1.1E-05 3.2E-05 3.2E-05\n",
      "tensor([[1.7663e+00],\n",
      "        [1.2839e+00],\n",
      "        [2.9939e-02],\n",
      "        [4.3050e-04],\n",
      "        [4.7355e-01],\n",
      "        [5.9902e-02],\n",
      "        [2.2994e-02]], requires_grad=True)\n",
      "25000 9.1E-05 1.3E-05 1.3E-05 3.2E-05 3.2E-05\n",
      "tensor([[1.6939e+00],\n",
      "        [1.3627e+00],\n",
      "        [1.2556e-01],\n",
      "        [2.6477e-04],\n",
      "        [4.5562e-01],\n",
      "        [1.3446e-01],\n",
      "        [3.0184e-02]], requires_grad=True)\n",
      "30000 6.9E-05 3.0E-06 2.6E-06 3.2E-05 3.2E-05\n",
      "tensor([[ 1.7540e+00],\n",
      "        [ 1.2962e+00],\n",
      "        [ 4.0479e-02],\n",
      "        [-1.8462e-05],\n",
      "        [ 4.7089e-01],\n",
      "        [ 7.1803e-02],\n",
      "        [ 2.3379e-02]], requires_grad=True)\n",
      "35000 1.0E-04 1.3E-05 2.3E-05 3.3E-05 3.3E-05\n",
      "tensor([[ 1.6023],\n",
      "        [ 1.4818],\n",
      "        [ 0.2185],\n",
      "        [-0.0023],\n",
      "        [ 0.4310],\n",
      "        [ 0.2230],\n",
      "        [ 0.0236]], requires_grad=True)\n",
      "40000 7.5E-05 7.4E-06 4.0E-06 3.2E-05 3.2E-05\n",
      "tensor([[1.7093e+00],\n",
      "        [1.3542e+00],\n",
      "        [9.2186e-02],\n",
      "        [1.2380e-03],\n",
      "        [4.5849e-01],\n",
      "        [1.1565e-01],\n",
      "        [2.3254e-02]], requires_grad=True)\n",
      "45000 9.6E-04 4.8E-04 4.1E-04 3.6E-05 3.6E-05\n",
      "tensor([[1.5804],\n",
      "        [1.6819],\n",
      "        [0.4074],\n",
      "        [0.2594],\n",
      "        [0.4171],\n",
      "        [0.2584],\n",
      "        [0.0268]], requires_grad=True)\n",
      "50000 1.5E-04 4.6E-05 3.2E-05 3.4E-05 3.4E-05\n",
      "tensor([[1.5919],\n",
      "        [1.6999],\n",
      "        [0.3059],\n",
      "        [0.2308],\n",
      "        [0.4007],\n",
      "        [0.2160],\n",
      "        [0.0314]], requires_grad=True)\n"
     ]
    }
   ],
   "source": [
    "time_deriv_list, theta, coeff_vector_list = train_group(X_train, y_train, network, coeff_vector_list, sparsity_mask_list, library_config, optim_config) "
   ]
  },
  {
   "cell_type": "code",
   "execution_count": 50,
   "metadata": {},
   "outputs": [],
   "source": [
    "X_all = torch.tensor(t_v, dtype=torch.float32, requires_grad=True) \n",
    "prediction_full = network(X_all).cpu()"
   ]
  },
  {
   "cell_type": "code",
   "execution_count": 51,
   "metadata": {},
   "outputs": [
    {
     "data": {
      "text/plain": [
       "[<matplotlib.lines.Line2D at 0x7fe89c2acbe0>]"
      ]
     },
     "execution_count": 51,
     "metadata": {},
     "output_type": "execute_result"
    },
    {
     "data": {
      "image/png": "[encoded data removed]",
      "text/plain": [
       "<Figure size 432x288 with 1 Axes>"
      ]
     },
     "metadata": {},
     "output_type": "display_data"
    }
   ],
   "source": [
    "plt.scatter(t_v, y_strain)\n",
    "plt.plot(t_v,prediction_full.detach().numpy(),'r')"
   ]
  },
  {
   "cell_type": "code",
   "execution_count": 52,
   "metadata": {},
   "outputs": [],
   "source": [
    "scaled_coeff_vector_list = [scaling(coeff_vector, theta, time_deriv) for coeff_vector, theta , time_deriv in zip(coeff_vector_list, theta, time_deriv_list)]"
   ]
  },
  {
   "cell_type": "code",
   "execution_count": 53,
   "metadata": {},
   "outputs": [
    {
     "data": {
      "text/plain": [
       "[tensor([[1.3278],\n",
       "         [0.8270],\n",
       "         [0.1115],\n",
       "         [0.0721],\n",
       "         [0.8371],\n",
       "         [0.2195],\n",
       "         [0.0511]], grad_fn=<MulBackward0>)]"
      ]
     },
     "execution_count": 53,
     "metadata": {},
     "output_type": "execute_result"
    }
   ],
   "source": [
    "scaled_coeff_vector_list"
   ]
  },
  {
   "cell_type": "code",
   "execution_count": 54,
   "metadata": {},
   "outputs": [
    {
     "data": {
      "text/plain": [
       "[tensor([[1.3278],\n",
       "         [0.8270],\n",
       "         [0.1115],\n",
       "         [0.0721],\n",
       "         [0.8371],\n",
       "         [0.2195],\n",
       "         [0.0511]], grad_fn=<MulBackward0>)]"
      ]
     },
     "execution_count": 54,
     "metadata": {},
     "output_type": "execute_result"
    }
   ],
   "source": [
    "scaled_coeff_vector_list"
   ]
  },
  {
   "cell_type": "code",
   "execution_count": null,
   "metadata": {},
   "outputs": [],
   "source": []
  }
 ],
 "metadata": {
  "kernelspec": {
   "display_name": "Python 3",
   "language": "python",
   "name": "python3"
  },
  "language_info": {
   "codemirror_mode": {
    "name": "ipython",
    "version": 3
   },
   "file_extension": ".py",
   "mimetype": "text/x-python",
   "name": "python",
   "nbconvert_exporter": "python",
   "pygments_lexer": "ipython3",
   "version": "3.6.9"
  }
 },
 "nbformat": 4,
 "nbformat_minor": 4
}
