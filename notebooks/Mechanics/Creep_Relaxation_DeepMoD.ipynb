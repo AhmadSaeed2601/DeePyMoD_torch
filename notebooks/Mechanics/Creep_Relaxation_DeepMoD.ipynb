{
 "cells": [
  {
   "cell_type": "markdown",
   "metadata": {},
   "source": [
    "# Generating Stress/Strain data using Integration"
   ]
  },
  {
   "cell_type": "markdown",
   "metadata": {},
   "source": [
    "The following mathematical methods I do not fully understand, but I am going to use the equations from the DeepMod paper anyway and code them into python to see the results."
   ]
  },
  {
   "cell_type": "markdown",
   "metadata": {},
   "source": [
    "## Developing the code in notebook"
   ]
  },
  {
   "cell_type": "code",
   "execution_count": 3,
   "metadata": {},
   "outputs": [
    {
     "name": "stdout",
     "output_type": "stream",
     "text": [
      "The autoreload extension is already loaded. To reload it, use:\n",
      "  %reload_ext autoreload\n"
     ]
    }
   ],
   "source": [
    "import numpy as np\n",
    "import matplotlib.pyplot as plt\n",
    "import sympy as sp\n",
    "import VE_DataGen_Functions as vedg\n",
    "import torch\n",
    "\n",
    "from deepymod_torch.library_function import *\n",
    "from deepymod_torch.DeepMod import DeepMoD\n",
    "from deepymod_torch.neural_net import train_group, deepmod_init, train_group_mse\n",
    "from deepymod_torch.sparsity import scaling, threshold\n",
    "from deepymod_torch.utilities import terms_definition\n",
    "\n",
    "try:\n",
    "    torch.set_default_tensor_type('torch.cuda.FloatTensor')\n",
    "except:\n",
    "    pass\n",
    "\n",
    "%load_ext autoreload\n",
    "%autoreload 2"
   ]
  },
  {
   "cell_type": "markdown",
   "metadata": {},
   "source": [
    "## After moving functionality to .py, testing functions"
   ]
  },
  {
   "cell_type": "code",
   "execution_count": 7,
   "metadata": {},
   "outputs": [
    {
     "name": "stdout",
     "output_type": "stream",
     "text": [
      "(3.0 - 1.0*exp(-0.8*t) - 1.0*exp(-0.4*t), <function Stress_Strain_Master_Int.<locals>.<lambda> at 0x7f1c882bd510>)\n"
     ]
    }
   ],
   "source": [
    "Input_Type = 'Stress'\n",
    "E = [1, 1, 1]\n",
    "Eta = [2.5, 1.25] #Remy uses Tau as input. Eta = E*Tau, and all the Es are 1, so Eta = Tau\n",
    "t = sp.symbols('t', real=True)\n",
    "Input_Function = sp.sinc(t)\n",
    "Input_Description = 'Sinc'\n",
    "Int_Type = 'Numerical'\n",
    "\n",
    "# Returns a tuple if Int_Type = 'Numerical', where the first element is an analytical expression and the second is a function for integrating numerically a second term.\n",
    "# Returns a single expression if Int_Type = 'Analytical'. Note, this may not be computationally possible.\n",
    "Tuple_of_Expressions = vedg.Stress_Strain_Master_Int(Input_Type, E, Eta, Input_Function, Int_Type, t)\n",
    "print(Tuple_of_Expressions)"
   ]
  },
  {
   "cell_type": "code",
   "execution_count": 8,
   "metadata": {},
   "outputs": [],
   "source": [
    "E0, E1, E2 = E\n",
    "tau1, tau2 = Eta[0]/E[1], Eta[1]/E[2]"
   ]
  },
  {
   "cell_type": "code",
   "execution_count": 9,
   "metadata": {},
   "outputs": [
    {
     "data": {
      "image/png": "[encoded data removed]",
      "text/plain": [
       "<Figure size 432x288 with 2 Axes>"
      ]
     },
     "metadata": {
      "needs_background": "light"
     },
     "output_type": "display_data"
    }
   ],
   "source": [
    "time = np.linspace(0.1, 30, 5000)\n",
    "\n",
    "title = ('Input: ' + Input_Description + ', ' + Input_Type + \n",
    "         '.\\nModel: E Mods ' + str(E) + ', Viscs ' + str(Eta))\n",
    "\n",
    "Strain_Array, Stress_Array = vedg.Eval_Graph_Strain_Stress(title, time, Input_Function, Tuple_of_Expressions, Input_Type, Int_Type, t)"
   ]
  },
  {
   "cell_type": "code",
   "execution_count": 14,
   "metadata": {},
   "outputs": [
    {
     "data": {
      "text/plain": [
       "0.6981196239247849"
      ]
     },
     "execution_count": 14,
     "metadata": {},
     "output_type": "execute_result"
    }
   ],
   "source": [
    "time[100]"
   ]
  },
  {
   "cell_type": "code",
   "execution_count": 15,
   "metadata": {},
   "outputs": [
    {
     "data": {
      "text/latex": [
       "$\\displaystyle 1.5723244372932$"
      ],
      "text/plain": [
       "1.57232443729320"
      ]
     },
     "execution_count": 15,
     "metadata": {},
     "output_type": "execute_result"
    }
   ],
   "source": [
    "Strain_Array[100]"
   ]
  },
  {
   "cell_type": "code",
   "execution_count": 16,
   "metadata": {},
   "outputs": [],
   "source": [
    "t_v = np.float32(np.expand_dims(time,axis=1))\n",
    "y_stress = np.float32(np.expand_dims(Stress_Array,axis=1))\n",
    "y_strain = np.float32(np.expand_dims(Strain_Array,axis=1))"
   ]
  },
  {
   "cell_type": "markdown",
   "metadata": {},
   "source": [
    "Here we will transfer the numpy arrays into torch tensors"
   ]
  },
  {
   "cell_type": "code",
   "execution_count": 17,
   "metadata": {},
   "outputs": [],
   "source": [
    "number_of_samples = 2000\n",
    "\n",
    "idx = np.random.permutation(y_strain.size)\n",
    "X_train = torch.tensor(t_v[idx, :][:number_of_samples], dtype=torch.float32, requires_grad=True)\n",
    "y_train = torch.tensor(y_strain[idx, :][:number_of_samples], dtype=torch.float32)"
   ]
  },
  {
   "cell_type": "code",
   "execution_count": 18,
   "metadata": {},
   "outputs": [
    {
     "data": {
      "text/plain": [
       "torch.Size([2000, 1])"
      ]
     },
     "execution_count": 18,
     "metadata": {},
     "output_type": "execute_result"
    }
   ],
   "source": [
    "y_train.shape"
   ]
  },
  {
   "cell_type": "markdown",
   "metadata": {},
   "source": [
    "Here we set the parameters of DeepMoD"
   ]
  },
  {
   "cell_type": "code",
   "execution_count": 36,
   "metadata": {},
   "outputs": [],
   "source": [
    "optim_config = {'lambda': 10**-6, 'max_iterations': 10001}"
   ]
  },
  {
   "cell_type": "code",
   "execution_count": 37,
   "metadata": {},
   "outputs": [],
   "source": [
    "network_config = {'input_dim': 1, 'hidden_dim': 40, 'layers': 4, 'output_dim': y_train.shape[1]}"
   ]
  },
  {
   "cell_type": "code",
   "execution_count": 38,
   "metadata": {},
   "outputs": [],
   "source": [
    "library_config = {'type': mech_library_group}"
   ]
  },
  {
   "cell_type": "markdown",
   "metadata": {},
   "source": [
    "Here we initialize DeepMoD "
   ]
  },
  {
   "cell_type": "code",
   "execution_count": 39,
   "metadata": {},
   "outputs": [],
   "source": [
    "network, coeff_vector_list, sparsity_mask_list = deepmod_init(network_config, library_config)"
   ]
  },
  {
   "cell_type": "markdown",
   "metadata": {},
   "source": [
    " Let's optimize the MSE before running the full optimization of DeepMoD "
   ]
  },
  {
   "cell_type": "code",
   "execution_count": 40,
   "metadata": {},
   "outputs": [
    {
     "name": "stdout",
     "output_type": "stream",
     "text": [
      "Epoch | Total loss | MSE | PI | L1 \n",
      "0 1.9E-01 1.9E-01\n",
      "5000 8.9E-04 8.9E-04\n",
      "10000 3.2E-05 3.2E-05\n"
     ]
    }
   ],
   "source": [
    "train_group_mse(X_train, y_train, network, coeff_vector_list, sparsity_mask_list, library_config, optim_config)"
   ]
  },
  {
   "cell_type": "markdown",
   "metadata": {},
   "source": [
    "Let's run all the input data through the trained network "
   ]
  },
  {
   "cell_type": "code",
   "execution_count": 42,
   "metadata": {},
   "outputs": [],
   "source": [
    "t_all = torch.tensor(t_v, dtype=torch.float32, requires_grad=True) \n",
    "prediction_full = network(t_all)"
   ]
  },
  {
   "cell_type": "markdown",
   "metadata": {},
   "source": [
    "Plot the prediction in blue and ground truth in orange"
   ]
  },
  {
   "cell_type": "code",
   "execution_count": 43,
   "metadata": {},
   "outputs": [
    {
     "data": {
      "text/plain": [
       "[<matplotlib.lines.Line2D at 0x7f1c254a9400>]"
      ]
     },
     "execution_count": 43,
     "metadata": {},
     "output_type": "execute_result"
    },
    {
     "data": {
      "image/png": "[encoded data removed]",
      "text/plain": [
       "<Figure size 432x288 with 1 Axes>"
      ]
     },
     "metadata": {
      "needs_background": "light"
     },
     "output_type": "display_data"
    }
   ],
   "source": [
    "plt.plot(t_v,prediction_full[:,0].cpu().detach().numpy())\n",
    "plt.plot(t_v,Strain_Array,'--')"
   ]
  },
  {
   "cell_type": "markdown",
   "metadata": {},
   "source": [
    "Now run the full DeepMoD to obtain optimize the PI and MSE together"
   ]
  },
  {
   "cell_type": "code",
   "execution_count": null,
   "metadata": {},
   "outputs": [
    {
     "name": "stdout",
     "output_type": "stream",
     "text": [
      "Epoch | Total loss | MSE | PI | L1 \n",
      "0 3.5E-05 1.2E-05 1.3E-05 4.7E-06 4.7E-06\n",
      "tensor([[0.5564],\n",
      "        [1.2503],\n",
      "        [1.8364],\n",
      "        [0.0069],\n",
      "        [0.3478],\n",
      "        [1.4395],\n",
      "        [0.7530]], requires_grad=True)\n"
     ]
    }
   ],
   "source": [
    "time_deriv_list, theta, coeff_vector_list = train_group(X_train, y_train, network, coeff_vector_list, sparsity_mask_list, library_config, optim_config) "
   ]
  },
  {
   "cell_type": "markdown",
   "metadata": {},
   "source": [
    "Calculate the scaled coefficient "
   ]
  },
  {
   "cell_type": "code",
   "execution_count": 45,
   "metadata": {},
   "outputs": [],
   "source": [
    "scaled_coeff_vector_list = [scaling(coeff_vector, theta, time_deriv) for coeff_vector, theta , time_deriv in zip(coeff_vector_list, theta, time_deriv_list)]"
   ]
  },
  {
   "cell_type": "code",
   "execution_count": 46,
   "metadata": {},
   "outputs": [],
   "source": [
    "sparse_coeff_vector_list, sparsity_mask_list_final = zip(*[threshold(scaled_coeff_vector, coeff_vector) for scaled_coeff_vector, coeff_vector in zip(scaled_coeff_vector_list, coeff_vector_list)])"
   ]
  },
  {
   "cell_type": "code",
   "execution_count": 48,
   "metadata": {},
   "outputs": [
    {
     "data": {
      "text/plain": [
       "[<matplotlib.lines.Line2D at 0x7f1c251654a8>]"
      ]
     },
     "execution_count": 48,
     "metadata": {},
     "output_type": "execute_result"
    },
    {
     "data": {
      "image/png": "[encoded data removed]",
      "text/plain": [
       "<Figure size 432x288 with 1 Axes>"
      ]
     },
     "metadata": {
      "needs_background": "light"
     },
     "output_type": "display_data"
    }
   ],
   "source": [
    "plt.plot(np.abs(scaled_coeff_vector_list[0].cpu().detach().numpy()),'+')\n",
    "#plt.yscale('log')"
   ]
  },
  {
   "cell_type": "code",
   "execution_count": 63,
   "metadata": {},
   "outputs": [
    {
     "data": {
      "text/plain": [
       "(tensor([0, 1, 5]),)"
      ]
     },
     "execution_count": 63,
     "metadata": {},
     "output_type": "execute_result"
    }
   ],
   "source": [
    "sparsity_mask_list_final"
   ]
  },
  {
   "cell_type": "code",
   "execution_count": 61,
   "metadata": {},
   "outputs": [
    {
     "name": "stdout",
     "output_type": "stream",
     "text": [
      "0.08333333333333333 0.5 0.4166666666666667 0.08333333333333333 1.25\n"
     ]
    }
   ],
   "source": [
    "# True Zener+1 coefficients\n",
    "C0=1\n",
    "C1=tau1+tau2\n",
    "C2=tau1*tau2\n",
    "C3=E0\n",
    "C4=tau1*tau2*(E0+E1+E2)\n",
    "\n",
    "C0 = 1/(tau1*(E0+E1)+tau2*(E0+E2))\n",
    "C1 = C1/(tau1*(E0+E1)+tau2*(E0+E2))\n",
    "C2 = C2/(tau1*(E0+E1)+tau2*(E0+E2))\n",
    "C3 = C3/(tau1*(E0+E1)+tau2*(E0+E2))\n",
    "C4 = C4/(tau1*(E0+E1)+tau2*(E0+E2))\n",
    "\n",
    "print(C0,C1,C2,C3,C4)"
   ]
  },
  {
   "cell_type": "code",
   "execution_count": 62,
   "metadata": {},
   "outputs": [
    {
     "data": {
      "text/plain": [
       "[tensor([[ 5.7265e-01],\n",
       "         [ 1.8610e+00],\n",
       "         [ 5.9454e-01],\n",
       "         [-3.5401e-05],\n",
       "         [ 1.8701e-01],\n",
       "         [ 6.7529e-01],\n",
       "         [ 7.4717e-03]], requires_grad=True)]"
      ]
     },
     "execution_count": 62,
     "metadata": {},
     "output_type": "execute_result"
    }
   ],
   "source": [
    "coeff_vector_list"
   ]
  },
  {
   "cell_type": "code",
   "execution_count": 67,
   "metadata": {},
   "outputs": [
    {
     "data": {
      "text/plain": [
       "tensor([3.2498], grad_fn=<DivBackward0>)"
      ]
     },
     "execution_count": 67,
     "metadata": {},
     "output_type": "execute_result"
    }
   ],
   "source": [
    "coeff_vector_list[0][1]/coeff_vector_list[0][0]"
   ]
  },
  {
   "cell_type": "code",
   "execution_count": 68,
   "metadata": {},
   "outputs": [
    {
     "data": {
      "text/plain": [
       "tensor([0.3195], grad_fn=<DivBackward0>)"
      ]
     },
     "execution_count": 68,
     "metadata": {},
     "output_type": "execute_result"
    }
   ],
   "source": [
    "coeff_vector_list[0][2]/coeff_vector_list[0][1]"
   ]
  },
  {
   "cell_type": "code",
   "execution_count": null,
   "metadata": {},
   "outputs": [],
   "source": []
  }
 ],
 "metadata": {
  "kernelspec": {
   "display_name": "Python 3",
   "language": "python",
   "name": "python3"
  },
  "language_info": {
   "codemirror_mode": {
    "name": "ipython",
    "version": 3
   },
   "file_extension": ".py",
   "mimetype": "text/x-python",
   "name": "python",
   "nbconvert_exporter": "python",
   "pygments_lexer": "ipython3",
   "version": "3.6.9"
  }
 },
 "nbformat": 4,
 "nbformat_minor": 4
}
