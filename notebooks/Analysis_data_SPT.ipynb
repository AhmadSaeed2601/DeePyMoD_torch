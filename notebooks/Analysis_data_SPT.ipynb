{
 "cells": [
  {
   "cell_type": "code",
   "execution_count": 1,
   "metadata": {},
   "outputs": [],
   "source": [
    "import numpy as np\n",
    "import pandas as pd\n",
    "import matplotlib.pyplot as plt\n",
    "import seaborn as sns; sns.set(style=\"white\", color_codes=True)\n",
    "\n",
    "from deepymod_torch.library_function import *\n",
    "from deepymod_torch.DeepMod import DeepMoD\n",
    "from deepymod_torch.neural_net import *\n",
    "from deepymod_torch.sparsity import *\n",
    "\n",
    "\n",
    "np.random.seed(40)\n",
    "%load_ext autoreload\n",
    "%autoreload 2\n",
    "\n",
    "#sys.path.append('../src/deepymod/')\n",
    "#from DeepMoD import DeepMoD\n",
    "#from library_functions import *\n",
    "#from deepymod.utilities import library_matrix_mat, print_PDE"
   ]
  },
  {
   "cell_type": "code",
   "execution_count": 2,
   "metadata": {},
   "outputs": [],
   "source": [
    "def shift(test):\n",
    "    return test[:-1]+np.diff(test)[0]/2"
   ]
  },
  {
   "cell_type": "markdown",
   "metadata": {},
   "source": [
    "Loading in the data as a data-frame "
   ]
  },
  {
   "cell_type": "code",
   "execution_count": 3,
   "metadata": {},
   "outputs": [],
   "source": [
    "myFile_pd = pd.read_csv('../data/raw/SPT/data_video5.csv', sep=',')"
   ]
  },
  {
   "cell_type": "code",
   "execution_count": 4,
   "metadata": {},
   "outputs": [
    {
     "data": {
      "text/html": [
       "<div>\n",
       "<style scoped>\n",
       "    .dataframe tbody tr th:only-of-type {\n",
       "        vertical-align: middle;\n",
       "    }\n",
       "\n",
       "    .dataframe tbody tr th {\n",
       "        vertical-align: top;\n",
       "    }\n",
       "\n",
       "    .dataframe thead th {\n",
       "        text-align: right;\n",
       "    }\n",
       "</style>\n",
       "<table border=\"1\" class=\"dataframe\">\n",
       "  <thead>\n",
       "    <tr style=\"text-align: right;\">\n",
       "      <th></th>\n",
       "      <th>Unnamed: 0</th>\n",
       "      <th>Frame</th>\n",
       "      <th>x1</th>\n",
       "      <th>y1</th>\n",
       "      <th>x2</th>\n",
       "      <th>y2</th>\n",
       "      <th>x3</th>\n",
       "      <th>y3</th>\n",
       "      <th>x4</th>\n",
       "      <th>y4</th>\n",
       "      <th>...</th>\n",
       "      <th>x17</th>\n",
       "      <th>y17</th>\n",
       "      <th>x18</th>\n",
       "      <th>y18</th>\n",
       "      <th>x19</th>\n",
       "      <th>y19</th>\n",
       "      <th>x20</th>\n",
       "      <th>y20</th>\n",
       "      <th>x21</th>\n",
       "      <th>y21</th>\n",
       "    </tr>\n",
       "  </thead>\n",
       "  <tbody>\n",
       "    <tr>\n",
       "      <th>0</th>\n",
       "      <td>0</td>\n",
       "      <td>1</td>\n",
       "      <td>497.0</td>\n",
       "      <td>571.0</td>\n",
       "      <td>1429</td>\n",
       "      <td>961</td>\n",
       "      <td>330</td>\n",
       "      <td>1057</td>\n",
       "      <td>489</td>\n",
       "      <td>495</td>\n",
       "      <td>...</td>\n",
       "      <td>492</td>\n",
       "      <td>67</td>\n",
       "      <td>1211</td>\n",
       "      <td>358</td>\n",
       "      <td>368</td>\n",
       "      <td>67</td>\n",
       "      <td>1440</td>\n",
       "      <td>926</td>\n",
       "      <td>131</td>\n",
       "      <td>651</td>\n",
       "    </tr>\n",
       "    <tr>\n",
       "      <th>1</th>\n",
       "      <td>1</td>\n",
       "      <td>2</td>\n",
       "      <td>498.0</td>\n",
       "      <td>572.0</td>\n",
       "      <td>1429</td>\n",
       "      <td>962</td>\n",
       "      <td>330</td>\n",
       "      <td>1055</td>\n",
       "      <td>490</td>\n",
       "      <td>496</td>\n",
       "      <td>...</td>\n",
       "      <td>492</td>\n",
       "      <td>68</td>\n",
       "      <td>1212</td>\n",
       "      <td>358</td>\n",
       "      <td>368</td>\n",
       "      <td>65</td>\n",
       "      <td>1439</td>\n",
       "      <td>926</td>\n",
       "      <td>130</td>\n",
       "      <td>651</td>\n",
       "    </tr>\n",
       "    <tr>\n",
       "      <th>2</th>\n",
       "      <td>2</td>\n",
       "      <td>3</td>\n",
       "      <td>498.0</td>\n",
       "      <td>572.0</td>\n",
       "      <td>1428</td>\n",
       "      <td>963</td>\n",
       "      <td>329</td>\n",
       "      <td>1055</td>\n",
       "      <td>490</td>\n",
       "      <td>495</td>\n",
       "      <td>...</td>\n",
       "      <td>491</td>\n",
       "      <td>67</td>\n",
       "      <td>1211</td>\n",
       "      <td>359</td>\n",
       "      <td>368</td>\n",
       "      <td>67</td>\n",
       "      <td>1440</td>\n",
       "      <td>926</td>\n",
       "      <td>129</td>\n",
       "      <td>649</td>\n",
       "    </tr>\n",
       "    <tr>\n",
       "      <th>3</th>\n",
       "      <td>3</td>\n",
       "      <td>4</td>\n",
       "      <td>498.0</td>\n",
       "      <td>572.0</td>\n",
       "      <td>1428</td>\n",
       "      <td>963</td>\n",
       "      <td>329</td>\n",
       "      <td>1054</td>\n",
       "      <td>490</td>\n",
       "      <td>496</td>\n",
       "      <td>...</td>\n",
       "      <td>491</td>\n",
       "      <td>67</td>\n",
       "      <td>1212</td>\n",
       "      <td>360</td>\n",
       "      <td>369</td>\n",
       "      <td>66</td>\n",
       "      <td>1440</td>\n",
       "      <td>926</td>\n",
       "      <td>130</td>\n",
       "      <td>650</td>\n",
       "    </tr>\n",
       "    <tr>\n",
       "      <th>4</th>\n",
       "      <td>4</td>\n",
       "      <td>5</td>\n",
       "      <td>499.0</td>\n",
       "      <td>572.0</td>\n",
       "      <td>1429</td>\n",
       "      <td>962</td>\n",
       "      <td>330</td>\n",
       "      <td>1055</td>\n",
       "      <td>489</td>\n",
       "      <td>497</td>\n",
       "      <td>...</td>\n",
       "      <td>491</td>\n",
       "      <td>67</td>\n",
       "      <td>1212</td>\n",
       "      <td>360</td>\n",
       "      <td>368</td>\n",
       "      <td>66</td>\n",
       "      <td>1440</td>\n",
       "      <td>926</td>\n",
       "      <td>129</td>\n",
       "      <td>649</td>\n",
       "    </tr>\n",
       "  </tbody>\n",
       "</table>\n",
       "<p>5 rows × 44 columns</p>\n",
       "</div>"
      ],
      "text/plain": [
       "   Unnamed: 0  Frame     x1     y1    x2   y2   x3    y3   x4   y4  ...  x17  \\\n",
       "0           0      1  497.0  571.0  1429  961  330  1057  489  495  ...  492   \n",
       "1           1      2  498.0  572.0  1429  962  330  1055  490  496  ...  492   \n",
       "2           2      3  498.0  572.0  1428  963  329  1055  490  495  ...  491   \n",
       "3           3      4  498.0  572.0  1428  963  329  1054  490  496  ...  491   \n",
       "4           4      5  499.0  572.0  1429  962  330  1055  489  497  ...  491   \n",
       "\n",
       "   y17   x18  y18  x19  y19   x20  y20  x21  y21  \n",
       "0   67  1211  358  368   67  1440  926  131  651  \n",
       "1   68  1212  358  368   65  1439  926  130  651  \n",
       "2   67  1211  359  368   67  1440  926  129  649  \n",
       "3   67  1212  360  369   66  1440  926  130  650  \n",
       "4   67  1212  360  368   66  1440  926  129  649  \n",
       "\n",
       "[5 rows x 44 columns]"
      ]
     },
     "execution_count": 4,
     "metadata": {},
     "output_type": "execute_result"
    }
   ],
   "source": [
    "myFile_pd.head()"
   ]
  },
  {
   "cell_type": "markdown",
   "metadata": {},
   "source": [
    "Selecting the x and y values of the data and substacting the initial position to make all particles start at (x,y) = (0,0)"
   ]
  },
  {
   "cell_type": "code",
   "execution_count": 5,
   "metadata": {},
   "outputs": [],
   "source": [
    "x_list = pd.concat([myFile_pd['x1'],myFile_pd['x2'],myFile_pd['x3'],myFile_pd['x4'],myFile_pd['x5'],myFile_pd['x6'],myFile_pd['x7']],axis=1)\n",
    "y_list = pd.concat([myFile_pd['y1'],myFile_pd['y2'],myFile_pd['y3'],myFile_pd['y4'],myFile_pd['y5'],myFile_pd['y6'],myFile_pd['y7']],axis=1)\n",
    "x_list = x_list-x_list.values.squeeze()[0]\n",
    "y_list = y_list-y_list.values.squeeze()[0]"
   ]
  },
  {
   "cell_type": "code",
   "execution_count": 6,
   "metadata": {},
   "outputs": [],
   "source": [
    "x_list = pd.concat([myFile_pd['x1'],myFile_pd['x2'],myFile_pd['x3'],myFile_pd['x4'],myFile_pd['x5'],myFile_pd['x6'],myFile_pd['x7'],myFile_pd['x8'],myFile_pd['x9'],myFile_pd['x10'],myFile_pd['x11'],myFile_pd['x12'],myFile_pd['x13'],myFile_pd['x14'],myFile_pd['x15'],myFile_pd['x16'],myFile_pd['x17'],myFile_pd['x18'],myFile_pd['x19'],myFile_pd['x20'],myFile_pd['x21']],axis=1)\n",
    "y_list = pd.concat([myFile_pd['y1'],myFile_pd['y2'],myFile_pd['y3'],myFile_pd['y4'],myFile_pd['y5'],myFile_pd['y6'],myFile_pd['y7'],myFile_pd['y8'],myFile_pd['y9'],myFile_pd['y10'],myFile_pd['y11'],myFile_pd['y12'],myFile_pd['y13'],myFile_pd['y14'],myFile_pd['y15'],myFile_pd['y16'],myFile_pd['y17'],myFile_pd['y18'],myFile_pd['y19'],myFile_pd['y20'],myFile_pd['y21']],axis=1)\n",
    "x_list = x_list-x_list.values.squeeze()[0]\n",
    "y_list = y_list-y_list.values.squeeze()[0]"
   ]
  },
  {
   "cell_type": "code",
   "execution_count": 7,
   "metadata": {},
   "outputs": [],
   "source": [
    "x_position_array = np.asarray(x_list.values.squeeze())\n",
    "y_position_array = np.asarray(y_list.values.squeeze())"
   ]
  },
  {
   "cell_type": "markdown",
   "metadata": {},
   "source": [
    "m is the amount of individual trajectories that you want to split your dataset into."
   ]
  },
  {
   "cell_type": "code",
   "execution_count": 8,
   "metadata": {},
   "outputs": [],
   "source": [
    "m = 55\n",
    "L_cuts = np.int(x_position_array.shape[0]/m)\n",
    "x_array = x_position_array[0:L_cuts][:,1:]\n",
    "y_array = y_position_array[0:L_cuts][:,1:]"
   ]
  },
  {
   "cell_type": "code",
   "execution_count": 9,
   "metadata": {},
   "outputs": [],
   "source": [
    "for i in range(1,m):\n",
    "    temp_array_x= x_position_array[i*L_cuts:(i+1)*L_cuts] - x_position_array[i*L_cuts]\n",
    "    temp_array_y= y_position_array[i*L_cuts:(i+1)*L_cuts] - y_position_array[i*L_cuts]\n",
    "    x_array= np.hstack((x_array,temp_array_x[:,1:]))\n",
    "    y_array= np.hstack((y_array,temp_array_y[:,1:]))"
   ]
  },
  {
   "cell_type": "code",
   "execution_count": 17,
   "metadata": {},
   "outputs": [],
   "source": [
    "msd = np.sqrt(x_array**2 + y_array**2)"
   ]
  },
  {
   "cell_type": "code",
   "execution_count": 31,
   "metadata": {},
   "outputs": [
    {
     "data": {
      "text/plain": [
       "[<matplotlib.lines.Line2D at 0x7f56763e39b0>]"
      ]
     },
     "execution_count": 31,
     "metadata": {},
     "output_type": "execute_result"
    },
    {
     "data": {
      "image/png": "[encoded data removed]",
      "text/plain": [
       "<Figure size 432x288 with 1 Axes>"
      ]
     },
     "metadata": {
      "needs_background": "light"
     },
     "output_type": "display_data"
    }
   ],
   "source": [
    "plt.plot(np.sum(msd,axis=1))"
   ]
  },
  {
   "cell_type": "code",
   "execution_count": 35,
   "metadata": {},
   "outputs": [
    {
     "data": {
      "text/plain": [
       "41"
      ]
     },
     "execution_count": 35,
     "metadata": {},
     "output_type": "execute_result"
    }
   ],
   "source": [
    "len(np.sum(msd,axis=1))"
   ]
  },
  {
   "cell_type": "code",
   "execution_count": 37,
   "metadata": {},
   "outputs": [
    {
     "data": {
      "text/plain": [
       "array([ 0,  1,  2,  3,  4,  5,  6,  7,  8,  9, 10, 11, 12, 13, 14, 15, 16,\n",
       "       17, 18, 19, 20, 21, 22, 23, 24, 25, 26, 27, 28, 29, 30, 31, 32, 33,\n",
       "       34, 35, 36, 37, 38, 39, 40])"
      ]
     },
     "execution_count": 37,
     "metadata": {},
     "output_type": "execute_result"
    }
   ],
   "source": [
    "np.arange(0,len(np.sum(msd,axis=1)))"
   ]
  },
  {
   "cell_type": "code",
   "execution_count": 40,
   "metadata": {},
   "outputs": [
    {
     "data": {
      "text/plain": [
       "array([ 109.35655503, 1445.79196677])"
      ]
     },
     "execution_count": 40,
     "metadata": {},
     "output_type": "execute_result"
    }
   ],
   "source": [
    "np.polyfit(np.arange(0,len(np.sum(msd,axis=1))),np.sum(msd,axis=1), 1, rcond=None, full=False, w=None, cov=False)"
   ]
  },
  {
   "cell_type": "code",
   "execution_count": 24,
   "metadata": {},
   "outputs": [
    {
     "data": {
      "text/plain": [
       "[<matplotlib.lines.Line2D at 0x7f56768b0278>]"
      ]
     },
     "execution_count": 24,
     "metadata": {},
     "output_type": "execute_result"
    },
    {
     "data": {
      "image/png": "[encoded data removed]",
      "text/plain": [
       "<Figure size 432x288 with 1 Axes>"
      ]
     },
     "metadata": {
      "needs_background": "light"
     },
     "output_type": "display_data"
    }
   ],
   "source": [
    "plt.plot(msd[:,3])"
   ]
  },
  {
   "cell_type": "code",
   "execution_count": 17,
   "metadata": {},
   "outputs": [],
   "source": [
    "import seaborn as sns;"
   ]
  },
  {
   "cell_type": "code",
   "execution_count": 18,
   "metadata": {},
   "outputs": [
    {
     "data": {
      "text/plain": [
       "(41, 1100)"
      ]
     },
     "execution_count": 18,
     "metadata": {},
     "output_type": "execute_result"
    }
   ],
   "source": [
    "x_array.shape"
   ]
  },
  {
   "cell_type": "code",
   "execution_count": 19,
   "metadata": {},
   "outputs": [
    {
     "data": {
      "image/png": "[encoded data removed]",
      "text/plain": [
       "<Figure size 432x432 with 3 Axes>"
      ]
     },
     "metadata": {
      "needs_background": "light"
     },
     "output_type": "display_data"
    }
   ],
   "source": [
    "time=2\n",
    "g = sns.jointplot(x=x_array[time],y=y_array[time], kind=\"kde\", color=\"m\",xlim=(-10,10),ylim=(-10,10), bw=0.75)\n",
    "g.ax_joint.collections[0].set_alpha(0)\n",
    "g.set_axis_labels(\"$X$\", \"$Y$\");"
   ]
  },
  {
   "cell_type": "code",
   "execution_count": 21,
   "metadata": {},
   "outputs": [
    {
     "data": {
      "image/png": "[encoded data removed]",
      "text/plain": [
       "<Figure size 432x432 with 3 Axes>"
      ]
     },
     "metadata": {
      "needs_background": "light"
     },
     "output_type": "display_data"
    }
   ],
   "source": [
    "time=10\n",
    "g = sns.jointplot(x=x_array[time],y=y_array[time], kind=\"kde\", color=\"m\",xlim=(-10,10),ylim=(-10,10), bw=0.75)\n",
    "g.ax_joint.collections[0].set_alpha(0)\n",
    "g.set_axis_labels(\"$X$\", \"$Y$\");"
   ]
  },
  {
   "cell_type": "code",
   "execution_count": 22,
   "metadata": {},
   "outputs": [
    {
     "data": {
      "image/png": "[encoded data removed]",
      "text/plain": [
       "<Figure size 432x432 with 3 Axes>"
      ]
     },
     "metadata": {
      "needs_background": "light"
     },
     "output_type": "display_data"
    }
   ],
   "source": [
    "time=40\n",
    "g = sns.jointplot(x=x_array[time],y=y_array[time], kind=\"kde\", color=\"m\",xlim=(-10,10),ylim=(-10,10), bw=0.75)\n",
    "g.ax_joint.collections[0].set_alpha(0)\n",
    "g.set_axis_labels(\"$X$\", \"$Y$\");"
   ]
  },
  {
   "cell_type": "code",
   "execution_count": 23,
   "metadata": {},
   "outputs": [
    {
     "data": {
      "image/png": "[encoded data removed]",
      "text/plain": [
       "<Figure size 432x288 with 1 Axes>"
      ]
     },
     "metadata": {
      "needs_background": "light"
     },
     "output_type": "display_data"
    }
   ],
   "source": [
    "plt.hist2d(x=x_array[9],y=y_array[9],bins=10,range=[[-5,5],[-5,5]],density=True)\n",
    "plt.show()"
   ]
  },
  {
   "cell_type": "code",
   "execution_count": 24,
   "metadata": {},
   "outputs": [],
   "source": [
    "histo=np.histogram2d(x=x_array[0],y=y_array[0],bins=10,range=[[-5,5],[-5,5]])\n",
    "U = np.empty(histo[0].shape).flatten()\n",
    "x_m, y_m = np.meshgrid(histo[1].flatten()[:-1], histo[1].flatten()[:-1])\n",
    "X_m= np.empty(x_m.shape).flatten()\n",
    "Y_m= np.empty(y_m.shape).flatten()\n",
    "T = np.empty(x_m.shape).flatten()"
   ]
  },
  {
   "cell_type": "code",
   "execution_count": 27,
   "metadata": {},
   "outputs": [
    {
     "name": "stdout",
     "output_type": "stream",
     "text": [
      "1\n",
      "2\n",
      "3\n",
      "4\n",
      "5\n",
      "6\n",
      "7\n",
      "8\n",
      "9\n",
      "10\n",
      "11\n",
      "12\n",
      "13\n",
      "14\n",
      "15\n",
      "16\n",
      "17\n",
      "18\n",
      "19\n",
      "20\n",
      "21\n",
      "22\n",
      "23\n",
      "24\n",
      "25\n",
      "26\n",
      "27\n",
      "28\n",
      "29\n",
      "30\n",
      "31\n",
      "32\n",
      "33\n",
      "34\n",
      "35\n",
      "36\n",
      "37\n",
      "38\n",
      "39\n",
      "40\n"
     ]
    }
   ],
   "source": [
    "for t in range(1,len(x_array)):\n",
    "    print(t)\n",
    "    histo=np.histogram2d(x=x_array[t],y=y_array[t],bins=10,range=[[-5,5],[-5,5]])\n",
    "    u = histo[0].flatten()\n",
    "    x_m, y_m = np.meshgrid(shift(histo[1].flatten()), shift(histo[1].flatten()))\n",
    "    t = t*np.ones_like(x_m).flatten()\n",
    "    X_m = np.vstack([X_m,x_m.flatten()])\n",
    "    Y_m = np.vstack([Y_m,y_m.flatten()])\n",
    "    T = np.vstack([T,t])\n",
    "    U = np.vstack([U,u])\n",
    "X_m= X_m[1:]\n",
    "Y_m= Y_m[1:]\n",
    "T = T[1:]\n",
    "U = U[1:]"
   ]
  },
  {
   "cell_type": "code",
   "execution_count": 28,
   "metadata": {},
   "outputs": [
    {
     "name": "stdout",
     "output_type": "stream",
     "text": [
      "(4000, 3) (4000, 1)\n"
     ]
    }
   ],
   "source": [
    "X = np.transpose((T.flatten(),X_m.flatten(), Y_m.flatten()))\n",
    "y = U.reshape((U.size, 1))/10.0\n",
    "\n",
    "print(X.shape, y.shape)"
   ]
  },
  {
   "cell_type": "markdown",
   "metadata": {},
   "source": [
    "# DeepMoD"
   ]
  },
  {
   "cell_type": "code",
   "execution_count": 29,
   "metadata": {},
   "outputs": [],
   "source": [
    "number_of_samples = 1000\n",
    "\n",
    "idx = np.random.permutation(y.size)\n",
    "X_train = torch.tensor(X[idx, :][:number_of_samples], dtype=torch.float32, requires_grad=True)\n",
    "y_train = torch.tensor(y[idx, :][:number_of_samples], dtype=torch.float32)"
   ]
  },
  {
   "cell_type": "code",
   "execution_count": 30,
   "metadata": {},
   "outputs": [
    {
     "name": "stdout",
     "output_type": "stream",
     "text": [
      "torch.Size([1000, 3]) torch.Size([1000, 1])\n"
     ]
    }
   ],
   "source": [
    "print(X_train.shape, y_train.shape)"
   ]
  },
  {
   "cell_type": "code",
   "execution_count": 42,
   "metadata": {},
   "outputs": [],
   "source": [
    "optim_config = {'lambda': 10**-8, 'max_iterations': 25001}"
   ]
  },
  {
   "cell_type": "code",
   "execution_count": 32,
   "metadata": {},
   "outputs": [],
   "source": [
    "network_config = {'input_dim': 3, 'hidden_dim': 20, 'layers': 3, 'output_dim': y_train.shape[1]}"
   ]
  },
  {
   "cell_type": "code",
   "execution_count": 33,
   "metadata": {},
   "outputs": [],
   "source": [
    "library_config = {'type': library_1D_in_group_c, 'poly_order': 0, 'diff_order': 2}"
   ]
  },
  {
   "cell_type": "code",
   "execution_count": 34,
   "metadata": {},
   "outputs": [
    {
     "name": "stdout",
     "output_type": "stream",
     "text": [
      "1\n"
     ]
    }
   ],
   "source": [
    "network, coeff_vector_list, sparsity_mask_list = deepmod_init(network_config, library_config)"
   ]
  },
  {
   "cell_type": "code",
   "execution_count": null,
   "metadata": {},
   "outputs": [
    {
     "name": "stdout",
     "output_type": "stream",
     "text": [
      "Epoch | Total loss | MSE | PI | L1 \n",
      "0 2.4E-02 2.1E-02 2.5E-03 1.3E-08\n",
      "tensor([[-0.0170],\n",
      "        [-0.0169],\n",
      "        [ 0.0052],\n",
      "        [-0.0049]], requires_grad=True)\n",
      "5000 2.1E-02 1.9E-02 2.4E-03 1.3E-08\n",
      "tensor([[-0.0074],\n",
      "        [-0.0245],\n",
      "        [ 0.0091],\n",
      "        [-0.0003]], requires_grad=True)\n",
      "10000 1.8E-02 1.6E-02 2.2E-03 1.3E-08\n",
      "tensor([[-0.0019],\n",
      "        [-0.0292],\n",
      "        [ 0.0083],\n",
      "        [-0.0004]], requires_grad=True)\n",
      "15000 1.6E-02 1.4E-02 2.3E-03 1.4E-08\n",
      "tensor([[-0.0012],\n",
      "        [-0.0346],\n",
      "        [ 0.0074],\n",
      "        [-0.0001]], requires_grad=True)\n"
     ]
    }
   ],
   "source": [
    "time_deriv_list, theta, coeff_vector_list = train_group(X_train, y_train, network, coeff_vector_list, sparsity_mask_list, library_config, optim_config)"
   ]
  },
  {
   "cell_type": "code",
   "execution_count": 40,
   "metadata": {},
   "outputs": [
    {
     "data": {
      "text/plain": [
       "[tensor([[-2.6544e-02],\n",
       "         [-2.4127e-02],\n",
       "         [ 1.2121e-02],\n",
       "         [ 5.1425e-05]], requires_grad=True)]"
      ]
     },
     "execution_count": 40,
     "metadata": {},
     "output_type": "execute_result"
    }
   ],
   "source": [
    "coeff_vector_list "
   ]
  },
  {
   "cell_type": "code",
   "execution_count": 37,
   "metadata": {},
   "outputs": [],
   "source": [
    "X_all = torch.tensor(X, dtype=torch.float32, requires_grad=True) \n",
    "prediction_full = network(X_all)"
   ]
  },
  {
   "cell_type": "code",
   "execution_count": 38,
   "metadata": {},
   "outputs": [
    {
     "ename": "ValueError",
     "evalue": "cannot reshape array of size 4000 into shape (10,10,10)",
     "output_type": "error",
     "traceback": [
      "\u001b[0;31m---------------------------------------------------------------------------\u001b[0m",
      "\u001b[0;31mValueError\u001b[0m                                Traceback (most recent call last)",
      "\u001b[0;32m<ipython-input-38-17832b0abef8>\u001b[0m in \u001b[0;36m<module>\u001b[0;34m\u001b[0m\n\u001b[0;32m----> 1\u001b[0;31m \u001b[0mplt\u001b[0m\u001b[0;34m.\u001b[0m\u001b[0mimshow\u001b[0m\u001b[0;34m(\u001b[0m\u001b[0mprediction_full\u001b[0m\u001b[0;34m.\u001b[0m\u001b[0mdetach\u001b[0m\u001b[0;34m(\u001b[0m\u001b[0;34m)\u001b[0m\u001b[0;34m.\u001b[0m\u001b[0mnumpy\u001b[0m\u001b[0;34m(\u001b[0m\u001b[0;34m)\u001b[0m\u001b[0;34m.\u001b[0m\u001b[0mreshape\u001b[0m\u001b[0;34m(\u001b[0m\u001b[0;36m10\u001b[0m\u001b[0;34m,\u001b[0m\u001b[0;36m10\u001b[0m\u001b[0;34m,\u001b[0m\u001b[0;36m10\u001b[0m\u001b[0;34m)\u001b[0m\u001b[0;34m[\u001b[0m\u001b[0;36m5\u001b[0m\u001b[0;34m,\u001b[0m\u001b[0;34m:\u001b[0m\u001b[0;34m,\u001b[0m\u001b[0;34m:\u001b[0m\u001b[0;34m]\u001b[0m\u001b[0;34m.\u001b[0m\u001b[0mT\u001b[0m\u001b[0;34m,\u001b[0m \u001b[0maspect\u001b[0m\u001b[0;34m=\u001b[0m\u001b[0;36m1\u001b[0m\u001b[0;34m)\u001b[0m\u001b[0;34m\u001b[0m\u001b[0;34m\u001b[0m\u001b[0m\n\u001b[0m",
      "\u001b[0;31mValueError\u001b[0m: cannot reshape array of size 4000 into shape (10,10,10)"
     ]
    }
   ],
   "source": [
    "plt.imshow(prediction_full.detach().numpy().reshape(10,10,10)[5,:,:].T, aspect=1)"
   ]
  },
  {
   "cell_type": "code",
   "execution_count": 45,
   "metadata": {},
   "outputs": [
    {
     "data": {
      "image/png": "[encoded data removed]",
      "text/plain": [
       "<Figure size 432x288 with 1 Axes>"
      ]
     },
     "metadata": {
      "needs_background": "light"
     },
     "output_type": "display_data"
    }
   ],
   "source": [
    "time = 5\n",
    "fig = plt.figure()\n",
    "ax = fig.add_subplot(111)\n",
    "ax.hist2d(x=x_array[time],y=y_array[time],bins=10,range=[[-5,5],[-5,5]])\n",
    "ax.set_aspect(aspect=1)\n",
    "plt.show()"
   ]
  },
  {
   "cell_type": "markdown",
   "metadata": {},
   "source": [
    "# Find the maximal values"
   ]
  },
  {
   "cell_type": "code",
   "execution_count": 283,
   "metadata": {},
   "outputs": [
    {
     "name": "stdout",
     "output_type": "stream",
     "text": [
      "1\n",
      "2\n",
      "3\n",
      "4\n",
      "5\n",
      "6\n",
      "7\n",
      "8\n",
      "9\n",
      "10\n",
      "11\n",
      "12\n",
      "13\n",
      "14\n",
      "15\n",
      "16\n",
      "17\n",
      "18\n",
      "19\n",
      "20\n"
     ]
    }
   ],
   "source": [
    "U = np.empty(histo[0].shape).flatten()\n",
    "for t in range(1,len(x_array)):\n",
    "    print(t)\n",
    "    histo=np.histogram2d(x=x_array[t],y=y_array[t],bins=20,range=[[-10,10],[-10,10]])\n",
    "    u = histo[0].flatten()\n",
    "    x_m, y_m = np.meshgrid(histo[1].flatten()[:-1], histo[1].flatten()[:-1])\n",
    "    t = np.ones_like(x_m).flatten()\n",
    "    U = np.vstack([U,u])"
   ]
  },
  {
   "cell_type": "code",
   "execution_count": 161,
   "metadata": {},
   "outputs": [],
   "source": [
    "fig, axes = plt.subplots(ncols=3, figsize=(15, 4))\n",
    "\n",
    "im0 = axes[0].contourf(x_m, y_v, u, cmap='coolwarm')\n",
    "axes[0].set_xlabel('x')\n",
    "axes[0].set_ylabel('y')\n",
    "axes[0].set_title('t = 0')\n",
    "\n",
    "im1 = axes[1].contourf(x_v[:,:,10], y_v[:,:,10], u_v[:,:,10], cmap='coolwarm')\n",
    "axes[1].set_xlabel('x')\n",
    "axes[1].set_title('t = 10')\n",
    "\n",
    "im2 = axes[2].contourf(x_v[:,:,20], y_v[:,:,20], u_v[:,:,20], cmap='coolwarm')\n",
    "axes[2].set_xlabel('x')\n",
    "axes[2].set_title('t= 20')\n",
    "\n",
    "fig.colorbar(im1, ax=axes.ravel().tolist())\n",
    "\n",
    "plt.show()"
   ]
  },
  {
   "cell_type": "code",
   "execution_count": 162,
   "metadata": {},
   "outputs": [
    {
     "data": {
      "text/plain": [
       "(41, 1600)"
      ]
     },
     "execution_count": 162,
     "metadata": {},
     "output_type": "execute_result"
    }
   ],
   "source": [
    "x_m.shape"
   ]
  },
  {
   "cell_type": "code",
   "execution_count": 132,
   "metadata": {},
   "outputs": [
    {
     "name": "stdout",
     "output_type": "stream",
     "text": [
      "[20 20]\n",
      "[20 16]\n",
      "[20 20]\n",
      "[17 22]\n",
      "[20 20]\n",
      "[17 22]\n",
      "[16 20]\n",
      "[21 16]\n",
      "[21 17]\n",
      "[24 18]\n",
      "[23 20]\n",
      "[22 22]\n",
      "[21 21]\n",
      "[18 21]\n",
      "[21 18]\n",
      "[21 18]\n",
      "[15 20]\n",
      "[14 21]\n",
      "[14 16]\n",
      "[16 21]\n",
      "[14 21]\n"
     ]
    }
   ],
   "source": [
    "for i in range(0,len(x_array)):\n",
    "    histo=np.histogram2d(x=x_array[i],y=y_array[i],bins=40)[0]\n",
    "    position_max=np.where(histo == np.amax(histo))\n",
    "    if len(position_max[0]) ==1:\n",
    "        print(np.squeeze(position_max))\n",
    "    else:\n",
    "        print(np.squeeze(position_max[0]))"
   ]
  },
  {
   "cell_type": "code",
   "execution_count": 113,
   "metadata": {},
   "outputs": [
    {
     "name": "stdout",
     "output_type": "stream",
     "text": [
      "(array([ 8, 11]), array([11, 11]))\n"
     ]
    }
   ],
   "source": [
    "histo=np.histogram2d(x=x_array[5],y=y_array[5],bins=20)[0]\n",
    "position_max=np.where(histo == np.amax(histo))\n",
    "print(position_max)"
   ]
  },
  {
   "cell_type": "code",
   "execution_count": 114,
   "metadata": {},
   "outputs": [
    {
     "data": {
      "text/plain": [
       "20.0"
      ]
     },
     "execution_count": 114,
     "metadata": {},
     "output_type": "execute_result"
    }
   ],
   "source": [
    "np.amax(histo)"
   ]
  },
  {
   "cell_type": "code",
   "execution_count": 117,
   "metadata": {},
   "outputs": [
    {
     "data": {
      "text/plain": [
       "2"
      ]
     },
     "execution_count": 117,
     "metadata": {},
     "output_type": "execute_result"
    }
   ],
   "source": [
    "len(np.where(histo == np.amax(histo)))"
   ]
  },
  {
   "cell_type": "code",
   "execution_count": null,
   "metadata": {},
   "outputs": [],
   "source": []
  }
 ],
 "metadata": {
  "kernelspec": {
   "display_name": "Python 3",
   "language": "python",
   "name": "python3"
  },
  "language_info": {
   "codemirror_mode": {
    "name": "ipython",
    "version": 3
   },
   "file_extension": ".py",
   "mimetype": "text/x-python",
   "name": "python",
   "nbconvert_exporter": "python",
   "pygments_lexer": "ipython3",
   "version": "3.6.8"
  }
 },
 "nbformat": 4,
 "nbformat_minor": 2
}
