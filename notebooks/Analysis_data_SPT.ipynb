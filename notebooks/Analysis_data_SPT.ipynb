{
 "cells": [
  {
   "cell_type": "code",
   "execution_count": 1,
   "metadata": {},
   "outputs": [],
   "source": [
    "import numpy as np\n",
    "import pandas as pd\n",
    "import matplotlib.pyplot as plt\n",
    "import seaborn as sns; sns.set(style=\"white\", color_codes=True)\n",
    "\n",
    "from deepymod_torch.library_function import *\n",
    "from deepymod_torch.DeepMod import DeepMoD\n",
    "from deepymod_torch.neural_net import *\n",
    "from deepymod_torch.sparsity import *\n",
    "\n",
    "\n",
    "np.random.seed(40)\n",
    "%load_ext autoreload\n",
    "%autoreload 2\n",
    "\n",
    "#sys.path.append('../src/deepymod/')\n",
    "#from DeepMoD import DeepMoD\n",
    "#from library_functions import *\n",
    "#from deepymod.utilities import library_matrix_mat, print_PDE"
   ]
  },
  {
   "cell_type": "code",
   "execution_count": 2,
   "metadata": {},
   "outputs": [],
   "source": [
    "def shift(test):\n",
    "    return test[:-1]+np.diff(test)[0]/2"
   ]
  },
  {
   "cell_type": "markdown",
   "metadata": {},
   "source": [
    "Loading in the data as a data-frame "
   ]
  },
  {
   "cell_type": "code",
   "execution_count": 3,
   "metadata": {},
   "outputs": [],
   "source": [
    "myFile_pd = pd.read_csv('../data/raw/SPT/Tracking_to_analyze.csv', sep=',')"
   ]
  },
  {
   "cell_type": "code",
   "execution_count": 4,
   "metadata": {},
   "outputs": [
    {
     "data": {
      "text/html": [
       "<div>\n",
       "<style scoped>\n",
       "    .dataframe tbody tr th:only-of-type {\n",
       "        vertical-align: middle;\n",
       "    }\n",
       "\n",
       "    .dataframe tbody tr th {\n",
       "        vertical-align: top;\n",
       "    }\n",
       "\n",
       "    .dataframe thead th {\n",
       "        text-align: right;\n",
       "    }\n",
       "</style>\n",
       "<table border=\"1\" class=\"dataframe\">\n",
       "  <thead>\n",
       "    <tr style=\"text-align: right;\">\n",
       "      <th></th>\n",
       "      <th>Frame</th>\n",
       "      <th>x1</th>\n",
       "      <th>y1</th>\n",
       "      <th>x2</th>\n",
       "      <th>y2</th>\n",
       "      <th>x3</th>\n",
       "      <th>y3</th>\n",
       "      <th>x4</th>\n",
       "      <th>y4</th>\n",
       "      <th>x5</th>\n",
       "      <th>y5</th>\n",
       "      <th>x6</th>\n",
       "      <th>y6</th>\n",
       "      <th>x7</th>\n",
       "      <th>y7</th>\n",
       "    </tr>\n",
       "  </thead>\n",
       "  <tbody>\n",
       "    <tr>\n",
       "      <th>0</th>\n",
       "      <td>0</td>\n",
       "      <td>630</td>\n",
       "      <td>359</td>\n",
       "      <td>934</td>\n",
       "      <td>627</td>\n",
       "      <td>1350</td>\n",
       "      <td>692</td>\n",
       "      <td>1236</td>\n",
       "      <td>383</td>\n",
       "      <td>1794</td>\n",
       "      <td>1021</td>\n",
       "      <td>1157</td>\n",
       "      <td>742</td>\n",
       "      <td>1007</td>\n",
       "      <td>836</td>\n",
       "    </tr>\n",
       "    <tr>\n",
       "      <th>1</th>\n",
       "      <td>1</td>\n",
       "      <td>630</td>\n",
       "      <td>360</td>\n",
       "      <td>933</td>\n",
       "      <td>626</td>\n",
       "      <td>1349</td>\n",
       "      <td>691</td>\n",
       "      <td>1235</td>\n",
       "      <td>382</td>\n",
       "      <td>1795</td>\n",
       "      <td>1021</td>\n",
       "      <td>1156</td>\n",
       "      <td>743</td>\n",
       "      <td>1007</td>\n",
       "      <td>837</td>\n",
       "    </tr>\n",
       "    <tr>\n",
       "      <th>2</th>\n",
       "      <td>2</td>\n",
       "      <td>630</td>\n",
       "      <td>360</td>\n",
       "      <td>932</td>\n",
       "      <td>628</td>\n",
       "      <td>1351</td>\n",
       "      <td>690</td>\n",
       "      <td>1234</td>\n",
       "      <td>383</td>\n",
       "      <td>1795</td>\n",
       "      <td>1021</td>\n",
       "      <td>1156</td>\n",
       "      <td>744</td>\n",
       "      <td>1007</td>\n",
       "      <td>836</td>\n",
       "    </tr>\n",
       "    <tr>\n",
       "      <th>3</th>\n",
       "      <td>3</td>\n",
       "      <td>631</td>\n",
       "      <td>360</td>\n",
       "      <td>932</td>\n",
       "      <td>628</td>\n",
       "      <td>1349</td>\n",
       "      <td>690</td>\n",
       "      <td>1235</td>\n",
       "      <td>383</td>\n",
       "      <td>1795</td>\n",
       "      <td>1021</td>\n",
       "      <td>1156</td>\n",
       "      <td>744</td>\n",
       "      <td>1006</td>\n",
       "      <td>837</td>\n",
       "    </tr>\n",
       "    <tr>\n",
       "      <th>4</th>\n",
       "      <td>4</td>\n",
       "      <td>630</td>\n",
       "      <td>359</td>\n",
       "      <td>932</td>\n",
       "      <td>628</td>\n",
       "      <td>1350</td>\n",
       "      <td>691</td>\n",
       "      <td>1233</td>\n",
       "      <td>383</td>\n",
       "      <td>1794</td>\n",
       "      <td>1022</td>\n",
       "      <td>1157</td>\n",
       "      <td>744</td>\n",
       "      <td>1007</td>\n",
       "      <td>839</td>\n",
       "    </tr>\n",
       "  </tbody>\n",
       "</table>\n",
       "</div>"
      ],
      "text/plain": [
       "   Frame   x1   y1   x2   y2    x3   y3    x4   y4    x5    y5    x6   y6  \\\n",
       "0      0  630  359  934  627  1350  692  1236  383  1794  1021  1157  742   \n",
       "1      1  630  360  933  626  1349  691  1235  382  1795  1021  1156  743   \n",
       "2      2  630  360  932  628  1351  690  1234  383  1795  1021  1156  744   \n",
       "3      3  631  360  932  628  1349  690  1235  383  1795  1021  1156  744   \n",
       "4      4  630  359  932  628  1350  691  1233  383  1794  1022  1157  744   \n",
       "\n",
       "     x7   y7  \n",
       "0  1007  836  \n",
       "1  1007  837  \n",
       "2  1007  836  \n",
       "3  1006  837  \n",
       "4  1007  839  "
      ]
     },
     "execution_count": 4,
     "metadata": {},
     "output_type": "execute_result"
    }
   ],
   "source": [
    "myFile_pd.head()"
   ]
  },
  {
   "cell_type": "markdown",
   "metadata": {},
   "source": [
    "Selecting the x and y values of the data and substacting the initial position to make all particles start at (x,y) = (0,0)"
   ]
  },
  {
   "cell_type": "code",
   "execution_count": 5,
   "metadata": {},
   "outputs": [],
   "source": [
    "x_list = pd.concat([myFile_pd['x1'],myFile_pd['x2'],myFile_pd['x3'],myFile_pd['x4'],myFile_pd['x5'],myFile_pd['x6'],myFile_pd['x7']],axis=1)\n",
    "y_list = pd.concat([myFile_pd['y1'],myFile_pd['y2'],myFile_pd['y3'],myFile_pd['y4'],myFile_pd['y5'],myFile_pd['y6'],myFile_pd['y7']],axis=1)\n",
    "x_list = x_list-x_list.values.squeeze()[0]\n",
    "y_list = y_list-y_list.values.squeeze()[0]"
   ]
  },
  {
   "cell_type": "code",
   "execution_count": 6,
   "metadata": {},
   "outputs": [],
   "source": [
    "x_position_array = np.asarray(x_list.values.squeeze())\n",
    "y_position_array = np.asarray(y_list.values.squeeze())"
   ]
  },
  {
   "cell_type": "markdown",
   "metadata": {},
   "source": [
    "m is the amount of individual trajectories that you want to split your dataset into."
   ]
  },
  {
   "cell_type": "code",
   "execution_count": 7,
   "metadata": {},
   "outputs": [],
   "source": [
    "m = 105\n",
    "L_cuts = np.int(x_position_array.shape[0]/m)\n",
    "x_array = x_position_array[0:L_cuts][:,1:]\n",
    "y_array = y_position_array[0:L_cuts][:,1:]"
   ]
  },
  {
   "cell_type": "code",
   "execution_count": 8,
   "metadata": {},
   "outputs": [],
   "source": [
    "for i in range(1,m):\n",
    "    temp_array_x= x_position_array[i*L_cuts:(i+1)*L_cuts] - x_position_array[i*L_cuts]\n",
    "    temp_array_y= y_position_array[i*L_cuts:(i+1)*L_cuts] - y_position_array[i*L_cuts]\n",
    "    x_array= np.hstack((x_array,temp_array_x[:,1:]))\n",
    "    y_array= np.hstack((y_array,temp_array_y[:,1:]))"
   ]
  },
  {
   "cell_type": "code",
   "execution_count": 9,
   "metadata": {},
   "outputs": [],
   "source": [
    "import seaborn as sns;"
   ]
  },
  {
   "cell_type": "code",
   "execution_count": 10,
   "metadata": {},
   "outputs": [
    {
     "data": {
      "text/plain": [
       "(11, 630)"
      ]
     },
     "execution_count": 10,
     "metadata": {},
     "output_type": "execute_result"
    }
   ],
   "source": [
    "x_array.shape"
   ]
  },
  {
   "cell_type": "code",
   "execution_count": 11,
   "metadata": {},
   "outputs": [
    {
     "data": {
      "image/png": "[encoded data removed]",
      "text/plain": [
       "<Figure size 432x432 with 3 Axes>"
      ]
     },
     "metadata": {
      "needs_background": "light"
     },
     "output_type": "display_data"
    }
   ],
   "source": [
    "time=2\n",
    "g = sns.jointplot(x=x_array[time],y=y_array[time], kind=\"kde\", color=\"m\",xlim=(-10,10),ylim=(-10,10), bw=0.75)\n",
    "g.ax_joint.collections[0].set_alpha(0)\n",
    "g.set_axis_labels(\"$X$\", \"$Y$\");"
   ]
  },
  {
   "cell_type": "code",
   "execution_count": 12,
   "metadata": {},
   "outputs": [
    {
     "data": {
      "image/png": "[encoded data removed]",
      "text/plain": [
       "<Figure size 432x432 with 3 Axes>"
      ]
     },
     "metadata": {
      "needs_background": "light"
     },
     "output_type": "display_data"
    }
   ],
   "source": [
    "time=4\n",
    "g = sns.jointplot(x=x_array[time],y=y_array[time], kind=\"kde\", color=\"m\",xlim=(-10,10),ylim=(-10,10), bw=0.75)\n",
    "g.ax_joint.collections[0].set_alpha(0)\n",
    "g.set_axis_labels(\"$X$\", \"$Y$\");"
   ]
  },
  {
   "cell_type": "code",
   "execution_count": 13,
   "metadata": {},
   "outputs": [
    {
     "data": {
      "image/png": "[encoded data removed]",
      "text/plain": [
       "<Figure size 432x432 with 3 Axes>"
      ]
     },
     "metadata": {
      "needs_background": "light"
     },
     "output_type": "display_data"
    }
   ],
   "source": [
    "time=10\n",
    "g = sns.jointplot(x=x_array[time],y=y_array[time], kind=\"kde\", color=\"m\",xlim=(-10,10),ylim=(-10,10), bw=0.75)\n",
    "g.ax_joint.collections[0].set_alpha(0)\n",
    "g.set_axis_labels(\"$X$\", \"$Y$\");"
   ]
  },
  {
   "cell_type": "code",
   "execution_count": 14,
   "metadata": {},
   "outputs": [
    {
     "data": {
      "image/png": "[encoded data removed]",
      "text/plain": [
       "<Figure size 432x288 with 1 Axes>"
      ]
     },
     "metadata": {
      "needs_background": "light"
     },
     "output_type": "display_data"
    }
   ],
   "source": [
    "plt.hist2d(x=x_array[9],y=y_array[9],bins=10,range=[[-5,5],[-5,5]],density=True)\n",
    "plt.show()"
   ]
  },
  {
   "cell_type": "code",
   "execution_count": 15,
   "metadata": {},
   "outputs": [],
   "source": [
    "histo=np.histogram2d(x=x_array[0],y=y_array[0],bins=10,range=[[-5,5],[-5,5]])\n",
    "U = np.empty(histo[0].shape).flatten()\n",
    "x_m, y_m = np.meshgrid(histo[1].flatten()[:-1], histo[1].flatten()[:-1])\n",
    "X_m= np.empty(x_m.shape).flatten()\n",
    "Y_m= np.empty(y_m.shape).flatten()\n",
    "T = np.empty(x_m.shape).flatten()"
   ]
  },
  {
   "cell_type": "code",
   "execution_count": 16,
   "metadata": {},
   "outputs": [
    {
     "name": "stdout",
     "output_type": "stream",
     "text": [
      "1\n",
      "2\n",
      "3\n",
      "4\n",
      "5\n",
      "6\n",
      "7\n",
      "8\n",
      "9\n",
      "10\n"
     ]
    }
   ],
   "source": [
    "for t in range(1,len(x_array)):\n",
    "    print(t)\n",
    "    histo=np.histogram2d(x=x_array[t],y=y_array[t],bins=10,range=[[-5,5],[-5,5]])\n",
    "    u = histo[0].flatten()\n",
    "    x_m, y_m = np.meshgrid(shift(histo[1].flatten()), shift(histo[1].flatten()))\n",
    "    t = t*np.ones_like(x_m).flatten()\n",
    "    X_m = np.vstack([X_m,x_m.flatten()])\n",
    "    Y_m = np.vstack([Y_m,y_m.flatten()])\n",
    "    T = np.vstack([T,t])\n",
    "    U = np.vstack([U,u])\n",
    "X_m= X_m[1:]\n",
    "Y_m= Y_m[1:]\n",
    "T = T[1:]\n",
    "U = U[1:]"
   ]
  },
  {
   "cell_type": "code",
   "execution_count": 17,
   "metadata": {},
   "outputs": [
    {
     "name": "stdout",
     "output_type": "stream",
     "text": [
      "(1000, 3) (1000, 1)\n"
     ]
    }
   ],
   "source": [
    "X = np.transpose((T.flatten(),X_m.flatten(), Y_m.flatten()))\n",
    "y = U.reshape((U.size, 1))/10.0\n",
    "\n",
    "print(X.shape, y.shape)"
   ]
  },
  {
   "cell_type": "markdown",
   "metadata": {},
   "source": [
    "# DeepMoD"
   ]
  },
  {
   "cell_type": "code",
   "execution_count": 18,
   "metadata": {},
   "outputs": [],
   "source": [
    "number_of_samples = 1000\n",
    "\n",
    "idx = np.random.permutation(y.size)\n",
    "X_train = torch.tensor(X[idx, :][:number_of_samples], dtype=torch.float32, requires_grad=True)\n",
    "y_train = torch.tensor(y[idx, :][:number_of_samples], dtype=torch.float32)"
   ]
  },
  {
   "cell_type": "code",
   "execution_count": 19,
   "metadata": {},
   "outputs": [
    {
     "name": "stdout",
     "output_type": "stream",
     "text": [
      "torch.Size([1000, 3]) torch.Size([1000, 1])\n"
     ]
    }
   ],
   "source": [
    "print(X_train.shape, y_train.shape)"
   ]
  },
  {
   "cell_type": "code",
   "execution_count": 47,
   "metadata": {},
   "outputs": [],
   "source": [
    "optim_config = {'lambda': 10**-8, 'max_iterations': 5001}"
   ]
  },
  {
   "cell_type": "code",
   "execution_count": 21,
   "metadata": {},
   "outputs": [],
   "source": [
    "network_config = {'input_dim': 3, 'hidden_dim': 20, 'layers': 3, 'output_dim': y_train.shape[1]}"
   ]
  },
  {
   "cell_type": "code",
   "execution_count": 22,
   "metadata": {},
   "outputs": [],
   "source": [
    "library_config = {'type': library_1D_in_group_c, 'poly_order': 0, 'diff_order': 2}"
   ]
  },
  {
   "cell_type": "code",
   "execution_count": 23,
   "metadata": {},
   "outputs": [
    {
     "name": "stdout",
     "output_type": "stream",
     "text": [
      "1\n"
     ]
    }
   ],
   "source": [
    "network, coeff_vector_list, sparsity_mask_list = deepmod_init(network_config, library_config)"
   ]
  },
  {
   "cell_type": "code",
   "execution_count": 51,
   "metadata": {},
   "outputs": [
    {
     "name": "stdout",
     "output_type": "stream",
     "text": [
      "Epoch | Total loss | MSE | PI | L1 \n",
      "0 1.1E-02 9.2E-03 1.5E-03 1.6E-08\n",
      "tensor([[-0.0069],\n",
      "        [-0.0079],\n",
      "        [ 0.0415],\n",
      "        [ 0.0340]], requires_grad=True)\n",
      "2500 1.0E-02 8.8E-03 1.6E-03 1.6E-08\n",
      "tensor([[-0.0018],\n",
      "        [-0.0086],\n",
      "        [ 0.0430],\n",
      "        [ 0.0355]], requires_grad=True)\n",
      "5000 9.9E-03 8.4E-03 1.5E-03 1.5E-08\n",
      "tensor([[-0.0006],\n",
      "        [-0.0072],\n",
      "        [ 0.0426],\n",
      "        [ 0.0356]], requires_grad=True)\n"
     ]
    }
   ],
   "source": [
    "time_deriv_list, theta, coeff_vector_list = train_group(X_train, y_train, network, coeff_vector_list, sparsity_mask_list, library_config, optim_config)"
   ]
  },
  {
   "cell_type": "code",
   "execution_count": 50,
   "metadata": {},
   "outputs": [
    {
     "data": {
      "text/plain": [
       "[tensor([[-0.0049],\n",
       "         [-0.0099],\n",
       "         [ 0.0435],\n",
       "         [ 0.0360]], requires_grad=True)]"
      ]
     },
     "execution_count": 50,
     "metadata": {},
     "output_type": "execute_result"
    }
   ],
   "source": [
    "coeff_vector_list "
   ]
  },
  {
   "cell_type": "code",
   "execution_count": 43,
   "metadata": {},
   "outputs": [],
   "source": [
    "X_all = torch.tensor(X, dtype=torch.float32, requires_grad=True) \n",
    "prediction_full = network(X_all)"
   ]
  },
  {
   "cell_type": "code",
   "execution_count": 44,
   "metadata": {},
   "outputs": [
    {
     "data": {
      "text/plain": [
       "<matplotlib.image.AxesImage at 0x7fd0b761c278>"
      ]
     },
     "execution_count": 44,
     "metadata": {},
     "output_type": "execute_result"
    },
    {
     "data": {
      "image/png": "[encoded data removed]",
      "text/plain": [
       "<Figure size 432x288 with 1 Axes>"
      ]
     },
     "metadata": {
      "needs_background": "light"
     },
     "output_type": "display_data"
    }
   ],
   "source": [
    "plt.imshow(prediction_full.detach().numpy().reshape(10,10,10)[5,:,:].T, aspect=1)"
   ]
  },
  {
   "cell_type": "code",
   "execution_count": 45,
   "metadata": {},
   "outputs": [
    {
     "data": {
      "image/png": "[encoded data removed]",
      "text/plain": [
       "<Figure size 432x288 with 1 Axes>"
      ]
     },
     "metadata": {
      "needs_background": "light"
     },
     "output_type": "display_data"
    }
   ],
   "source": [
    "time = 5\n",
    "fig = plt.figure()\n",
    "ax = fig.add_subplot(111)\n",
    "ax.hist2d(x=x_array[time],y=y_array[time],bins=10,range=[[-5,5],[-5,5]])\n",
    "ax.set_aspect(aspect=1)\n",
    "plt.show()"
   ]
  },
  {
   "cell_type": "markdown",
   "metadata": {},
   "source": [
    "# Find the maximal values"
   ]
  },
  {
   "cell_type": "code",
   "execution_count": 283,
   "metadata": {},
   "outputs": [
    {
     "name": "stdout",
     "output_type": "stream",
     "text": [
      "1\n",
      "2\n",
      "3\n",
      "4\n",
      "5\n",
      "6\n",
      "7\n",
      "8\n",
      "9\n",
      "10\n",
      "11\n",
      "12\n",
      "13\n",
      "14\n",
      "15\n",
      "16\n",
      "17\n",
      "18\n",
      "19\n",
      "20\n"
     ]
    }
   ],
   "source": [
    "U = np.empty(histo[0].shape).flatten()\n",
    "for t in range(1,len(x_array)):\n",
    "    print(t)\n",
    "    histo=np.histogram2d(x=x_array[t],y=y_array[t],bins=20,range=[[-10,10],[-10,10]])\n",
    "    u = histo[0].flatten()\n",
    "    x_m, y_m = np.meshgrid(histo[1].flatten()[:-1], histo[1].flatten()[:-1])\n",
    "    t = np.ones_like(x_m).flatten()\n",
    "    U = np.vstack([U,u])"
   ]
  },
  {
   "cell_type": "code",
   "execution_count": 161,
   "metadata": {},
   "outputs": [],
   "source": [
    "fig, axes = plt.subplots(ncols=3, figsize=(15, 4))\n",
    "\n",
    "im0 = axes[0].contourf(x_m, y_v, u, cmap='coolwarm')\n",
    "axes[0].set_xlabel('x')\n",
    "axes[0].set_ylabel('y')\n",
    "axes[0].set_title('t = 0')\n",
    "\n",
    "im1 = axes[1].contourf(x_v[:,:,10], y_v[:,:,10], u_v[:,:,10], cmap='coolwarm')\n",
    "axes[1].set_xlabel('x')\n",
    "axes[1].set_title('t = 10')\n",
    "\n",
    "im2 = axes[2].contourf(x_v[:,:,20], y_v[:,:,20], u_v[:,:,20], cmap='coolwarm')\n",
    "axes[2].set_xlabel('x')\n",
    "axes[2].set_title('t= 20')\n",
    "\n",
    "fig.colorbar(im1, ax=axes.ravel().tolist())\n",
    "\n",
    "plt.show()"
   ]
  },
  {
   "cell_type": "code",
   "execution_count": 162,
   "metadata": {},
   "outputs": [
    {
     "data": {
      "text/plain": [
       "(41, 1600)"
      ]
     },
     "execution_count": 162,
     "metadata": {},
     "output_type": "execute_result"
    }
   ],
   "source": [
    "x_m.shape"
   ]
  },
  {
   "cell_type": "code",
   "execution_count": 132,
   "metadata": {},
   "outputs": [
    {
     "name": "stdout",
     "output_type": "stream",
     "text": [
      "[20 20]\n",
      "[20 16]\n",
      "[20 20]\n",
      "[17 22]\n",
      "[20 20]\n",
      "[17 22]\n",
      "[16 20]\n",
      "[21 16]\n",
      "[21 17]\n",
      "[24 18]\n",
      "[23 20]\n",
      "[22 22]\n",
      "[21 21]\n",
      "[18 21]\n",
      "[21 18]\n",
      "[21 18]\n",
      "[15 20]\n",
      "[14 21]\n",
      "[14 16]\n",
      "[16 21]\n",
      "[14 21]\n"
     ]
    }
   ],
   "source": [
    "for i in range(0,len(x_array)):\n",
    "    histo=np.histogram2d(x=x_array[i],y=y_array[i],bins=40)[0]\n",
    "    position_max=np.where(histo == np.amax(histo))\n",
    "    if len(position_max[0]) ==1:\n",
    "        print(np.squeeze(position_max))\n",
    "    else:\n",
    "        print(np.squeeze(position_max[0]))"
   ]
  },
  {
   "cell_type": "code",
   "execution_count": 113,
   "metadata": {},
   "outputs": [
    {
     "name": "stdout",
     "output_type": "stream",
     "text": [
      "(array([ 8, 11]), array([11, 11]))\n"
     ]
    }
   ],
   "source": [
    "histo=np.histogram2d(x=x_array[5],y=y_array[5],bins=20)[0]\n",
    "position_max=np.where(histo == np.amax(histo))\n",
    "print(position_max)"
   ]
  },
  {
   "cell_type": "code",
   "execution_count": 114,
   "metadata": {},
   "outputs": [
    {
     "data": {
      "text/plain": [
       "20.0"
      ]
     },
     "execution_count": 114,
     "metadata": {},
     "output_type": "execute_result"
    }
   ],
   "source": [
    "np.amax(histo)"
   ]
  },
  {
   "cell_type": "code",
   "execution_count": 117,
   "metadata": {},
   "outputs": [
    {
     "data": {
      "text/plain": [
       "2"
      ]
     },
     "execution_count": 117,
     "metadata": {},
     "output_type": "execute_result"
    }
   ],
   "source": [
    "len(np.where(histo == np.amax(histo)))"
   ]
  },
  {
   "cell_type": "code",
   "execution_count": null,
   "metadata": {},
   "outputs": [],
   "source": []
  }
 ],
 "metadata": {
  "kernelspec": {
   "display_name": "Python 3",
   "language": "python",
   "name": "python3"
  },
  "language_info": {
   "codemirror_mode": {
    "name": "ipython",
    "version": 3
   },
   "file_extension": ".py",
   "mimetype": "text/x-python",
   "name": "python",
   "nbconvert_exporter": "python",
   "pygments_lexer": "ipython3",
   "version": "3.6.8"
  }
 },
 "nbformat": 4,
 "nbformat_minor": 2
}
