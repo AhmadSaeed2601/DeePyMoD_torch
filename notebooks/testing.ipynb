{
 "cells": [
  {
   "cell_type": "code",
   "execution_count": 30,
   "metadata": {},
   "outputs": [],
   "source": [
    "import numpy as np\n",
    "import torch\n",
    "from deepymod_torch.library_function import library_1D_in\n",
    "from deepymod_torch.neural_net import deepmod_init, train\n",
    "from deepymod_torch.sparsity import scaling, threshold\n",
    "\n",
    "torch.set_default_tensor_type('torch.cuda.FloatTensor')  # enable for gpu.\n",
    "\n",
    "np.random.seed(42)\n",
    "\n",
    "%load_ext autoreload\n",
    "%autoreload 2"
   ]
  },
  {
   "cell_type": "code",
   "execution_count": 31,
   "metadata": {},
   "outputs": [],
   "source": [
    "number_of_samples = 1000\n",
    "\n",
    "data = np.load('../data/processed/burgers.npy', allow_pickle=True).item()\n",
    "\n",
    "X = np.transpose((data['t'].flatten(), data['x'].flatten()))\n",
    "y = np.real(data['u']).reshape((data['u'].size, 1))\n",
    "\n",
    "idx = np.random.permutation(y.size)\n",
    "X_train = torch.tensor(X[idx, :][:number_of_samples], dtype=torch.float32, requires_grad=True)\n",
    "y_train = torch.tensor(y[idx, :][:number_of_samples], dtype=torch.float32)\n",
    "\n",
    "data = X_train\n",
    "target = y_train"
   ]
  },
  {
   "cell_type": "code",
   "execution_count": 32,
   "metadata": {},
   "outputs": [],
   "source": [
    "optim_config = {'lambda': 10**-6, 'max_iterations': 1000}\n",
    "library_config = {'type': library_1D_in, 'poly_order': 1, 'diff_order': 2}\n",
    "network_config = {'input_dim': 2, 'hidden_dim': 20, 'layers': 5, 'output_dim': 1}"
   ]
  },
  {
   "cell_type": "code",
   "execution_count": 33,
   "metadata": {},
   "outputs": [],
   "source": [
    "# Initiating\n",
    "network, coeff_vector, sparsity_mask = deepmod_init(network_config, library_config)"
   ]
  },
  {
   "cell_type": "code",
   "execution_count": 34,
   "metadata": {},
   "outputs": [
    {
     "data": {
      "text/plain": [
       "tensor([[ 0.0830],\n",
       "        [ 0.9844],\n",
       "        [ 0.6350],\n",
       "        [-0.4638],\n",
       "        [ 0.8440],\n",
       "        [ 0.8816]], requires_grad=True)"
      ]
     },
     "execution_count": 34,
     "metadata": {},
     "output_type": "execute_result"
    }
   ],
   "source": [
    "coeff_vector"
   ]
  },
  {
   "cell_type": "code",
   "execution_count": 35,
   "metadata": {},
   "outputs": [
    {
     "data": {
      "text/plain": [
       "tensor([0, 1, 2, 3, 4, 5])"
      ]
     },
     "execution_count": 35,
     "metadata": {},
     "output_type": "execute_result"
    }
   ],
   "source": [
    "sparsity_mask"
   ]
  },
  {
   "cell_type": "code",
   "execution_count": 36,
   "metadata": {},
   "outputs": [
    {
     "name": "stdout",
     "output_type": "stream",
     "text": [
      "Epoch | Total loss | MSE | PI | L1 \n",
      "0 3.6E-02 3.6E-02 1.5E-04 5.0E-05\n",
      "tensor([[ 0.0810],\n",
      "        [ 0.9824],\n",
      "        [ 0.6330],\n",
      "        [-0.4658],\n",
      "        [ 0.8421],\n",
      "        [ 0.8798]], requires_grad=True)\n",
      "500 7.7E-04 5.2E-04 2.4E-04 1.3E-06\n",
      "tensor([[ 0.0040],\n",
      "        [-0.0653],\n",
      "        [ 0.0523],\n",
      "        [-0.0434],\n",
      "        [-0.3045],\n",
      "        [ 0.0325]], requires_grad=True)\n"
     ]
    }
   ],
   "source": [
    "time_deriv, theta, coeff_vector = train(data, target, network, coeff_vector, sparsity_mask, library_config, optim_config)"
   ]
  },
  {
   "cell_type": "code",
   "execution_count": 37,
   "metadata": {},
   "outputs": [
    {
     "data": {
      "text/plain": [
       "tensor([[ 0.0022],\n",
       "        [-0.1777],\n",
       "        [ 0.0482],\n",
       "        [-0.0081],\n",
       "        [-0.4179],\n",
       "        [ 0.0877]], requires_grad=True)"
      ]
     },
     "execution_count": 37,
     "metadata": {},
     "output_type": "execute_result"
    }
   ],
   "source": [
    "coeff_vector"
   ]
  },
  {
   "cell_type": "code",
   "execution_count": 38,
   "metadata": {},
   "outputs": [],
   "source": [
    "scaled_coeff_vector = scaling(coeff_vector, theta, time_deriv)"
   ]
  },
  {
   "cell_type": "code",
   "execution_count": 43,
   "metadata": {},
   "outputs": [
    {
     "name": "stdout",
     "output_type": "stream",
     "text": [
      "tensor([[ 0.0022],\n",
      "        [-0.1777],\n",
      "        [ 0.0482],\n",
      "        [-0.0081],\n",
      "        [-0.4179],\n",
      "        [ 0.0877]], requires_grad=True) tensor([[-0.1777],\n",
      "        [-0.4179]], requires_grad=True) tensor([1, 4])\n"
     ]
    }
   ],
   "source": [
    "sparse_coeff_vector, sparsity_mask = threshold(scaled_coeff_vector, coeff_vector)\n",
    "print(coeff_vector, sparse_coeff_vector, sparsity_mask)"
   ]
  },
  {
   "cell_type": "code",
   "execution_count": 44,
   "metadata": {},
   "outputs": [
    {
     "data": {
      "text/plain": [
       "False"
      ]
     },
     "execution_count": 44,
     "metadata": {},
     "output_type": "execute_result"
    }
   ],
   "source": [
    "sparsity_mask.requires_grad"
   ]
  },
  {
   "cell_type": "code",
   "execution_count": 45,
   "metadata": {},
   "outputs": [
    {
     "name": "stdout",
     "output_type": "stream",
     "text": [
      "Epoch | Total loss | MSE | PI | L1 \n",
      "0 8.8E-04 4.6E-04 4.2E-04 1.0E-06\n",
      "tensor([[-0.1757],\n",
      "        [-0.4159]], requires_grad=True)\n",
      "500 4.2E-04 2.0E-04 2.2E-04 9.6E-07\n",
      "tensor([[-0.2579],\n",
      "        [-0.1660]], requires_grad=True)\n"
     ]
    }
   ],
   "source": [
    "time_deriv, theta, coeff_vector = train(data, target, network, sparse_coeff_vector, sparsity_mask, library_config, optim_config)"
   ]
  },
  {
   "cell_type": "code",
   "execution_count": null,
   "metadata": {},
   "outputs": [],
   "source": [
    "sparse_coeff_vector, sparsity_mask, network = DeepMoD(X_train, y_train, network_config, lib_config, optim_config)\n",
    "\n",
    "print(sparse_coeff_vector)"
   ]
  },
  {
   "cell_type": "code",
   "execution_count": null,
   "metadata": {},
   "outputs": [],
   "source": [
    "def "
   ]
  }
 ],
 "metadata": {
  "kernelspec": {
   "display_name": "Python 3",
   "language": "python",
   "name": "python3"
  },
  "language_info": {
   "codemirror_mode": {
    "name": "ipython",
    "version": 3
   },
   "file_extension": ".py",
   "mimetype": "text/x-python",
   "name": "python",
   "nbconvert_exporter": "python",
   "pygments_lexer": "ipython3",
   "version": "3.6.8"
  }
 },
 "nbformat": 4,
 "nbformat_minor": 2
}
