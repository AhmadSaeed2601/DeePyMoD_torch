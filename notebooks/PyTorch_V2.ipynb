{
 "cells": [
  {
   "cell_type": "code",
   "execution_count": 1,
   "metadata": {},
   "outputs": [],
   "source": [
    "import sys\n",
    "sys.path.append('src/')\n",
    "import numpy as np\n",
    "import torch, torch.nn\n",
    "from library_function import library_1D\n",
    "from neural_net import LinNetwork\n",
    "from DeepMod import DeepMod\n",
    "import matplotlib.pyplot as plt\n",
    "plt.style.use('seaborn-notebook')\n",
    "import torch.nn as nn\n",
    "from torch.autograd import grad"
   ]
  },
  {
   "cell_type": "markdown",
   "metadata": {},
   "source": [
    "# Preparing data"
   ]
  },
  {
   "cell_type": "code",
   "execution_count": 2,
   "metadata": {},
   "outputs": [],
   "source": [
    "np.random.seed(34) \n",
    "number_of_samples = 1000\n",
    "\n",
    "data = np.load('data/burgers.npy', allow_pickle=True).item()\n",
    "\n",
    "X = np.transpose((data['x'].flatten(), data['t'].flatten()))\n",
    "y = np.real(data['u']).reshape((data['u'].size, 1))\n",
    "\n",
    "idx = np.random.permutation(y.size)\n",
    "X_train = torch.tensor(X[idx, :][:number_of_samples], dtype=torch.float32, requires_grad=True)\n",
    "y_train = torch.tensor(y[idx, :][:number_of_samples], dtype=torch.float32)"
   ]
  },
  {
   "cell_type": "markdown",
   "metadata": {},
   "source": [
    "# Building network"
   ]
  },
  {
   "cell_type": "code",
   "execution_count": 4,
   "metadata": {},
   "outputs": [],
   "source": [
    "optim_config ={'lambda':1e-5,'max_iteration':20000}\n",
    "lib_config={'poly_order':2, 'diff_order':2, 'total_terms':9}\n",
    "network_config={'input_dim':2, 'hidden_dim':10, 'layers':5, 'output_dim':1}"
   ]
  },
  {
   "cell_type": "code",
   "execution_count": 5,
   "metadata": {},
   "outputs": [
    {
     "name": "stdout",
     "output_type": "stream",
     "text": [
      "Epoch | Total loss | MSE | PI | L1 \n",
      "0 0.82921445 0.14143193 0.6877725 1e-05\n",
      "500 0.2306114 0.12628312 0.1043177 1.0558123e-05\n",
      "1000 0.1006192 0.067077875 0.033530734 1.0585922e-05\n",
      "1500 0.04859987 0.032525674 0.01606376 1.0436503e-05\n",
      "2000 0.024937676 0.015988616 0.008938938 1.0121802e-05\n",
      "2500 0.015308384 0.009581043 0.0057170317 1.03085895e-05\n",
      "3000 0.012252645 0.008411493 0.0038301295 1.1022217e-05\n",
      "3500 0.010561159 0.00844805 0.0021016884 1.142024e-05\n",
      "4000 0.01007881 0.008551477 0.0015160021 1.1330752e-05\n",
      "4500 0.009850077 0.008533797 0.0013054286 1.0852203e-05\n",
      "5000 0.00964558 0.008396967 0.0012385306 1.0082803e-05\n",
      "5500 0.009406565 0.008162243 0.0012352511 9.0696885e-06\n",
      "6000 0.009074983 0.00779655 0.0012696391 8.793855e-06\n",
      "6500 0.0085575 0.0071869916 0.0013615331 8.976294e-06\n",
      "7000 0.007516556 0.0059892368 0.0015183238 8.994983e-06\n",
      "7500 0.004821919 0.003500983 0.0013127014 8.234531e-06\n",
      "8000 0.0016558103 0.0012453464 0.00040523103 5.2328683e-06\n",
      "8500 0.00035910038 0.0002635411 9.161926e-05 3.940023e-06\n",
      "9000 0.00018865496 0.00013781613 4.777578e-05 3.0630629e-06\n",
      "9500 0.00010407791 7.095937e-05 3.0647294e-05 2.4712406e-06\n",
      "10000 7.321687e-05 4.4657016e-05 2.6311227e-05 2.248625e-06\n",
      "10500 5.76521e-05 3.3231805e-05 2.2246555e-05 2.173739e-06\n",
      "11000 4.63021e-05 2.5356427e-05 1.8863391e-05 2.0822813e-06\n",
      "11500 3.7777016e-05 1.9558738e-05 1.6247803e-05 1.9704758e-06\n",
      "12000 3.15495e-05 1.5357646e-05 1.4326111e-05 1.8657462e-06\n",
      "12500 2.8764769e-05 1.42107565e-05 1.2770734e-05 1.7832768e-06\n",
      "13000 2.3933248e-05 1.0457348e-05 1.1748076e-05 1.7278236e-06\n",
      "13500 2.166436e-05 9.204829e-06 1.0767023e-05 1.6925082e-06\n",
      "14000 1.989487e-05 8.291106e-06 9.934214e-06 1.6695492e-06\n",
      "14500 1.9980525e-05 9.141352e-06 9.1812735e-06 1.6578996e-06\n",
      "15000 1.7508515e-05 7.1805375e-06 8.6777045e-06 1.6502735e-06\n",
      "15500 1.655081e-05 6.717051e-06 8.181579e-06 1.6521814e-06\n",
      "16000 1.5845995e-05 6.506256e-06 7.682405e-06 1.6573343e-06\n",
      "16500 1.4905352e-05 5.9587987e-06 7.2824487e-06 1.6641038e-06\n",
      "17000 1.4150509e-05 5.608029e-06 6.8739955e-06 1.6684847e-06\n",
      "17500 1.3448626e-05 5.2895625e-06 6.4868927e-06 1.6721707e-06\n",
      "18000 1.27804105e-05 4.9882283e-06 6.117065e-06 1.675117e-06\n",
      "18500 1.2135467e-05 4.6985315e-06 5.760007e-06 1.676929e-06\n",
      "19000 1.1509239e-05 4.418092e-06 5.412792e-06 1.6783555e-06\n",
      "19500 1.0876731e-05 4.1338553e-06 5.0648187e-06 1.6780565e-06\n",
      "tensor([[-0.0016],\n",
      "        [-0.0384],\n",
      "        [ 0.4292],\n",
      "        [ 0.0623],\n",
      "        [-1.0112],\n",
      "        [-0.1304],\n",
      "        [-0.1076],\n",
      "        [ 0.1115],\n",
      "        [ 0.0881]], grad_fn=<MulBackward0>)\n",
      "tensor(0.3907, grad_fn=<StdBackward0>)\n",
      "tensor([ 0.1006, -1.0139], requires_grad=True)\n",
      "0 tensor(0.0081, grad_fn=<AddBackward0>)\n",
      "Epoch | Total loss | MSE | PI | L1 \n",
      "500 tensor(0.0025, grad_fn=<AddBackward0>)\n",
      "1000 tensor(0.0020, grad_fn=<AddBackward0>)\n",
      "1500 tensor(0.0019, grad_fn=<AddBackward0>)\n",
      "2000 tensor(0.0019, grad_fn=<AddBackward0>)\n",
      "2500 tensor(0.0019, grad_fn=<AddBackward0>)\n",
      "3000 tensor(0.0018, grad_fn=<AddBackward0>)\n",
      "3500 tensor(0.0018, grad_fn=<AddBackward0>)\n",
      "4000 tensor(0.0016, grad_fn=<AddBackward0>)\n",
      "4500 tensor(0.0015, grad_fn=<AddBackward0>)\n",
      "5000 tensor(0.0014, grad_fn=<AddBackward0>)\n",
      "5500 tensor(0.0013, grad_fn=<AddBackward0>)\n",
      "6000 tensor(0.0012, grad_fn=<AddBackward0>)\n",
      "6500 tensor(0.0012, grad_fn=<AddBackward0>)\n",
      "7000 tensor(0.0011, grad_fn=<AddBackward0>)\n",
      "7500 tensor(0.0011, grad_fn=<AddBackward0>)\n",
      "8000 tensor(0.0011, grad_fn=<AddBackward0>)\n",
      "8500 tensor(0.0011, grad_fn=<AddBackward0>)\n",
      "9000 tensor(0.0011, grad_fn=<AddBackward0>)\n",
      "9500 tensor(0.0010, grad_fn=<AddBackward0>)\n",
      "10000 tensor(0.0010, grad_fn=<AddBackward0>)\n",
      "10500 tensor(0.0010, grad_fn=<AddBackward0>)\n",
      "11000 tensor(0.0009, grad_fn=<AddBackward0>)\n",
      "11500 tensor(0.0009, grad_fn=<AddBackward0>)\n",
      "12000 tensor(0.0009, grad_fn=<AddBackward0>)\n",
      "12500 tensor(0.0008, grad_fn=<AddBackward0>)\n",
      "13000 tensor(0.0008, grad_fn=<AddBackward0>)\n",
      "13500 tensor(0.0008, grad_fn=<AddBackward0>)\n",
      "14000 tensor(0.0007, grad_fn=<AddBackward0>)\n",
      "14500 tensor(0.0007, grad_fn=<AddBackward0>)\n",
      "15000 tensor(0.0007, grad_fn=<AddBackward0>)\n",
      "15500 tensor(0.0007, grad_fn=<AddBackward0>)\n",
      "16000 tensor(0.0007, grad_fn=<AddBackward0>)\n",
      "16500 tensor(0.0007, grad_fn=<AddBackward0>)\n",
      "17000 tensor(0.0007, grad_fn=<AddBackward0>)\n",
      "17500 tensor(0.0007, grad_fn=<AddBackward0>)\n",
      "18000 tensor(0.0007, grad_fn=<AddBackward0>)\n",
      "18500 tensor(0.0007, grad_fn=<AddBackward0>)\n",
      "19000 tensor(0.0007, grad_fn=<AddBackward0>)\n",
      "19500 tensor(0.0007, grad_fn=<AddBackward0>)\n"
     ]
    }
   ],
   "source": [
    "weight_vector, scaled_weight_vector, sparsity = DeepMod(X_train, y_train,network_config, lib_config, optim_config)"
   ]
  },
  {
   "cell_type": "code",
   "execution_count": 5,
   "metadata": {},
   "outputs": [
    {
     "data": {
      "text/plain": [
       "tensor([-3.1680e-03, -4.2867e-05,  3.3411e-03], requires_grad=True)"
      ]
     },
     "execution_count": 5,
     "metadata": {},
     "output_type": "execute_result"
    }
   ],
   "source": [
    "scaled_weight_vector"
   ]
  },
  {
   "cell_type": "code",
   "execution_count": 28,
   "metadata": {},
   "outputs": [
    {
     "data": {
      "text/plain": [
       "tensor([[0.0000, 0.9044, 0.1192, 0.6631, 0.9442],\n",
       "        [0.4493, 0.6197, 0.7321, 0.7207, 0.8996],\n",
       "        [0.1552, 0.6388, 0.4838, 0.6342, 0.0000],\n",
       "        [0.3081, 0.2653, 0.5313, 0.8170, 0.2314],\n",
       "        [0.9311, 0.9999, 0.9976, 0.4489, 0.9990],\n",
       "        [0.9396, 0.1914, 0.0000, 0.8966, 0.7329],\n",
       "        [0.1867, 0.6454, 0.8032, 0.2288, 0.1029],\n",
       "        [0.8257, 0.8126, 0.9281, 0.3943, 0.8439],\n",
       "        [0.5643, 0.9060, 0.9728, 0.5139, 0.5190],\n",
       "        [0.7834, 0.0000, 0.3767, 0.5115, 0.7732]])"
      ]
     },
     "execution_count": 28,
     "metadata": {},
     "output_type": "execute_result"
    }
   ],
   "source": [
    "torch.where(torch.abs(test_tensor) > torch.var(test_tensor), test_tensor, torch.zeros_like(test_tensor))"
   ]
  },
  {
   "cell_type": "code",
   "execution_count": 8,
   "metadata": {},
   "outputs": [],
   "source": [
    "test_tensor = torch.rand((10, 5))"
   ]
  },
  {
   "cell_type": "code",
   "execution_count": 5,
   "metadata": {},
   "outputs": [],
   "source": [
    "test_tensor = torch.rand(1)"
   ]
  },
  {
   "cell_type": "code",
   "execution_count": 10,
   "metadata": {},
   "outputs": [
    {
     "name": "stdout",
     "output_type": "stream",
     "text": [
      "[[0.71023726 0.1892488  0.6319442  0.19041932 0.9054366 ]\n",
      " [0.11108172 0.55048764 0.157606   0.01528466 0.08591795]\n",
      " [0.4742189  0.4514264  0.09886968 0.8400874  0.25091565]\n",
      " [0.5689354  0.8502427  0.6938656  0.5038133  0.9952059 ]\n",
      " [0.05185252 0.28007346 0.7712979  0.7902976  0.00522673]\n",
      " [0.88777936 0.02592885 0.92315173 0.5481899  0.3546307 ]\n",
      " [0.39075083 0.708404   0.5060967  0.87950134 0.7201277 ]\n",
      " [0.1006586  0.10669661 0.04020923 0.7579842  0.44361705]\n",
      " [0.8464011  0.3912769  0.75543344 0.7260391  0.65598917]\n",
      " [0.45569474 0.35944712 0.81301725 0.9455671  0.40103966]]\n"
     ]
    }
   ],
   "source": [
    "print(test_tensor.numpy())"
   ]
  },
  {
   "cell_type": "code",
   "execution_count": 17,
   "metadata": {},
   "outputs": [
    {
     "ename": "TypeError",
     "evalue": "to() received an invalid combination of arguments - got (requires_grad=bool, dtype=torch.dtype, ), but expected one of:\n * (torch.device device, torch.dtype dtype, bool non_blocking, bool copy)\n * (torch.dtype dtype, bool non_blocking, bool copy)\n * (Tensor tensor, bool non_blocking, bool copy)\n",
     "output_type": "error",
     "traceback": [
      "\u001b[0;31m---------------------------------------------------------------------------\u001b[0m",
      "\u001b[0;31mTypeError\u001b[0m                                 Traceback (most recent call last)",
      "\u001b[0;32m<ipython-input-17-1c4fd4fab961>\u001b[0m in \u001b[0;36m<module>\u001b[0;34m\u001b[0m\n\u001b[0;32m----> 1\u001b[0;31m \u001b[0mtest_tensor\u001b[0m\u001b[0;34m.\u001b[0m\u001b[0mto\u001b[0m\u001b[0;34m(\u001b[0m\u001b[0mdtype\u001b[0m\u001b[0;34m=\u001b[0m\u001b[0mtorch\u001b[0m\u001b[0;34m.\u001b[0m\u001b[0mfloat32\u001b[0m\u001b[0;34m,\u001b[0m \u001b[0mrequires_grad\u001b[0m\u001b[0;34m=\u001b[0m\u001b[0;32mTrue\u001b[0m\u001b[0;34m)\u001b[0m\u001b[0;34m\u001b[0m\u001b[0;34m\u001b[0m\u001b[0m\n\u001b[0m",
      "\u001b[0;31mTypeError\u001b[0m: to() received an invalid combination of arguments - got (requires_grad=bool, dtype=torch.dtype, ), but expected one of:\n * (torch.device device, torch.dtype dtype, bool non_blocking, bool copy)\n * (torch.dtype dtype, bool non_blocking, bool copy)\n * (Tensor tensor, bool non_blocking, bool copy)\n"
     ]
    }
   ],
   "source": [
    "test_tensor.to(dtype=torch.float32, requires_grad=True)"
   ]
  },
  {
   "cell_type": "code",
   "execution_count": 9,
   "metadata": {},
   "outputs": [
    {
     "data": {
      "text/plain": [
       "tensor([0.6499, 0.5928, 0.2442, 0.3834, 0.7453, 0.9785, 0.6684, 0.5740, 0.6104,\n",
       "        0.9307])"
      ]
     },
     "execution_count": 9,
     "metadata": {},
     "output_type": "execute_result"
    }
   ],
   "source": [
    "np.squeeze(torch.rand((10, 1)).detach())"
   ]
  },
  {
   "cell_type": "code",
   "execution_count": 21,
   "metadata": {},
   "outputs": [
    {
     "data": {
      "text/plain": [
       "tensor([[0.3600, 0.6430, 0.9685, 0.4562, 0.5089],\n",
       "        [0.8153, 0.4840, 0.3934, 0.6650, 0.7970],\n",
       "        [0.7338, 0.5660, 0.4046, 0.8905, 0.0250],\n",
       "        [0.7464, 0.3303, 0.8371, 0.6098, 0.0227],\n",
       "        [0.4997, 0.6406, 0.3026, 0.7290, 0.3725],\n",
       "        [0.5349, 0.9146, 0.1108, 0.4827, 0.9528],\n",
       "        [0.0816, 0.8703, 0.3789, 0.6827, 0.8305],\n",
       "        [0.4820, 0.6484, 0.8214, 0.2271, 0.6757],\n",
       "        [0.2052, 0.4192, 0.0632, 0.6259, 0.9335],\n",
       "        [0.0515, 0.8854, 0.7249, 0.0454, 0.2680]], requires_grad=True)"
      ]
     },
     "execution_count": 21,
     "metadata": {},
     "output_type": "execute_result"
    }
   ],
   "source": [
    "torch.tensor(torch.rand((10, 5)).numpy(), requires_grad=True)"
   ]
  },
  {
   "cell_type": "code",
   "execution_count": null,
   "metadata": {},
   "outputs": [],
   "source": []
  }
 ],
 "metadata": {
  "kernelspec": {
   "display_name": "Python 3",
   "language": "python",
   "name": "python3"
  },
  "language_info": {
   "codemirror_mode": {
    "name": "ipython",
    "version": 3
   },
   "file_extension": ".py",
   "mimetype": "text/x-python",
   "name": "python",
   "nbconvert_exporter": "python",
   "pygments_lexer": "ipython3",
   "version": "3.7.3"
  }
 },
 "nbformat": 4,
 "nbformat_minor": 2
}
