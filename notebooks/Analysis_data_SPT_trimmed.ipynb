{
 "cells": [
  {
   "cell_type": "code",
   "execution_count": 1,
   "metadata": {},
   "outputs": [],
   "source": [
    "import numpy as np\n",
    "import pandas as pd\n",
    "import matplotlib.pyplot as plt\n",
    "import seaborn as sns; sns.set(style=\"white\", color_codes=True)\n",
    "\n",
    "from deepymod_torch.library_function import *\n",
    "from deepymod_torch.DeepMod import DeepMoD\n",
    "from deepymod_torch.neural_net import *\n",
    "from deepymod_torch.sparsity import *\n",
    "\n",
    "torch.set_default_tensor_type('torch.cuda.FloatTensor')\n",
    "\n",
    "np.random.seed(40)\n",
    "%load_ext autoreload\n",
    "%autoreload 2\n",
    "\n",
    "#sys.path.append('../src/deepymod/')\n",
    "#from DeepMoD import DeepMoD\n",
    "#from library_functions import *\n",
    "#from deepymod.utilities import library_matrix_mat, print_PDE"
   ]
  },
  {
   "cell_type": "code",
   "execution_count": 2,
   "metadata": {},
   "outputs": [],
   "source": [
    "try:\n",
    "    torch.set_default_tensor_type('torch.cuda.FloatTensor')  # enable for GPU\n",
    "except:\n",
    "    pass"
   ]
  },
  {
   "cell_type": "code",
   "execution_count": 3,
   "metadata": {},
   "outputs": [
    {
     "data": {
      "text/plain": [
       "True"
      ]
     },
     "execution_count": 3,
     "metadata": {},
     "output_type": "execute_result"
    }
   ],
   "source": [
    "torch.cuda.is_available()"
   ]
  },
  {
   "cell_type": "code",
   "execution_count": 4,
   "metadata": {},
   "outputs": [],
   "source": [
    "def shift(test):\n",
    "    return test[:-1]+np.diff(test)[0]/2"
   ]
  },
  {
   "cell_type": "markdown",
   "metadata": {},
   "source": [
    "Loading in the data as a data-frame "
   ]
  },
  {
   "cell_type": "code",
   "execution_count": 5,
   "metadata": {},
   "outputs": [],
   "source": [
    "myFile_pd = pd.read_csv('trimed.CSV', sep=',')"
   ]
  },
  {
   "cell_type": "code",
   "execution_count": 6,
   "metadata": {},
   "outputs": [
    {
     "data": {
      "text/html": [
       "<div>\n",
       "<style scoped>\n",
       "    .dataframe tbody tr th:only-of-type {\n",
       "        vertical-align: middle;\n",
       "    }\n",
       "\n",
       "    .dataframe tbody tr th {\n",
       "        vertical-align: top;\n",
       "    }\n",
       "\n",
       "    .dataframe thead th {\n",
       "        text-align: right;\n",
       "    }\n",
       "</style>\n",
       "<table border=\"1\" class=\"dataframe\">\n",
       "  <thead>\n",
       "    <tr style=\"text-align: right;\">\n",
       "      <th></th>\n",
       "      <th>Unnamed: 0</th>\n",
       "      <th>x0</th>\n",
       "      <th>y0</th>\n",
       "      <th>size : 0</th>\n",
       "      <th>x1</th>\n",
       "      <th>y1</th>\n",
       "      <th>size : 1</th>\n",
       "      <th>x2</th>\n",
       "      <th>y2</th>\n",
       "      <th>size : 2</th>\n",
       "      <th>x3</th>\n",
       "      <th>y3</th>\n",
       "      <th>size : 3</th>\n",
       "      <th>x4</th>\n",
       "      <th>y4</th>\n",
       "      <th>size : 4</th>\n",
       "      <th>x5</th>\n",
       "      <th>y5</th>\n",
       "      <th>size : 5</th>\n",
       "    </tr>\n",
       "  </thead>\n",
       "  <tbody>\n",
       "    <tr>\n",
       "      <th>0</th>\n",
       "      <td>0</td>\n",
       "      <td>1573.5</td>\n",
       "      <td>372.5</td>\n",
       "      <td>0.000003</td>\n",
       "      <td>1621.0</td>\n",
       "      <td>548.0</td>\n",
       "      <td>0.000004</td>\n",
       "      <td>1142.5</td>\n",
       "      <td>248.0</td>\n",
       "      <td>0.000002</td>\n",
       "      <td>1073.5</td>\n",
       "      <td>84.5</td>\n",
       "      <td>0.000003</td>\n",
       "      <td>630.0</td>\n",
       "      <td>230.0</td>\n",
       "      <td>0.000003</td>\n",
       "      <td>1273.0</td>\n",
       "      <td>653.5</td>\n",
       "      <td>0.000002</td>\n",
       "    </tr>\n",
       "    <tr>\n",
       "      <th>1</th>\n",
       "      <td>1</td>\n",
       "      <td>1573.5</td>\n",
       "      <td>373.5</td>\n",
       "      <td>NaN</td>\n",
       "      <td>1620.5</td>\n",
       "      <td>547.5</td>\n",
       "      <td>NaN</td>\n",
       "      <td>1144.5</td>\n",
       "      <td>247.5</td>\n",
       "      <td>NaN</td>\n",
       "      <td>1074.5</td>\n",
       "      <td>84.0</td>\n",
       "      <td>NaN</td>\n",
       "      <td>631.0</td>\n",
       "      <td>230.5</td>\n",
       "      <td>NaN</td>\n",
       "      <td>1273.0</td>\n",
       "      <td>652.0</td>\n",
       "      <td>NaN</td>\n",
       "    </tr>\n",
       "    <tr>\n",
       "      <th>2</th>\n",
       "      <td>2</td>\n",
       "      <td>1573.5</td>\n",
       "      <td>373.5</td>\n",
       "      <td>NaN</td>\n",
       "      <td>1621.5</td>\n",
       "      <td>547.5</td>\n",
       "      <td>NaN</td>\n",
       "      <td>1143.5</td>\n",
       "      <td>248.0</td>\n",
       "      <td>NaN</td>\n",
       "      <td>1075.0</td>\n",
       "      <td>85.0</td>\n",
       "      <td>NaN</td>\n",
       "      <td>630.0</td>\n",
       "      <td>229.5</td>\n",
       "      <td>NaN</td>\n",
       "      <td>1274.5</td>\n",
       "      <td>651.5</td>\n",
       "      <td>NaN</td>\n",
       "    </tr>\n",
       "    <tr>\n",
       "      <th>3</th>\n",
       "      <td>3</td>\n",
       "      <td>1573.0</td>\n",
       "      <td>372.5</td>\n",
       "      <td>NaN</td>\n",
       "      <td>1622.0</td>\n",
       "      <td>548.0</td>\n",
       "      <td>NaN</td>\n",
       "      <td>1144.0</td>\n",
       "      <td>247.0</td>\n",
       "      <td>NaN</td>\n",
       "      <td>1073.0</td>\n",
       "      <td>85.5</td>\n",
       "      <td>NaN</td>\n",
       "      <td>629.5</td>\n",
       "      <td>228.5</td>\n",
       "      <td>NaN</td>\n",
       "      <td>1273.0</td>\n",
       "      <td>651.0</td>\n",
       "      <td>NaN</td>\n",
       "    </tr>\n",
       "    <tr>\n",
       "      <th>4</th>\n",
       "      <td>4</td>\n",
       "      <td>1573.0</td>\n",
       "      <td>372.0</td>\n",
       "      <td>NaN</td>\n",
       "      <td>1621.5</td>\n",
       "      <td>547.5</td>\n",
       "      <td>NaN</td>\n",
       "      <td>1144.0</td>\n",
       "      <td>248.0</td>\n",
       "      <td>NaN</td>\n",
       "      <td>1073.0</td>\n",
       "      <td>85.0</td>\n",
       "      <td>NaN</td>\n",
       "      <td>629.5</td>\n",
       "      <td>229.5</td>\n",
       "      <td>NaN</td>\n",
       "      <td>1274.0</td>\n",
       "      <td>650.5</td>\n",
       "      <td>NaN</td>\n",
       "    </tr>\n",
       "  </tbody>\n",
       "</table>\n",
       "</div>"
      ],
      "text/plain": [
       "   Unnamed: 0      x0     y0  size : 0      x1     y1  size : 1      x2  \\\n",
       "0           0  1573.5  372.5  0.000003  1621.0  548.0  0.000004  1142.5   \n",
       "1           1  1573.5  373.5       NaN  1620.5  547.5       NaN  1144.5   \n",
       "2           2  1573.5  373.5       NaN  1621.5  547.5       NaN  1143.5   \n",
       "3           3  1573.0  372.5       NaN  1622.0  548.0       NaN  1144.0   \n",
       "4           4  1573.0  372.0       NaN  1621.5  547.5       NaN  1144.0   \n",
       "\n",
       "      y2  size : 2      x3    y3  size : 3     x4     y4  size : 4      x5  \\\n",
       "0  248.0  0.000002  1073.5  84.5  0.000003  630.0  230.0  0.000003  1273.0   \n",
       "1  247.5       NaN  1074.5  84.0       NaN  631.0  230.5       NaN  1273.0   \n",
       "2  248.0       NaN  1075.0  85.0       NaN  630.0  229.5       NaN  1274.5   \n",
       "3  247.0       NaN  1073.0  85.5       NaN  629.5  228.5       NaN  1273.0   \n",
       "4  248.0       NaN  1073.0  85.0       NaN  629.5  229.5       NaN  1274.0   \n",
       "\n",
       "      y5  size : 5  \n",
       "0  653.5  0.000002  \n",
       "1  652.0       NaN  \n",
       "2  651.5       NaN  \n",
       "3  651.0       NaN  \n",
       "4  650.5       NaN  "
      ]
     },
     "execution_count": 6,
     "metadata": {},
     "output_type": "execute_result"
    }
   ],
   "source": [
    "myFile_pd.head()"
   ]
  },
  {
   "cell_type": "markdown",
   "metadata": {},
   "source": [
    "Selecting the x and y values of the data and substacting the initial position to make all particles start at (x,y) = (0,0)"
   ]
  },
  {
   "cell_type": "code",
   "execution_count": 119,
   "metadata": {},
   "outputs": [],
   "source": [
    "x_list = pd.concat([myFile_pd['x1'],myFile_pd['x2'],myFile_pd['x3'],myFile_pd['x4'],myFile_pd['x5']],axis=1)\n",
    "y_list = pd.concat([myFile_pd['y1'],myFile_pd['y2'],myFile_pd['y3'],myFile_pd['y4'],myFile_pd['y5']],axis=1)\n",
    "x_list = x_list-x_list.values.squeeze()[0]\n",
    "y_list = y_list-y_list.values.squeeze()[0]"
   ]
  },
  {
   "cell_type": "code",
   "execution_count": 120,
   "metadata": {},
   "outputs": [],
   "source": [
    "x_position_array = np.asarray(x_list.values.squeeze())\n",
    "y_position_array = np.asarray(y_list.values.squeeze())"
   ]
  },
  {
   "cell_type": "markdown",
   "metadata": {},
   "source": [
    "m is the amount of individual trajectories that you want to split your dataset into."
   ]
  },
  {
   "cell_type": "code",
   "execution_count": 121,
   "metadata": {},
   "outputs": [],
   "source": [
    "m = 55\n",
    "L_cuts = np.int(x_position_array.shape[0]/m)\n",
    "x_array = x_position_array[0:L_cuts][:,1:]\n",
    "y_array = y_position_array[0:L_cuts][:,1:]"
   ]
  },
  {
   "cell_type": "code",
   "execution_count": 122,
   "metadata": {},
   "outputs": [],
   "source": [
    "for i in range(1,m):\n",
    "    temp_array_x= x_position_array[i*L_cuts:(i+1)*L_cuts] - x_position_array[i*L_cuts]\n",
    "    temp_array_y= y_position_array[i*L_cuts:(i+1)*L_cuts] - y_position_array[i*L_cuts]\n",
    "    x_array= np.hstack((x_array,temp_array_x[:,1:]))\n",
    "    y_array= np.hstack((y_array,temp_array_y[:,1:]))"
   ]
  },
  {
   "cell_type": "code",
   "execution_count": 123,
   "metadata": {},
   "outputs": [],
   "source": [
    "msd = np.sqrt(x_array**2 + y_array**2)"
   ]
  },
  {
   "cell_type": "code",
   "execution_count": 124,
   "metadata": {},
   "outputs": [],
   "source": [
    "import seaborn as sns;"
   ]
  },
  {
   "cell_type": "code",
   "execution_count": 125,
   "metadata": {},
   "outputs": [
    {
     "data": {
      "text/plain": [
       "(52, 220)"
      ]
     },
     "execution_count": 125,
     "metadata": {},
     "output_type": "execute_result"
    }
   ],
   "source": [
    "x_array.shape"
   ]
  },
  {
   "cell_type": "code",
   "execution_count": 126,
   "metadata": {},
   "outputs": [
    {
     "data": {
      "image/png": "[encoded data removed]",
      "text/plain": [
       "<Figure size 432x432 with 3 Axes>"
      ]
     },
     "metadata": {},
     "output_type": "display_data"
    }
   ],
   "source": [
    "time=2\n",
    "g = sns.jointplot(x=x_array[time],y=y_array[time], kind=\"kde\", color=\"m\",xlim=(-10,10),ylim=(-10,10), bw=0.75)\n",
    "g.ax_joint.collections[0].set_alpha(0)\n",
    "g.set_axis_labels(\"$X$\", \"$Y$\");"
   ]
  },
  {
   "cell_type": "code",
   "execution_count": 127,
   "metadata": {},
   "outputs": [
    {
     "data": {
      "image/png": "[encoded data removed]",
      "text/plain": [
       "<Figure size 432x432 with 3 Axes>"
      ]
     },
     "metadata": {},
     "output_type": "display_data"
    }
   ],
   "source": [
    "time=10\n",
    "g = sns.jointplot(x=x_array[time],y=y_array[time], kind=\"kde\", color=\"m\",xlim=(-10,10),ylim=(-10,10), bw=0.75)\n",
    "g.ax_joint.collections[0].set_alpha(0)\n",
    "g.set_axis_labels(\"$X$\", \"$Y$\");"
   ]
  },
  {
   "cell_type": "code",
   "execution_count": 128,
   "metadata": {},
   "outputs": [
    {
     "data": {
      "image/png": "[encoded data removed]",
      "text/plain": [
       "<Figure size 432x432 with 3 Axes>"
      ]
     },
     "metadata": {},
     "output_type": "display_data"
    }
   ],
   "source": [
    "time=40\n",
    "g = sns.jointplot(x=x_array[time],y=y_array[time], kind=\"kde\", color=\"m\",xlim=(-10,10),ylim=(-10,10), bw=0.75)\n",
    "g.ax_joint.collections[0].set_alpha(0)\n",
    "g.set_axis_labels(\"$X$\", \"$Y$\");"
   ]
  },
  {
   "cell_type": "code",
   "execution_count": 129,
   "metadata": {},
   "outputs": [
    {
     "data": {
      "image/png": "[encoded data removed]",
      "text/plain": [
       "<Figure size 432x288 with 1 Axes>"
      ]
     },
     "metadata": {},
     "output_type": "display_data"
    }
   ],
   "source": [
    "plt.hist2d(x=x_array[49],y=y_array[49],bins=20,range=[[-10,10],[-10,10]],density=True)\n",
    "plt.show()"
   ]
  },
  {
   "cell_type": "code",
   "execution_count": 130,
   "metadata": {},
   "outputs": [],
   "source": [
    "histo=np.histogram2d(x=x_array[0],y=y_array[0],bins=20,range=[[-10,10],[-10,10]])\n",
    "U = np.empty(histo[0].shape).flatten()\n",
    "x_m, y_m = np.meshgrid(histo[1].flatten()[:-1], histo[1].flatten()[:-1])\n",
    "X_m= np.empty(x_m.shape).flatten()\n",
    "Y_m= np.empty(y_m.shape).flatten()\n",
    "T = np.empty(x_m.shape).flatten()"
   ]
  },
  {
   "cell_type": "code",
   "execution_count": 131,
   "metadata": {},
   "outputs": [
    {
     "name": "stdout",
     "output_type": "stream",
     "text": [
      "1\n",
      "2\n",
      "3\n",
      "4\n",
      "5\n",
      "6\n",
      "7\n",
      "8\n",
      "9\n",
      "10\n",
      "11\n",
      "12\n",
      "13\n",
      "14\n",
      "15\n",
      "16\n",
      "17\n",
      "18\n",
      "19\n",
      "20\n",
      "21\n",
      "22\n",
      "23\n",
      "24\n",
      "25\n",
      "26\n",
      "27\n",
      "28\n",
      "29\n",
      "30\n",
      "31\n",
      "32\n",
      "33\n",
      "34\n",
      "35\n",
      "36\n",
      "37\n",
      "38\n",
      "39\n",
      "40\n",
      "41\n",
      "42\n",
      "43\n",
      "44\n",
      "45\n",
      "46\n",
      "47\n",
      "48\n",
      "49\n",
      "50\n",
      "51\n"
     ]
    }
   ],
   "source": [
    "for t in range(1,len(x_array)):\n",
    "    print(t)\n",
    "    histo=np.histogram2d(x=x_array[t],y=y_array[t],bins=20,range=[[-10,10],[-10,10]])\n",
    "    u = histo[0].flatten()\n",
    "    x_m, y_m = np.meshgrid(shift(histo[1].flatten()), shift(histo[1].flatten()))\n",
    "    t = t*np.ones_like(x_m).flatten()\n",
    "    X_m = np.vstack([X_m,x_m.flatten()])\n",
    "    Y_m = np.vstack([Y_m,y_m.flatten()])\n",
    "    T = np.vstack([T,t])\n",
    "    U = np.vstack([U,u])\n",
    "X_m= X_m[1:]\n",
    "Y_m= Y_m[1:]\n",
    "T = T[1:]\n",
    "U = U[1:]"
   ]
  },
  {
   "cell_type": "code",
   "execution_count": 132,
   "metadata": {},
   "outputs": [
    {
     "name": "stdout",
     "output_type": "stream",
     "text": [
      "(20400, 3) (20400, 1)\n"
     ]
    }
   ],
   "source": [
    "X = np.transpose((T.flatten(),X_m.flatten(), Y_m.flatten()))\n",
    "y = U.reshape((U.size, 1))/10.0\n",
    "\n",
    "print(X.shape, y.shape)"
   ]
  },
  {
   "cell_type": "markdown",
   "metadata": {},
   "source": [
    "# DeepMoD"
   ]
  },
  {
   "cell_type": "code",
   "execution_count": 158,
   "metadata": {},
   "outputs": [],
   "source": [
    "from scipy.io import loadmat\n",
    "data_1 =  loadmat('../data/processed/Diffusion_2D_D01.mat')\n",
    "usol = np.real(data_1['Expression1'])\n",
    "usol= usol.reshape((26,26,21,4))\n",
    "\n",
    "x_1 = usol[:,:,0]\n",
    "y_1 = usol[:,:,1]\n",
    "t_1 = usol[:,:,2]\n",
    "y_1 = usol[:,:,3]\n",
    "X = np.transpose((t_1.flatten(),x_1.flatten(),y_1.flatten()))\n",
    "#y= y_1.reshape((y_1.size, 1)).astype('float32')\n",
    "y = y_1.flatten()\n",
    "y = y.reshape(y.shape[0],1)"
   ]
  },
  {
   "cell_type": "code",
   "execution_count": 5,
   "metadata": {},
   "outputs": [],
   "source": [
    "from scipy.io import loadmat\n",
    "data_1 =  loadmat('../data/processed/Diffusion_2D_D01_big.mat')\n",
    "usol = np.real(data_1['Expression1'])\n",
    "usol= usol.reshape((101,101,6,4))\n",
    "\n",
    "x_1 = usol[:,:,0]\n",
    "y_1 = usol[:,:,1]\n",
    "t_1 = usol[:,:,2]\n",
    "y_1 = usol[:,:,3]\n",
    "X = np.transpose((t_1.flatten(),x_1.flatten(),y_1.flatten()))\n",
    "y= y_1.reshape((y_1.size, 1)).astype('float32')\n",
    "#y = y_1.flatten()\n",
    "#y = y.reshape(y.shape[0],1)"
   ]
  },
  {
   "cell_type": "code",
   "execution_count": 6,
   "metadata": {},
   "outputs": [
    {
     "data": {
      "text/plain": [
       "(40804, 1)"
      ]
     },
     "execution_count": 6,
     "metadata": {},
     "output_type": "execute_result"
    }
   ],
   "source": [
    "y.shape"
   ]
  },
  {
   "cell_type": "code",
   "execution_count": 7,
   "metadata": {},
   "outputs": [],
   "source": [
    "number_of_samples = 2500\n",
    "\n",
    "idx = np.random.permutation(y.size)\n",
    "X_train = torch.tensor(X[idx, :][:number_of_samples], dtype=torch.float32, requires_grad=True)\n",
    "y_train = torch.tensor(y[idx, :][:number_of_samples], dtype=torch.float32)"
   ]
  },
  {
   "cell_type": "code",
   "execution_count": 8,
   "metadata": {},
   "outputs": [
    {
     "name": "stdout",
     "output_type": "stream",
     "text": [
      "torch.Size([2500, 3]) torch.Size([2500, 1])\n"
     ]
    }
   ],
   "source": [
    "print(X_train.shape, y_train.shape)"
   ]
  },
  {
   "cell_type": "code",
   "execution_count": 9,
   "metadata": {},
   "outputs": [
    {
     "name": "stdout",
     "output_type": "stream",
     "text": [
      "torch.Size([2500, 3]) torch.Size([2500, 1])\n"
     ]
    }
   ],
   "source": [
    "print(X_train.shape, y_train.shape)"
   ]
  },
  {
   "cell_type": "code",
   "execution_count": 10,
   "metadata": {},
   "outputs": [],
   "source": [
    "optim_config = {'lambda': 10**-5, 'max_iterations': 25001}"
   ]
  },
  {
   "cell_type": "code",
   "execution_count": 11,
   "metadata": {},
   "outputs": [],
   "source": [
    "network_config = {'input_dim': 3, 'hidden_dim': 20, 'layers': 3, 'output_dim': y_train.shape[1]}"
   ]
  },
  {
   "cell_type": "code",
   "execution_count": 12,
   "metadata": {},
   "outputs": [],
   "source": [
    "library_config = {'type': library_1D_in_group_c, 'poly_order': 1, 'diff_order': 2}\n",
    "#library_config = {'type': library_2Din_1Dout, 'poly_order': 1, 'diff_order': 2}"
   ]
  },
  {
   "cell_type": "code",
   "execution_count": 13,
   "metadata": {},
   "outputs": [
    {
     "name": "stdout",
     "output_type": "stream",
     "text": [
      "1\n"
     ]
    }
   ],
   "source": [
    "network, coeff_vector_list, sparsity_mask_list = deepmod_init(network_config, library_config)"
   ]
  },
  {
   "cell_type": "code",
   "execution_count": null,
   "metadata": {},
   "outputs": [
    {
     "name": "stdout",
     "output_type": "stream",
     "text": [
      "Epoch | Total loss | MSE | PI | L1 \n",
      "0 1.3E+01 1.3E+01 1.0E-04 2.0E-05 2.0E-05\n",
      "tensor([[-0.6862],\n",
      "        [-0.1079],\n",
      "        [-0.5752],\n",
      "        [-1.0439],\n",
      "        [-0.1910],\n",
      "        [ 0.2982],\n",
      "        [-0.7915],\n",
      "        [ 2.5247]], requires_grad=True)\n",
      "5000 1.2E-04 1.5E-05 4.2E-06 4.9E-05 4.9E-05\n",
      "tensor([[-0.4374],\n",
      "        [ 0.1683],\n",
      "        [-0.6534],\n",
      "        [-0.7239],\n",
      "        [-0.1849],\n",
      "        [ 0.3335],\n",
      "        [-0.8337],\n",
      "        [ 2.2669]], requires_grad=True)\n",
      "10000 6.7E-05 8.9E-06 1.6E-06 2.8E-05 2.8E-05\n",
      "tensor([[-0.2845],\n",
      "        [ 0.3932],\n",
      "        [-0.7288],\n",
      "        [-0.5773],\n",
      "        [-0.1526],\n",
      "        [ 0.2923],\n",
      "        [-0.5947],\n",
      "        [ 1.9347]], requires_grad=True)\n",
      "15000 1.2E-04 8.0E-05 2.9E-06 1.6E-05 1.6E-05\n",
      "tensor([[-5.4627e-02],\n",
      "        [ 5.2956e-01],\n",
      "        [-6.9523e-01],\n",
      "        [ 8.0631e-04],\n",
      "        [-8.4669e-02],\n",
      "        [ 2.3455e-01],\n",
      "        [-4.8103e-01],\n",
      "        [ 1.1122e+00]], requires_grad=True)\n"
     ]
    }
   ],
   "source": [
    "time_deriv_list, theta, coeff_vector_list = train_group(X_train, y_train, network, coeff_vector_list, sparsity_mask_list, library_config, optim_config)"
   ]
  },
  {
   "cell_type": "code",
   "execution_count": 40,
   "metadata": {},
   "outputs": [
    {
     "data": {
      "text/plain": [
       "[tensor([[-2.6544e-02],\n",
       "         [-2.4127e-02],\n",
       "         [ 1.2121e-02],\n",
       "         [ 5.1425e-05]], requires_grad=True)]"
      ]
     },
     "execution_count": 40,
     "metadata": {},
     "output_type": "execute_result"
    }
   ],
   "source": [
    "coeff_vector_list "
   ]
  },
  {
   "cell_type": "code",
   "execution_count": 90,
   "metadata": {},
   "outputs": [],
   "source": [
    "X_all = torch.tensor(X, dtype=torch.float32, requires_grad=True) \n",
    "prediction_full = network(X_all).cpu()"
   ]
  },
  {
   "cell_type": "code",
   "execution_count": 100,
   "metadata": {},
   "outputs": [
    {
     "data": {
      "text/plain": [
       "20800"
      ]
     },
     "execution_count": 100,
     "metadata": {},
     "output_type": "execute_result"
    }
   ],
   "source": [
    "52*20*20"
   ]
  },
  {
   "cell_type": "code",
   "execution_count": 103,
   "metadata": {},
   "outputs": [
    {
     "data": {
      "text/plain": [
       "<matplotlib.image.AxesImage at 0x7f7515839710>"
      ]
     },
     "execution_count": 103,
     "metadata": {},
     "output_type": "execute_result"
    },
    {
     "data": {
      "image/png": "[encoded data removed]",
      "text/plain": [
       "<Figure size 432x288 with 1 Axes>"
      ]
     },
     "metadata": {},
     "output_type": "display_data"
    }
   ],
   "source": [
    "plt.imshow(prediction_full.detach().numpy().reshape(51,20,20)[50,:,:].T, aspect=1)"
   ]
  },
  {
   "cell_type": "code",
   "execution_count": 45,
   "metadata": {},
   "outputs": [
    {
     "data": {
      "image/png": "[encoded data removed]",
      "text/plain": [
       "<Figure size 432x288 with 1 Axes>"
      ]
     },
     "metadata": {
      "needs_background": "light"
     },
     "output_type": "display_data"
    }
   ],
   "source": [
    "time = 5\n",
    "fig = plt.figure()\n",
    "ax = fig.add_subplot(111)\n",
    "ax.hist2d(x=x_array[time],y=y_array[time],bins=10,range=[[-5,5],[-5,5]])\n",
    "ax.set_aspect(aspect=1)\n",
    "plt.show()"
   ]
  },
  {
   "cell_type": "markdown",
   "metadata": {},
   "source": [
    "# Find the maximal values"
   ]
  },
  {
   "cell_type": "code",
   "execution_count": 283,
   "metadata": {},
   "outputs": [
    {
     "name": "stdout",
     "output_type": "stream",
     "text": [
      "1\n",
      "2\n",
      "3\n",
      "4\n",
      "5\n",
      "6\n",
      "7\n",
      "8\n",
      "9\n",
      "10\n",
      "11\n",
      "12\n",
      "13\n",
      "14\n",
      "15\n",
      "16\n",
      "17\n",
      "18\n",
      "19\n",
      "20\n"
     ]
    }
   ],
   "source": [
    "U = np.empty(histo[0].shape).flatten()\n",
    "for t in range(1,len(x_array)):\n",
    "    print(t)\n",
    "    histo=np.histogram2d(x=x_array[t],y=y_array[t],bins=20,range=[[-10,10],[-10,10]])\n",
    "    u = histo[0].flatten()\n",
    "    x_m, y_m = np.meshgrid(histo[1].flatten()[:-1], histo[1].flatten()[:-1])\n",
    "    t = np.ones_like(x_m).flatten()\n",
    "    U = np.vstack([U,u])"
   ]
  },
  {
   "cell_type": "code",
   "execution_count": 161,
   "metadata": {},
   "outputs": [],
   "source": [
    "fig, axes = plt.subplots(ncols=3, figsize=(15, 4))\n",
    "\n",
    "im0 = axes[0].contourf(x_m, y_v, u, cmap='coolwarm')\n",
    "axes[0].set_xlabel('x')\n",
    "axes[0].set_ylabel('y')\n",
    "axes[0].set_title('t = 0')\n",
    "\n",
    "im1 = axes[1].contourf(x_v[:,:,10], y_v[:,:,10], u_v[:,:,10], cmap='coolwarm')\n",
    "axes[1].set_xlabel('x')\n",
    "axes[1].set_title('t = 10')\n",
    "\n",
    "im2 = axes[2].contourf(x_v[:,:,20], y_v[:,:,20], u_v[:,:,20], cmap='coolwarm')\n",
    "axes[2].set_xlabel('x')\n",
    "axes[2].set_title('t= 20')\n",
    "\n",
    "fig.colorbar(im1, ax=axes.ravel().tolist())\n",
    "\n",
    "plt.show()"
   ]
  },
  {
   "cell_type": "code",
   "execution_count": 162,
   "metadata": {},
   "outputs": [
    {
     "data": {
      "text/plain": [
       "(41, 1600)"
      ]
     },
     "execution_count": 162,
     "metadata": {},
     "output_type": "execute_result"
    }
   ],
   "source": [
    "x_m.shape"
   ]
  },
  {
   "cell_type": "code",
   "execution_count": 132,
   "metadata": {},
   "outputs": [
    {
     "name": "stdout",
     "output_type": "stream",
     "text": [
      "[20 20]\n",
      "[20 16]\n",
      "[20 20]\n",
      "[17 22]\n",
      "[20 20]\n",
      "[17 22]\n",
      "[16 20]\n",
      "[21 16]\n",
      "[21 17]\n",
      "[24 18]\n",
      "[23 20]\n",
      "[22 22]\n",
      "[21 21]\n",
      "[18 21]\n",
      "[21 18]\n",
      "[21 18]\n",
      "[15 20]\n",
      "[14 21]\n",
      "[14 16]\n",
      "[16 21]\n",
      "[14 21]\n"
     ]
    }
   ],
   "source": [
    "for i in range(0,len(x_array)):\n",
    "    histo=np.histogram2d(x=x_array[i],y=y_array[i],bins=40)[0]\n",
    "    position_max=np.where(histo == np.amax(histo))\n",
    "    if len(position_max[0]) ==1:\n",
    "        print(np.squeeze(position_max))\n",
    "    else:\n",
    "        print(np.squeeze(position_max[0]))"
   ]
  },
  {
   "cell_type": "code",
   "execution_count": 113,
   "metadata": {},
   "outputs": [
    {
     "name": "stdout",
     "output_type": "stream",
     "text": [
      "(array([ 8, 11]), array([11, 11]))\n"
     ]
    }
   ],
   "source": [
    "histo=np.histogram2d(x=x_array[5],y=y_array[5],bins=20)[0]\n",
    "position_max=np.where(histo == np.amax(histo))\n",
    "print(position_max)"
   ]
  },
  {
   "cell_type": "code",
   "execution_count": 114,
   "metadata": {},
   "outputs": [
    {
     "data": {
      "text/plain": [
       "20.0"
      ]
     },
     "execution_count": 114,
     "metadata": {},
     "output_type": "execute_result"
    }
   ],
   "source": [
    "np.amax(histo)"
   ]
  },
  {
   "cell_type": "code",
   "execution_count": 117,
   "metadata": {},
   "outputs": [
    {
     "data": {
      "text/plain": [
       "2"
      ]
     },
     "execution_count": 117,
     "metadata": {},
     "output_type": "execute_result"
    }
   ],
   "source": [
    "len(np.where(histo == np.amax(histo)))"
   ]
  },
  {
   "cell_type": "code",
   "execution_count": null,
   "metadata": {},
   "outputs": [],
   "source": []
  }
 ],
 "metadata": {
  "kernelspec": {
   "display_name": "Python 3",
   "language": "python",
   "name": "python3"
  },
  "language_info": {
   "codemirror_mode": {
    "name": "ipython",
    "version": 3
   },
   "file_extension": ".py",
   "mimetype": "text/x-python",
   "name": "python",
   "nbconvert_exporter": "python",
   "pygments_lexer": "ipython3",
   "version": "3.6.9"
  }
 },
 "nbformat": 4,
 "nbformat_minor": 4
}
