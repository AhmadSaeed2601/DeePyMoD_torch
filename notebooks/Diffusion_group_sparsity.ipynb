{
 "cells": [
  {
   "cell_type": "markdown",
   "metadata": {},
   "source": [
    "# Example Single particle tracking"
   ]
  },
  {
   "cell_type": "markdown",
   "metadata": {},
   "source": [
    "In this notebook we provide a simple example of the DeepMoD algorithm by applying it on the Burgers' equation. \n",
    "\n",
    "We start by importing the required libraries and setting the plotting style:"
   ]
  },
  {
   "cell_type": "code",
   "execution_count": 1,
   "metadata": {},
   "outputs": [],
   "source": [
    "import numpy as np\n",
    "import torch\n",
    "from deepymod_torch.library_function import *\n",
    "from deepymod_torch.DeepMod import DeepMoD\n",
    "from deepymod_torch.neural_net import *\n",
    "from deepymod_torch.sparsity import *\n",
    "\n",
    "import matplotlib.pyplot as plt\n",
    "from scipy.io import loadmat\n",
    "plt.style.use('seaborn-notebook')\n",
    "torch.set_default_tensor_type('torch.cuda.FloatTensor')  # enable for GPU\n",
    "\n",
    "np.random.seed(40)\n",
    "%load_ext autoreload\n",
    "%autoreload 2"
   ]
  },
  {
   "cell_type": "code",
   "execution_count": 2,
   "metadata": {},
   "outputs": [],
   "source": [
    "def advection_diffusion_random_walk(walk_params, traj_params, initial_conditions):\n",
    "    num_steps, num_walkers, dt = walk_params\n",
    "    Diff, v = traj_params\n",
    "\n",
    "    steps = np.random.normal(loc=v*dt, scale=np.sqrt(2*Diff*dt), size=(num_steps, num_walkers))\n",
    "    trajectory = np.concatenate((initial_conditions,initial_conditions+np.cumsum(np.array(steps), axis=0)), axis=0)\n",
    "    time = np.arange(num_steps + 1) * dt\n",
    "\n",
    "    return time, trajectory"
   ]
  },
  {
   "cell_type": "code",
   "execution_count": 3,
   "metadata": {},
   "outputs": [],
   "source": [
    "n_w = 500\n",
    "n_s = 19999\n",
    "dt = 0.01"
   ]
  },
  {
   "cell_type": "code",
   "execution_count": 4,
   "metadata": {},
   "outputs": [],
   "source": [
    "x_vec_list = [advection_diffusion_random_walk([n_s,n_w,dt],[i,0],np.zeros((1,n_w)))[1] for i in [0.01,0.02,0.03,0.04,0.05]]\n",
    "time_vec_list = [advection_diffusion_random_walk([n_s,n_w,dt],[i,0],np.zeros((1,n_w)))[0] for i in [0.01,0.02,0.03,0.04,0.05]]"
   ]
  },
  {
   "cell_type": "code",
   "execution_count": 5,
   "metadata": {},
   "outputs": [],
   "source": [
    "m_split = 20 \n",
    "n_bins = 250\n",
    "x_range = 10"
   ]
  },
  {
   "cell_type": "code",
   "execution_count": 6,
   "metadata": {},
   "outputs": [],
   "source": [
    "x_list_split = [np.array_split(x_vec,m_split,axis=0) for x_vec in x_vec_list]"
   ]
  },
  {
   "cell_type": "code",
   "execution_count": 7,
   "metadata": {},
   "outputs": [],
   "source": [
    "U_list = np.array([np.array([np.histogram(x,bins=n_bins,range=[-x_range,x_range])[0] for x in x_list_split[k]]) for k in np.arange(0,len(x_list_split))])\n",
    "X_list = np.array([np.array([np.histogram(x,bins=n_bins,range=[-x_range,x_range])[1] for x in x_list_split[k]]) for k in np.arange(0,len(x_list_split))])"
   ]
  },
  {
   "cell_type": "code",
   "execution_count": 8,
   "metadata": {},
   "outputs": [],
   "source": [
    "T_list = np.array([np.ones_like(X_list[0])*np.arange(0,X_list[0].shape[0])[:,None] for k in np.arange(0,len(x_list_split))])"
   ]
  },
  {
   "cell_type": "code",
   "execution_count": 9,
   "metadata": {},
   "outputs": [
    {
     "data": {
      "text/plain": [
       "<matplotlib.colorbar.Colorbar at 0x7fd5b799bfd0>"
      ]
     },
     "execution_count": 9,
     "metadata": {},
     "output_type": "execute_result"
    },
    {
     "data": {
      "image/png": "[encoded data removed]",
      "text/plain": [
       "<Figure size 432x288 with 2 Axes>"
      ]
     },
     "metadata": {
      "needs_background": "light"
     },
     "output_type": "display_data"
    }
   ],
   "source": [
    "plt.imshow(U_list[1,:,:],aspect=10)\n",
    "plt.colorbar()"
   ]
  },
  {
   "cell_type": "code",
   "execution_count": 10,
   "metadata": {},
   "outputs": [
    {
     "data": {
      "text/plain": [
       "[<matplotlib.lines.Line2D at 0x7fd5b78e3198>]"
      ]
     },
     "execution_count": 10,
     "metadata": {},
     "output_type": "execute_result"
    },
    {
     "data": {
      "image/png": "[encoded data removed]",
      "text/plain": [
       "<Figure size 432x288 with 1 Axes>"
      ]
     },
     "metadata": {
      "needs_background": "light"
     },
     "output_type": "display_data"
    }
   ],
   "source": [
    "plt.plot(U_list[0][0,:])\n",
    "plt.plot(U_list[0][5,:])\n",
    "plt.plot(U_list[0][10,:])"
   ]
  },
  {
   "cell_type": "markdown",
   "metadata": {},
   "source": [
    "Next, we prepare the dataset. We load 3 data sets with different diffusion coefficients (D = 1, 0.4 and 0.2) "
   ]
  },
  {
   "cell_type": "code",
   "execution_count": 11,
   "metadata": {},
   "outputs": [
    {
     "data": {
      "text/plain": [
       "19.0"
      ]
     },
     "execution_count": 11,
     "metadata": {},
     "output_type": "execute_result"
    }
   ],
   "source": [
    "np.max(T_list)"
   ]
  },
  {
   "cell_type": "code",
   "execution_count": 12,
   "metadata": {},
   "outputs": [],
   "source": [
    "x_1 = X_list[0,:,:]/10.\n",
    "t_1 = T_list[0,:,:]/10.\n",
    "y_1 = U_list[0,:,:]/np.max(U_list[0,:,:])\n",
    "\n",
    "x_2 = X_list[1,:,:]/10.\n",
    "t_2 = T_list[1,:,:]/10.\n",
    "y_2 = U_list[1,:,:]/np.max(U_list[1,:,:])\n",
    "\n",
    "x_3 = X_list[2,:,:]/10.\n",
    "t_3 = T_list[2,:,:]/10.\n",
    "y_3 = U_list[2,:,:]/np.max(U_list[2,:,:])\n",
    "\n",
    "x_4 = X_list[2,:,:]/10.\n",
    "t_4 = T_list[2,:,:]/10.\n",
    "y_4 = U_list[3,:,:]/np.max(U_list[3,:,:])"
   ]
  },
  {
   "cell_type": "code",
   "execution_count": 13,
   "metadata": {},
   "outputs": [],
   "source": [
    "X = np.transpose((t_1.flatten(),x_1.flatten()))\n",
    "y = np.transpose(U_list.reshape(X_list.shape[0],-1))\n",
    "y = y/(10*np.max(y))"
   ]
  },
  {
   "cell_type": "markdown",
   "metadata": {},
   "source": [
    "y= y.reshape((y.size, 1)).astype('float32')"
   ]
  },
  {
   "cell_type": "code",
   "execution_count": 23,
   "metadata": {},
   "outputs": [],
   "source": [
    "number_of_samples = 500\n",
    "\n",
    "idx = np.random.permutation(y.shape[0])\n",
    "X_train = torch.tensor(X[idx, :][:number_of_samples], dtype=torch.float32, requires_grad=True)\n",
    "y_train = torch.tensor(y[idx, :][:number_of_samples], dtype=torch.float32)"
   ]
  },
  {
   "cell_type": "code",
   "execution_count": 24,
   "metadata": {},
   "outputs": [
    {
     "name": "stdout",
     "output_type": "stream",
     "text": [
      "torch.Size([500, 2]) torch.Size([500, 5])\n"
     ]
    }
   ],
   "source": [
    "print(X_train.shape, y_train.shape)"
   ]
  },
  {
   "cell_type": "markdown",
   "metadata": {},
   "source": [
    "## Configure the neural network"
   ]
  },
  {
   "cell_type": "markdown",
   "metadata": {},
   "source": [
    "We now setup the options for DeepMoD. There's as few dictionaries to fill, starting with the 'optim config', which sets the maximal number of iterations and the amplitude of the $L_1$ penalty"
   ]
  },
  {
   "cell_type": "code",
   "execution_count": 25,
   "metadata": {},
   "outputs": [],
   "source": [
    "optim_config = {'lambda': 10**-6, 'max_iterations': 5001}"
   ]
  },
  {
   "cell_type": "markdown",
   "metadata": {},
   "source": [
    "Next we choose the size of the neural network "
   ]
  },
  {
   "cell_type": "code",
   "execution_count": 26,
   "metadata": {},
   "outputs": [],
   "source": [
    "network_config = {'input_dim': 2, 'hidden_dim': 20, 'layers': 4, 'output_dim': y_train.shape[1]}"
   ]
  },
  {
   "cell_type": "markdown",
   "metadata": {},
   "source": [
    "DeepMoD accepts any arbitrary library function and any options for it can be given through *the library_config*. The library function for the burgers case accepts a maximum order for the polynomial and derivative terms."
   ]
  },
  {
   "cell_type": "code",
   "execution_count": 27,
   "metadata": {},
   "outputs": [],
   "source": [
    "library_config = {'type': library_1D_in_group_b, 'poly_order': 1, 'diff_order': 2}"
   ]
  },
  {
   "cell_type": "markdown",
   "metadata": {},
   "source": [
    "## Run DeepMoD "
   ]
  },
  {
   "cell_type": "code",
   "execution_count": 34,
   "metadata": {},
   "outputs": [
    {
     "name": "stdout",
     "output_type": "stream",
     "text": [
      "5\n"
     ]
    }
   ],
   "source": [
    "network, coeff_vector_list, sparsity_mask_list = deepmod_init(network_config, library_config)"
   ]
  },
  {
   "cell_type": "code",
   "execution_count": 35,
   "metadata": {},
   "outputs": [
    {
     "name": "stderr",
     "output_type": "stream",
     "text": [
      "/opt/conda/lib/python3.6/site-packages/ipykernel_launcher.py:1: UserWarning: To copy construct from a tensor, it is recommended to use sourceTensor.clone().detach() or sourceTensor.clone().detach().requires_grad_(True), rather than torch.tensor(sourceTensor).\n",
      "  \"\"\"Entry point for launching an IPython kernel.\n"
     ]
    }
   ],
   "source": [
    "coeff_vector_list_new = [torch.tensor(0.1*coeff_vector+ 1, dtype=torch.float32, requires_grad=True) for coeff_vector in coeff_vector_list ]"
   ]
  },
  {
   "cell_type": "code",
   "execution_count": 36,
   "metadata": {},
   "outputs": [
    {
     "name": "stdout",
     "output_type": "stream",
     "text": [
      "Epoch | Total loss | MSE | PI | L1 \n",
      "0 1.1E-01 1.1E-01\n",
      "5000 6.0E-06 6.0E-06\n",
      "10000 2.0E-06 2.0E-06\n",
      "15000 3.4E-06 3.4E-06\n"
     ]
    },
    {
     "ename": "KeyboardInterrupt",
     "evalue": "",
     "output_type": "error",
     "traceback": [
      "\u001b[0;31m---------------------------------------------------------------------------\u001b[0m",
      "\u001b[0;31mKeyboardInterrupt\u001b[0m                         Traceback (most recent call last)",
      "\u001b[0;32m<ipython-input-36-72c8664c6a47>\u001b[0m in \u001b[0;36m<module>\u001b[0;34m\u001b[0m\n\u001b[0;32m----> 1\u001b[0;31m \u001b[0mtrain_group_mse\u001b[0m\u001b[0;34m(\u001b[0m\u001b[0mX_train\u001b[0m\u001b[0;34m,\u001b[0m \u001b[0my_train\u001b[0m\u001b[0;34m,\u001b[0m \u001b[0mnetwork\u001b[0m\u001b[0;34m,\u001b[0m \u001b[0mcoeff_vector_list\u001b[0m\u001b[0;34m,\u001b[0m \u001b[0msparsity_mask_list\u001b[0m\u001b[0;34m,\u001b[0m \u001b[0mlibrary_config\u001b[0m\u001b[0;34m,\u001b[0m \u001b[0moptim_config\u001b[0m\u001b[0;34m)\u001b[0m\u001b[0;34m\u001b[0m\u001b[0;34m\u001b[0m\u001b[0m\n\u001b[0m",
      "\u001b[0;32m/home/working/src/deepymod_torch/neural_net.py\u001b[0m in \u001b[0;36mtrain_group_mse\u001b[0;34m(data, target, network, coeff_vector_list, sparsity_mask_list, library_config, optim_config)\u001b[0m\n\u001b[1;32m    326\u001b[0m \u001b[0;34m\u001b[0m\u001b[0m\n\u001b[1;32m    327\u001b[0m         \u001b[0;31m# Optimizer step\u001b[0m\u001b[0;34m\u001b[0m\u001b[0;34m\u001b[0m\u001b[0;34m\u001b[0m\u001b[0m\n\u001b[0;32m--> 328\u001b[0;31m         \u001b[0moptimizer\u001b[0m\u001b[0;34m.\u001b[0m\u001b[0mzero_grad\u001b[0m\u001b[0;34m(\u001b[0m\u001b[0;34m)\u001b[0m\u001b[0;34m\u001b[0m\u001b[0;34m\u001b[0m\u001b[0m\n\u001b[0m\u001b[1;32m    329\u001b[0m         \u001b[0mloss\u001b[0m\u001b[0;34m.\u001b[0m\u001b[0mbackward\u001b[0m\u001b[0;34m(\u001b[0m\u001b[0;34m)\u001b[0m\u001b[0;34m\u001b[0m\u001b[0;34m\u001b[0m\u001b[0m\n\u001b[1;32m    330\u001b[0m         \u001b[0moptimizer\u001b[0m\u001b[0;34m.\u001b[0m\u001b[0mstep\u001b[0m\u001b[0;34m(\u001b[0m\u001b[0;34m)\u001b[0m\u001b[0;34m\u001b[0m\u001b[0;34m\u001b[0m\u001b[0m\n",
      "\u001b[0;32m/opt/conda/lib/python3.6/site-packages/torch/optim/optimizer.py\u001b[0m in \u001b[0;36mzero_grad\u001b[0;34m(self)\u001b[0m\n\u001b[1;32m    163\u001b[0m                 \u001b[0;32mif\u001b[0m \u001b[0mp\u001b[0m\u001b[0;34m.\u001b[0m\u001b[0mgrad\u001b[0m \u001b[0;32mis\u001b[0m \u001b[0;32mnot\u001b[0m \u001b[0;32mNone\u001b[0m\u001b[0;34m:\u001b[0m\u001b[0;34m\u001b[0m\u001b[0;34m\u001b[0m\u001b[0m\n\u001b[1;32m    164\u001b[0m                     \u001b[0mp\u001b[0m\u001b[0;34m.\u001b[0m\u001b[0mgrad\u001b[0m\u001b[0;34m.\u001b[0m\u001b[0mdetach_\u001b[0m\u001b[0;34m(\u001b[0m\u001b[0;34m)\u001b[0m\u001b[0;34m\u001b[0m\u001b[0;34m\u001b[0m\u001b[0m\n\u001b[0;32m--> 165\u001b[0;31m                     \u001b[0mp\u001b[0m\u001b[0;34m.\u001b[0m\u001b[0mgrad\u001b[0m\u001b[0;34m.\u001b[0m\u001b[0mzero_\u001b[0m\u001b[0;34m(\u001b[0m\u001b[0;34m)\u001b[0m\u001b[0;34m\u001b[0m\u001b[0;34m\u001b[0m\u001b[0m\n\u001b[0m\u001b[1;32m    166\u001b[0m \u001b[0;34m\u001b[0m\u001b[0m\n\u001b[1;32m    167\u001b[0m     \u001b[0;32mdef\u001b[0m \u001b[0mstep\u001b[0m\u001b[0;34m(\u001b[0m\u001b[0mself\u001b[0m\u001b[0;34m,\u001b[0m \u001b[0mclosure\u001b[0m\u001b[0;34m)\u001b[0m\u001b[0;34m:\u001b[0m\u001b[0;34m\u001b[0m\u001b[0;34m\u001b[0m\u001b[0m\n",
      "\u001b[0;31mKeyboardInterrupt\u001b[0m: "
     ]
    }
   ],
   "source": [
    "train_group_mse(X_train, y_train, network, coeff_vector_list, sparsity_mask_list, library_config, optim_config)"
   ]
  },
  {
   "cell_type": "code",
   "execution_count": 37,
   "metadata": {},
   "outputs": [],
   "source": [
    "optim_config = {'lambda': 10**-6, 'max_iterations': 25001}"
   ]
  },
  {
   "cell_type": "code",
   "execution_count": 38,
   "metadata": {},
   "outputs": [
    {
     "name": "stdout",
     "output_type": "stream",
     "text": [
      "Epoch | Total loss | MSE | PI | L1 \n",
      "0 1.0E+01 1.8E-06 1.0E+01 1.1E-03\n",
      "tensor([[1.0708],\n",
      "        [0.9318],\n",
      "        [1.0659],\n",
      "        [1.0080],\n",
      "        [1.0258],\n",
      "        [0.8929]], requires_grad=True)\n",
      "tensor([[0.9796],\n",
      "        [0.9712],\n",
      "        [0.9126],\n",
      "        [0.9620],\n",
      "        [0.9290],\n",
      "        [1.2916]], requires_grad=True)\n",
      "tensor([[0.9303],\n",
      "        [1.0452],\n",
      "        [1.0927],\n",
      "        [1.0154],\n",
      "        [0.8194],\n",
      "        [0.8425]], requires_grad=True)\n",
      "tensor([[1.0742],\n",
      "        [1.1884],\n",
      "        [1.0230],\n",
      "        [0.9158],\n",
      "        [1.1461],\n",
      "        [1.1477]], requires_grad=True)\n",
      "tensor([[0.7978],\n",
      "        [0.9250],\n",
      "        [1.0024],\n",
      "        [0.8348],\n",
      "        [1.1463],\n",
      "        [0.9581]], requires_grad=True)\n",
      "5000 1.2E-04 8.0E-05 7.2E-06 3.5E-05\n",
      "tensor([[0.0241],\n",
      "        [2.0610],\n",
      "        [1.3350],\n",
      "        [1.2861],\n",
      "        [0.5995],\n",
      "        [1.5729]], requires_grad=True)\n",
      "tensor([[0.0154],\n",
      "        [2.0672],\n",
      "        [1.3080],\n",
      "        [1.2192],\n",
      "        [0.5381],\n",
      "        [1.9632]], requires_grad=True)\n",
      "tensor([[0.0135],\n",
      "        [2.1263],\n",
      "        [1.3373],\n",
      "        [1.2652],\n",
      "        [0.3389],\n",
      "        [1.5699]], requires_grad=True)\n",
      "tensor([[0.0286],\n",
      "        [2.4886],\n",
      "        [1.5902],\n",
      "        [1.3088],\n",
      "        [0.5830],\n",
      "        [1.7598]], requires_grad=True)\n",
      "tensor([[0.0077],\n",
      "        [1.9643],\n",
      "        [1.2734],\n",
      "        [1.1757],\n",
      "        [0.6176],\n",
      "        [1.6064]], requires_grad=True)\n",
      "15000 8.8E-05 6.6E-05 5.7E-06 1.5E-05\n",
      "tensor([[0.0118],\n",
      "        [1.0060],\n",
      "        [1.1804],\n",
      "        [0.7936],\n",
      "        [0.5744],\n",
      "        [1.6020]], requires_grad=True)\n",
      "tensor([[0.0113],\n",
      "        [0.9303],\n",
      "        [1.1498],\n",
      "        [0.7247],\n",
      "        [0.4938],\n",
      "        [2.0117]], requires_grad=True)\n",
      "tensor([[0.0102],\n",
      "        [0.8689],\n",
      "        [1.1206],\n",
      "        [0.7173],\n",
      "        [0.3122],\n",
      "        [1.5937]], requires_grad=True)\n",
      "tensor([[0.0089],\n",
      "        [1.1977],\n",
      "        [1.1954],\n",
      "        [0.8302],\n",
      "        [0.5648],\n",
      "        [1.7730]], requires_grad=True)\n",
      "tensor([[0.0076],\n",
      "        [0.7555],\n",
      "        [1.1082],\n",
      "        [0.7520],\n",
      "        [0.5733],\n",
      "        [1.6405]], requires_grad=True)\n",
      "20000 1.2E-05 4.8E-06 8.9E-07 5.9E-06\n",
      "tensor([[3.7859e-05],\n",
      "        [5.8734e-02],\n",
      "        [1.1132e-02],\n",
      "        [6.4068e-02],\n",
      "        [4.6817e-01],\n",
      "        [3.4580e-02]], requires_grad=True)\n",
      "tensor([[0.0002],\n",
      "        [0.0685],\n",
      "        [0.0189],\n",
      "        [0.0055],\n",
      "        [0.0024],\n",
      "        [0.0319]], requires_grad=True)\n",
      "tensor([[-2.4976e-04],\n",
      "        [ 6.1068e-02],\n",
      "        [ 2.1017e-02],\n",
      "        [ 2.6704e-04],\n",
      "        [ 5.4087e-04],\n",
      "        [ 3.2063e-01]], requires_grad=True)\n",
      "tensor([[2.6388e-04],\n",
      "        [4.5530e-02],\n",
      "        [2.3914e-02],\n",
      "        [3.8266e-04],\n",
      "        [2.5485e-04],\n",
      "        [9.0651e-01]], requires_grad=True)\n",
      "tensor([[1.3866e-04],\n",
      "        [4.4227e-02],\n",
      "        [2.4667e-02],\n",
      "        [2.0008e-03],\n",
      "        [3.7062e-04],\n",
      "        [9.0677e-01]], requires_grad=True)\n",
      "25000 1.3E-05 5.9E-06 1.2E-06 5.6E-06\n",
      "tensor([[3.0174e-04],\n",
      "        [6.2422e-02],\n",
      "        [7.1167e-03],\n",
      "        [9.5908e-05],\n",
      "        [4.3617e-03],\n",
      "        [4.3512e-05]], requires_grad=True)\n",
      "tensor([[-3.9274e-05],\n",
      "        [ 5.2794e-02],\n",
      "        [ 1.1909e-02],\n",
      "        [-7.2289e-05],\n",
      "        [ 6.7706e-05],\n",
      "        [-2.4156e-05]], requires_grad=True)\n",
      "tensor([[-3.0051e-05],\n",
      "        [ 3.1668e-02],\n",
      "        [ 1.5560e-02],\n",
      "        [-8.7112e-05],\n",
      "        [-2.2157e-05],\n",
      "        [ 3.0894e-05]], requires_grad=True)\n",
      "tensor([[ 1.7685e-04],\n",
      "        [ 3.5991e-04],\n",
      "        [ 1.5941e-02],\n",
      "        [-3.0941e-02],\n",
      "        [ 8.9253e-06],\n",
      "        [ 1.9880e-01]], requires_grad=True)\n",
      "tensor([[ 4.3522e-05],\n",
      "        [ 1.3235e-04],\n",
      "        [ 1.6576e-02],\n",
      "        [-2.3559e-02],\n",
      "        [-2.1764e-07],\n",
      "        [ 1.4588e-01]], requires_grad=True)\n"
     ]
    }
   ],
   "source": [
    "time_deriv_list, theta_list, coeff_vector_list = train_group(X_train, y_train, network, coeff_vector_list_new, sparsity_mask_list, library_config, optim_config)"
   ]
  },
  {
   "cell_type": "code",
   "execution_count": null,
   "metadata": {},
   "outputs": [],
   "source": [
    "time_deriv_list, theta_list, coeff_vector_list = train_group(X_train, y_train, network, coeff_vector_list, sparsity_mask_list, library_config, optim_config)"
   ]
  },
  {
   "cell_type": "code",
   "execution_count": 114,
   "metadata": {},
   "outputs": [],
   "source": [
    "scaled_coeff_vector_list = [scaling(coeff_vector, theta, time_deriv) for coeff_vector, theta , time_deriv in zip(coeff_vector_list, theta_list, time_deriv_list)]"
   ]
  },
  {
   "cell_type": "code",
   "execution_count": 115,
   "metadata": {},
   "outputs": [],
   "source": [
    "sparse_coeff_vector_list, sparsity_mask_list = zip(*[threshold(scaled_coeff_vector, coeff_vector) for scaled_coeff_vector, coeff_vector in zip(scaled_coeff_vector_list, coeff_vector_list)])"
   ]
  },
  {
   "cell_type": "code",
   "execution_count": 116,
   "metadata": {},
   "outputs": [
    {
     "data": {
      "text/plain": [
       "(tensor([2]), tensor([2]), tensor([2]), tensor([2]), tensor([2, 5]))"
      ]
     },
     "execution_count": 116,
     "metadata": {},
     "output_type": "execute_result"
    }
   ],
   "source": [
    "sparsity_mask_list"
   ]
  },
  {
   "cell_type": "code",
   "execution_count": 117,
   "metadata": {},
   "outputs": [],
   "source": [
    "optim_config = {'lambda': 10**-20, 'max_iterations': 10001}"
   ]
  },
  {
   "cell_type": "code",
   "execution_count": 118,
   "metadata": {},
   "outputs": [
    {
     "name": "stdout",
     "output_type": "stream",
     "text": [
      "Epoch | Total loss | MSE | PI | L1 \n",
      "0 2.8E-02 4.4E-04 2.8E-02 9.0E-20\n",
      "tensor([[0.0185]], requires_grad=True)\n",
      "tensor([[0.0426]], requires_grad=True)\n",
      "tensor([[0.0606]], requires_grad=True)\n",
      "tensor([[0.0856]], requires_grad=True)\n",
      "tensor([[ 0.1232],\n",
      "        [-0.2432]], requires_grad=True)\n",
      "5000 4.0E-04 3.7E-04 2.7E-05 5.7E-20\n",
      "tensor([[0.0233]], requires_grad=True)\n",
      "tensor([[0.0432]], requires_grad=True)\n",
      "tensor([[0.0645]], requires_grad=True)\n",
      "tensor([[0.0848]], requires_grad=True)\n",
      "tensor([[ 0.1217],\n",
      "        [-0.1178]], requires_grad=True)\n",
      "10000 3.9E-04 3.7E-04 1.7E-05 5.4E-20\n",
      "tensor([[0.0237]], requires_grad=True)\n",
      "tensor([[0.0431]], requires_grad=True)\n",
      "tensor([[0.0652]], requires_grad=True)\n",
      "tensor([[0.0849]], requires_grad=True)\n",
      "tensor([[ 0.1093],\n",
      "        [-0.0678]], requires_grad=True)\n"
     ]
    }
   ],
   "source": [
    "time_deriv_list_final, theta_list_final, coeff_vector_list_final = train_group(X_train, y_train, network, sparse_coeff_vector_list, sparsity_mask_list, library_config, optim_config)"
   ]
  },
  {
   "cell_type": "code",
   "execution_count": 25,
   "metadata": {},
   "outputs": [],
   "source": [
    "X_all = torch.tensor(X, dtype=torch.float32, requires_grad=True) \n",
    "prediction_full = network(X_all).detach().numpy()"
   ]
  },
  {
   "cell_type": "code",
   "execution_count": 26,
   "metadata": {},
   "outputs": [
    {
     "data": {
      "text/plain": [
       "array([[-0.01487283, -0.01357602, -0.01218428, ...,  0.08473535,\n",
       "         0.08481824,  0.08490599],\n",
       "       [-0.01489349, -0.01358862, -0.01218563, ...,  0.08578973,\n",
       "         0.08587719,  0.08596976],\n",
       "       [-0.01491517, -0.01360179, -0.01218683, ...,  0.08685237,\n",
       "         0.08694463,  0.08704212],\n",
       "       ...,\n",
       "       [ 0.03496511,  0.034522  ,  0.03436208, ...,  0.09208208,\n",
       "         0.09216569,  0.0922498 ],\n",
       "       [ 0.03490607,  0.03447638,  0.03432567, ...,  0.09150217,\n",
       "         0.09158775,  0.09167333],\n",
       "       [ 0.03484775,  0.03443064,  0.03428841, ...,  0.09093636,\n",
       "         0.09102473,  0.09111258]], dtype=float32)"
      ]
     },
     "execution_count": 26,
     "metadata": {},
     "output_type": "execute_result"
    }
   ],
   "source": [
    "prediction_full[:,0].reshape((201,201))"
   ]
  },
  {
   "cell_type": "code",
   "execution_count": 39,
   "metadata": {},
   "outputs": [],
   "source": [
    "test= prediction_full[:,3].reshape((201,201))"
   ]
  },
  {
   "cell_type": "code",
   "execution_count": 37,
   "metadata": {},
   "outputs": [
    {
     "data": {
      "text/plain": [
       "[<matplotlib.lines.Line2D at 0x7f70e7ff6c18>]"
      ]
     },
     "execution_count": 37,
     "metadata": {},
     "output_type": "execute_result"
    },
    {
     "data": {
      "image/png": "[encoded data removed]",
      "text/plain": [
       "<Figure size 432x288 with 1 Axes>"
      ]
     },
     "metadata": {
      "needs_background": "light"
     },
     "output_type": "display_data"
    }
   ],
   "source": [
    "plt.plot(test[:,1])\n",
    "plt.plot(test[:,10])\n",
    "plt.plot(test[:,50])\n",
    "plt.plot(test[:,100])"
   ]
  },
  {
   "cell_type": "code",
   "execution_count": 30,
   "metadata": {},
   "outputs": [
    {
     "data": {
      "text/plain": [
       "<matplotlib.image.AxesImage at 0x7f70f4179668>"
      ]
     },
     "execution_count": 30,
     "metadata": {},
     "output_type": "execute_result"
    },
    {
     "data": {
      "image/png": "[encoded data removed]",
      "text/plain": [
       "<Figure size 432x288 with 1 Axes>"
      ]
     },
     "metadata": {
      "needs_background": "light"
     },
     "output_type": "display_data"
    }
   ],
   "source": [
    "plt.imshow(prediction_full[:,3].reshape((201,201)), aspect=1)"
   ]
  },
  {
   "cell_type": "code",
   "execution_count": 77,
   "metadata": {},
   "outputs": [],
   "source": [
    "time_deriv_list, theta = library_1D_in(X_train, prediction, library_config)"
   ]
  },
  {
   "cell_type": "code",
   "execution_count": 78,
   "metadata": {},
   "outputs": [],
   "source": [
    "y_reg = time_deriv_list[0].detach().numpy()\n",
    "x_reg = theta.detach().numpy()"
   ]
  },
  {
   "cell_type": "code",
   "execution_count": 79,
   "metadata": {},
   "outputs": [
    {
     "data": {
      "text/plain": [
       "(array([[ 1.01022534e-01],\n",
       "        [ 8.01657885e-03],\n",
       "        [ 1.61606614e-02],\n",
       "        [ 1.19942088e-04],\n",
       "        [ 9.29686939e-06],\n",
       "        [-1.57570746e-02],\n",
       "        [-8.46816242e-01],\n",
       "        [-3.48056555e-02],\n",
       "        [-8.19199078e-04],\n",
       "        [-5.23904100e-06]], dtype=float32),\n",
       " array([37180.695], dtype=float32),\n",
       " 10,\n",
       " array([7.6361475e+05, 3.1920612e+05, 2.2900121e+04, 9.6409893e+03,\n",
       "        5.7146167e+02, 5.0050757e+02, 7.1360893e+01, 4.8615910e+01,\n",
       "        3.0338158e+01, 2.5171886e+01], dtype=float32))"
      ]
     },
     "execution_count": 79,
     "metadata": {},
     "output_type": "execute_result"
    }
   ],
   "source": [
    "np.linalg.lstsq(x_reg,y_reg,rcond=None)"
   ]
  },
  {
   "cell_type": "code",
   "execution_count": 80,
   "metadata": {},
   "outputs": [],
   "source": [
    "vec =np.linalg.lstsq(x_reg,y_reg,rcond=None)[0]"
   ]
  },
  {
   "cell_type": "code",
   "execution_count": 81,
   "metadata": {},
   "outputs": [],
   "source": [
    "coeff_vector = [torch.tensor(vec, dtype=torch.float32, requires_grad=True)] "
   ]
  },
  {
   "cell_type": "code",
   "execution_count": 86,
   "metadata": {},
   "outputs": [
    {
     "data": {
      "text/plain": [
       "[tensor([[ 0.2931],\n",
       "         [ 0.7618],\n",
       "         [ 1.7404],\n",
       "         [ 0.6688],\n",
       "         [ 0.4718],\n",
       "         [ 0.7023],\n",
       "         [-1.8055],\n",
       "         [ 0.4180],\n",
       "         [-0.9910],\n",
       "         [-1.9994]], requires_grad=True)]"
      ]
     },
     "execution_count": 86,
     "metadata": {},
     "output_type": "execute_result"
    }
   ],
   "source": [
    "coeff_vector_list"
   ]
  },
  {
   "cell_type": "code",
   "execution_count": 83,
   "metadata": {},
   "outputs": [],
   "source": [
    "X_all = torch.tensor(X, dtype=torch.float32, requires_grad=True) \n",
    "prediction_full = network(X_all)"
   ]
  },
  {
   "cell_type": "code",
   "execution_count": 84,
   "metadata": {},
   "outputs": [
    {
     "data": {
      "text/plain": [
       "<matplotlib.image.AxesImage at 0x7f153ae097b8>"
      ]
     },
     "execution_count": 84,
     "metadata": {},
     "output_type": "execute_result"
    },
    {
     "data": {
      "image/png": "[encoded data removed]",
      "text/plain": [
       "<Figure size 432x288 with 1 Axes>"
      ]
     },
     "metadata": {
      "needs_background": "light"
     },
     "output_type": "display_data"
    }
   ],
   "source": [
    "\n",
    "plt.imshow(prediction_full.detach().numpy().reshape(513,201), aspect='auto', cmap='coolwarm')"
   ]
  },
  {
   "cell_type": "code",
   "execution_count": 85,
   "metadata": {},
   "outputs": [],
   "source": [
    "optim_config = {'lambda': 10**-5, 'max_iterations': 5000, 'type': 'full'}"
   ]
  },
  {
   "cell_type": "code",
   "execution_count": 87,
   "metadata": {},
   "outputs": [
    {
     "name": "stdout",
     "output_type": "stream",
     "text": [
      "Epoch | Total loss | MSE | PI | L1 \n",
      "0 8.0E+08 2.0E-04 8.0E+08 7.0E-02\n",
      "tensor([[ 0.2951],\n",
      "        [ 0.7638],\n",
      "        [ 1.7384],\n",
      "        [ 0.6708],\n",
      "        [ 0.4738],\n",
      "        [ 0.7043],\n",
      "        [-1.8035],\n",
      "        [ 0.4160],\n",
      "        [-0.9890],\n",
      "        [-1.9974]], requires_grad=True)\n",
      "500 1.4E+03 7.6E-01 1.4E+03 3.0E-03\n",
      "tensor([[ 0.2987],\n",
      "        [ 0.7776],\n",
      "        [ 1.7417],\n",
      "        [ 0.6796],\n",
      "        [ 0.4826],\n",
      "        [ 0.7090],\n",
      "        [-1.7850],\n",
      "        [ 0.4027],\n",
      "        [-0.9794],\n",
      "        [-1.9865]], requires_grad=True)\n",
      "1000 5.7E+02 7.7E-01 5.7E+02 2.2E-03\n",
      "tensor([[ 0.3244],\n",
      "        [ 0.7770],\n",
      "        [ 1.7439],\n",
      "        [ 0.6796],\n",
      "        [ 0.4824],\n",
      "        [ 0.7035],\n",
      "        [-1.7849],\n",
      "        [ 0.4027],\n",
      "        [-0.9794],\n",
      "        [-1.9865]], requires_grad=True)\n",
      "1500 2.7E+02 7.7E-01 2.7E+02 1.7E-03\n",
      "tensor([[ 0.3575],\n",
      "        [ 0.7765],\n",
      "        [ 1.7455],\n",
      "        [ 0.6795],\n",
      "        [ 0.4823],\n",
      "        [ 0.6992],\n",
      "        [-1.7849],\n",
      "        [ 0.4026],\n",
      "        [-0.9794],\n",
      "        [-1.9865]], requires_grad=True)\n",
      "2000 1.5E+02 7.6E-01 1.5E+02 1.4E-03\n",
      "tensor([[ 0.3800],\n",
      "        [ 0.7758],\n",
      "        [ 1.7468],\n",
      "        [ 0.6795],\n",
      "        [ 0.4822],\n",
      "        [ 0.6973],\n",
      "        [-1.7849],\n",
      "        [ 0.4026],\n",
      "        [-0.9794],\n",
      "        [-1.9865]], requires_grad=True)\n"
     ]
    },
    {
     "ename": "KeyboardInterrupt",
     "evalue": "",
     "output_type": "error",
     "traceback": [
      "\u001b[0;31m---------------------------------------------------------------------------\u001b[0m",
      "\u001b[0;31mKeyboardInterrupt\u001b[0m                         Traceback (most recent call last)",
      "\u001b[0;32m<ipython-input-87-1faecb290eeb>\u001b[0m in \u001b[0;36m<module>\u001b[0;34m\u001b[0m\n\u001b[0;32m----> 1\u001b[0;31m \u001b[0mtime_deriv_list\u001b[0m\u001b[0;34m,\u001b[0m \u001b[0mtheta\u001b[0m\u001b[0;34m,\u001b[0m \u001b[0mcoeff_vector_list\u001b[0m \u001b[0;34m=\u001b[0m \u001b[0mtrain\u001b[0m\u001b[0;34m(\u001b[0m\u001b[0mX_train\u001b[0m\u001b[0;34m,\u001b[0m \u001b[0my_train\u001b[0m\u001b[0;34m,\u001b[0m \u001b[0mnetwork\u001b[0m\u001b[0;34m,\u001b[0m \u001b[0mcoeff_vector_list\u001b[0m\u001b[0;34m,\u001b[0m \u001b[0msparsity_mask_list\u001b[0m\u001b[0;34m,\u001b[0m \u001b[0mlibrary_config\u001b[0m\u001b[0;34m,\u001b[0m \u001b[0moptim_config\u001b[0m\u001b[0;34m)\u001b[0m\u001b[0;34m\u001b[0m\u001b[0;34m\u001b[0m\u001b[0m\n\u001b[0m",
      "\u001b[0;32m/home/working/src/deepymod_torch/neural_net.py\u001b[0m in \u001b[0;36mtrain\u001b[0;34m(data, target, network, coeff_vector_list, sparsity_mask_list, library_config, optim_config)\u001b[0m\n\u001b[1;32m    152\u001b[0m         \u001b[0;31m# Optimizer step\u001b[0m\u001b[0;34m\u001b[0m\u001b[0;34m\u001b[0m\u001b[0;34m\u001b[0m\u001b[0m\n\u001b[1;32m    153\u001b[0m         \u001b[0moptimizer\u001b[0m\u001b[0;34m.\u001b[0m\u001b[0mzero_grad\u001b[0m\u001b[0;34m(\u001b[0m\u001b[0;34m)\u001b[0m\u001b[0;34m\u001b[0m\u001b[0;34m\u001b[0m\u001b[0m\n\u001b[0;32m--> 154\u001b[0;31m         \u001b[0mloss\u001b[0m\u001b[0;34m.\u001b[0m\u001b[0mbackward\u001b[0m\u001b[0;34m(\u001b[0m\u001b[0;34m)\u001b[0m\u001b[0;34m\u001b[0m\u001b[0;34m\u001b[0m\u001b[0m\n\u001b[0m\u001b[1;32m    155\u001b[0m         \u001b[0moptimizer\u001b[0m\u001b[0;34m.\u001b[0m\u001b[0mstep\u001b[0m\u001b[0;34m(\u001b[0m\u001b[0;34m)\u001b[0m\u001b[0;34m\u001b[0m\u001b[0;34m\u001b[0m\u001b[0m\n\u001b[1;32m    156\u001b[0m \u001b[0;34m\u001b[0m\u001b[0m\n",
      "\u001b[0;32m/opt/conda/lib/python3.6/site-packages/torch/tensor.py\u001b[0m in \u001b[0;36mbackward\u001b[0;34m(self, gradient, retain_graph, create_graph)\u001b[0m\n\u001b[1;32m    105\u001b[0m                 \u001b[0mproducts\u001b[0m\u001b[0;34m.\u001b[0m \u001b[0mDefaults\u001b[0m \u001b[0mto\u001b[0m\u001b[0;31m \u001b[0m\u001b[0;31m`\u001b[0m\u001b[0;31m`\u001b[0m\u001b[0;32mFalse\u001b[0m\u001b[0;31m`\u001b[0m\u001b[0;31m`\u001b[0m\u001b[0;34m.\u001b[0m\u001b[0;34m\u001b[0m\u001b[0;34m\u001b[0m\u001b[0m\n\u001b[1;32m    106\u001b[0m         \"\"\"\n\u001b[0;32m--> 107\u001b[0;31m         \u001b[0mtorch\u001b[0m\u001b[0;34m.\u001b[0m\u001b[0mautograd\u001b[0m\u001b[0;34m.\u001b[0m\u001b[0mbackward\u001b[0m\u001b[0;34m(\u001b[0m\u001b[0mself\u001b[0m\u001b[0;34m,\u001b[0m \u001b[0mgradient\u001b[0m\u001b[0;34m,\u001b[0m \u001b[0mretain_graph\u001b[0m\u001b[0;34m,\u001b[0m \u001b[0mcreate_graph\u001b[0m\u001b[0;34m)\u001b[0m\u001b[0;34m\u001b[0m\u001b[0;34m\u001b[0m\u001b[0m\n\u001b[0m\u001b[1;32m    108\u001b[0m \u001b[0;34m\u001b[0m\u001b[0m\n\u001b[1;32m    109\u001b[0m     \u001b[0;32mdef\u001b[0m \u001b[0mregister_hook\u001b[0m\u001b[0;34m(\u001b[0m\u001b[0mself\u001b[0m\u001b[0;34m,\u001b[0m \u001b[0mhook\u001b[0m\u001b[0;34m)\u001b[0m\u001b[0;34m:\u001b[0m\u001b[0;34m\u001b[0m\u001b[0;34m\u001b[0m\u001b[0m\n",
      "\u001b[0;32m/opt/conda/lib/python3.6/site-packages/torch/autograd/__init__.py\u001b[0m in \u001b[0;36mbackward\u001b[0;34m(tensors, grad_tensors, retain_graph, create_graph, grad_variables)\u001b[0m\n\u001b[1;32m     91\u001b[0m     Variable._execution_engine.run_backward(\n\u001b[1;32m     92\u001b[0m         \u001b[0mtensors\u001b[0m\u001b[0;34m,\u001b[0m \u001b[0mgrad_tensors\u001b[0m\u001b[0;34m,\u001b[0m \u001b[0mretain_graph\u001b[0m\u001b[0;34m,\u001b[0m \u001b[0mcreate_graph\u001b[0m\u001b[0;34m,\u001b[0m\u001b[0;34m\u001b[0m\u001b[0;34m\u001b[0m\u001b[0m\n\u001b[0;32m---> 93\u001b[0;31m         allow_unreachable=True)  # allow_unreachable flag\n\u001b[0m\u001b[1;32m     94\u001b[0m \u001b[0;34m\u001b[0m\u001b[0m\n\u001b[1;32m     95\u001b[0m \u001b[0;34m\u001b[0m\u001b[0m\n",
      "\u001b[0;31mKeyboardInterrupt\u001b[0m: "
     ]
    }
   ],
   "source": [
    "time_deriv_list, theta, coeff_vector_list = train(X_train, y_train, network, coeff_vector_list, sparsity_mask_list, library_config, optim_config)"
   ]
  },
  {
   "cell_type": "code",
   "execution_count": 68,
   "metadata": {},
   "outputs": [
    {
     "name": "stdout",
     "output_type": "stream",
     "text": [
      "Epoch | Total loss | MSE | PI | L1 \n",
      "0 6.0E-02 5.6E-02 3.5E-03 1.9E-05\n",
      "tensor([[-0.0092],\n",
      "        [ 1.1719],\n",
      "        [-0.1080],\n",
      "        [-0.3816],\n",
      "        [ 0.0055],\n",
      "        [-0.0671],\n",
      "        [-1.1829],\n",
      "        [ 0.1687],\n",
      "        [-0.0087],\n",
      "        [-0.0136]], requires_grad=True)\n",
      "500 2.6E-01 7.9E-02 1.8E-01 1.8E-05\n",
      "tensor([[-0.0353],\n",
      "        [ 1.1866],\n",
      "        [-0.1115],\n",
      "        [-0.4098],\n",
      "        [ 0.0027],\n",
      "        [-0.0328],\n",
      "        [-1.1152],\n",
      "        [ 0.2151],\n",
      "        [ 0.0075],\n",
      "        [-0.0176]], requires_grad=True)\n"
     ]
    },
    {
     "ename": "KeyboardInterrupt",
     "evalue": "",
     "output_type": "error",
     "traceback": [
      "\u001b[0;31m---------------------------------------------------------------------------\u001b[0m",
      "\u001b[0;31mKeyboardInterrupt\u001b[0m                         Traceback (most recent call last)",
      "\u001b[0;32m<ipython-input-68-48eb9103e246>\u001b[0m in \u001b[0;36m<module>\u001b[0;34m\u001b[0m\n\u001b[0;32m----> 1\u001b[0;31m \u001b[0mtime_deriv_list\u001b[0m\u001b[0;34m,\u001b[0m \u001b[0mtheta\u001b[0m\u001b[0;34m,\u001b[0m \u001b[0mcoeff_vector_list\u001b[0m \u001b[0;34m=\u001b[0m \u001b[0mtrain\u001b[0m\u001b[0;34m(\u001b[0m\u001b[0mX_train\u001b[0m\u001b[0;34m,\u001b[0m \u001b[0my_train\u001b[0m\u001b[0;34m,\u001b[0m \u001b[0mnetwork\u001b[0m\u001b[0;34m,\u001b[0m \u001b[0mcoeff_vector\u001b[0m\u001b[0;34m,\u001b[0m \u001b[0msparsity_mask_list\u001b[0m\u001b[0;34m,\u001b[0m \u001b[0mlibrary_config\u001b[0m\u001b[0;34m,\u001b[0m \u001b[0moptim_config\u001b[0m\u001b[0;34m)\u001b[0m\u001b[0;34m\u001b[0m\u001b[0;34m\u001b[0m\u001b[0m\n\u001b[0m",
      "\u001b[0;32m/home/working/src/deepymod_torch/neural_net.py\u001b[0m in \u001b[0;36mtrain\u001b[0;34m(data, target, network, coeff_vector_list, sparsity_mask_list, library_config, optim_config)\u001b[0m\n\u001b[1;32m    152\u001b[0m         \u001b[0;31m# Optimizer step\u001b[0m\u001b[0;34m\u001b[0m\u001b[0;34m\u001b[0m\u001b[0;34m\u001b[0m\u001b[0m\n\u001b[1;32m    153\u001b[0m         \u001b[0moptimizer\u001b[0m\u001b[0;34m.\u001b[0m\u001b[0mzero_grad\u001b[0m\u001b[0;34m(\u001b[0m\u001b[0;34m)\u001b[0m\u001b[0;34m\u001b[0m\u001b[0;34m\u001b[0m\u001b[0m\n\u001b[0;32m--> 154\u001b[0;31m         \u001b[0mloss\u001b[0m\u001b[0;34m.\u001b[0m\u001b[0mbackward\u001b[0m\u001b[0;34m(\u001b[0m\u001b[0;34m)\u001b[0m\u001b[0;34m\u001b[0m\u001b[0;34m\u001b[0m\u001b[0m\n\u001b[0m\u001b[1;32m    155\u001b[0m         \u001b[0moptimizer\u001b[0m\u001b[0;34m.\u001b[0m\u001b[0mstep\u001b[0m\u001b[0;34m(\u001b[0m\u001b[0;34m)\u001b[0m\u001b[0;34m\u001b[0m\u001b[0;34m\u001b[0m\u001b[0m\n\u001b[1;32m    156\u001b[0m \u001b[0;34m\u001b[0m\u001b[0m\n",
      "\u001b[0;32m/opt/conda/lib/python3.6/site-packages/torch/tensor.py\u001b[0m in \u001b[0;36mbackward\u001b[0;34m(self, gradient, retain_graph, create_graph)\u001b[0m\n\u001b[1;32m    105\u001b[0m                 \u001b[0mproducts\u001b[0m\u001b[0;34m.\u001b[0m \u001b[0mDefaults\u001b[0m \u001b[0mto\u001b[0m\u001b[0;31m \u001b[0m\u001b[0;31m`\u001b[0m\u001b[0;31m`\u001b[0m\u001b[0;32mFalse\u001b[0m\u001b[0;31m`\u001b[0m\u001b[0;31m`\u001b[0m\u001b[0;34m.\u001b[0m\u001b[0;34m\u001b[0m\u001b[0;34m\u001b[0m\u001b[0m\n\u001b[1;32m    106\u001b[0m         \"\"\"\n\u001b[0;32m--> 107\u001b[0;31m         \u001b[0mtorch\u001b[0m\u001b[0;34m.\u001b[0m\u001b[0mautograd\u001b[0m\u001b[0;34m.\u001b[0m\u001b[0mbackward\u001b[0m\u001b[0;34m(\u001b[0m\u001b[0mself\u001b[0m\u001b[0;34m,\u001b[0m \u001b[0mgradient\u001b[0m\u001b[0;34m,\u001b[0m \u001b[0mretain_graph\u001b[0m\u001b[0;34m,\u001b[0m \u001b[0mcreate_graph\u001b[0m\u001b[0;34m)\u001b[0m\u001b[0;34m\u001b[0m\u001b[0;34m\u001b[0m\u001b[0m\n\u001b[0m\u001b[1;32m    108\u001b[0m \u001b[0;34m\u001b[0m\u001b[0m\n\u001b[1;32m    109\u001b[0m     \u001b[0;32mdef\u001b[0m \u001b[0mregister_hook\u001b[0m\u001b[0;34m(\u001b[0m\u001b[0mself\u001b[0m\u001b[0;34m,\u001b[0m \u001b[0mhook\u001b[0m\u001b[0;34m)\u001b[0m\u001b[0;34m:\u001b[0m\u001b[0;34m\u001b[0m\u001b[0;34m\u001b[0m\u001b[0m\n",
      "\u001b[0;32m/opt/conda/lib/python3.6/site-packages/torch/autograd/__init__.py\u001b[0m in \u001b[0;36mbackward\u001b[0;34m(tensors, grad_tensors, retain_graph, create_graph, grad_variables)\u001b[0m\n\u001b[1;32m     91\u001b[0m     Variable._execution_engine.run_backward(\n\u001b[1;32m     92\u001b[0m         \u001b[0mtensors\u001b[0m\u001b[0;34m,\u001b[0m \u001b[0mgrad_tensors\u001b[0m\u001b[0;34m,\u001b[0m \u001b[0mretain_graph\u001b[0m\u001b[0;34m,\u001b[0m \u001b[0mcreate_graph\u001b[0m\u001b[0;34m,\u001b[0m\u001b[0;34m\u001b[0m\u001b[0;34m\u001b[0m\u001b[0m\n\u001b[0;32m---> 93\u001b[0;31m         allow_unreachable=True)  # allow_unreachable flag\n\u001b[0m\u001b[1;32m     94\u001b[0m \u001b[0;34m\u001b[0m\u001b[0m\n\u001b[1;32m     95\u001b[0m \u001b[0;34m\u001b[0m\u001b[0m\n",
      "\u001b[0;31mKeyboardInterrupt\u001b[0m: "
     ]
    }
   ],
   "source": [
    "time_deriv_list, theta, coeff_vector_list = train(X_train, y_train, network, coeff_vector, sparsity_mask_list, library_config, optim_config)"
   ]
  },
  {
   "cell_type": "code",
   "execution_count": null,
   "metadata": {},
   "outputs": [],
   "source": [
    "time_deriv_list, theta, coeff_vector_list = train(X_train, y_train, network, coeff_vector_list, sparsity_mask_list, library_config, optim_config)"
   ]
  },
  {
   "cell_type": "code",
   "execution_count": null,
   "metadata": {},
   "outputs": [],
   "source": []
  },
  {
   "cell_type": "code",
   "execution_count": 23,
   "metadata": {},
   "outputs": [
    {
     "name": "stderr",
     "output_type": "stream",
     "text": [
      "[autoreload of deepymod_torch.neural_net failed: Traceback (most recent call last):\n",
      "  File \"/opt/conda/lib/python3.6/site-packages/IPython/extensions/autoreload.py\", line 244, in check\n",
      "    superreload(m, reload, self.old_objects)\n",
      "  File \"/opt/conda/lib/python3.6/site-packages/IPython/extensions/autoreload.py\", line 378, in superreload\n",
      "    module = reload(module)\n",
      "  File \"/opt/conda/lib/python3.6/imp.py\", line 315, in reload\n",
      "    return importlib.reload(module)\n",
      "  File \"/opt/conda/lib/python3.6/importlib/__init__.py\", line 166, in reload\n",
      "    _bootstrap._exec(spec, module)\n",
      "  File \"<frozen importlib._bootstrap>\", line 618, in _exec\n",
      "  File \"<frozen importlib._bootstrap_external>\", line 674, in exec_module\n",
      "  File \"<frozen importlib._bootstrap_external>\", line 781, in get_code\n",
      "  File \"<frozen importlib._bootstrap_external>\", line 741, in source_to_code\n",
      "  File \"<frozen importlib._bootstrap>\", line 219, in _call_with_frames_removed\n",
      "  File \"/home/working/src/deepymod_torch/neural_net.py\", line 153\n",
      "    writer.add_scalar('Regression '+str(idx), reg_cost_list[idx], iteration)\n",
      "    ^\n",
      "IndentationError: unexpected indent\n",
      "]\n"
     ]
    },
    {
     "ename": "NameError",
     "evalue": "name 'lib_config' is not defined",
     "output_type": "error",
     "traceback": [
      "\u001b[0;31m---------------------------------------------------------------------------\u001b[0m",
      "\u001b[0;31mNameError\u001b[0m                                 Traceback (most recent call last)",
      "\u001b[0;32m<ipython-input-23-3bd46f328c80>\u001b[0m in \u001b[0;36m<module>\u001b[0;34m\u001b[0m\n\u001b[0;32m----> 1\u001b[0;31m \u001b[0msparse_coeff_vector\u001b[0m\u001b[0;34m,\u001b[0m \u001b[0msparsity_mask\u001b[0m\u001b[0;34m,\u001b[0m \u001b[0mnetwork\u001b[0m \u001b[0;34m=\u001b[0m \u001b[0mDeepMoD\u001b[0m\u001b[0;34m(\u001b[0m\u001b[0mX_train\u001b[0m\u001b[0;34m,\u001b[0m \u001b[0my_train\u001b[0m\u001b[0;34m,\u001b[0m \u001b[0mnetwork_config\u001b[0m\u001b[0;34m,\u001b[0m \u001b[0mlib_config\u001b[0m\u001b[0;34m,\u001b[0m \u001b[0moptim_config\u001b[0m\u001b[0;34m)\u001b[0m\u001b[0;34m\u001b[0m\u001b[0;34m\u001b[0m\u001b[0m\n\u001b[0m",
      "\u001b[0;31mNameError\u001b[0m: name 'lib_config' is not defined"
     ]
    }
   ],
   "source": [
    "sparse_coeff_vector, sparsity_mask, network = DeepMoD(X_train, y_train, network_config, lib_config, optim_config)"
   ]
  },
  {
   "cell_type": "markdown",
   "metadata": {},
   "source": [
    "Now that DeepMoD has converged, it has found the following equation:"
   ]
  },
  {
   "cell_type": "code",
   "execution_count": 34,
   "metadata": {},
   "outputs": [
    {
     "name": "stdout",
     "output_type": "stream",
     "text": [
      "Final result:\n",
      "(tensor([[ 0.0994],\n",
      "        [-1.0001]], requires_grad=True),) (tensor([2, 5]),)\n"
     ]
    }
   ],
   "source": [
    "print('Final result:')\n",
    "print(sparse_coeff_vector, sparsity_mask)"
   ]
  },
  {
   "cell_type": "code",
   "execution_count": null,
   "metadata": {},
   "outputs": [],
   "source": []
  }
 ],
 "metadata": {
  "kernelspec": {
   "display_name": "Python 3",
   "language": "python",
   "name": "python3"
  },
  "language_info": {
   "codemirror_mode": {
    "name": "ipython",
    "version": 3
   },
   "file_extension": ".py",
   "mimetype": "text/x-python",
   "name": "python",
   "nbconvert_exporter": "python",
   "pygments_lexer": "ipython3",
   "version": "3.7.6"
  }
 },
 "nbformat": 4,
 "nbformat_minor": 4
}
