{
 "cells": [
  {
   "cell_type": "markdown",
   "metadata": {},
   "source": [
    "# Example Burgers' equation"
   ]
  },
  {
   "cell_type": "markdown",
   "metadata": {},
   "source": [
    "In this notebook we provide a simple example of the DeepMoD algorithm by applying it on the Burgers' equation. \n",
    "\n",
    "We start by importing the required libraries and setting the plotting style:"
   ]
  },
  {
   "cell_type": "code",
   "execution_count": 1,
   "metadata": {},
   "outputs": [],
   "source": [
    "import numpy as np\n",
    "import torch\n",
    "from deepymod_torch.library_function import *\n",
    "from deepymod_torch.DeepMod import DeepMoD\n",
    "from deepymod_torch.neural_net import *\n",
    "from deepymod_torch.sparsity import *\n",
    "\n",
    "import matplotlib.pyplot as plt\n",
    "from scipy.io import loadmat\n",
    "plt.style.use('seaborn-notebook')\n",
    "\n",
    "np.random.seed(40)\n",
    "%load_ext autoreload\n",
    "%autoreload 2"
   ]
  },
  {
   "cell_type": "markdown",
   "metadata": {},
   "source": [
    "Next, we prepare the dataset. We load 3 data sets with different diffusion coefficients (D = 1, 0.4 and 0.2) "
   ]
  },
  {
   "cell_type": "code",
   "execution_count": 2,
   "metadata": {},
   "outputs": [],
   "source": [
    "data_1 =  loadmat('../data/processed/Diffusion_group_2.mat')\n",
    "usol = np.real(data_1['Expression1'])\n",
    "usol= usol.reshape((201,201,3))\n",
    "\n",
    "x_1 = usol[:,:,0]\n",
    "t_1 = usol[:,:,1]\n",
    "y_1 = usol[:,:,2]\n",
    "\n",
    "data_2 = loadmat('../data/processed/Diffusion_group_1.mat')\n",
    "usol_2 = np.real(data_2['Expression1'])\n",
    "usol_2 = usol_2.reshape((201,201,3))\n",
    "\n",
    "x_2 = usol_2[:,:,0]\n",
    "t_2 = usol_2[:,:,1]\n",
    "y_2 = usol_2[:,:,2]\n",
    "\n",
    "data_3 = loadmat('../data/processed/Diffusion_group_0.mat')\n",
    "usol_3 = np.real(data_3['Expression1'])\n",
    "usol_3 = usol_3.reshape((201,201,3))\n",
    "\n",
    "x_3 = usol_3[:,:,0]\n",
    "t_3 = usol_3[:,:,1]\n",
    "y_3 = usol_3[:,:,2]\n",
    "\n",
    "data_4 = loadmat('../data/processed/Diffusion_group_3.mat')\n",
    "usol_4 = np.real(data_4['Expression1'])\n",
    "usol_4 = usol_4.reshape((201,201,3))\n",
    "\n",
    "x_4 = usol_4[:,:,0]\n",
    "t_4 = usol_4[:,:,1]\n",
    "y_4 = usol_4[:,:,2]"
   ]
  },
  {
   "cell_type": "markdown",
   "metadata": {},
   "source": [
    "y= y.reshape((y.size, 1)).astype('float32')"
   ]
  },
  {
   "cell_type": "code",
   "execution_count": 3,
   "metadata": {},
   "outputs": [],
   "source": [
    "X = np.transpose((t_1.flatten(),x_1.flatten()))\n",
    "y = np.transpose((y_1.flatten(),y_2.flatten(),y_3.flatten(),y_4.flatten()))"
   ]
  },
  {
   "cell_type": "code",
   "execution_count": 4,
   "metadata": {},
   "outputs": [
    {
     "data": {
      "text/plain": [
       "161604"
      ]
     },
     "execution_count": 4,
     "metadata": {},
     "output_type": "execute_result"
    }
   ],
   "source": [
    "y.size"
   ]
  },
  {
   "cell_type": "code",
   "execution_count": 5,
   "metadata": {},
   "outputs": [],
   "source": [
    "number_of_samples = 25\n",
    "\n",
    "idx = np.random.permutation(y.shape[0])\n",
    "X_train = torch.tensor(X[idx, :][:number_of_samples], dtype=torch.float32, requires_grad=True)\n",
    "y_train = torch.tensor(y[idx, :][:number_of_samples], dtype=torch.float32)"
   ]
  },
  {
   "cell_type": "code",
   "execution_count": 6,
   "metadata": {},
   "outputs": [
    {
     "name": "stdout",
     "output_type": "stream",
     "text": [
      "torch.Size([25, 2]) torch.Size([25, 4])\n"
     ]
    }
   ],
   "source": [
    "print(X_train.shape, y_train.shape)"
   ]
  },
  {
   "cell_type": "markdown",
   "metadata": {},
   "source": [
    "## Configure the neural network"
   ]
  },
  {
   "cell_type": "markdown",
   "metadata": {},
   "source": [
    "We now setup the options for DeepMoD. There's as few dictionaries to fill, starting with the 'optim config', which sets the maximal number of iterations and the amplitude of the $L_1$ penalty"
   ]
  },
  {
   "cell_type": "code",
   "execution_count": 7,
   "metadata": {},
   "outputs": [],
   "source": [
    "optim_config = {'lambda': 10**-5, 'max_iterations': 50001}"
   ]
  },
  {
   "cell_type": "markdown",
   "metadata": {},
   "source": [
    "Next we choose the size of the neural network "
   ]
  },
  {
   "cell_type": "code",
   "execution_count": 8,
   "metadata": {},
   "outputs": [],
   "source": [
    "network_config = {'input_dim': 2, 'hidden_dim': 20, 'layers': 3, 'output_dim': y_train.shape[1]}"
   ]
  },
  {
   "cell_type": "markdown",
   "metadata": {},
   "source": [
    "DeepMoD accepts any arbitrary library function and any options for it can be given through *the library_config*. The library function for the burgers case accepts a maximum order for the polynomial and derivative terms."
   ]
  },
  {
   "cell_type": "code",
   "execution_count": 9,
   "metadata": {},
   "outputs": [],
   "source": [
    "library_config = {'type': library_1D_in_group_b, 'poly_order': 1, 'diff_order': 2}"
   ]
  },
  {
   "cell_type": "markdown",
   "metadata": {},
   "source": [
    "## Run DeepMoD "
   ]
  },
  {
   "cell_type": "code",
   "execution_count": 10,
   "metadata": {},
   "outputs": [
    {
     "name": "stdout",
     "output_type": "stream",
     "text": [
      "4\n"
     ]
    }
   ],
   "source": [
    "network, coeff_vector_list, sparsity_mask_list = deepmod_init(network_config, library_config)"
   ]
  },
  {
   "cell_type": "code",
   "execution_count": 12,
   "metadata": {},
   "outputs": [
    {
     "name": "stdout",
     "output_type": "stream",
     "text": [
      "Epoch | Total loss | MSE | PI | L1 \n",
      "0 4.4E-05 8.1E-07 2.8E-07 4.3E-05\n",
      "tensor([[ 0.0047],\n",
      "        [ 0.0042],\n",
      "        [ 0.2031],\n",
      "        [ 0.0047],\n",
      "        [ 0.0046],\n",
      "        [-0.0039]], requires_grad=True)\n",
      "tensor([[ 0.0049],\n",
      "        [ 0.0044],\n",
      "        [-2.1529],\n",
      "        [-0.0684],\n",
      "        [ 0.0044],\n",
      "        [ 0.0041]], requires_grad=True)\n",
      "tensor([[ 0.0394],\n",
      "        [ 0.7139],\n",
      "        [ 1.7572],\n",
      "        [ 0.0049],\n",
      "        [ 1.0951],\n",
      "        [-0.0048]], requires_grad=True)\n",
      "tensor([[4.9004e-03],\n",
      "        [4.8720e-03],\n",
      "        [1.6282e+00],\n",
      "        [4.8887e-03],\n",
      "        [4.6102e-03],\n",
      "        [2.8777e-04]], requires_grad=True)\n",
      "2500 1.9E-04 1.3E-04 2.0E-05 4.2E-05\n",
      "tensor([[-1.7842e-04],\n",
      "        [-6.6148e-04],\n",
      "        [ 2.0764e-01],\n",
      "        [-1.4409e-04],\n",
      "        [-4.1584e-04],\n",
      "        [ 8.0367e-04]], requires_grad=True)\n",
      "tensor([[-3.2921e-04],\n",
      "        [-2.2481e-04],\n",
      "        [-2.0929e+00],\n",
      "        [-2.6502e-02],\n",
      "        [-2.5190e-04],\n",
      "        [-6.7466e-05]], requires_grad=True)\n",
      "tensor([[2.5853e-02],\n",
      "        [6.0010e-01],\n",
      "        [1.6870e+00],\n",
      "        [2.7838e-04],\n",
      "        [1.0322e+00],\n",
      "        [8.4414e-05]], requires_grad=True)\n",
      "tensor([[ 9.7508e-05],\n",
      "        [ 1.3397e-04],\n",
      "        [ 1.6120e+00],\n",
      "        [-2.7362e-04],\n",
      "        [-5.8225e-05],\n",
      "        [ 9.6434e-04]], requires_grad=True)\n",
      "5000 4.6E-05 2.5E-06 1.9E-06 4.1E-05\n",
      "tensor([[-1.3296e-04],\n",
      "        [-9.3002e-06],\n",
      "        [ 2.0590e-01],\n",
      "        [-1.2853e-03],\n",
      "        [-1.2580e-03],\n",
      "        [ 9.4105e-04]], requires_grad=True)\n",
      "tensor([[-1.7797e-04],\n",
      "        [-2.4644e-05],\n",
      "        [-2.0270e+00],\n",
      "        [-3.1964e-04],\n",
      "        [-3.2574e-04],\n",
      "        [-4.1225e-04]], requires_grad=True)\n",
      "tensor([[ 1.5043e-02],\n",
      "        [ 4.7373e-01],\n",
      "        [ 1.6183e+00],\n",
      "        [-6.0235e-05],\n",
      "        [ 9.6314e-01],\n",
      "        [ 2.3044e-04]], requires_grad=True)\n",
      "tensor([[-3.8837e-05],\n",
      "        [-4.5461e-04],\n",
      "        [ 1.5503e+00],\n",
      "        [-3.5518e-04],\n",
      "        [-6.6148e-05],\n",
      "        [ 7.4490e-04]], requires_grad=True)\n",
      "7500 4.2E-05 8.3E-07 6.8E-07 4.1E-05\n",
      "tensor([[ 2.1038e-04],\n",
      "        [-5.0532e-04],\n",
      "        [ 2.1074e-01],\n",
      "        [-9.7348e-06],\n",
      "        [-1.1601e-04],\n",
      "        [ 1.1610e-03]], requires_grad=True)\n",
      "tensor([[ 1.6485e-05],\n",
      "        [-5.5188e-05],\n",
      "        [-1.8883e+00],\n",
      "        [ 3.7656e-05],\n",
      "        [ 3.2344e-05],\n",
      "        [-5.6865e-05]], requires_grad=True)\n",
      "tensor([[ 3.8910e-03],\n",
      "        [ 3.1611e-01],\n",
      "        [ 1.5358e+00],\n",
      "        [-5.6277e-05],\n",
      "        [ 8.7505e-01],\n",
      "        [ 4.3346e-04]], requires_grad=True)\n",
      "tensor([[-6.0099e-05],\n",
      "        [-1.3180e-04],\n",
      "        [ 1.4506e+00],\n",
      "        [-9.0501e-04],\n",
      "        [-1.1202e-04],\n",
      "        [ 5.2443e-04]], requires_grad=True)\n",
      "10000 4.6E-05 2.3E-06 3.1E-06 4.1E-05\n",
      "tensor([[ 1.9563e-05],\n",
      "        [-5.1745e-04],\n",
      "        [ 2.0739e-01],\n",
      "        [-2.0238e-04],\n",
      "        [-4.9093e-04],\n",
      "        [ 3.7442e-04]], requires_grad=True)\n",
      "tensor([[-3.3934e-04],\n",
      "        [-1.8575e-04],\n",
      "        [-1.7894e+00],\n",
      "        [-2.1728e-04],\n",
      "        [-1.5586e-04],\n",
      "        [-4.4968e-04]], requires_grad=True)\n",
      "tensor([[8.6483e-05],\n",
      "        [1.7231e-01],\n",
      "        [1.4788e+00],\n",
      "        [2.4267e-05],\n",
      "        [7.9258e-01],\n",
      "        [9.8733e-05]], requires_grad=True)\n",
      "tensor([[-5.0308e-05],\n",
      "        [ 2.0189e-04],\n",
      "        [ 1.3885e+00],\n",
      "        [ 1.2937e-06],\n",
      "        [-1.2018e-04],\n",
      "        [ 7.6424e-04]], requires_grad=True)\n",
      "12500 5.3E-05 6.4E-06 6.1E-06 4.0E-05\n",
      "tensor([[-9.1261e-05],\n",
      "        [-1.6619e-04],\n",
      "        [ 2.0638e-01],\n",
      "        [-7.4430e-04],\n",
      "        [ 9.9240e-05],\n",
      "        [ 6.9383e-04]], requires_grad=True)\n",
      "tensor([[-1.6671e-04],\n",
      "        [ 1.2301e-04],\n",
      "        [-1.6771e+00],\n",
      "        [-7.2521e-04],\n",
      "        [-3.9096e-04],\n",
      "        [-8.3286e-05]], requires_grad=True)\n",
      "tensor([[-1.6666e-04],\n",
      "        [ 4.3964e-02],\n",
      "        [ 1.4224e+00],\n",
      "        [-5.9597e-04],\n",
      "        [ 7.0836e-01],\n",
      "        [ 7.1139e-04]], requires_grad=True)\n",
      "tensor([[ 1.0535e-04],\n",
      "        [ 1.0755e-04],\n",
      "        [ 1.3165e+00],\n",
      "        [-2.3797e-04],\n",
      "        [-4.5103e-05],\n",
      "        [ 7.4429e-04]], requires_grad=True)\n",
      "15000 4.1E-05 1.0E-06 3.1E-07 4.0E-05\n",
      "tensor([[ 1.7259e-04],\n",
      "        [-6.1070e-04],\n",
      "        [ 2.1362e-01],\n",
      "        [-1.7294e-05],\n",
      "        [-8.3206e-04],\n",
      "        [ 9.6651e-04]], requires_grad=True)\n",
      "tensor([[-1.4636e-04],\n",
      "        [-1.3007e-04],\n",
      "        [-1.4933e+00],\n",
      "        [-1.4544e-04],\n",
      "        [ 3.2460e-04],\n",
      "        [-2.5527e-04]], requires_grad=True)\n",
      "tensor([[ 2.0043e-06],\n",
      "        [ 2.5650e-04],\n",
      "        [ 1.2923e+00],\n",
      "        [-4.2587e-05],\n",
      "        [ 5.6874e-01],\n",
      "        [ 8.2416e-04]], requires_grad=True)\n",
      "tensor([[ 1.2948e-04],\n",
      "        [ 3.0073e-04],\n",
      "        [ 1.1685e+00],\n",
      "        [ 6.0264e-05],\n",
      "        [-5.5884e-04],\n",
      "        [ 9.0638e-04]], requires_grad=True)\n",
      "17500 4.3E-05 2.8E-06 4.8E-07 4.0E-05\n",
      "tensor([[-8.0583e-05],\n",
      "        [-1.7431e-04],\n",
      "        [ 2.1284e-01],\n",
      "        [ 1.5671e-04],\n",
      "        [-2.1100e-04],\n",
      "        [ 6.1936e-04]], requires_grad=True)\n",
      "tensor([[ 1.0367e-04],\n",
      "        [ 4.8441e-04],\n",
      "        [-1.4445e+00],\n",
      "        [-3.7871e-04],\n",
      "        [ 1.6935e-04],\n",
      "        [-1.4453e-03]], requires_grad=True)\n",
      "tensor([[2.5504e-05],\n",
      "        [8.3817e-05],\n",
      "        [1.2598e+00],\n",
      "        [2.7391e-05],\n",
      "        [3.5272e-01],\n",
      "        [2.6395e-04]], requires_grad=True)\n",
      "tensor([[ 1.1147e-04],\n",
      "        [ 1.7794e-04],\n",
      "        [ 1.1311e+00],\n",
      "        [-7.2816e-05],\n",
      "        [ 2.9454e-04],\n",
      "        [ 8.4817e-04]], requires_grad=True)\n",
      "20000 5.4E-05 1.1E-05 2.9E-06 4.0E-05\n",
      "tensor([[ 1.0551e-04],\n",
      "        [ 3.8492e-04],\n",
      "        [ 2.1287e-01],\n",
      "        [-6.7550e-04],\n",
      "        [ 4.8301e-04],\n",
      "        [ 3.4425e-03]], requires_grad=True)\n",
      "tensor([[-2.1839e-04],\n",
      "        [ 1.2222e-04],\n",
      "        [-1.3414e+00],\n",
      "        [-4.7262e-04],\n",
      "        [-4.2182e-04],\n",
      "        [-2.0811e-03]], requires_grad=True)\n",
      "tensor([[-4.1174e-06],\n",
      "        [ 1.5696e-04],\n",
      "        [ 1.2055e+00],\n",
      "        [-3.7403e-04],\n",
      "        [ 6.1108e-02],\n",
      "        [ 3.7385e-04]], requires_grad=True)\n",
      "tensor([[ 1.2811e-04],\n",
      "        [ 3.1029e-06],\n",
      "        [ 1.0648e+00],\n",
      "        [ 2.6473e-06],\n",
      "        [-5.5837e-04],\n",
      "        [ 8.1148e-04]], requires_grad=True)\n",
      "22500 4.4E-05 2.5E-06 1.2E-06 4.0E-05\n",
      "tensor([[-2.0040e-04],\n",
      "        [-5.3846e-04],\n",
      "        [ 2.1500e-01],\n",
      "        [-5.3804e-04],\n",
      "        [-9.4883e-04],\n",
      "        [-1.0733e-04]], requires_grad=True)\n",
      "tensor([[ 2.1830e-04],\n",
      "        [ 7.3046e-04],\n",
      "        [-1.2136e+00],\n",
      "        [ 3.8780e-05],\n",
      "        [ 5.4016e-04],\n",
      "        [-7.7793e-04]], requires_grad=True)\n",
      "tensor([[ 5.6598e-06],\n",
      "        [-1.5647e-05],\n",
      "        [ 1.0748e+00],\n",
      "        [-1.3071e-04],\n",
      "        [-2.8360e-04],\n",
      "        [ 8.7732e-04]], requires_grad=True)\n",
      "tensor([[ 1.1078e-04],\n",
      "        [-6.3733e-05],\n",
      "        [ 9.1735e-01],\n",
      "        [-5.9735e-04],\n",
      "        [ 4.5022e-05],\n",
      "        [ 7.2429e-04]], requires_grad=True)\n",
      "25000 4.5E-05 3.5E-06 1.6E-06 4.0E-05\n",
      "tensor([[-1.2360e-04],\n",
      "        [-9.2427e-04],\n",
      "        [ 2.1586e-01],\n",
      "        [-3.2825e-04],\n",
      "        [-7.4853e-04],\n",
      "        [ 1.6327e-03]], requires_grad=True)\n",
      "tensor([[-1.5419e-05],\n",
      "        [ 1.0609e-04],\n",
      "        [-1.1318e+00],\n",
      "        [-9.0960e-05],\n",
      "        [-3.0436e-04],\n",
      "        [-2.5942e-04]], requires_grad=True)\n",
      "tensor([[ 2.1025e-04],\n",
      "        [ 5.2383e-04],\n",
      "        [ 1.0131e+00],\n",
      "        [-9.6695e-05],\n",
      "        [ 4.4481e-04],\n",
      "        [-9.2872e-05]], requires_grad=True)\n",
      "tensor([[-3.6732e-05],\n",
      "        [-1.6699e-04],\n",
      "        [ 8.5980e-01],\n",
      "        [-6.2744e-05],\n",
      "        [ 2.4754e-04],\n",
      "        [ 1.9083e-03]], requires_grad=True)\n",
      "27500 5.9E-05 1.8E-05 1.4E-06 4.0E-05\n",
      "tensor([[ 1.3457e-04],\n",
      "        [ 4.2515e-04],\n",
      "        [ 2.1885e-01],\n",
      "        [ 1.8473e-04],\n",
      "        [-6.0610e-05],\n",
      "        [ 9.3594e-04]], requires_grad=True)\n",
      "tensor([[ 2.9451e-05],\n",
      "        [ 6.6476e-04],\n",
      "        [-1.0359e+00],\n",
      "        [ 6.4573e-04],\n",
      "        [ 2.6723e-04],\n",
      "        [-8.8132e-04]], requires_grad=True)\n",
      "tensor([[-2.0113e-04],\n",
      "        [ 1.5103e-05],\n",
      "        [ 8.6940e-01],\n",
      "        [-1.7007e-04],\n",
      "        [-8.0006e-04],\n",
      "        [ 5.3673e-05]], requires_grad=True)\n",
      "tensor([[-6.1350e-06],\n",
      "        [ 3.5600e-04],\n",
      "        [ 7.5831e-01],\n",
      "        [-6.3222e-04],\n",
      "        [-7.5671e-04],\n",
      "        [ 6.1394e-03]], requires_grad=True)\n",
      "30000 4.2E-05 1.6E-06 4.5E-07 4.0E-05\n",
      "tensor([[-5.0828e-04],\n",
      "        [-3.5743e-04],\n",
      "        [ 2.2411e-01],\n",
      "        [ 1.3195e-04],\n",
      "        [-5.3847e-04],\n",
      "        [ 1.7808e-03]], requires_grad=True)\n",
      "tensor([[ 5.9230e-05],\n",
      "        [ 2.1080e-04],\n",
      "        [-9.7199e-01],\n",
      "        [ 1.8731e-04],\n",
      "        [-9.4667e-04],\n",
      "        [-1.5433e-03]], requires_grad=True)\n",
      "tensor([[ 4.3133e-05],\n",
      "        [-2.8747e-04],\n",
      "        [ 8.2016e-01],\n",
      "        [-1.6449e-04],\n",
      "        [-5.5422e-04],\n",
      "        [ 2.5729e-03]], requires_grad=True)\n",
      "tensor([[-4.2747e-05],\n",
      "        [-2.2828e-04],\n",
      "        [ 7.2988e-01],\n",
      "        [-4.6721e-04],\n",
      "        [-4.2623e-04],\n",
      "        [ 1.8875e-03]], requires_grad=True)\n",
      "32500 4.1E-05 4.5E-07 3.7E-07 4.0E-05\n",
      "tensor([[ 5.4388e-05],\n",
      "        [-4.1136e-04],\n",
      "        [ 2.1662e-01],\n",
      "        [-4.6820e-04],\n",
      "        [-5.8054e-04],\n",
      "        [ 1.2333e-03]], requires_grad=True)\n",
      "tensor([[-2.0675e-05],\n",
      "        [-1.1885e-04],\n",
      "        [-6.9860e-01],\n",
      "        [-4.7754e-05],\n",
      "        [ 2.2703e-04],\n",
      "        [-7.0158e-04]], requires_grad=True)\n",
      "tensor([[ 1.5766e-04],\n",
      "        [-4.2146e-04],\n",
      "        [ 5.6446e-01],\n",
      "        [-1.5835e-04],\n",
      "        [-3.1288e-04],\n",
      "        [ 6.9699e-04]], requires_grad=True)\n",
      "tensor([[-7.7913e-05],\n",
      "        [ 2.0446e-04],\n",
      "        [ 5.4551e-01],\n",
      "        [-7.8231e-04],\n",
      "        [ 1.7106e-04],\n",
      "        [ 3.9317e-04]], requires_grad=True)\n",
      "35000 4.3E-05 2.0E-06 7.8E-07 4.0E-05\n",
      "tensor([[-8.0358e-05],\n",
      "        [-4.8511e-04],\n",
      "        [ 2.3032e-01],\n",
      "        [-9.8562e-04],\n",
      "        [ 4.0125e-04],\n",
      "        [ 4.4167e-04]], requires_grad=True)\n",
      "tensor([[ 3.4952e-05],\n",
      "        [-9.4253e-05],\n",
      "        [-7.9387e-01],\n",
      "        [ 3.0440e-04],\n",
      "        [ 6.5436e-04],\n",
      "        [-8.7866e-04]], requires_grad=True)\n",
      "tensor([[ 1.4415e-04],\n",
      "        [ 3.2128e-04],\n",
      "        [ 6.1475e-01],\n",
      "        [-2.6153e-04],\n",
      "        [-9.4500e-04],\n",
      "        [ 2.5941e-03]], requires_grad=True)\n",
      "tensor([[ 9.0404e-05],\n",
      "        [ 1.3189e-04],\n",
      "        [ 6.1024e-01],\n",
      "        [ 1.5669e-04],\n",
      "        [ 1.1072e-03],\n",
      "        [-1.3633e-04]], requires_grad=True)\n",
      "37500 4.5E-05 4.1E-06 1.7E-06 4.0E-05\n",
      "tensor([[ 2.3283e-04],\n",
      "        [-4.1475e-04],\n",
      "        [ 2.3301e-01],\n",
      "        [ 2.8535e-04],\n",
      "        [-8.4372e-05],\n",
      "        [-1.2245e-04]], requires_grad=True)\n",
      "tensor([[ 2.4674e-04],\n",
      "        [ 1.0014e-03],\n",
      "        [-7.6575e-01],\n",
      "        [-4.7816e-04],\n",
      "        [-4.3871e-04],\n",
      "        [-4.1355e-03]], requires_grad=True)\n",
      "tensor([[ 9.5829e-05],\n",
      "        [ 3.2723e-04],\n",
      "        [ 6.0949e-01],\n",
      "        [-1.0505e-04],\n",
      "        [-6.6419e-04],\n",
      "        [ 2.2001e-03]], requires_grad=True)\n",
      "tensor([[ 2.1379e-05],\n",
      "        [-7.4528e-05],\n",
      "        [ 6.0117e-01],\n",
      "        [-1.3356e-04],\n",
      "        [-9.3845e-04],\n",
      "        [ 2.0009e-04]], requires_grad=True)\n",
      "40000 4.6E-05 3.1E-06 2.9E-06 4.0E-05\n",
      "tensor([[-4.7230e-05],\n",
      "        [-9.6651e-04],\n",
      "        [ 1.9710e-01],\n",
      "        [-9.4746e-06],\n",
      "        [ 1.0588e-03],\n",
      "        [ 6.7037e-04]], requires_grad=True)\n",
      "tensor([[ 2.8691e-04],\n",
      "        [ 7.3343e-05],\n",
      "        [-4.3892e-01],\n",
      "        [-1.2576e-04],\n",
      "        [-9.3616e-04],\n",
      "        [-7.0368e-02]], requires_grad=True)\n",
      "tensor([[ 3.9235e-04],\n",
      "        [ 6.9280e-04],\n",
      "        [ 3.7622e-01],\n",
      "        [ 3.1161e-04],\n",
      "        [-3.2689e-03],\n",
      "        [ 1.3146e-02]], requires_grad=True)\n",
      "tensor([[-2.8597e-05],\n",
      "        [ 1.5763e-03],\n",
      "        [ 4.0253e-01],\n",
      "        [-1.7709e-03],\n",
      "        [ 4.5342e-04],\n",
      "        [ 4.0122e-02]], requires_grad=True)\n",
      "42500 5.4E-05 1.2E-05 2.2E-06 4.0E-05\n",
      "tensor([[-2.6468e-04],\n",
      "        [-5.8209e-04],\n",
      "        [ 2.1922e-01],\n",
      "        [ 6.6033e-05],\n",
      "        [-5.5927e-04],\n",
      "        [ 4.3911e-03]], requires_grad=True)\n",
      "tensor([[ 4.9528e-04],\n",
      "        [ 5.0786e-04],\n",
      "        [-6.3552e-01],\n",
      "        [-7.0946e-04],\n",
      "        [-1.2550e-03],\n",
      "        [-3.6981e-03]], requires_grad=True)\n",
      "tensor([[-4.0344e-04],\n",
      "        [-1.1865e-03],\n",
      "        [ 4.6341e-01],\n",
      "        [ 4.3961e-05],\n",
      "        [-1.3633e-04],\n",
      "        [ 1.3433e-04]], requires_grad=True)\n",
      "tensor([[-1.4030e-04],\n",
      "        [ 1.0483e-03],\n",
      "        [ 4.8076e-01],\n",
      "        [ 8.1675e-04],\n",
      "        [-1.5501e-03],\n",
      "        [-1.9891e-04]], requires_grad=True)\n",
      "45000 4.2E-05 6.8E-07 8.6E-07 4.0E-05\n",
      "tensor([[ 1.1384e-04],\n",
      "        [ 4.2170e-04],\n",
      "        [ 2.1895e-01],\n",
      "        [-2.2281e-04],\n",
      "        [-1.1852e-03],\n",
      "        [ 1.1205e-03]], requires_grad=True)\n",
      "tensor([[ 7.9364e-05],\n",
      "        [ 1.4083e-04],\n",
      "        [-5.9501e-01],\n",
      "        [ 4.7409e-05],\n",
      "        [-4.1009e-04],\n",
      "        [-8.2018e-03]], requires_grad=True)\n",
      "tensor([[-1.2562e-04],\n",
      "        [ 2.3920e-04],\n",
      "        [ 4.5805e-01],\n",
      "        [-1.6279e-04],\n",
      "        [-1.2394e-03],\n",
      "        [ 2.2016e-04]], requires_grad=True)\n",
      "tensor([[-3.1310e-04],\n",
      "        [ 1.4948e-03],\n",
      "        [ 4.5378e-01],\n",
      "        [-2.0499e-04],\n",
      "        [ 8.9384e-04],\n",
      "        [ 5.5088e-04]], requires_grad=True)\n",
      "47500 4.2E-05 6.4E-07 1.9E-06 3.9E-05\n",
      "tensor([[-1.0562e-04],\n",
      "        [ 3.5427e-04],\n",
      "        [ 1.6735e-01],\n",
      "        [-6.5425e-05],\n",
      "        [ 6.8289e-04],\n",
      "        [ 1.0022e-03]], requires_grad=True)\n",
      "tensor([[-7.2090e-05],\n",
      "        [ 1.1168e-04],\n",
      "        [-3.5476e-01],\n",
      "        [-9.6879e-04],\n",
      "        [-9.0476e-04],\n",
      "        [-2.2067e-01]], requires_grad=True)\n",
      "tensor([[-1.7203e-04],\n",
      "        [-7.3637e-04],\n",
      "        [ 2.6976e-01],\n",
      "        [-6.0228e-04],\n",
      "        [ 4.5473e-04],\n",
      "        [ 4.5052e-03]], requires_grad=True)\n",
      "tensor([[ 2.8174e-04],\n",
      "        [-1.9514e-04],\n",
      "        [ 2.8660e-01],\n",
      "        [-6.1332e-04],\n",
      "        [-9.1798e-05],\n",
      "        [ 1.3452e-04]], requires_grad=True)\n",
      "50000 4.3E-05 1.4E-06 1.4E-06 4.0E-05\n",
      "tensor([[-2.9353e-04],\n",
      "        [-2.7183e-03],\n",
      "        [ 1.7960e-01],\n",
      "        [-9.1875e-06],\n",
      "        [ 9.9898e-04],\n",
      "        [ 6.2971e-03]], requires_grad=True)\n",
      "tensor([[ 3.8422e-04],\n",
      "        [ 3.6604e-04],\n",
      "        [-4.0188e-01],\n",
      "        [-1.4961e-03],\n",
      "        [-9.5463e-04],\n",
      "        [-1.1430e-02]], requires_grad=True)\n",
      "tensor([[-5.6375e-04],\n",
      "        [-4.7476e-04],\n",
      "        [ 2.8767e-01],\n",
      "        [-1.1215e-04],\n",
      "        [-1.6364e-05],\n",
      "        [ 2.5955e-04]], requires_grad=True)\n",
      "tensor([[ 2.4148e-04],\n",
      "        [ 7.2056e-04],\n",
      "        [ 3.0809e-01],\n",
      "        [-5.2049e-04],\n",
      "        [-4.8158e-04],\n",
      "        [ 1.1024e-02]], requires_grad=True)\n"
     ]
    }
   ],
   "source": [
    "time_deriv_list, theta_list, coeff_vector_list = train_group(X_train, y_train, network, coeff_vector_list, sparsity_mask_list, library_config, optim_config)"
   ]
  },
  {
   "cell_type": "code",
   "execution_count": 16,
   "metadata": {},
   "outputs": [],
   "source": [
    "theta_list = theta"
   ]
  },
  {
   "cell_type": "code",
   "execution_count": 17,
   "metadata": {},
   "outputs": [],
   "source": [
    "scaled_coeff_vector_list = [scaling(coeff_vector, theta, time_deriv) for coeff_vector, theta , time_deriv in zip(coeff_vector_list, theta_list, time_deriv_list)]"
   ]
  },
  {
   "cell_type": "code",
   "execution_count": 19,
   "metadata": {},
   "outputs": [],
   "source": [
    "sparse_coeff_vector_list, sparsity_mask_list = zip(*[threshold(scaled_coeff_vector, coeff_vector) for scaled_coeff_vector, coeff_vector in zip(scaled_coeff_vector_list, coeff_vector_list)])"
   ]
  },
  {
   "cell_type": "code",
   "execution_count": 20,
   "metadata": {},
   "outputs": [
    {
     "data": {
      "text/plain": [
       "(tensor([2]), tensor([2]), tensor([2]), tensor([2]))"
      ]
     },
     "execution_count": 20,
     "metadata": {},
     "output_type": "execute_result"
    }
   ],
   "source": [
    "sparsity_mask_list"
   ]
  },
  {
   "cell_type": "code",
   "execution_count": 26,
   "metadata": {},
   "outputs": [],
   "source": [
    "optim_config = {'lambda': 10**-20, 'max_iterations': 20001}"
   ]
  },
  {
   "cell_type": "code",
   "execution_count": null,
   "metadata": {},
   "outputs": [
    {
     "name": "stdout",
     "output_type": "stream",
     "text": [
      "Epoch | Total loss | MSE | PI | L1 \n",
      "0 2.8E-06 1.3E-06 1.5E-06 3.7E-20\n",
      "tensor([[0.1511]], requires_grad=True)\n",
      "tensor([[-0.3255]], requires_grad=True)\n",
      "tensor([[0.2341]], requires_grad=True)\n",
      "tensor([[0.2639]], requires_grad=True)\n",
      "2500 1.2E-07 1.1E-07 8.6E-09 4.0E-20\n",
      "tensor([[0.1549]], requires_grad=True)\n",
      "tensor([[-0.3556]], requires_grad=True)\n",
      "tensor([[0.2411]], requires_grad=True)\n",
      "tensor([[0.2545]], requires_grad=True)\n",
      "5000 1.5E-04 1.2E-04 3.6E-05 3.6E-20\n",
      "tensor([[0.0838]], requires_grad=True)\n",
      "tensor([[0.1190]], requires_grad=True)\n",
      "tensor([[0.1464]], requires_grad=True)\n",
      "tensor([[0.1497]], requires_grad=True)\n",
      "7500 3.7E-05 3.6E-05 4.5E-07 4.0E-20\n",
      "tensor([[0.1150]], requires_grad=True)\n",
      "tensor([[0.1955]], requires_grad=True)\n",
      "tensor([[0.1673]], requires_grad=True)\n",
      "tensor([[0.1920]], requires_grad=True)\n",
      "10000 4.4E-07 4.3E-07 1.4E-08 4.0E-20\n",
      "tensor([[0.1158]], requires_grad=True)\n",
      "tensor([[0.1949]], requires_grad=True)\n",
      "tensor([[0.1665]], requires_grad=True)\n",
      "tensor([[0.1859]], requires_grad=True)\n",
      "12500 9.4E-07 6.3E-07 3.1E-07 4.0E-20\n",
      "tensor([[0.1101]], requires_grad=True)\n",
      "tensor([[0.1487]], requires_grad=True)\n",
      "tensor([[0.1360]], requires_grad=True)\n",
      "tensor([[0.1458]], requires_grad=True)\n",
      "15000 4.8E-07 4.3E-07 5.8E-08 4.0E-20\n",
      "tensor([[0.1126]], requires_grad=True)\n",
      "tensor([[0.1589]], requires_grad=True)\n",
      "tensor([[0.1467]], requires_grad=True)\n",
      "tensor([[0.1600]], requires_grad=True)\n"
     ]
    }
   ],
   "source": [
    "time_deriv_list_final, theta_list_final, coeff_vector_list_final = train_group(X_train, y_train, network, sparse_coeff_vector_list, sparsity_mask_list, library_config, optim_config)"
   ]
  },
  {
   "cell_type": "code",
   "execution_count": 114,
   "metadata": {},
   "outputs": [],
   "source": [
    "scaling_time = torch.norm(time_deriv_list[2], dim=0)\n",
    "scaling_theta = torch.norm(theta[2], dim=0)[:, None]"
   ]
  },
  {
   "cell_type": "code",
   "execution_count": 140,
   "metadata": {},
   "outputs": [
    {
     "data": {
      "text/plain": [
       "tensor([[ 1.0000e+00, -1.6343e-02, -7.4862e-03,  1.5429e-01, -2.5216e-03,\n",
       "         -1.1550e-03],\n",
       "        [ 1.0000e+00,  2.4805e-02, -2.1134e-02,  2.1427e-01,  5.3149e-03,\n",
       "         -4.5284e-03],\n",
       "        [ 1.0000e+00,  5.6727e-03,  8.5658e-03,  1.1644e-01,  6.6056e-04,\n",
       "          9.9744e-04],\n",
       "        ...,\n",
       "        [ 1.0000e+00, -1.3975e-02, -5.5810e-03,  1.5304e-01, -2.1388e-03,\n",
       "         -8.5412e-04],\n",
       "        [ 1.0000e+00, -4.1864e-02, -1.5580e-02,  1.7825e-01, -7.4625e-03,\n",
       "         -2.7771e-03],\n",
       "        [ 1.0000e+00, -1.8922e-02, -1.9203e-02,  1.9054e-01, -3.6054e-03,\n",
       "         -3.6591e-03]], grad_fn=<ViewBackward>)"
      ]
     },
     "execution_count": 140,
     "metadata": {},
     "output_type": "execute_result"
    }
   ],
   "source": [
    "theta[1]"
   ]
  },
  {
   "cell_type": "code",
   "execution_count": 141,
   "metadata": {},
   "outputs": [],
   "source": [
    "scaled_coeff_vector_list = [scaling(coeff_vector, theta[2], time_deriv) for coeff_vector, time_deriv in zip(coeff_vector_list[2], time_deriv_list[2])]"
   ]
  },
  {
   "cell_type": "code",
   "execution_count": 143,
   "metadata": {},
   "outputs": [
    {
     "ename": "NameError",
     "evalue": "name 'coeff_vector' is not defined",
     "output_type": "error",
     "traceback": [
      "\u001b[0;31m---------------------------------------------------------------------------\u001b[0m",
      "\u001b[0;31mNameError\u001b[0m                                 Traceback (most recent call last)",
      "\u001b[0;32m<ipython-input-143-0d07ad87e3f1>\u001b[0m in \u001b[0;36m<module>\u001b[0;34m\u001b[0m\n\u001b[0;32m----> 1\u001b[0;31m \u001b[0mcoeff_vector\u001b[0m\u001b[0;34m.\u001b[0m\u001b[0mshape\u001b[0m\u001b[0;34m\u001b[0m\u001b[0;34m\u001b[0m\u001b[0m\n\u001b[0m",
      "\u001b[0;31mNameError\u001b[0m: name 'coeff_vector' is not defined"
     ]
    }
   ],
   "source": [
    "coeff_vector.shape"
   ]
  },
  {
   "cell_type": "code",
   "execution_count": 100,
   "metadata": {},
   "outputs": [],
   "source": [
    "sparse_coeff_vector_list, sparsity_mask_list = zip(*[threshold(scaled_coeff_vector, coeff_vector) for scaled_coeff_vector, coeff_vector in zip(scaled_coeff_vector_list[0], coeff_vector_list[0])])"
   ]
  },
  {
   "cell_type": "code",
   "execution_count": 102,
   "metadata": {},
   "outputs": [
    {
     "data": {
      "text/plain": [
       "(tensor([], requires_grad=True),\n",
       " tensor([], requires_grad=True),\n",
       " tensor([], requires_grad=True),\n",
       " tensor([], requires_grad=True),\n",
       " tensor([], requires_grad=True),\n",
       " tensor([], requires_grad=True))"
      ]
     },
     "execution_count": 102,
     "metadata": {},
     "output_type": "execute_result"
    }
   ],
   "source": [
    "sparse_coeff_vector_list"
   ]
  },
  {
   "cell_type": "code",
   "execution_count": 76,
   "metadata": {},
   "outputs": [],
   "source": [
    "prediction = network(X_train)"
   ]
  },
  {
   "cell_type": "code",
   "execution_count": 77,
   "metadata": {},
   "outputs": [],
   "source": [
    "time_deriv_list, theta = library_1D_in(X_train, prediction, library_config)"
   ]
  },
  {
   "cell_type": "code",
   "execution_count": 78,
   "metadata": {},
   "outputs": [],
   "source": [
    "y_reg = time_deriv_list[0].detach().numpy()\n",
    "x_reg = theta.detach().numpy()"
   ]
  },
  {
   "cell_type": "code",
   "execution_count": 79,
   "metadata": {},
   "outputs": [
    {
     "data": {
      "text/plain": [
       "(array([[ 1.01022534e-01],\n",
       "        [ 8.01657885e-03],\n",
       "        [ 1.61606614e-02],\n",
       "        [ 1.19942088e-04],\n",
       "        [ 9.29686939e-06],\n",
       "        [-1.57570746e-02],\n",
       "        [-8.46816242e-01],\n",
       "        [-3.48056555e-02],\n",
       "        [-8.19199078e-04],\n",
       "        [-5.23904100e-06]], dtype=float32),\n",
       " array([37180.695], dtype=float32),\n",
       " 10,\n",
       " array([7.6361475e+05, 3.1920612e+05, 2.2900121e+04, 9.6409893e+03,\n",
       "        5.7146167e+02, 5.0050757e+02, 7.1360893e+01, 4.8615910e+01,\n",
       "        3.0338158e+01, 2.5171886e+01], dtype=float32))"
      ]
     },
     "execution_count": 79,
     "metadata": {},
     "output_type": "execute_result"
    }
   ],
   "source": [
    "np.linalg.lstsq(x_reg,y_reg,rcond=None)"
   ]
  },
  {
   "cell_type": "code",
   "execution_count": 80,
   "metadata": {},
   "outputs": [],
   "source": [
    "vec =np.linalg.lstsq(x_reg,y_reg,rcond=None)[0]"
   ]
  },
  {
   "cell_type": "code",
   "execution_count": 81,
   "metadata": {},
   "outputs": [],
   "source": [
    "coeff_vector = [torch.tensor(vec, dtype=torch.float32, requires_grad=True)] "
   ]
  },
  {
   "cell_type": "code",
   "execution_count": 86,
   "metadata": {},
   "outputs": [
    {
     "data": {
      "text/plain": [
       "[tensor([[ 0.2931],\n",
       "         [ 0.7618],\n",
       "         [ 1.7404],\n",
       "         [ 0.6688],\n",
       "         [ 0.4718],\n",
       "         [ 0.7023],\n",
       "         [-1.8055],\n",
       "         [ 0.4180],\n",
       "         [-0.9910],\n",
       "         [-1.9994]], requires_grad=True)]"
      ]
     },
     "execution_count": 86,
     "metadata": {},
     "output_type": "execute_result"
    }
   ],
   "source": [
    "coeff_vector_list"
   ]
  },
  {
   "cell_type": "code",
   "execution_count": 83,
   "metadata": {},
   "outputs": [],
   "source": [
    "X_all = torch.tensor(X, dtype=torch.float32, requires_grad=True) \n",
    "prediction_full = network(X_all)"
   ]
  },
  {
   "cell_type": "code",
   "execution_count": 84,
   "metadata": {},
   "outputs": [
    {
     "data": {
      "text/plain": [
       "<matplotlib.image.AxesImage at 0x7f153ae097b8>"
      ]
     },
     "execution_count": 84,
     "metadata": {},
     "output_type": "execute_result"
    },
    {
     "data": {
      "image/png": "[encoded data removed]",
      "text/plain": [
       "<Figure size 432x288 with 1 Axes>"
      ]
     },
     "metadata": {
      "needs_background": "light"
     },
     "output_type": "display_data"
    }
   ],
   "source": [
    "\n",
    "plt.imshow(prediction_full.detach().numpy().reshape(513,201), aspect='auto', cmap='coolwarm')"
   ]
  },
  {
   "cell_type": "code",
   "execution_count": 85,
   "metadata": {},
   "outputs": [],
   "source": [
    "optim_config = {'lambda': 10**-5, 'max_iterations': 5000, 'type': 'full'}"
   ]
  },
  {
   "cell_type": "code",
   "execution_count": 87,
   "metadata": {},
   "outputs": [
    {
     "name": "stdout",
     "output_type": "stream",
     "text": [
      "Epoch | Total loss | MSE | PI | L1 \n",
      "0 8.0E+08 2.0E-04 8.0E+08 7.0E-02\n",
      "tensor([[ 0.2951],\n",
      "        [ 0.7638],\n",
      "        [ 1.7384],\n",
      "        [ 0.6708],\n",
      "        [ 0.4738],\n",
      "        [ 0.7043],\n",
      "        [-1.8035],\n",
      "        [ 0.4160],\n",
      "        [-0.9890],\n",
      "        [-1.9974]], requires_grad=True)\n",
      "500 1.4E+03 7.6E-01 1.4E+03 3.0E-03\n",
      "tensor([[ 0.2987],\n",
      "        [ 0.7776],\n",
      "        [ 1.7417],\n",
      "        [ 0.6796],\n",
      "        [ 0.4826],\n",
      "        [ 0.7090],\n",
      "        [-1.7850],\n",
      "        [ 0.4027],\n",
      "        [-0.9794],\n",
      "        [-1.9865]], requires_grad=True)\n",
      "1000 5.7E+02 7.7E-01 5.7E+02 2.2E-03\n",
      "tensor([[ 0.3244],\n",
      "        [ 0.7770],\n",
      "        [ 1.7439],\n",
      "        [ 0.6796],\n",
      "        [ 0.4824],\n",
      "        [ 0.7035],\n",
      "        [-1.7849],\n",
      "        [ 0.4027],\n",
      "        [-0.9794],\n",
      "        [-1.9865]], requires_grad=True)\n",
      "1500 2.7E+02 7.7E-01 2.7E+02 1.7E-03\n",
      "tensor([[ 0.3575],\n",
      "        [ 0.7765],\n",
      "        [ 1.7455],\n",
      "        [ 0.6795],\n",
      "        [ 0.4823],\n",
      "        [ 0.6992],\n",
      "        [-1.7849],\n",
      "        [ 0.4026],\n",
      "        [-0.9794],\n",
      "        [-1.9865]], requires_grad=True)\n",
      "2000 1.5E+02 7.6E-01 1.5E+02 1.4E-03\n",
      "tensor([[ 0.3800],\n",
      "        [ 0.7758],\n",
      "        [ 1.7468],\n",
      "        [ 0.6795],\n",
      "        [ 0.4822],\n",
      "        [ 0.6973],\n",
      "        [-1.7849],\n",
      "        [ 0.4026],\n",
      "        [-0.9794],\n",
      "        [-1.9865]], requires_grad=True)\n"
     ]
    },
    {
     "ename": "KeyboardInterrupt",
     "evalue": "",
     "output_type": "error",
     "traceback": [
      "\u001b[0;31m---------------------------------------------------------------------------\u001b[0m",
      "\u001b[0;31mKeyboardInterrupt\u001b[0m                         Traceback (most recent call last)",
      "\u001b[0;32m<ipython-input-87-1faecb290eeb>\u001b[0m in \u001b[0;36m<module>\u001b[0;34m\u001b[0m\n\u001b[0;32m----> 1\u001b[0;31m \u001b[0mtime_deriv_list\u001b[0m\u001b[0;34m,\u001b[0m \u001b[0mtheta\u001b[0m\u001b[0;34m,\u001b[0m \u001b[0mcoeff_vector_list\u001b[0m \u001b[0;34m=\u001b[0m \u001b[0mtrain\u001b[0m\u001b[0;34m(\u001b[0m\u001b[0mX_train\u001b[0m\u001b[0;34m,\u001b[0m \u001b[0my_train\u001b[0m\u001b[0;34m,\u001b[0m \u001b[0mnetwork\u001b[0m\u001b[0;34m,\u001b[0m \u001b[0mcoeff_vector_list\u001b[0m\u001b[0;34m,\u001b[0m \u001b[0msparsity_mask_list\u001b[0m\u001b[0;34m,\u001b[0m \u001b[0mlibrary_config\u001b[0m\u001b[0;34m,\u001b[0m \u001b[0moptim_config\u001b[0m\u001b[0;34m)\u001b[0m\u001b[0;34m\u001b[0m\u001b[0;34m\u001b[0m\u001b[0m\n\u001b[0m",
      "\u001b[0;32m/home/working/src/deepymod_torch/neural_net.py\u001b[0m in \u001b[0;36mtrain\u001b[0;34m(data, target, network, coeff_vector_list, sparsity_mask_list, library_config, optim_config)\u001b[0m\n\u001b[1;32m    152\u001b[0m         \u001b[0;31m# Optimizer step\u001b[0m\u001b[0;34m\u001b[0m\u001b[0;34m\u001b[0m\u001b[0;34m\u001b[0m\u001b[0m\n\u001b[1;32m    153\u001b[0m         \u001b[0moptimizer\u001b[0m\u001b[0;34m.\u001b[0m\u001b[0mzero_grad\u001b[0m\u001b[0;34m(\u001b[0m\u001b[0;34m)\u001b[0m\u001b[0;34m\u001b[0m\u001b[0;34m\u001b[0m\u001b[0m\n\u001b[0;32m--> 154\u001b[0;31m         \u001b[0mloss\u001b[0m\u001b[0;34m.\u001b[0m\u001b[0mbackward\u001b[0m\u001b[0;34m(\u001b[0m\u001b[0;34m)\u001b[0m\u001b[0;34m\u001b[0m\u001b[0;34m\u001b[0m\u001b[0m\n\u001b[0m\u001b[1;32m    155\u001b[0m         \u001b[0moptimizer\u001b[0m\u001b[0;34m.\u001b[0m\u001b[0mstep\u001b[0m\u001b[0;34m(\u001b[0m\u001b[0;34m)\u001b[0m\u001b[0;34m\u001b[0m\u001b[0;34m\u001b[0m\u001b[0m\n\u001b[1;32m    156\u001b[0m \u001b[0;34m\u001b[0m\u001b[0m\n",
      "\u001b[0;32m/opt/conda/lib/python3.6/site-packages/torch/tensor.py\u001b[0m in \u001b[0;36mbackward\u001b[0;34m(self, gradient, retain_graph, create_graph)\u001b[0m\n\u001b[1;32m    105\u001b[0m                 \u001b[0mproducts\u001b[0m\u001b[0;34m.\u001b[0m \u001b[0mDefaults\u001b[0m \u001b[0mto\u001b[0m\u001b[0;31m \u001b[0m\u001b[0;31m`\u001b[0m\u001b[0;31m`\u001b[0m\u001b[0;32mFalse\u001b[0m\u001b[0;31m`\u001b[0m\u001b[0;31m`\u001b[0m\u001b[0;34m.\u001b[0m\u001b[0;34m\u001b[0m\u001b[0;34m\u001b[0m\u001b[0m\n\u001b[1;32m    106\u001b[0m         \"\"\"\n\u001b[0;32m--> 107\u001b[0;31m         \u001b[0mtorch\u001b[0m\u001b[0;34m.\u001b[0m\u001b[0mautograd\u001b[0m\u001b[0;34m.\u001b[0m\u001b[0mbackward\u001b[0m\u001b[0;34m(\u001b[0m\u001b[0mself\u001b[0m\u001b[0;34m,\u001b[0m \u001b[0mgradient\u001b[0m\u001b[0;34m,\u001b[0m \u001b[0mretain_graph\u001b[0m\u001b[0;34m,\u001b[0m \u001b[0mcreate_graph\u001b[0m\u001b[0;34m)\u001b[0m\u001b[0;34m\u001b[0m\u001b[0;34m\u001b[0m\u001b[0m\n\u001b[0m\u001b[1;32m    108\u001b[0m \u001b[0;34m\u001b[0m\u001b[0m\n\u001b[1;32m    109\u001b[0m     \u001b[0;32mdef\u001b[0m \u001b[0mregister_hook\u001b[0m\u001b[0;34m(\u001b[0m\u001b[0mself\u001b[0m\u001b[0;34m,\u001b[0m \u001b[0mhook\u001b[0m\u001b[0;34m)\u001b[0m\u001b[0;34m:\u001b[0m\u001b[0;34m\u001b[0m\u001b[0;34m\u001b[0m\u001b[0m\n",
      "\u001b[0;32m/opt/conda/lib/python3.6/site-packages/torch/autograd/__init__.py\u001b[0m in \u001b[0;36mbackward\u001b[0;34m(tensors, grad_tensors, retain_graph, create_graph, grad_variables)\u001b[0m\n\u001b[1;32m     91\u001b[0m     Variable._execution_engine.run_backward(\n\u001b[1;32m     92\u001b[0m         \u001b[0mtensors\u001b[0m\u001b[0;34m,\u001b[0m \u001b[0mgrad_tensors\u001b[0m\u001b[0;34m,\u001b[0m \u001b[0mretain_graph\u001b[0m\u001b[0;34m,\u001b[0m \u001b[0mcreate_graph\u001b[0m\u001b[0;34m,\u001b[0m\u001b[0;34m\u001b[0m\u001b[0;34m\u001b[0m\u001b[0m\n\u001b[0;32m---> 93\u001b[0;31m         allow_unreachable=True)  # allow_unreachable flag\n\u001b[0m\u001b[1;32m     94\u001b[0m \u001b[0;34m\u001b[0m\u001b[0m\n\u001b[1;32m     95\u001b[0m \u001b[0;34m\u001b[0m\u001b[0m\n",
      "\u001b[0;31mKeyboardInterrupt\u001b[0m: "
     ]
    }
   ],
   "source": [
    "time_deriv_list, theta, coeff_vector_list = train(X_train, y_train, network, coeff_vector_list, sparsity_mask_list, library_config, optim_config)"
   ]
  },
  {
   "cell_type": "code",
   "execution_count": 68,
   "metadata": {},
   "outputs": [
    {
     "name": "stdout",
     "output_type": "stream",
     "text": [
      "Epoch | Total loss | MSE | PI | L1 \n",
      "0 6.0E-02 5.6E-02 3.5E-03 1.9E-05\n",
      "tensor([[-0.0092],\n",
      "        [ 1.1719],\n",
      "        [-0.1080],\n",
      "        [-0.3816],\n",
      "        [ 0.0055],\n",
      "        [-0.0671],\n",
      "        [-1.1829],\n",
      "        [ 0.1687],\n",
      "        [-0.0087],\n",
      "        [-0.0136]], requires_grad=True)\n",
      "500 2.6E-01 7.9E-02 1.8E-01 1.8E-05\n",
      "tensor([[-0.0353],\n",
      "        [ 1.1866],\n",
      "        [-0.1115],\n",
      "        [-0.4098],\n",
      "        [ 0.0027],\n",
      "        [-0.0328],\n",
      "        [-1.1152],\n",
      "        [ 0.2151],\n",
      "        [ 0.0075],\n",
      "        [-0.0176]], requires_grad=True)\n"
     ]
    },
    {
     "ename": "KeyboardInterrupt",
     "evalue": "",
     "output_type": "error",
     "traceback": [
      "\u001b[0;31m---------------------------------------------------------------------------\u001b[0m",
      "\u001b[0;31mKeyboardInterrupt\u001b[0m                         Traceback (most recent call last)",
      "\u001b[0;32m<ipython-input-68-48eb9103e246>\u001b[0m in \u001b[0;36m<module>\u001b[0;34m\u001b[0m\n\u001b[0;32m----> 1\u001b[0;31m \u001b[0mtime_deriv_list\u001b[0m\u001b[0;34m,\u001b[0m \u001b[0mtheta\u001b[0m\u001b[0;34m,\u001b[0m \u001b[0mcoeff_vector_list\u001b[0m \u001b[0;34m=\u001b[0m \u001b[0mtrain\u001b[0m\u001b[0;34m(\u001b[0m\u001b[0mX_train\u001b[0m\u001b[0;34m,\u001b[0m \u001b[0my_train\u001b[0m\u001b[0;34m,\u001b[0m \u001b[0mnetwork\u001b[0m\u001b[0;34m,\u001b[0m \u001b[0mcoeff_vector\u001b[0m\u001b[0;34m,\u001b[0m \u001b[0msparsity_mask_list\u001b[0m\u001b[0;34m,\u001b[0m \u001b[0mlibrary_config\u001b[0m\u001b[0;34m,\u001b[0m \u001b[0moptim_config\u001b[0m\u001b[0;34m)\u001b[0m\u001b[0;34m\u001b[0m\u001b[0;34m\u001b[0m\u001b[0m\n\u001b[0m",
      "\u001b[0;32m/home/working/src/deepymod_torch/neural_net.py\u001b[0m in \u001b[0;36mtrain\u001b[0;34m(data, target, network, coeff_vector_list, sparsity_mask_list, library_config, optim_config)\u001b[0m\n\u001b[1;32m    152\u001b[0m         \u001b[0;31m# Optimizer step\u001b[0m\u001b[0;34m\u001b[0m\u001b[0;34m\u001b[0m\u001b[0;34m\u001b[0m\u001b[0m\n\u001b[1;32m    153\u001b[0m         \u001b[0moptimizer\u001b[0m\u001b[0;34m.\u001b[0m\u001b[0mzero_grad\u001b[0m\u001b[0;34m(\u001b[0m\u001b[0;34m)\u001b[0m\u001b[0;34m\u001b[0m\u001b[0;34m\u001b[0m\u001b[0m\n\u001b[0;32m--> 154\u001b[0;31m         \u001b[0mloss\u001b[0m\u001b[0;34m.\u001b[0m\u001b[0mbackward\u001b[0m\u001b[0;34m(\u001b[0m\u001b[0;34m)\u001b[0m\u001b[0;34m\u001b[0m\u001b[0;34m\u001b[0m\u001b[0m\n\u001b[0m\u001b[1;32m    155\u001b[0m         \u001b[0moptimizer\u001b[0m\u001b[0;34m.\u001b[0m\u001b[0mstep\u001b[0m\u001b[0;34m(\u001b[0m\u001b[0;34m)\u001b[0m\u001b[0;34m\u001b[0m\u001b[0;34m\u001b[0m\u001b[0m\n\u001b[1;32m    156\u001b[0m \u001b[0;34m\u001b[0m\u001b[0m\n",
      "\u001b[0;32m/opt/conda/lib/python3.6/site-packages/torch/tensor.py\u001b[0m in \u001b[0;36mbackward\u001b[0;34m(self, gradient, retain_graph, create_graph)\u001b[0m\n\u001b[1;32m    105\u001b[0m                 \u001b[0mproducts\u001b[0m\u001b[0;34m.\u001b[0m \u001b[0mDefaults\u001b[0m \u001b[0mto\u001b[0m\u001b[0;31m \u001b[0m\u001b[0;31m`\u001b[0m\u001b[0;31m`\u001b[0m\u001b[0;32mFalse\u001b[0m\u001b[0;31m`\u001b[0m\u001b[0;31m`\u001b[0m\u001b[0;34m.\u001b[0m\u001b[0;34m\u001b[0m\u001b[0;34m\u001b[0m\u001b[0m\n\u001b[1;32m    106\u001b[0m         \"\"\"\n\u001b[0;32m--> 107\u001b[0;31m         \u001b[0mtorch\u001b[0m\u001b[0;34m.\u001b[0m\u001b[0mautograd\u001b[0m\u001b[0;34m.\u001b[0m\u001b[0mbackward\u001b[0m\u001b[0;34m(\u001b[0m\u001b[0mself\u001b[0m\u001b[0;34m,\u001b[0m \u001b[0mgradient\u001b[0m\u001b[0;34m,\u001b[0m \u001b[0mretain_graph\u001b[0m\u001b[0;34m,\u001b[0m \u001b[0mcreate_graph\u001b[0m\u001b[0;34m)\u001b[0m\u001b[0;34m\u001b[0m\u001b[0;34m\u001b[0m\u001b[0m\n\u001b[0m\u001b[1;32m    108\u001b[0m \u001b[0;34m\u001b[0m\u001b[0m\n\u001b[1;32m    109\u001b[0m     \u001b[0;32mdef\u001b[0m \u001b[0mregister_hook\u001b[0m\u001b[0;34m(\u001b[0m\u001b[0mself\u001b[0m\u001b[0;34m,\u001b[0m \u001b[0mhook\u001b[0m\u001b[0;34m)\u001b[0m\u001b[0;34m:\u001b[0m\u001b[0;34m\u001b[0m\u001b[0;34m\u001b[0m\u001b[0m\n",
      "\u001b[0;32m/opt/conda/lib/python3.6/site-packages/torch/autograd/__init__.py\u001b[0m in \u001b[0;36mbackward\u001b[0;34m(tensors, grad_tensors, retain_graph, create_graph, grad_variables)\u001b[0m\n\u001b[1;32m     91\u001b[0m     Variable._execution_engine.run_backward(\n\u001b[1;32m     92\u001b[0m         \u001b[0mtensors\u001b[0m\u001b[0;34m,\u001b[0m \u001b[0mgrad_tensors\u001b[0m\u001b[0;34m,\u001b[0m \u001b[0mretain_graph\u001b[0m\u001b[0;34m,\u001b[0m \u001b[0mcreate_graph\u001b[0m\u001b[0;34m,\u001b[0m\u001b[0;34m\u001b[0m\u001b[0;34m\u001b[0m\u001b[0m\n\u001b[0;32m---> 93\u001b[0;31m         allow_unreachable=True)  # allow_unreachable flag\n\u001b[0m\u001b[1;32m     94\u001b[0m \u001b[0;34m\u001b[0m\u001b[0m\n\u001b[1;32m     95\u001b[0m \u001b[0;34m\u001b[0m\u001b[0m\n",
      "\u001b[0;31mKeyboardInterrupt\u001b[0m: "
     ]
    }
   ],
   "source": [
    "time_deriv_list, theta, coeff_vector_list = train(X_train, y_train, network, coeff_vector, sparsity_mask_list, library_config, optim_config)"
   ]
  },
  {
   "cell_type": "code",
   "execution_count": null,
   "metadata": {},
   "outputs": [],
   "source": [
    "time_deriv_list, theta, coeff_vector_list = train(X_train, y_train, network, coeff_vector_list, sparsity_mask_list, library_config, optim_config)"
   ]
  },
  {
   "cell_type": "code",
   "execution_count": null,
   "metadata": {},
   "outputs": [],
   "source": []
  },
  {
   "cell_type": "code",
   "execution_count": 23,
   "metadata": {},
   "outputs": [
    {
     "name": "stderr",
     "output_type": "stream",
     "text": [
      "[autoreload of deepymod_torch.neural_net failed: Traceback (most recent call last):\n",
      "  File \"/opt/conda/lib/python3.6/site-packages/IPython/extensions/autoreload.py\", line 244, in check\n",
      "    superreload(m, reload, self.old_objects)\n",
      "  File \"/opt/conda/lib/python3.6/site-packages/IPython/extensions/autoreload.py\", line 378, in superreload\n",
      "    module = reload(module)\n",
      "  File \"/opt/conda/lib/python3.6/imp.py\", line 315, in reload\n",
      "    return importlib.reload(module)\n",
      "  File \"/opt/conda/lib/python3.6/importlib/__init__.py\", line 166, in reload\n",
      "    _bootstrap._exec(spec, module)\n",
      "  File \"<frozen importlib._bootstrap>\", line 618, in _exec\n",
      "  File \"<frozen importlib._bootstrap_external>\", line 674, in exec_module\n",
      "  File \"<frozen importlib._bootstrap_external>\", line 781, in get_code\n",
      "  File \"<frozen importlib._bootstrap_external>\", line 741, in source_to_code\n",
      "  File \"<frozen importlib._bootstrap>\", line 219, in _call_with_frames_removed\n",
      "  File \"/home/working/src/deepymod_torch/neural_net.py\", line 153\n",
      "    writer.add_scalar('Regression '+str(idx), reg_cost_list[idx], iteration)\n",
      "    ^\n",
      "IndentationError: unexpected indent\n",
      "]\n"
     ]
    },
    {
     "ename": "NameError",
     "evalue": "name 'lib_config' is not defined",
     "output_type": "error",
     "traceback": [
      "\u001b[0;31m---------------------------------------------------------------------------\u001b[0m",
      "\u001b[0;31mNameError\u001b[0m                                 Traceback (most recent call last)",
      "\u001b[0;32m<ipython-input-23-3bd46f328c80>\u001b[0m in \u001b[0;36m<module>\u001b[0;34m\u001b[0m\n\u001b[0;32m----> 1\u001b[0;31m \u001b[0msparse_coeff_vector\u001b[0m\u001b[0;34m,\u001b[0m \u001b[0msparsity_mask\u001b[0m\u001b[0;34m,\u001b[0m \u001b[0mnetwork\u001b[0m \u001b[0;34m=\u001b[0m \u001b[0mDeepMoD\u001b[0m\u001b[0;34m(\u001b[0m\u001b[0mX_train\u001b[0m\u001b[0;34m,\u001b[0m \u001b[0my_train\u001b[0m\u001b[0;34m,\u001b[0m \u001b[0mnetwork_config\u001b[0m\u001b[0;34m,\u001b[0m \u001b[0mlib_config\u001b[0m\u001b[0;34m,\u001b[0m \u001b[0moptim_config\u001b[0m\u001b[0;34m)\u001b[0m\u001b[0;34m\u001b[0m\u001b[0;34m\u001b[0m\u001b[0m\n\u001b[0m",
      "\u001b[0;31mNameError\u001b[0m: name 'lib_config' is not defined"
     ]
    }
   ],
   "source": [
    "sparse_coeff_vector, sparsity_mask, network = DeepMoD(X_train, y_train, network_config, lib_config, optim_config)"
   ]
  },
  {
   "cell_type": "markdown",
   "metadata": {},
   "source": [
    "Now that DeepMoD has converged, it has found the following equation:"
   ]
  },
  {
   "cell_type": "code",
   "execution_count": 34,
   "metadata": {},
   "outputs": [
    {
     "name": "stdout",
     "output_type": "stream",
     "text": [
      "Final result:\n",
      "(tensor([[ 0.0994],\n",
      "        [-1.0001]], requires_grad=True),) (tensor([2, 5]),)\n"
     ]
    }
   ],
   "source": [
    "print('Final result:')\n",
    "print(sparse_coeff_vector, sparsity_mask)"
   ]
  },
  {
   "cell_type": "code",
   "execution_count": null,
   "metadata": {},
   "outputs": [],
   "source": []
  }
 ],
 "metadata": {
  "kernelspec": {
   "display_name": "Python 3",
   "language": "python",
   "name": "python3"
  },
  "language_info": {
   "codemirror_mode": {
    "name": "ipython",
    "version": 3
   },
   "file_extension": ".py",
   "mimetype": "text/x-python",
   "name": "python",
   "nbconvert_exporter": "python",
   "pygments_lexer": "ipython3",
   "version": "3.6.8"
  }
 },
 "nbformat": 4,
 "nbformat_minor": 2
}
