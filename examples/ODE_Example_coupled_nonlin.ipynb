{
 "cells": [
  {
   "cell_type": "markdown",
   "metadata": {},
   "source": [
    "# Example ODE"
   ]
  },
  {
   "cell_type": "markdown",
   "metadata": {},
   "source": [
    "In this notebook we provide a simple example of the DeepMoD algorithm by applying it on the Burgers' equation. \n",
    "\n",
    "We start by importing the required libraries and setting the plotting style:"
   ]
  },
  {
   "cell_type": "code",
   "execution_count": 29,
   "metadata": {},
   "outputs": [
    {
     "name": "stdout",
     "output_type": "stream",
     "text": [
      "The autoreload extension is already loaded. To reload it, use:\n",
      "  %reload_ext autoreload\n"
     ]
    }
   ],
   "source": [
    "# General imports\n",
    "import numpy as np\n",
    "import torch\n",
    "import matplotlib.pylab as plt\n",
    "# DeepMoD stuff\n",
    "from deepymod_torch.DeepMod import DeepMod\n",
    "from deepymod_torch.training import train_deepmod, train_mse\n",
    "from deepymod_torch.library_functions import library_1D_in\n",
    "\n",
    "from scipy.integrate import odeint\n",
    "\n",
    "# Settings for reproducibility\n",
    "np.random.seed(40)\n",
    "torch.manual_seed(0)\n",
    "\n",
    "%load_ext autoreload\n",
    "%autoreload 2"
   ]
  },
  {
   "cell_type": "markdown",
   "metadata": {},
   "source": [
    "Next, we prepare the dataset."
   ]
  },
  {
   "cell_type": "code",
   "execution_count": 30,
   "metadata": {},
   "outputs": [],
   "source": [
    "def dU_dt_sin(U, t):\n",
    "    # Here U is a vector such that y=U[0] and z=U[1]. This function should return [y', z']\n",
    "    return [U[1], -1*U[1] - 5*np.sin(U[0])]\n",
    "U0 = [2.5, 0.4]\n",
    "ts = np.linspace(0, 8, 500)\n",
    "Y = odeint(dU_dt_sin, U0, ts)\n",
    "T = ts.reshape(-1,1)"
   ]
  },
  {
   "cell_type": "markdown",
   "metadata": {},
   "source": [
    "Here we can potentially rescale the Y and T axis and we plot the results"
   ]
  },
  {
   "cell_type": "code",
   "execution_count": 31,
   "metadata": {},
   "outputs": [],
   "source": [
    "T_rs = T\n",
    "Y_rs = Y/np.max(np.abs(Y),axis=0)"
   ]
  },
  {
   "cell_type": "markdown",
   "metadata": {},
   "source": [
    "Let's plot it to get an idea of the data:"
   ]
  },
  {
   "cell_type": "code",
   "execution_count": 32,
   "metadata": {},
   "outputs": [
    {
     "data": {
      "image/png": "[encoded data removed]",
      "text/plain": [
       "<Figure size 432x288 with 1 Axes>"
      ]
     },
     "metadata": {
      "needs_background": "light"
     },
     "output_type": "display_data"
    }
   ],
   "source": [
    "fig, ax = plt.subplots()\n",
    "ax.plot(T_rs, Y_rs[:,0])\n",
    "ax.plot(T_rs, Y_rs[:,1])\n",
    "ax.set_xlabel('t')\n",
    "\n",
    "plt.show()"
   ]
  },
  {
   "cell_type": "code",
   "execution_count": 53,
   "metadata": {},
   "outputs": [],
   "source": [
    "number_of_samples = 300\n",
    "\n",
    "idx = np.random.permutation(Y.shape[0])\n",
    "X_train = torch.tensor(T_rs[idx, :][:number_of_samples], dtype=torch.float32, requires_grad=True)\n",
    "y_train = torch.tensor(Y_rs[idx, :][:number_of_samples], dtype=torch.float32)"
   ]
  },
  {
   "cell_type": "code",
   "execution_count": 54,
   "metadata": {},
   "outputs": [
    {
     "name": "stdout",
     "output_type": "stream",
     "text": [
      "torch.Size([300, 1]) torch.Size([300, 2])\n"
     ]
    }
   ],
   "source": [
    "print(X_train.shape, y_train.shape)"
   ]
  },
  {
   "cell_type": "markdown",
   "metadata": {},
   "source": [
    "# Setup a custom library"
   ]
  },
  {
   "cell_type": "code",
   "execution_count": 55,
   "metadata": {},
   "outputs": [],
   "source": [
    "from torch.autograd import grad\n",
    "from itertools import combinations, product\n",
    "from functools import reduce"
   ]
  },
  {
   "cell_type": "markdown",
   "metadata": {},
   "source": [
    "Here we show an example where we create a custom library. $\\theta$ in this case containe $[1,u,v, sin(u),cos(u)]$ to showcase that non-linear terms can easily be added to the library"
   ]
  },
  {
   "cell_type": "code",
   "execution_count": 56,
   "metadata": {},
   "outputs": [],
   "source": [
    "def library_non_linear_ODE(input, poly_order, diff_order):\n",
    "    \n",
    "    prediction, data = input\n",
    "    samples = prediction.shape[0]\n",
    "    # Construct the theta matrix\n",
    "    C = torch.ones_like(prediction[:,0]).view(samples, -1)\n",
    "    u = prediction[:,0].view(samples, -1)\n",
    "    v = prediction[:,1].view(samples, -1)\n",
    "    theta = torch.cat((C, u, v, torch.cos(u), torch.sin(u)),dim=1)\n",
    "\n",
    "    \n",
    "    # Construct a list of time_derivatives \n",
    "    time_deriv_list = []\n",
    "    for output in torch.arange(prediction.shape[1]):\n",
    "        dy = grad(prediction[:,output], data, grad_outputs=torch.ones_like(prediction[:,output]), create_graph=True)[0]\n",
    "        time_deriv = dy[:, 0:1]\n",
    "        time_deriv_list.append(time_deriv)\n",
    "        \n",
    "    return time_deriv_list, [theta, theta]\n"
   ]
  },
  {
   "cell_type": "markdown",
   "metadata": {},
   "source": [
    "## Configuring DeepMoD"
   ]
  },
  {
   "cell_type": "markdown",
   "metadata": {},
   "source": [
    "We now setup the options for DeepMoD. The setup requires the dimensions of the neural network, a library function and some args for the library function:"
   ]
  },
  {
   "cell_type": "code",
   "execution_count": 57,
   "metadata": {},
   "outputs": [],
   "source": [
    "## Running DeepMoD\n",
    "config = {'n_in': 1, 'hidden_dims': [40, 40, 40, 40, 40], 'n_out': 2, 'library_function': library_non_linear_ODE, 'library_args':{'poly_order': 1, 'diff_order': 0}}"
   ]
  },
  {
   "cell_type": "markdown",
   "metadata": {},
   "source": [
    "Now we instantiate the model. Note that the learning rate of the coefficient vector can typically be set up to an order of magnitude higher to speed up convergence without loss in accuracy"
   ]
  },
  {
   "cell_type": "code",
   "execution_count": 58,
   "metadata": {},
   "outputs": [],
   "source": [
    "model = DeepMod(**config)\n",
    "optimizer = torch.optim.Adam([{'params': model.network_parameters(), 'lr':0.001}, {'params': model.coeff_vector(), 'lr':0.01}],\n",
    "    betas=(0.99, 0.99))"
   ]
  },
  {
   "cell_type": "markdown",
   "metadata": {},
   "source": [
    "## Run DeepMoD "
   ]
  },
  {
   "cell_type": "markdown",
   "metadata": {},
   "source": [
    "We can now run DeepMoD using all the options we have set and the training data. We need to slightly preprocess the input data for the derivatives:"
   ]
  },
  {
   "cell_type": "code",
   "execution_count": null,
   "metadata": {},
   "outputs": [
    {
     "name": "stdout",
     "output_type": "stream",
     "text": [
      "| Iteration | Progress | Time remaining |     Cost |      MSE |      Reg |       L1 |\n",
      "      50000    100.00%               0s   3.07e-04   5.21e-05   5.66e-05   1.98e-04 \n",
      "[Parameter containing:\n",
      "tensor([[1.1404]], requires_grad=True), Parameter containing:\n",
      "tensor([[ 11.5953],\n",
      "        [-15.7508]], requires_grad=True)]\n",
      "[tensor([2]), tensor([1, 4])]\n",
      "\n",
      "| Iteration | Progress | Time remaining |     Cost |      MSE |      Reg |       L1 |\n",
      "       9400     18.80%             263s   2.18e-01   4.55e-05   2.18e-01   0.00e+00 "
     ]
    }
   ],
   "source": [
    "train_deepmod(model, X_train, y_train, optimizer, 50000, {'l1': 1e-5})"
   ]
  },
  {
   "cell_type": "markdown",
   "metadata": {},
   "source": [
    "Now that DeepMoD has converged, it has found the following numbers:"
   ]
  },
  {
   "cell_type": "code",
   "execution_count": 44,
   "metadata": {},
   "outputs": [],
   "source": [
    "solution = model(X_train)[0].detach().numpy()"
   ]
  },
  {
   "cell_type": "code",
   "execution_count": 45,
   "metadata": {},
   "outputs": [
    {
     "data": {
      "text/plain": [
       "array([2.52496066, 2.88267006])"
      ]
     },
     "execution_count": 45,
     "metadata": {},
     "output_type": "execute_result"
    }
   ],
   "source": [
    "np.max(np.abs(Y),axis=0)"
   ]
  },
  {
   "cell_type": "code",
   "execution_count": 46,
   "metadata": {},
   "outputs": [
    {
     "name": "stdout",
     "output_type": "stream",
     "text": [
      "Parameter containing:\n",
      "tensor([[ 6.3229e-02],\n",
      "        [ 8.3992e-05],\n",
      "        [ 1.1440e+00],\n",
      "        [-6.5531e-02],\n",
      "        [-2.8506e-02]], requires_grad=True) Parameter containing:\n",
      "tensor([[  2.3560],\n",
      "        [  7.9946],\n",
      "        [ -0.9347],\n",
      "        [ -2.3792],\n",
      "        [-12.0292]], requires_grad=True)\n"
     ]
    }
   ],
   "source": [
    "print(model.fit.coeff_vector[0],model.fit.coeff_vector[1])"
   ]
  },
  {
   "cell_type": "code",
   "execution_count": 47,
   "metadata": {},
   "outputs": [
    {
     "data": {
      "text/plain": [
       "[<matplotlib.lines.Line2D at 0x1521beef50>]"
      ]
     },
     "execution_count": 47,
     "metadata": {},
     "output_type": "execute_result"
    },
    {
     "data": {
      "image/png": "[encoded data removed]",
      "text/plain": [
       "<Figure size 432x288 with 1 Axes>"
      ]
     },
     "metadata": {
      "needs_background": "light"
     },
     "output_type": "display_data"
    }
   ],
   "source": [
    "plt.scatter(X_train.detach().numpy().squeeze(),solution[:,0])\n",
    "plt.plot(T_rs,Y_rs[:,0])"
   ]
  },
  {
   "cell_type": "code",
   "execution_count": 48,
   "metadata": {},
   "outputs": [
    {
     "data": {
      "text/plain": [
       "[<matplotlib.lines.Line2D at 0x1521b5fa10>]"
      ]
     },
     "execution_count": 48,
     "metadata": {},
     "output_type": "execute_result"
    },
    {
     "data": {
      "image/png": "[encoded data removed]",
      "text/plain": [
       "<Figure size 432x288 with 1 Axes>"
      ]
     },
     "metadata": {
      "needs_background": "light"
     },
     "output_type": "display_data"
    }
   ],
   "source": [
    "plt.scatter(X_train.detach().numpy().squeeze(),solution[:,1])\n",
    "plt.plot(T_rs,Y_rs[:,1])"
   ]
  },
  {
   "cell_type": "code",
   "execution_count": null,
   "metadata": {},
   "outputs": [],
   "source": []
  },
  {
   "cell_type": "code",
   "execution_count": null,
   "metadata": {},
   "outputs": [],
   "source": []
  }
 ],
 "metadata": {
  "kernelspec": {
   "display_name": "Python 3",
   "language": "python",
   "name": "python3"
  },
  "language_info": {
   "codemirror_mode": {
    "name": "ipython",
    "version": 3
   },
   "file_extension": ".py",
   "mimetype": "text/x-python",
   "name": "python",
   "nbconvert_exporter": "python",
   "pygments_lexer": "ipython3",
   "version": "3.7.6"
  }
 },
 "nbformat": 4,
 "nbformat_minor": 4
}
