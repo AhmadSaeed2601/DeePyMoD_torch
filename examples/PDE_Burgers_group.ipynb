{
 "cells": [
  {
   "cell_type": "markdown",
   "metadata": {},
   "source": [
    "# Example Burgers' equation"
   ]
  },
  {
   "cell_type": "code",
   "execution_count": 3,
   "metadata": {},
   "outputs": [],
   "source": [
    "# General imports\n",
    "import numpy as np\n",
    "import torch\n",
    "import matplotlib.pylab as plt\n",
    "from math import pi as PI\n",
    "from math import exp as exp\n",
    "# DeepMoD stuff\n",
    "from deepymod_torch.DeepMod import DeepMod\n",
    "from deepymod_torch.library_functions import library_1D_in\n",
    "from deepymod_torch.training import train_deepmod, train_mse, train_group\n",
    "\n",
    "# Settings for reproducibility\n",
    "np.random.seed(42)\n",
    "torch.manual_seed(0)\n",
    "\n",
    "\n",
    "%load_ext autoreload\n",
    "%autoreload 2"
   ]
  },
  {
   "cell_type": "markdown",
   "metadata": {},
   "source": [
    "In this notebook we provide a simple example of the DeepMoD algorithm by applying it on the Burgers' equation. \n",
    "\n",
    "We start by importing the required libraries and setting the plotting style:"
   ]
  },
  {
   "cell_type": "code",
   "execution_count": 4,
   "metadata": {},
   "outputs": [],
   "source": [
    "\n",
    "\n",
    "def analytical_solution(NT, NX, TMAX, XMAX, NU):\n",
    "   \"\"\"\n",
    "   Returns the velocity field and distance for the analytical solution\n",
    "   \"\"\"\n",
    "\n",
    "   # Increments\n",
    "   DT = TMAX/(NT-1)\n",
    "   DX = XMAX/(NX-1)\n",
    "\n",
    "   # Initialise data structures\n",
    "   import numpy as np\n",
    "   u_analytical = np.zeros((NX,NT))\n",
    "   x = np.zeros(NX)\n",
    "   t = np.zeros(NT)\n",
    "\n",
    "   # Distance\n",
    "   for i in range(0,NX):\n",
    "       x[i] = i*DX\n",
    "\n",
    "   # Analytical Solution\n",
    "   for n in range(0,NT):\n",
    "       t = n*DT\n",
    "\n",
    "       for i in range(0,NX):\n",
    "           phi = exp( -(x[i]-4*t)**2/(4*NU*(t+1)) ) + exp( -(x[i]-4*t-2*PI)**2/(4*NU*(t+1)) )\n",
    "\n",
    "           dphi = ( -0.5*(x[i]-4*t)/(NU*(t+1))*exp( -(x[i]-4*t)**2/(4*NU*(t+1)) )\n",
    "               -0.5*(x[i]-4*t-2*PI)/(NU*(t+1))*exp( -(x[i]-4*t-2*PI)**2/(4*NU*(t+1)) ) )\n",
    "\n",
    "           u_analytical[i,n] = -2*NU*(dphi/phi) + 4\n",
    "\n",
    "   return u_analytical, x"
   ]
  },
  {
   "cell_type": "code",
   "execution_count": 5,
   "metadata": {},
   "outputs": [],
   "source": [
    "NT = 101\n",
    "TMax = 2\n",
    "dt = TMax/NT"
   ]
  },
  {
   "cell_type": "code",
   "execution_count": 6,
   "metadata": {},
   "outputs": [],
   "source": [
    "u_analytical,x = analytical_solution(NT, 151, TMax, 2.0*PI, 0.25)\n",
    "x_array = np.squeeze(np.array([x.reshape(-1,1) for i in np.arange(u_analytical.shape[1])]))\n",
    "t_array = np.array([i*dt*np.ones(u_analytical.shape[0]) for i in np.arange(u_analytical.shape[1])])\n",
    "u_analytical= u_analytical.T"
   ]
  },
  {
   "cell_type": "code",
   "execution_count": 7,
   "metadata": {},
   "outputs": [],
   "source": [
    "u_analytical_b,x = analytical_solution(NT, 151, TMax, 2.0*PI, 0.1)\n",
    "u_analytical_b= u_analytical_b.T"
   ]
  },
  {
   "cell_type": "code",
   "execution_count": 8,
   "metadata": {},
   "outputs": [],
   "source": [
    "u_analytical_c,x = analytical_solution(NT, 151, TMax, 2.0*PI, 0.15)\n",
    "u_analytical_c= u_analytical_c.T"
   ]
  },
  {
   "cell_type": "code",
   "execution_count": 9,
   "metadata": {},
   "outputs": [
    {
     "data": {
      "text/plain": [
       "(101, 151)"
      ]
     },
     "execution_count": 9,
     "metadata": {},
     "output_type": "execute_result"
    }
   ],
   "source": [
    "t_array.shape"
   ]
  },
  {
   "cell_type": "markdown",
   "metadata": {},
   "source": [
    "Next, we prepare the dataset."
   ]
  },
  {
   "cell_type": "markdown",
   "metadata": {},
   "source": [
    "Let's plot it to get an idea of the data:"
   ]
  },
  {
   "cell_type": "code",
   "execution_count": 10,
   "metadata": {},
   "outputs": [
    {
     "data": {
      "image/png": "[encoded data removed]",
      "text/plain": [
       "<Figure size 432x288 with 2 Axes>"
      ]
     },
     "metadata": {
      "needs_background": "light"
     },
     "output_type": "display_data"
    }
   ],
   "source": [
    "fig, ax = plt.subplots()\n",
    "im = ax.contourf(x_array, t_array, u_analytical)\n",
    "ax.set_xlabel('x')\n",
    "ax.set_ylabel('t')\n",
    "fig.colorbar(mappable=im)\n",
    "\n",
    "plt.show()"
   ]
  },
  {
   "cell_type": "code",
   "execution_count": 11,
   "metadata": {},
   "outputs": [
    {
     "name": "stdout",
     "output_type": "stream",
     "text": [
      "(15251, 2) (15251, 3)\n"
     ]
    }
   ],
   "source": [
    "X = np.transpose((t_array.flatten(), x_array.flatten()))\n",
    "y = np.real(np.transpose((u_analytical.flatten(),u_analytical_b.flatten(), u_analytical_c.flatten())))\n",
    "print(X.shape, y.shape)"
   ]
  },
  {
   "cell_type": "code",
   "execution_count": 25,
   "metadata": {},
   "outputs": [],
   "source": [
    "y = np.real(u_analytical).reshape((u_analytical.size, 1))"
   ]
  },
  {
   "cell_type": "markdown",
   "metadata": {},
   "source": [
    "As we can see, $X$ has 2 dimensions, $\\{x, t\\}$, while $y$ has only one, $\\{u\\}$. Always explicity set the shape (i.e. $N\\times 1$, not $N$) or you'll get errors. This dataset is noiseless, so let's add $5\\%$ noise:"
   ]
  },
  {
   "cell_type": "code",
   "execution_count": 12,
   "metadata": {},
   "outputs": [],
   "source": [
    "noise_level = 0.02\n",
    "y_noisy = y + noise_level * np.std(y) * np.random.randn(y[:,0].size, 1)"
   ]
  },
  {
   "cell_type": "markdown",
   "metadata": {},
   "source": [
    "The dataset is also much larger than needed, so let's hussle it and pick out a 1000 samples:"
   ]
  },
  {
   "cell_type": "code",
   "execution_count": 13,
   "metadata": {},
   "outputs": [
    {
     "data": {
      "text/plain": [
       "15251"
      ]
     },
     "execution_count": 13,
     "metadata": {},
     "output_type": "execute_result"
    }
   ],
   "source": [
    "y.shape[0]"
   ]
  },
  {
   "cell_type": "code",
   "execution_count": 14,
   "metadata": {},
   "outputs": [],
   "source": [
    "number_of_samples = 600\n",
    "\n",
    "idx = np.random.permutation(y.shape[0])\n",
    "X_train = torch.tensor(X[idx, :][:number_of_samples], dtype=torch.float32, requires_grad=True)\n",
    "y_train = torch.tensor(y_noisy[idx, :][:number_of_samples], dtype=torch.float32)"
   ]
  },
  {
   "cell_type": "code",
   "execution_count": 15,
   "metadata": {},
   "outputs": [
    {
     "name": "stdout",
     "output_type": "stream",
     "text": [
      "torch.Size([600, 2]) torch.Size([600, 3])\n"
     ]
    }
   ],
   "source": [
    "print(X_train.shape, y_train.shape)"
   ]
  },
  {
   "cell_type": "markdown",
   "metadata": {},
   "source": [
    "We now have a dataset which we can use. Let's plot, for a final time, the original dataset, the noisy set and the samples points:"
   ]
  },
  {
   "cell_type": "markdown",
   "metadata": {},
   "source": [
    "## Configuring DeepMoD"
   ]
  },
  {
   "cell_type": "markdown",
   "metadata": {},
   "source": [
    "We now setup the options for DeepMoD. The setup requires the dimensions of the neural network, a library function and some args for the library function:"
   ]
  },
  {
   "cell_type": "code",
   "execution_count": 16,
   "metadata": {},
   "outputs": [],
   "source": [
    "from deepymod_torch.library_functions import library_deriv, library_poly"
   ]
  },
  {
   "cell_type": "code",
   "execution_count": 17,
   "metadata": {},
   "outputs": [],
   "source": [
    "def library_1D(input, poly_order, diff_order):\n",
    "    prediction, data = input\n",
    "    poly_list = []\n",
    "    deriv_list = []\n",
    "    time_deriv_list = []\n",
    "   \n",
    "    # Creating lists for all outputs\n",
    "    for output in torch.arange(prediction.shape[1]):\n",
    "        time_deriv, du = library_deriv(data, prediction[:, output:output+1], diff_order)\n",
    "        u = library_poly(prediction[:, output:output+1], poly_order)\n",
    "\n",
    "        poly_list.append(u)\n",
    "        deriv_list.append(du)\n",
    "        time_deriv_list.append(time_deriv)\n",
    "\n",
    "    samples = time_deriv_list[0].shape[0]\n",
    "    total_terms = poly_list[0].shape[1] * deriv_list[0].shape[1]\n",
    "    \n",
    "    # Calculating theta\n",
    "    theta_1 = torch.matmul(poly_list[0][:, :, None], deriv_list[0][:, None, :]).view(samples, total_terms)\n",
    "\n",
    "    return time_deriv_list, [theta_1]\n"
   ]
  },
  {
   "cell_type": "code",
   "execution_count": 31,
   "metadata": {},
   "outputs": [],
   "source": [
    "def library_1D(input, poly_order, diff_order):\n",
    "    prediction, data = input\n",
    "    poly_list = []\n",
    "    deriv_list = []\n",
    "    time_deriv_list = []\n",
    "   \n",
    "    # Creating lists for all outputs\n",
    "    for output in torch.arange(prediction.shape[1]):\n",
    "        time_deriv, du = library_deriv(data, prediction[:, output:output+1], diff_order)\n",
    "        u = library_poly(prediction[:, output:output+1], poly_order)\n",
    "\n",
    "        poly_list.append(u)\n",
    "        deriv_list.append(du)\n",
    "        time_deriv_list.append(time_deriv)\n",
    "\n",
    "    samples = time_deriv_list[0].shape[0]\n",
    "    total_terms = poly_list[0].shape[1] * deriv_list[0].shape[1]\n",
    "    \n",
    "    # Calculating theta\n",
    "    theta_1 = torch.matmul(poly_list[0][:, :, None], deriv_list[0][:, None, :]).view(samples, total_terms)\n",
    "    theta_2 = torch.matmul(poly_list[1][:, :, None], deriv_list[1][:, None, :]).view(samples, total_terms)\n",
    "    theta_3 = torch.matmul(poly_list[2][:, :, None], deriv_list[2][:, None, :]).view(samples, total_terms)\n",
    "\n",
    "    return time_deriv_list, [theta_1, theta_2, theta_3]\n"
   ]
  },
  {
   "cell_type": "code",
   "execution_count": 32,
   "metadata": {},
   "outputs": [],
   "source": [
    "## Running DeepMoD\n",
    "config = {'n_in': 2, 'hidden_dims': [30, 30,30, 30], 'n_out': 3, 'library_function': library_1D, 'library_args':{'poly_order': 2, 'diff_order': 2}}"
   ]
  },
  {
   "cell_type": "markdown",
   "metadata": {},
   "source": [
    "Now we instantiate the model:"
   ]
  },
  {
   "cell_type": "code",
   "execution_count": 33,
   "metadata": {},
   "outputs": [],
   "source": [
    "model = DeepMod(**config)\n",
    "optimizer = torch.optim.Adam([{'params': model.network_parameters(), 'lr':0.001}, {'params': model.coeff_vector(), 'lr':0.005}],betas=(0.99,0.99))"
   ]
  },
  {
   "cell_type": "markdown",
   "metadata": {},
   "source": [
    "## Run DeepMoD "
   ]
  },
  {
   "cell_type": "markdown",
   "metadata": {},
   "source": [
    "We can now run DeepMoD using all the options we have set and the training data. We need to slightly preprocess the input data for the derivatives:"
   ]
  },
  {
   "cell_type": "code",
   "execution_count": 34,
   "metadata": {},
   "outputs": [
    {
     "name": "stdout",
     "output_type": "stream",
     "text": [
      "| Iteration | Progress | Time remaining |     Cost |      MSE |      Reg |       L1 |       Lg |\n",
      "      20000    100.00%               0s   6.18e-03   1.66e-03   3.48e-04   4.18e-03, 4.18e-09 "
     ]
    }
   ],
   "source": [
    "train_group(model, X_train, y_train, optimizer, 20000, {'l1': 1e-3, 'l2': 1e-9})"
   ]
  },
  {
   "cell_type": "markdown",
   "metadata": {},
   "source": [
    "Now that DeepMoD has converged, it has found the following numbers:"
   ]
  },
  {
   "cell_type": "code",
   "execution_count": 35,
   "metadata": {},
   "outputs": [
    {
     "name": "stdout",
     "output_type": "stream",
     "text": [
      "Parameter containing:\n",
      "tensor([[ 1.1604e-01],\n",
      "        [-5.4405e-01],\n",
      "        [ 2.2890e-01],\n",
      "        [-6.0734e-05],\n",
      "        [-8.3461e-01],\n",
      "        [ 8.5446e-06],\n",
      "        [-7.6643e-03],\n",
      "        [-8.9068e-03],\n",
      "        [-1.9008e-05]], requires_grad=True)\n"
     ]
    }
   ],
   "source": [
    "print(model.fit.coeff_vector[0])"
   ]
  },
  {
   "cell_type": "code",
   "execution_count": 30,
   "metadata": {},
   "outputs": [
    {
     "name": "stdout",
     "output_type": "stream",
     "text": [
      "Parameter containing:\n",
      "tensor([[-7.0982e-05],\n",
      "        [-3.2813e-01],\n",
      "        [ 2.3042e-01],\n",
      "        [-1.7332e-04],\n",
      "        [-7.9427e-01],\n",
      "        [-4.3468e-05],\n",
      "        [-1.0552e-02],\n",
      "        [-1.3158e-02],\n",
      "        [-5.6731e-05]], requires_grad=True)\n"
     ]
    }
   ],
   "source": [
    "print(model.fit.coeff_vector[0])"
   ]
  },
  {
   "cell_type": "code",
   "execution_count": null,
   "metadata": {},
   "outputs": [],
   "source": []
  }
 ],
 "metadata": {
  "kernelspec": {
   "display_name": "Python 3",
   "language": "python",
   "name": "python3"
  },
  "language_info": {
   "codemirror_mode": {
    "name": "ipython",
    "version": 3
   },
   "file_extension": ".py",
   "mimetype": "text/x-python",
   "name": "python",
   "nbconvert_exporter": "python",
   "pygments_lexer": "ipython3",
   "version": "3.6.9"
  }
 },
 "nbformat": 4,
 "nbformat_minor": 4
}
